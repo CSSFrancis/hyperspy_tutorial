{
 "cells": [
  {
   "cell_type": "markdown",
   "metadata": {
    "slideshow": {
     "slide_type": "slide"
    }
   },
   "source": [
    "# Welcome to the 2021 M&M Short Course X-15\n",
    "## Data Analysis in Materials Science with\n",
    "\n",
    "<br/>\n",
    "<br/>\n",
    "<img style='margin:auto;' src='img/hyperspy_banner.png'/>\n",
    "<br/>\n",
    "\n",
    "### Presented by (a selection of) the HyperSpy developers:\n",
    "- Håkon Wiik Ånes\n",
    "- Carter Francis\n",
    "- Eric Prestat\n",
    "- Joshua Taillon"
   ]
  },
  {
   "cell_type": "markdown",
   "metadata": {
    "slideshow": {
     "slide_type": "slide"
    }
   },
   "source": [
    "# Some logistics before we get started...\n",
    "\n",
    "- Apologies in advance for difficulties due to the virtual platform, but we'll do our best to make sure you have a good experience!\n",
    "\n",
    "- Each session will be led by one instructor, but throughout the day, the other instructors will be available via Slack to answer questions, facilitate discussion, etc.\n",
    "\n",
    "- You should have received an invitation to the Slack workspace we'll be using; please type in the chat if you are not able to access it and we will try to get you set-up correctly \n"
   ]
  },
  {
   "cell_type": "markdown",
   "metadata": {
    "slideshow": {
     "slide_type": "subslide"
    }
   },
   "source": [
    "## Using Slack &mdash; General Interface\n",
    "\n",
    "<img style='margin:auto; text-align:center;' width=65% src='img/slack1.png'/>"
   ]
  },
  {
   "cell_type": "markdown",
   "metadata": {
    "slideshow": {
     "slide_type": "subslide"
    }
   },
   "source": [
    "## Using Slack &mdash; Selecting our workspace\n",
    "\n",
    "<img style='margin:auto; text-align:center;' width=65% src='img/slack2.png'/>"
   ]
  },
  {
   "cell_type": "markdown",
   "metadata": {
    "slideshow": {
     "slide_type": "subslide"
    }
   },
   "source": [
    "## Using Slack &mdash; Selecting the right channel\n",
    "\n",
    "<img style='margin:auto; text-align:center;' width=65% src='img/slack3.png'/>"
   ]
  },
  {
   "cell_type": "markdown",
   "metadata": {
    "slideshow": {
     "slide_type": "subslide"
    }
   },
   "source": [
    "## Using Slack &mdash; Sending a message\n",
    "\n",
    "<img style='margin:auto; text-align:center;' width=65% src='img/slack4.png'/>"
   ]
  },
  {
   "cell_type": "markdown",
   "metadata": {
    "slideshow": {
     "slide_type": "subslide"
    }
   },
   "source": [
    "## Some Slack tips\n",
    "\n",
    "- When writing code into the message box"
   ]
  },
  {
   "cell_type": "markdown",
   "metadata": {
    "slideshow": {
     "slide_type": "slide"
    }
   },
   "source": [
    "# Session 1: An Introduction to Python and  HyperSpy:\n",
    "## The multi-dimensional data analysis toolbox\n",
    "\n",
    "### <br/>\n",
    "### Josh Taillon\n",
    "#### *August 1, 2021*"
   ]
  },
  {
   "cell_type": "markdown",
   "metadata": {
    "slideshow": {
     "slide_type": "slide"
    }
   },
   "source": [
    "# NIST Disclaimer\n",
    "\n",
    "*Certain commercial equipment, instruments, materials, vendors, and\n",
    "software are identified in this talk for example purposes and to foster\n",
    "understanding. Such identification does not imply recommendation or\n",
    "endorsement by the National Institute of Standards and Technology, nor\n",
    "does it imply that the materials or equipment identified are necessarily the\n",
    "best available for the purpose.*"
   ]
  },
  {
   "cell_type": "markdown",
   "metadata": {
    "slideshow": {
     "slide_type": "skip"
    }
   },
   "source": [
    "## <a id='top'></a> Outline\n",
    "\n",
    "1. <a href='#intro'> Intro</a>\n",
    "2. <a href='#starting'> Getting Started</a>\n",
    "2. <a href='#signal'> The Signal Class</a>\n",
    "3. <a href='#io'> Input/Output</a>\n",
    "4. <a href='#EM'> Electron Microscopy Tools</a>\n",
    "5. <a href='#EDS'> EDS Processing</a>\n",
    "6. <a href='#EELS'> EELS Processing</a>\n",
    "7. <a href='#extending'> Extensibility</a>\n",
    "8. <a href='#demos'> Interactive Demos</a>"
   ]
  },
  {
   "cell_type": "markdown",
   "metadata": {
    "slideshow": {
     "slide_type": "skip"
    }
   },
   "source": [
    "#### Import hyperspy"
   ]
  },
  {
   "cell_type": "code",
   "execution_count": 22,
   "metadata": {
    "slideshow": {
     "slide_type": "skip"
    }
   },
   "outputs": [],
   "source": [
    "%matplotlib notebook\n",
    "import hyperspy.api as hs\n",
    "import numpy as np"
   ]
  },
  {
   "cell_type": "markdown",
   "metadata": {
    "slideshow": {
     "slide_type": "skip"
    }
   },
   "source": [
    "#### Disable warnings for presentation:"
   ]
  },
  {
   "cell_type": "code",
   "execution_count": 2,
   "metadata": {
    "slideshow": {
     "slide_type": "skip"
    }
   },
   "outputs": [],
   "source": [
    "import logging\n",
    "hs_logger = logging.getLogger('hyperspy') \n",
    "hs_logger.setLevel(logging.ERROR)"
   ]
  },
  {
   "cell_type": "markdown",
   "metadata": {
    "slideshow": {
     "slide_type": "slide"
    }
   },
   "source": [
    "# <img style='display:inline-block;' src='img/python_just_logo.svg' width=125/> &nbsp; What is this \"Python\" that I've heard of?"
   ]
  },
  {
   "cell_type": "markdown",
   "metadata": {
    "slideshow": {
     "slide_type": "slide"
    }
   },
   "source": [
    "## What is &nbsp; <img src=\"img/python_logo.svg\" width=300px style=\"display: inline-block;\">  ?"
   ]
  },
  {
   "cell_type": "markdown",
   "metadata": {
    "slideshow": {
     "slide_type": "fragment"
    }
   },
   "source": [
    "- High-level, *general purpose* programming language with \"batteries included\""
   ]
  },
  {
   "cell_type": "markdown",
   "metadata": {
    "slideshow": {
     "slide_type": "fragment"
    }
   },
   "source": [
    "- Simple enough for quick scripts; featured enough for complex projects"
   ]
  },
  {
   "cell_type": "markdown",
   "metadata": {
    "slideshow": {
     "slide_type": "fragment"
    }
   },
   "source": [
    "- Used extensively on the web, in applications, and throughout science"
   ]
  },
  {
   "cell_type": "markdown",
   "metadata": {
    "slideshow": {
     "slide_type": "fragment"
    }
   },
   "source": [
    "- Syntax emphasizes readability and explicitness "
   ]
  },
  {
   "cell_type": "markdown",
   "metadata": {
    "slideshow": {
     "slide_type": "subslide"
    }
   },
   "source": [
    "## A \"Hello, World!\" comparison:"
   ]
  },
  {
   "cell_type": "markdown",
   "metadata": {
    "slideshow": {
     "slide_type": "subslide"
    }
   },
   "source": [
    "### Java:\n",
    "\n",
    "```java\n",
    "public class HelloWorld {\n",
    "\n",
    "    public static void main(String[] args) {\n",
    "        System.out.println(\"Hello, World!\");\n",
    "    }\n",
    "\n",
    "}\n",
    "```"
   ]
  },
  {
   "cell_type": "markdown",
   "metadata": {
    "slideshow": {
     "slide_type": "subslide"
    }
   },
   "source": [
    "### C++:\n",
    "   \n",
    "```c++\n",
    "#include <iostream>\n",
    "using namespace std;\n",
    "\n",
    "int main() {\n",
    "    cout << \"Hello, World!\" << endl;\n",
    "    return 0;\n",
    "}\n",
    "```"
   ]
  },
  {
   "cell_type": "markdown",
   "metadata": {
    "slideshow": {
     "slide_type": "subslide"
    }
   },
   "source": [
    "### Python:\n",
    "\n",
    "```python\n",
    "print(\"Hello, World!\")\n",
    "```"
   ]
  },
  {
   "cell_type": "markdown",
   "metadata": {
    "slideshow": {
     "slide_type": "fragment"
    }
   },
   "source": [
    "### Matlab:\n",
    "\n",
    "```OCTAVE\n",
    "disp(\"Hello, World!\")\n",
    "```"
   ]
  },
  {
   "cell_type": "markdown",
   "metadata": {
    "slideshow": {
     "slide_type": "slide"
    }
   },
   "source": [
    "## Okay, but what does this have to do with science?"
   ]
  },
  {
   "cell_type": "markdown",
   "metadata": {},
   "source": [
    "The \"scientific Python\" ecosystem provides almost any functionality you may need:"
   ]
  },
  {
   "cell_type": "markdown",
   "metadata": {},
   "source": [
    "<div style=\"margin:auto; text-align:center;\">\n",
    "  <img style=\"display:inline-block\" alt=\"Python\" class=\"plain\" src=\"img/python_just_logo.svg\" width=\"200px\"/>&nbsp;&nbsp;&nbsp;&nbsp;\n",
    "  <img style=\"display:inline-block; \" alt=\"NumPy\" class=\"plain\" src=\"img/numpy_logo.svg\" width=\"200px\"/> &nbsp;&nbsp;&nbsp;&nbsp;\n",
    "  <img style=\"display:inline-block;\" alt=\"Jupyter\" class=\"plain\" src=\"img/jupyter_logo.svg\" width=\"200px\"/>&nbsp;&nbsp;&nbsp;&nbsp;\n",
    "  <img style=\"display:inline-block;\" alt=\"SciPy\" class=\"plain\" src=\"img/scipy_logo.svg\" width=\"200px\"/>\n",
    "</div>\n",
    "<div style=\"margin:auto; text-align:center;\">\n",
    "  <img style=\"display:inline-block;\" alt=\"Matplotlib\" class=\"plain\" src=\"img/mpl.svg\" width=\"350px\"/>&nbsp;&nbsp;&nbsp;&nbsp;\n",
    "  <img style=\"display:inline-block;\" alt=\"SymPy\" class=\"plain\" src=\"img/sympy_logo.svg\" width=\"200px\"/> &nbsp;&nbsp;&nbsp;&nbsp;\n",
    "  <img style=\"display:inline-block;\" alt=\"pandas\" class=\"plain\" src=\"img/pandas_logo.png\" width=\"450px\"/>&nbsp;&nbsp;&nbsp;&nbsp;\n",
    "  <img style=\"display:inline-block;\" alt=\"scikit-learn\" class=\"plain\" src=\"img/scikit-learn_logo.svg\" width=\"300px\"/>\n",
    "</div>"
   ]
  },
  {
   "cell_type": "markdown",
   "metadata": {
    "slideshow": {
     "slide_type": "subslide"
    }
   },
   "source": [
    "## Linear algebra, optimization, machine learning..."
   ]
  },
  {
   "cell_type": "markdown",
   "metadata": {
    "slideshow": {
     "slide_type": "-"
    }
   },
   "source": [
    "- Numerical computing with [`NumPy`](https://www.numpy.org) (like what you would use Matlab for): &nbsp;&nbsp;&nbsp;&nbsp;\n",
    " <img style=\"display:inline-block; \" alt=\"NumPy\" src=\"img/numpy_logo.svg\" width=\"150px\"/> "
   ]
  },
  {
   "cell_type": "markdown",
   "metadata": {
    "slideshow": {
     "slide_type": "fragment"
    }
   },
   "source": [
    "- Signal processing, numerical integration, optimization, etc. with [`SciPy`](https://scipy.org): &nbsp;&nbsp;&nbsp;&nbsp;\n",
    " <img style=\"display:inline-block; \" alt=\"SciPy\" src=\"img/scipy_logo.svg\" width=\"150px\"/> "
   ]
  },
  {
   "cell_type": "markdown",
   "metadata": {
    "slideshow": {
     "slide_type": "fragment"
    }
   },
   "source": [
    "- Machine learning with [`scikit-learn`](https://scikit-learn.org/stable/) (and others): &nbsp;&nbsp;&nbsp;&nbsp;\n",
    " <img style=\"display:inline-block; \" alt=\"scikit-learn\" src=\"img/scikit-learn_logo.svg\" width=\"200px\"/> "
   ]
  },
  {
   "cell_type": "markdown",
   "metadata": {
    "slideshow": {
     "slide_type": "subslide"
    }
   },
   "source": [
    "## Visualization, statistics, computer algebra..."
   ]
  },
  {
   "cell_type": "markdown",
   "metadata": {
    "slideshow": {
     "slide_type": "-"
    }
   },
   "source": [
    "- Scientific visualization with [`matplotlib`](https://matplotlib.org): &nbsp;&nbsp;&nbsp;&nbsp;\n",
    " <img style=\"display:inline-block; \" alt=\"matplotlib\" src=\"img/mpl.svg\" width=\"400px\"/> "
   ]
  },
  {
   "cell_type": "markdown",
   "metadata": {
    "slideshow": {
     "slide_type": "fragment"
    }
   },
   "source": [
    "- Data series and statistical analysis with [`pandas`](https://pandas.pydata.org/): &nbsp;&nbsp;&nbsp;&nbsp;\n",
    " <img style=\"display:inline-block; \" alt=\"pandas\" src=\"img/pandas_logo.png\" width=\"400px\"/> "
   ]
  },
  {
   "cell_type": "markdown",
   "metadata": {
    "slideshow": {
     "slide_type": "fragment"
    }
   },
   "source": [
    "- Symbolic computation with [`SymPy`](https://www.sympy.org/en/index.html): &nbsp;&nbsp;&nbsp;&nbsp;\n",
    " <img style=\"display:inline-block; \" alt=\"sympy\" src=\"img/sympy_logo.svg\" width=\"200px\"/> "
   ]
  },
  {
   "cell_type": "markdown",
   "metadata": {
    "slideshow": {
     "slide_type": "subslide"
    }
   },
   "source": [
    "## A better (?) way to create and publish your work"
   ]
  },
  {
   "cell_type": "markdown",
   "metadata": {
    "slideshow": {
     "slide_type": "-"
    }
   },
   "source": [
    "- Literate programming using a notebook interface with [*Jupyter*](https://jupyter.org/): &nbsp;&nbsp;&nbsp;&nbsp;\n",
    " <img style=\"display:inline-block; \" alt=\"sympy\" src=\"img/jupyter_logo.svg\" width=\"200px\"/> \n",
    "  "
   ]
  },
  {
   "cell_type": "markdown",
   "metadata": {
    "slideshow": {
     "slide_type": "fragment"
    }
   },
   "source": [
    "- Creation of interactive computational analysis documents (not just scripts):\n",
    "    - Facilitates reproducibility\n",
    "    - Makes analyses more accessible (anyone can recreate your figure)"
   ]
  },
  {
   "cell_type": "markdown",
   "metadata": {
    "slideshow": {
     "slide_type": "fragment"
    }
   },
   "source": [
    "- Easy to contribute back to the \"open source\" scientific ecosystem"
   ]
  },
  {
   "cell_type": "markdown",
   "metadata": {
    "slideshow": {
     "slide_type": "slide"
    }
   },
   "source": [
    "## Can't I just use Matlab?"
   ]
  },
  {
   "cell_type": "markdown",
   "metadata": {},
   "source": [
    "<center><img src=\"img/py_matlab_comparison.svg\" style='margin:auto; text-align:center;' width=75%/></center>"
   ]
  },
  {
   "cell_type": "markdown",
   "metadata": {
    "slideshow": {
     "slide_type": "subslide"
    }
   },
   "source": [
    "## File Exchange is good, but..."
   ]
  },
  {
   "cell_type": "markdown",
   "metadata": {
    "slideshow": {
     "slide_type": ""
    }
   },
   "source": [
    "<img src=\"img/matlab_filexchange.png\" style='margin:auto; text-align:center;' width=70%/>"
   ]
  },
  {
   "cell_type": "markdown",
   "metadata": {
    "slideshow": {
     "slide_type": "subslide"
    }
   },
   "source": [
    "## Distributing code is simple in the Python community\n",
    "\n",
    "### (and integrated directly into Python tools)"
   ]
  },
  {
   "cell_type": "markdown",
   "metadata": {
    "slideshow": {
     "slide_type": "-"
    }
   },
   "source": [
    "- &nbsp;&nbsp;&nbsp;&nbsp;<img src='img/github_logo.svg' style=\"display:inline-block;\" width=\"200px\">&nbsp;: Community standard is to (at least) release code on GitHub (or similar service)\n"
   ]
  },
  {
   "cell_type": "markdown",
   "metadata": {
    "slideshow": {
     "slide_type": "-"
    }
   },
   "source": [
    "- &nbsp;&nbsp;&nbsp;&nbsp;<img src='img/pypi_logo.svg' style=\"margin:20px;display:inline-block;\" width=\"200px\">: Placing into the PyPI, the **Py**thon **P**ackage **I**ndex enables installing with simple: \n",
    "    - `pip install my-awesome-package`"
   ]
  },
  {
   "cell_type": "markdown",
   "metadata": {
    "slideshow": {
     "slide_type": "-"
    }
   },
   "source": [
    "- &nbsp;&nbsp;&nbsp;&nbsp;<img src='img/anaconda_logo.png' style=\"margin:20px;display:inline-block;\" width=\"200px\">: Anaconda enables multiple environments and complex dependency management\n",
    "    - `conda install my-awesome-package`"
   ]
  },
  {
   "cell_type": "markdown",
   "metadata": {
    "slideshow": {
     "slide_type": "slide"
    }
   },
   "source": [
    "## What does it mean to be \"open source\"?"
   ]
  },
  {
   "cell_type": "markdown",
   "metadata": {
    "slideshow": {
     "slide_type": "-"
    }
   },
   "source": [
    "  <blockquote style=\"font-size:xx-large; width:90%\">\n",
    "    …something people can modify and share because its design is publicly accessible\n",
    "    <br/><br/>\n",
    "    <footer><a href=\"https://opensource.com/resources/what-open-source\">opensource.com</a></footer>\n",
    "  </blockquote>"
   ]
  },
  {
   "cell_type": "markdown",
   "metadata": {
    "slideshow": {
     "slide_type": "fragment"
    }
   },
   "source": [
    "## What about \"open science\"?"
   ]
  },
  {
   "cell_type": "markdown",
   "metadata": {
    "slideshow": {
     "slide_type": "-"
    }
   },
   "source": [
    "  <blockquote style=\"font-size:xx-large; width:90%\">\n",
    "    …science must be done in an open, and reproducible fashion where all components of research are open\n",
    "    <br/><br/>\n",
    "    <footer><a href=\"https://opensource.com/resources/open-science\">Marcus Hanwell (also opensource.com)</a></footer>\n",
    "  </blockquote>"
   ]
  },
  {
   "cell_type": "markdown",
   "metadata": {
    "slideshow": {
     "slide_type": "subslide"
    }
   },
   "source": [
    "## Open-source in the microscopy ecosystem:"
   ]
  },
  {
   "cell_type": "markdown",
   "metadata": {},
   "source": [
    "\n",
    "<table id=\"ecosystem\" style=\"font-size:xx-large;\">\n",
    "  <tr style=\"font-weight:bold;\">\n",
    "    <td class=\"section-label\" colspan=\"2\">General Purpose</td>\n",
    "    <!-- <th></th> -->\n",
    "    <td class=\"section-label\" colspan=\"2\">Others</td>\n",
    "  </tr>\n",
    "  <tr>\n",
    "    <td class=\"label-col\">HyperSpy</td>\n",
    "    <td class=\"link-col\"><a href=\"http://hyperspy.org/\">http://hyperspy.org/</a></td>\n",
    "    <!-- <td></td> -->\n",
    "    <td class=\"label-col\">PyQSTEM</td>\n",
    "    <td class=\"link-col\"><a href=\"https://github.com/jacobjma/PyQSTEM\">https://github.com/jacobjma/PyQSTEM</a></td>\n",
    "  </tr>\n",
    "  <tr>\n",
    "    <td class=\"label-col\">Nion Swift</td>\n",
    "    <td class=\"link-col\"><a href=\"https://nionswift.readthedocs.io/en/stable/\">https://nionswift.readthedocs.io/en/stable/</a></td>\n",
    "    <!-- <td></td> -->\n",
    "    <td class=\"label-col\">HRTEMFringe<br/>Analyzer</td>\n",
    "    <td class=\"link-col\"><a href=\"https://github.com/ialxn/HRTEMFringeAnalyzer\">https://github.com/ialxn/HRTEMFringeAnalyzer</a></td>\n",
    "  </tr>\n",
    "  <tr>\n",
    "    <td class=\"label-col\">pycroscopy</td>\n",
    "    <td class=\"link-col\"><a href=\"https://github.com/pycroscopy/pycroscopy\">https://github.com/pycroscopy/pycroscopy</a></td>\n",
    "    <!-- <td></td> -->\n",
    "    <td class=\"label-col\">Atomap</td>\n",
    "    <td class=\"link-col\"><a href=\"https://atomap.org/\">https://atomap.org/</a></td>\n",
    "  </tr>\n",
    "\n",
    "  <tr style=\"line-height:0.5em;\">\n",
    "    <td>&nbsp;</td>\n",
    "    <td></td>\n",
    "    <td></td>\n",
    "    <td></td>\n",
    "    <td></td>\n",
    "  </tr>\n",
    "\n",
    "  <tr style=\"font-weight:bold;\">\n",
    "    <td class=\"section-label\" colspan=\"2\">Pixelated STEM</td>\n",
    "    <!-- <td></td> -->\n",
    "    <td class=\"section-label\" colspan=\"2\">Tomography</td>\n",
    "  </tr>\n",
    "  <tr>\n",
    "    <td class=\"label-col\">pyXem</td>\n",
    "    <td class=\"link-col\"><a href=\"https://pyxem.github.io/pyxem/\">https://pyxem.github.io/pyxem/</a></td>\n",
    "    <!-- <td></td> -->\n",
    "    <td class=\"label-col\">tomopy</td>\n",
    "    <td class=\"link-col\"><a href=\"https://tomopy.readthedocs.io/en/latest/\">https://tomopy.readthedocs.io/en/latest/</a></td>\n",
    "  </tr>\n",
    "  <tr>\n",
    "    <td class=\"label-col\">pixStem</td>\n",
    "    <td class=\"link-col\"><a href=\"https://pixstem.org/\">https://pixstem.org/</a></td>\n",
    "    <!-- <td></td> -->\n",
    "    <td class=\"label-col\">tomotools</td>\n",
    "    <td class=\"link-col\"><a href=\"https://github.com/AndrewHerzing/tomotools\">https://github.com/AndrewHerzing/tomotools</a></td>\n",
    "  </tr>\n",
    "  <tr>\n",
    "    <td class=\"label-col\">LiberTEM</td>\n",
    "    <td class=\"link-col\"><a href=\"https://github.com/LiberTEM/LiberTEM\">https://github.com/LiberTEM/LiberTEM</a></td>\n",
    "    <!-- <td></td> -->\n",
    "    <td class=\"label-col\">tomviz</td>\n",
    "    <td class=\"link-col\"><a href=\"https://tomviz.org/\">https://tomviz.org/</a></td>\n",
    "  </tr>\n",
    "  <tr>\n",
    "    <td class=\"label-col\">fpd</td>\n",
    "    <td class=\"link-col\"><a href=\"https://gitlab.com/fpdpy/fpd/\">https://gitlab.com/fpdpy/fpd/</a></td>\n",
    "    <!-- <td></td> -->\n",
    "    <td class=\"label-col\"></td>\n",
    "    <td class=\"link-col\"></td>\n",
    "  </tr>\n",
    "</table>"
   ]
  },
  {
   "cell_type": "markdown",
   "metadata": {
    "slideshow": {
     "slide_type": "slide"
    }
   },
   "source": [
    "# <img style='display:inline-block;' src='img/hyperspy.svg' width=125/> &nbsp; What is HyperSpy, anyway?"
   ]
  },
  {
   "cell_type": "markdown",
   "metadata": {
    "slideshow": {
     "slide_type": "slide"
    }
   },
   "source": [
    "## What is &nbsp; <img style='display:inline-block;' src='img/hyperspy_banner.png'/> &nbsp; ?"
   ]
  },
  {
   "cell_type": "markdown",
   "metadata": {
    "slideshow": {
     "slide_type": "fragment"
    }
   },
   "source": [
    "* Open-source Python library for interactive data analysis of multi-dimensional datasets"
   ]
  },
  {
   "cell_type": "markdown",
   "metadata": {
    "slideshow": {
     "slide_type": "fragment"
    }
   },
   "source": [
    "- Leverages the Scientific Python ecosystem for much of its functionality:\n",
    "    - <img style=\"display:inline-block\" alt=\"Python\" class=\"plain\" src=\"img/python_just_logo.svg\" height=100 width=100/> &nbsp;&nbsp;\n",
    "    <img style=\"display:inline-block; \" alt=\"NumPy\" class=\"plain\" src=\"img/numpy_logo.svg\" height=100 width=100/> &nbsp;&nbsp;\n",
    "  <img style=\"display:inline-block;\" alt=\"Jupyter\" class=\"plain\" src=\"img/jupyter_logo.svg\" height=100 width=100/> &nbsp;&nbsp;\n",
    "  <img style=\"display:inline-block;\" alt=\"SciPy\" class=\"plain\" src=\"img/scipy_logo.svg\"  height=100 width=100/> &nbsp;&nbsp;\n",
    "  <img style=\"display:inline-block;\" alt=\"SymPy\" class=\"plain\" src=\"img/sympy_logo.svg\"  height=100 width=100/> &nbsp;&nbsp;\n",
    "  <img style=\"display:inline-block;\" alt=\"scikit-learn\" class=\"plain\" src=\"img/scikit-learn_logo.svg\"  height=100 width=150/> &nbsp;&nbsp;\n",
    "  <img style=\"display:inline-block;\" alt=\"Matplotlib\" class=\"plain\" src=\"img/mpl.svg\" height=100 width=250/> &nbsp;&nbsp;"
   ]
  },
  {
   "cell_type": "markdown",
   "metadata": {
    "slideshow": {
     "slide_type": "fragment"
    }
   },
   "source": [
    "- Accessed like any other Python library:\n",
    "```python\n",
    "import numpy as np     ---->     import hyperspy.api as hs\n",
    "```"
   ]
  },
  {
   "cell_type": "markdown",
   "metadata": {
    "slideshow": {
     "slide_type": "subslide"
    }
   },
   "source": [
    "## Why would you use &nbsp; <img style='display:inline-block;' src='img/hyperspy_banner.png'/> &nbsp; ?"
   ]
  },
  {
   "cell_type": "markdown",
   "metadata": {
    "slideshow": {
     "slide_type": ""
    }
   },
   "source": [
    "* Makes it easy to operate on multi-dimensional arrays as you would a single spectrum (or image)"
   ]
  },
  {
   "cell_type": "markdown",
   "metadata": {
    "slideshow": {
     "slide_type": "fragment"
    }
   },
   "source": [
    "* Easy access to cutting-edge signal processing tools "
   ]
  },
  {
   "cell_type": "markdown",
   "metadata": {
    "slideshow": {
     "slide_type": "fragment"
    }
   },
   "source": [
    "* Modular structure makes it easy to add custom features"
   ]
  },
  {
   "cell_type": "markdown",
   "metadata": {
    "slideshow": {
     "slide_type": "fragment"
    }
   },
   "source": [
    "- Use of Jupyter notebooks encourages reproducible and sharable analyses (FAIR data)"
   ]
  },
  {
   "cell_type": "markdown",
   "metadata": {
    "slideshow": {
     "slide_type": "subslide"
    }
   },
   "source": [
    "## Why would you use &nbsp; <img style='display:inline-block;' src='img/hyperspy_banner.png'/> &nbsp; ?"
   ]
  },
  {
   "cell_type": "markdown",
   "metadata": {
    "slideshow": {
     "slide_type": ""
    }
   },
   "source": [
    "* Beyond generic signal processing, provides many tools specifically for electron microscopy:"
   ]
  },
  {
   "cell_type": "markdown",
   "metadata": {
    "slideshow": {
     "slide_type": "fragment"
    }
   },
   "source": [
    "<ul><ul><li>Provides facilities for easy access to proprietary software formats</li></ul></ul>\n"
   ]
  },
  {
   "cell_type": "markdown",
   "metadata": {
    "slideshow": {
     "slide_type": "fragment"
    }
   },
   "source": [
    "<ul>\n",
    "    <ul>\n",
    "        <li>EDS:</li>\n",
    "        <ul>\n",
    "            <li>Background removal</li>\n",
    "            <li>Net intensity line map extraction</li>\n",
    "            <li>Quantification (k-factor, ζ-factors, ionization cross sections)</li>\n",
    "        </ul>\n",
    "    </ul>\n",
    "</ul>"
   ]
  },
  {
   "cell_type": "markdown",
   "metadata": {
    "slideshow": {
     "slide_type": "subslide"
    }
   },
   "source": [
    "## Why would you use &nbsp; <img style='display:inline-block;' src='img/hyperspy_banner.png'/> &nbsp; ?"
   ]
  },
  {
   "cell_type": "markdown",
   "metadata": {
    "slideshow": {
     "slide_type": ""
    }
   },
   "source": [
    "* Beyond generic signal processing, provides many tools specifically for electron microscopy:"
   ]
  },
  {
   "cell_type": "markdown",
   "metadata": {
    "slideshow": {
     "slide_type": ""
    }
   },
   "source": [
    "<ul>\n",
    "    <ul>\n",
    "        <li>EELS:</li>\n",
    "        <ul>\n",
    "            <li>Background removal</li>\n",
    "            <li>Curve fitting for quantification (including ELNES)</li>\n",
    "            <li>All of Egerton's famous methods</li>\n",
    "        </ul>\n",
    "    </ul>\n",
    "</ul>"
   ]
  },
  {
   "cell_type": "markdown",
   "metadata": {
    "slideshow": {
     "slide_type": "fragment"
    }
   },
   "source": [
    "<ul>\n",
    "    <ul>\n",
    "        <li>\"Advanced\" methods:</li>\n",
    "        <ul>\n",
    "            <li>Multivariate statistical analysis</li>\n",
    "            <li>General curve fitting</li>\n",
    "            <li>Dimensionality reduction/signal separation</li>\n",
    "        </ul>\n",
    "    </ul>\n",
    "</ul>"
   ]
  },
  {
   "cell_type": "markdown",
   "metadata": {
    "slideshow": {
     "slide_type": "subslide"
    }
   },
   "source": [
    "## Why &nbsp; <img src=\"img/python_logo.svg\" width=300px style=\"display: inline-block;\">?"
   ]
  },
  {
   "cell_type": "markdown",
   "metadata": {
    "slideshow": {
     "slide_type": ""
    }
   },
   "source": [
    "* Quickly becoming the *de facto* standard of scientific computing"
   ]
  },
  {
   "cell_type": "markdown",
   "metadata": {
    "slideshow": {
     "slide_type": "fragment"
    }
   },
   "source": [
    "* Free (as in speech and as in beer)\n",
    "    * No pesky licenses to checkout"
   ]
  },
  {
   "cell_type": "markdown",
   "metadata": {
    "slideshow": {
     "slide_type": "fragment"
    }
   },
   "source": [
    "* Vast array of scientific libraries available:\n",
    "    * `pip install <just about anything>`"
   ]
  },
  {
   "cell_type": "markdown",
   "metadata": {
    "slideshow": {
     "slide_type": "fragment"
    }
   },
   "source": [
    "* Thanks to `numpy` and other libraries, similar (or often better) performance than MATLAB"
   ]
  },
  {
   "cell_type": "markdown",
   "metadata": {
    "slideshow": {
     "slide_type": "subslide"
    }
   },
   "source": [
    "## History of HyperSpy"
   ]
  },
  {
   "cell_type": "markdown",
   "metadata": {
    "slideshow": {
     "slide_type": ""
    }
   },
   "source": [
    "- Developed by [Francisco de la Peña](http://umet.univ-lille1.fr/detailscomplets.php?id=614&lang=en) in 2007 &mdash; 2012 as part of his Ph.D. Thesis at<br/> Université Paris-Sud in Orsay, France"
   ]
  },
  {
   "cell_type": "markdown",
   "metadata": {
    "slideshow": {
     "slide_type": "fragment"
    }
   },
   "source": [
    "- See [Chapter 5](https://www.stem.lps.u-psud.fr/sites/default/files/F%20de%20la%20Pena%20Thesis.pdf#chapter.5) of the dissertation for a historical introduction"
   ]
  },
  {
   "cell_type": "markdown",
   "metadata": {
    "slideshow": {
     "slide_type": "fragment"
    }
   },
   "source": [
    "- Originally called EELSLab:\n",
    "    \n",
    "<center><img src=\"img/eelslab.png\" width=40%></center>"
   ]
  },
  {
   "cell_type": "markdown",
   "metadata": {
    "slideshow": {
     "slide_type": "subslide"
    }
   },
   "source": [
    "## History of HyperSpy"
   ]
  },
  {
   "cell_type": "markdown",
   "metadata": {
    "slideshow": {
     "slide_type": ""
    }
   },
   "source": [
    "* Open-sourced (on [Github](https://github.com/hyperspy/hyperspy)) in 2010:\n",
    "\n",
    "<center><img src='img/hs_first_commit.png'/></center>"
   ]
  },
  {
   "cell_type": "markdown",
   "metadata": {
    "slideshow": {
     "slide_type": "fragment"
    }
   },
   "source": [
    "* Renamed to HyperSpy in 2011"
   ]
  },
  {
   "cell_type": "markdown",
   "metadata": {
    "slideshow": {
     "slide_type": "fragment"
    }
   },
   "source": [
    "- Now... over 350 citations, 37 releases, 38 contributors, 100K lines of Python code, and rapidly growing!"
   ]
  },
  {
   "cell_type": "markdown",
   "metadata": {
    "slideshow": {
     "slide_type": "slide"
    }
   },
   "source": [
    "## Design philosophy of HyperSpy"
   ]
  },
  {
   "cell_type": "markdown",
   "metadata": {
    "slideshow": {
     "slide_type": "fragment"
    }
   },
   "source": [
    "* HyperSpy is a Python library, rather than standalone program\n",
    "    * Part of the greater scientific Python ecosystem"
   ]
  },
  {
   "cell_type": "markdown",
   "metadata": {
    "slideshow": {
     "slide_type": "notes"
    }
   },
   "source": [
    "* Enables and requires Python scientific stack (i.e. `numpy` and `scipy`)"
   ]
  },
  {
   "cell_type": "markdown",
   "metadata": {
    "slideshow": {
     "slide_type": "fragment"
    }
   },
   "source": [
    "* Data storage is in an open hierarchical format (HDF5)\n",
    "    * Saves all metadata by default (including most processing steps)"
   ]
  },
  {
   "cell_type": "markdown",
   "metadata": {
    "slideshow": {
     "slide_type": "fragment"
    }
   },
   "source": [
    "* Analysis typically done via reproducible notebooks"
   ]
  },
  {
   "cell_type": "markdown",
   "metadata": {
    "slideshow": {
     "slide_type": "fragment"
    }
   },
   "source": [
    "* Feature development is completely open-source ([GPLv3](https://choosealicense.com/licenses/gpl-3.0/))"
   ]
  },
  {
   "cell_type": "markdown",
   "metadata": {
    "slideshow": {
     "slide_type": "slide"
    }
   },
   "source": [
    "# <img style='display:inline-block;' src='img/hyperspy.svg' width=125/> &nbsp; Welcome to the community!"
   ]
  },
  {
   "cell_type": "markdown",
   "metadata": {
    "slideshow": {
     "slide_type": "slide"
    }
   },
   "source": [
    "## The power of community"
   ]
  },
  {
   "cell_type": "markdown",
   "metadata": {
    "slideshow": {
     "slide_type": ""
    }
   },
   "source": [
    "- One of the *best* parts of HyperSpy is the community that surrounds it (personal opinion)"
   ]
  },
  {
   "cell_type": "markdown",
   "metadata": {
    "slideshow": {
     "slide_type": "fragment"
    }
   },
   "source": [
    "- This software is made by researchers, for researchers"
   ]
  },
  {
   "cell_type": "markdown",
   "metadata": {
    "slideshow": {
     "slide_type": "fragment"
    }
   },
   "source": [
    "- HyperSpy is built from collaboration:"
   ]
  },
  {
   "cell_type": "markdown",
   "metadata": {},
   "source": [
    "<ul>\n",
    "    <ul>\n",
    "        <li>By collaborating, we advance faster and avoid reinventing the wheel</li>\n",
    "    </ul>\n",
    "</ul>\n"
   ]
  },
  {
   "cell_type": "markdown",
   "metadata": {
    "slideshow": {
     "slide_type": "slide"
    }
   },
   "source": [
    "## How to get help?"
   ]
  },
  {
   "cell_type": "markdown",
   "metadata": {},
   "source": [
    "- HyperSpy website (www.hyperspy.org):\n",
    "\n",
    "<center><img src=\"img/hs_website.png\" width=60%></center>"
   ]
  },
  {
   "cell_type": "markdown",
   "metadata": {
    "slideshow": {
     "slide_type": "subslide"
    }
   },
   "source": [
    "## How to get help?"
   ]
  },
  {
   "cell_type": "markdown",
   "metadata": {},
   "source": [
    "- HyperSpy website (www.hyperspy.org):\n",
    "\n",
    "<center><img src=\"img/hs_website_links.svg\" width=60%></center>"
   ]
  },
  {
   "cell_type": "markdown",
   "metadata": {
    "slideshow": {
     "slide_type": "subslide"
    }
   },
   "source": [
    "## How to get help?"
   ]
  },
  {
   "cell_type": "markdown",
   "metadata": {},
   "source": [
    "- HyperSpy repository (https://github.com/hyperspy/hyperspy): <br/><br/>\n",
    "\n",
    "<center><img src=\"img/hs_github.png\" width=60%></center>"
   ]
  },
  {
   "cell_type": "markdown",
   "metadata": {
    "slideshow": {
     "slide_type": "subslide"
    }
   },
   "source": [
    "## How to get help?"
   ]
  },
  {
   "cell_type": "markdown",
   "metadata": {},
   "source": [
    "- HyperSpy repository (https://github.com/hyperspy/hyperspy): <br/><br/>\n",
    "\n",
    "<center><img src=\"img/hs_github_issues.svg\" width=60%></center>"
   ]
  },
  {
   "cell_type": "markdown",
   "metadata": {
    "slideshow": {
     "slide_type": "subslide"
    }
   },
   "source": [
    "## How to get (more) help?"
   ]
  },
  {
   "cell_type": "markdown",
   "metadata": {
    "slideshow": {
     "slide_type": "fragment"
    }
   },
   "source": [
    "* Sessions like this (good job!)"
   ]
  },
  {
   "cell_type": "markdown",
   "metadata": {
    "slideshow": {
     "slide_type": "fragment"
    }
   },
   "source": [
    "* Expansive user guide and documentation: <br/>http://hyperspy.org/hyperspy-doc/current/user_guide/index.html"
   ]
  },
  {
   "cell_type": "markdown",
   "metadata": {
    "slideshow": {
     "slide_type": "fragment"
    }
   },
   "source": [
    "* Tutorials and demos: https://github.com/hyperspy/hyperspy-demos"
   ]
  },
  {
   "cell_type": "markdown",
   "metadata": {
    "slideshow": {
     "slide_type": "fragment"
    }
   },
   "source": [
    "* User group list: [hyperspy-users@googlegroups.com](https://groups.google.com/forum/#!forum/hyperspy-users)"
   ]
  },
  {
   "cell_type": "markdown",
   "metadata": {
    "slideshow": {
     "slide_type": "fragment"
    }
   },
   "source": [
    "- Gitter chat: https://gitter.im/hyperspy/hyperspy"
   ]
  },
  {
   "cell_type": "markdown",
   "metadata": {
    "slideshow": {
     "slide_type": "fragment"
    }
   },
   "source": [
    "- Developer guide (if you're into that sort of thing):<br/> http://hyperspy.org/hyperspy-doc/current/dev_guide/index.html#dev-guide-label"
   ]
  },
  {
   "cell_type": "markdown",
   "metadata": {
    "slideshow": {
     "slide_type": "subslide"
    }
   },
   "source": [
    "## Anyone can make HyperSpy better!"
   ]
  },
  {
   "cell_type": "markdown",
   "metadata": {},
   "source": [
    "- HyperSpy repository (https://github.com/hyperspy/hyperspy): <br/><br/>\n",
    "\n",
    "<center><img src=\"img/hs_github_PRs.svg\" width=60%></center>"
   ]
  },
  {
   "cell_type": "markdown",
   "metadata": {
    "slideshow": {
     "slide_type": "slide"
    }
   },
   "source": [
    "## What about general Python questions?"
   ]
  },
  {
   "cell_type": "markdown",
   "metadata": {
    "slideshow": {
     "slide_type": "-"
    }
   },
   "source": [
    "- There are vast numbers of resources about Python online (and in print):"
   ]
  },
  {
   "cell_type": "markdown",
   "metadata": {
    "slideshow": {
     "slide_type": "fragment"
    }
   },
   "source": [
    "<ul>\n",
    "    <ul>\n",
    "        <li>Official documentation: <a href=\"https://docs.python.org\">https://docs.python.org</a></li>\n",
    "    </ul>\n",
    "</ul>"
   ]
  },
  {
   "cell_type": "markdown",
   "metadata": {
    "slideshow": {
     "slide_type": "fragment"
    }
   },
   "source": [
    "<ul>\n",
    "    <ul>\n",
    "        <li>Getting started with scientific Python: <a href=\"https://scipy-lectures.org\">https://scipy-lectures.org</a></li>\n",
    "    </ul>\n",
    "</ul>"
   ]
  },
  {
   "cell_type": "markdown",
   "metadata": {
    "slideshow": {
     "slide_type": "fragment"
    }
   },
   "source": [
    "<ul>\n",
    "    <ul>\n",
    "        <li>NumPy for Matlab users:<br/><a href=\"https://docs.scipy.org/doc/numpy/user/numpy-for-matlab-users.html\">https://docs.scipy.org/doc/numpy/user/numpy-for-matlab-users.html</a></li>\n",
    "    </ul>\n",
    "</ul>"
   ]
  },
  {
   "cell_type": "markdown",
   "metadata": {
    "slideshow": {
     "slide_type": "fragment"
    }
   },
   "source": [
    "- StackOverflow for general programming/Python questions: https://stackoverflow.com/"
   ]
  },
  {
   "cell_type": "markdown",
   "metadata": {
    "slideshow": {
     "slide_type": "slide"
    }
   },
   "source": [
    "<center><img style='display:inline-block;' src='img/hyperspy.svg' width=200/> </center>\n",
    "\n",
    "# <center>Thank you!</center>\n",
    "\n",
    "<div style='text-align:center;margin:auto;'>Any questions?</div>\n",
    "\n",
    "<div style='text-align:center;margin:auto;margin-top:15px;'><a href=\"mailto:joshua.taillon@nist.gov\">joshua.taillon@nist.gov</a></div>"
   ]
  }
 ],
 "metadata": {
  "celltoolbar": "Slideshow",
  "kernelspec": {
   "display_name": "Python 3 (hyperspy Anaconda environment)",
   "language": "python",
   "name": "python3"
  },
  "language_info": {
   "codemirror_mode": {
    "name": "ipython",
    "version": 3
   },
   "file_extension": ".py",
   "mimetype": "text/x-python",
   "name": "python",
   "nbconvert_exporter": "python",
   "pygments_lexer": "ipython3",
   "version": "3.8.10"
  },
  "rise": {
   "autolaunch": false,
   "backimage": "img/nist_mml_background.png",
   "footer": "<img src=\"img/nist_mml_logo.svg\">",
   "header": "",
   "progress": true,
   "scroll": true,
   "transition": "fade",
   "transitionSpeed": "slow"
  }
 },
 "nbformat": 4,
 "nbformat_minor": 2
}
