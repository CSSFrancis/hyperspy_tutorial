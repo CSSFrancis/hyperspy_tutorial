{
 "cells": [
  {
   "cell_type": "markdown",
   "metadata": {
    "collapsed": true,
    "slideshow": {
     "slide_type": "slide"
    }
   },
   "source": [
    "# An Introduction to HyperSpy:\n",
    "## The multi-dimensional data analysis toolbox\n",
    "\n",
    "### <br/>\n",
    "### Josh Taillon and Andy Herzing\n",
    "#### *April 5, 2018*"
   ]
  },
  {
   "cell_type": "markdown",
   "metadata": {
    "slideshow": {
     "slide_type": "notes"
    }
   },
   "source": [
    "# Notes for before presentation:\n",
    "* Open separate instances of the following (all in `hyperspy` conda env):\n",
    "    * Jupyter QtConsole\n",
    "    * HyperSpyUI\n",
    "    * JupyterLab\n",
    "    * Jupyter Notebook\n",
    "    * Spyder (with `./examples/analysis_script.py` open)\n",
    "    * Plain anaconda console in `./examples/` directory\n",
    "    "
   ]
  },
  {
   "cell_type": "markdown",
   "metadata": {
    "slideshow": {
     "slide_type": "notes"
    }
   },
   "source": [
    "#### Import hyperspy"
   ]
  },
  {
   "cell_type": "code",
   "execution_count": 3,
   "metadata": {
    "slideshow": {
     "slide_type": "notes"
    }
   },
   "outputs": [],
   "source": [
    "%matplotlib nbagg\n",
    "import hyperspy.api as hs"
   ]
  },
  {
   "cell_type": "markdown",
   "metadata": {
    "slideshow": {
     "slide_type": "notes"
    }
   },
   "source": [
    "#### Disable warnings for presentation:"
   ]
  },
  {
   "cell_type": "code",
   "execution_count": 4,
   "metadata": {
    "slideshow": {
     "slide_type": "notes"
    }
   },
   "outputs": [],
   "source": [
    "import logging\n",
    "hs_logger = logging.getLogger('hyperspy') \n",
    "hs_logger.setLevel(logging.ERROR)"
   ]
  },
  {
   "cell_type": "markdown",
   "metadata": {
    "slideshow": {
     "slide_type": "slide"
    }
   },
   "source": [
    "## A quick note first:"
   ]
  },
  {
   "cell_type": "markdown",
   "metadata": {
    "collapsed": true,
    "slideshow": {
     "slide_type": "subslide"
    }
   },
   "source": [
    "## This isn't your parents' Powerpoint..."
   ]
  },
  {
   "cell_type": "markdown",
   "metadata": {
    "slideshow": {
     "slide_type": "subslide"
    }
   },
   "source": [
    "## ...because everything is interactive!"
   ]
  },
  {
   "cell_type": "code",
   "execution_count": null,
   "metadata": {
    "ExecuteTime": {
     "end_time": "2018-03-29T14:43:53.331510Z",
     "start_time": "2018-03-29T14:43:53.326506Z"
    },
    "slideshow": {
     "slide_type": "-"
    }
   },
   "outputs": [],
   "source": [
    "import datetime\n",
    "import time\n",
    "datestring = datetime.datetime.now().strftime('%B %d, %Y')\n",
    "for c in 'Today is {}!'.format(datestring):\n",
    "    print(c, end='')\n",
    "    time.sleep(.2)"
   ]
  },
  {
   "cell_type": "markdown",
   "metadata": {
    "slideshow": {
     "slide_type": "subslide"
    }
   },
   "source": [
    "## Made possible with:"
   ]
  },
  {
   "cell_type": "markdown",
   "metadata": {
    "slideshow": {
     "slide_type": ""
    }
   },
   "source": [
    "* Jupyter notebook &mdash; https://jupyter.org/"
   ]
  },
  {
   "cell_type": "markdown",
   "metadata": {
    "slideshow": {
     "slide_type": ""
    }
   },
   "source": [
    "* RISE (Reveal.js IPython/Jupyter Slideshow Extension) &mdash; https://github.com/damianavila/RISE"
   ]
  },
  {
   "cell_type": "markdown",
   "metadata": {
    "slideshow": {
     "slide_type": "slide"
    }
   },
   "source": [
    "# Introduction"
   ]
  },
  {
   "cell_type": "markdown",
   "metadata": {
    "slideshow": {
     "slide_type": "slide"
    }
   },
   "source": [
    "## What is HyperSpy?"
   ]
  },
  {
   "cell_type": "markdown",
   "metadata": {
    "slideshow": {
     "slide_type": "fragment"
    }
   },
   "source": [
    "* Open-source Python library for interactive data analysis of multi-dimensional datasets"
   ]
  },
  {
   "cell_type": "markdown",
   "metadata": {
    "slideshow": {
     "slide_type": "fragment"
    }
   },
   "source": [
    "* Makes it easy to operate on multi-dimensional arrays as you would a single spectrum (or image)"
   ]
  },
  {
   "cell_type": "markdown",
   "metadata": {
    "slideshow": {
     "slide_type": "fragment"
    }
   },
   "source": [
    "* Easy access to cutting-edge signal processing tools "
   ]
  },
  {
   "cell_type": "markdown",
   "metadata": {
    "slideshow": {
     "slide_type": "fragment"
    }
   },
   "source": [
    "* Modular structure makes it easy to add custom features"
   ]
  },
  {
   "cell_type": "markdown",
   "metadata": {
    "slideshow": {
     "slide_type": "subslide"
    }
   },
   "source": [
    "## History of HyperSpy"
   ]
  },
  {
   "cell_type": "markdown",
   "metadata": {
    "slideshow": {
     "slide_type": ""
    }
   },
   "source": [
    "* Developed by [Francisco de la Peña](https://scholar.google.com/citations?user=5n2c_fYAAAAJ&hl=en) in 2007 &mdash; 2012 as part of Ph.D. Thesis"
   ]
  },
  {
   "cell_type": "markdown",
   "metadata": {
    "slideshow": {
     "slide_type": "fragment"
    }
   },
   "source": [
    "* Originally called EELSLab:\n",
    "\n",
    "<center><img src=\"img/eelslab.png\" width=500px></center>"
   ]
  },
  {
   "cell_type": "markdown",
   "metadata": {
    "slideshow": {
     "slide_type": "subslide"
    }
   },
   "source": [
    "* Open-sourced (on [Github](https://github.com/hyperspy/hyperspy)) in 2010"
   ]
  },
  {
   "cell_type": "markdown",
   "metadata": {
    "slideshow": {
     "slide_type": "fragment"
    }
   },
   "source": [
    "* Renamed to HyperSpy in 2011"
   ]
  },
  {
   "cell_type": "markdown",
   "metadata": {
    "slideshow": {
     "slide_type": "fragment"
    }
   },
   "source": [
    "* Now... over 100 citations, and rapidly growing!"
   ]
  },
  {
   "cell_type": "markdown",
   "metadata": {
    "slideshow": {
     "slide_type": "slide"
    }
   },
   "source": [
    "## Design philosophy of HyperSpy"
   ]
  },
  {
   "cell_type": "markdown",
   "metadata": {
    "slideshow": {
     "slide_type": "fragment"
    }
   },
   "source": [
    "* HyperSpy is a Python library, rather than standalone program\n",
    "    * Part of the greater scientific Python ecosystem"
   ]
  },
  {
   "cell_type": "markdown",
   "metadata": {
    "slideshow": {
     "slide_type": "notes"
    }
   },
   "source": [
    "* Enables and requires Python scientific stack (i.e. `numpy` and `scipy`)"
   ]
  },
  {
   "cell_type": "markdown",
   "metadata": {
    "slideshow": {
     "slide_type": "fragment"
    }
   },
   "source": [
    "* Data storage is in an open hierarchical format (HDF5)"
   ]
  },
  {
   "cell_type": "markdown",
   "metadata": {
    "slideshow": {
     "slide_type": "fragment"
    }
   },
   "source": [
    "* Analysis done via reproducible notebooks"
   ]
  },
  {
   "cell_type": "markdown",
   "metadata": {
    "slideshow": {
     "slide_type": "fragment"
    }
   },
   "source": [
    "* Feature development is completely open-source"
   ]
  },
  {
   "cell_type": "markdown",
   "metadata": {
    "slideshow": {
     "slide_type": "slide"
    }
   },
   "source": [
    "## How we came to love HyperSpy"
   ]
  },
  {
   "cell_type": "markdown",
   "metadata": {
    "slideshow": {
     "slide_type": "subslide"
    }
   },
   "source": [
    "### Josh:"
   ]
  },
  {
   "cell_type": "markdown",
   "metadata": {},
   "source": [
    "* Became interested in multivariate statistical analysis of EELS spectrum images"
   ]
  },
  {
   "cell_type": "markdown",
   "metadata": {},
   "source": [
    "* No easy way to do that in commercial software"
   ]
  },
  {
   "cell_type": "markdown",
   "metadata": {},
   "source": [
    "* The entire scientific Python ecosystem is available from HyperSpy &mdash; <br/> machine learning, clustering, signal separation, etc."
   ]
  },
  {
   "cell_type": "markdown",
   "metadata": {},
   "source": [
    "* Came for the data analysis, stayed because of the community"
   ]
  },
  {
   "cell_type": "markdown",
   "metadata": {
    "slideshow": {
     "slide_type": "subslide"
    }
   },
   "source": [
    "### Andy:"
   ]
  },
  {
   "cell_type": "markdown",
   "metadata": {},
   "source": [
    "* <mark>To be filled-in</mark>"
   ]
  },
  {
   "cell_type": "markdown",
   "metadata": {},
   "source": [
    "* <mark>To be filled-in</mark>"
   ]
  },
  {
   "cell_type": "markdown",
   "metadata": {},
   "source": [
    "* <mark>To be filled-in</mark>"
   ]
  },
  {
   "cell_type": "markdown",
   "metadata": {},
   "source": [
    "* <mark>To be filled-in</mark>"
   ]
  },
  {
   "cell_type": "markdown",
   "metadata": {
    "slideshow": {
     "slide_type": "subslide"
    }
   },
   "source": [
    "# Getting Started"
   ]
  },
  {
   "cell_type": "markdown",
   "metadata": {
    "slideshow": {
     "slide_type": "slide"
    }
   },
   "source": [
    "## Installation"
   ]
  },
  {
   "cell_type": "markdown",
   "metadata": {
    "slideshow": {
     "slide_type": "fragment"
    }
   },
   "source": [
    "* Easiest method on Windows &mdash; HyperSpy bundle\n",
    "  * http://hyperspy.org/download.html#windows-bundle-installers\n",
    "  * Installs a Python distribution with HyperSpy included\n",
    "  * Best method if you have no prior Python experience"
   ]
  },
  {
   "cell_type": "markdown",
   "metadata": {
    "slideshow": {
     "slide_type": "fragment"
    }
   },
   "source": [
    "* For more control (on Windows, Mac, and Linux) &mdash; Anaconda Python\n",
    "  * https://www.anaconda.com/download/\n",
    "  * After installing Anaconda, simply run `conda install hyperspy`\n",
    "  * This method is preferred by the developers"
   ]
  },
  {
   "cell_type": "markdown",
   "metadata": {
    "slideshow": {
     "slide_type": "slide"
    }
   },
   "source": [
    "## How to use HyperSpy?"
   ]
  },
  {
   "cell_type": "markdown",
   "metadata": {
    "slideshow": {
     "slide_type": "fragment"
    }
   },
   "source": [
    "* Console/Command line"
   ]
  },
  {
   "cell_type": "markdown",
   "metadata": {
    "slideshow": {
     "slide_type": "fragment"
    }
   },
   "source": [
    "* Integrated development environment (IDE)"
   ]
  },
  {
   "cell_type": "markdown",
   "metadata": {
    "slideshow": {
     "slide_type": "fragment"
    }
   },
   "source": [
    "* **Jupyter Notebook** (and JupyterLab)"
   ]
  },
  {
   "cell_type": "markdown",
   "metadata": {
    "slideshow": {
     "slide_type": "fragment"
    }
   },
   "source": [
    "* HyperSpyUI"
   ]
  },
  {
   "cell_type": "markdown",
   "metadata": {
    "slideshow": {
     "slide_type": "subslide"
    }
   },
   "source": [
    "## Important note:\n"
   ]
  },
  {
   "cell_type": "markdown",
   "metadata": {},
   "source": [
    "<center>*Because HyperSpy is a library, all of these are just generic ways to access Python, and not specific to HyperSpy! <br/>(except the last one)*</center>"
   ]
  },
  {
   "cell_type": "markdown",
   "metadata": {
    "slideshow": {
     "slide_type": "subslide"
    }
   },
   "source": [
    "## Console/Command line"
   ]
  },
  {
   "cell_type": "markdown",
   "metadata": {},
   "source": [
    "The simplest way to run is with a pre-written script directly from the command line:\n",
    "\n",
    "```\n",
    "$ python analysis_script.py\n",
    "```"
   ]
  },
  {
   "cell_type": "markdown",
   "metadata": {
    "slideshow": {
     "slide_type": "fragment"
    }
   },
   "source": [
    "There are also \"advanced Python interpreters\", such as Jupyter QTConsole, `bpython`, `ipython`, etc."
   ]
  },
  {
   "cell_type": "markdown",
   "metadata": {
    "slideshow": {
     "slide_type": "subslide"
    }
   },
   "source": [
    "## Integrated Development Environments"
   ]
  },
  {
   "cell_type": "markdown",
   "metadata": {},
   "source": [
    "* Spyder (live example)\n",
    "* PyCharm\n",
    "* NetBeans"
   ]
  },
  {
   "cell_type": "markdown",
   "metadata": {
    "slideshow": {
     "slide_type": "subslide"
    }
   },
   "source": [
    "## Jupyter Notebook"
   ]
  },
  {
   "cell_type": "markdown",
   "metadata": {},
   "source": [
    "The Jupyter project (https://jupyter.org) exists to:\n",
    "\n",
    "\"...develop open-source software, open-standards, and services for interactive computing across dozens of programming languages.\""
   ]
  },
  {
   "cell_type": "markdown",
   "metadata": {
    "slideshow": {
     "slide_type": "subslide"
    }
   },
   "source": [
    "The \"Notebook\" is a human-readable format for storing both the inputs and outputs of code (see https://en.wikipedia.org/wiki/Notebook_interface)...\n",
    "\n",
    "Inspired by Mathematica and Maple; has been adopted in many languages"
   ]
  },
  {
   "cell_type": "markdown",
   "metadata": {
    "slideshow": {
     "slide_type": "fragment"
    }
   },
   "source": [
    "Quick deviation from slideshow to show notebook interface..."
   ]
  },
  {
   "cell_type": "markdown",
   "metadata": {
    "slideshow": {
     "slide_type": "subslide"
    }
   },
   "source": [
    "#### **Features of the notebook:**"
   ]
  },
  {
   "cell_type": "markdown",
   "metadata": {
    "slideshow": {
     "slide_type": ""
    }
   },
   "source": [
    "* Separation of the kernel (for calculation) and the front-end (for display)"
   ]
  },
  {
   "cell_type": "markdown",
   "metadata": {
    "slideshow": {
     "slide_type": "fragment"
    }
   },
   "source": [
    "* Runs completely in the web-browser (no special software needed)"
   ]
  },
  {
   "cell_type": "markdown",
   "metadata": {
    "slideshow": {
     "slide_type": "fragment"
    }
   },
   "source": [
    "* Kernel can be run on a central server - users connect with a web browser"
   ]
  },
  {
   "cell_type": "markdown",
   "metadata": {
    "slideshow": {
     "slide_type": "fragment"
    }
   },
   "source": [
    "* `.ipynb` files are JSON format and can be versioned"
   ]
  },
  {
   "cell_type": "markdown",
   "metadata": {
    "slideshow": {
     "slide_type": "fragment"
    }
   },
   "source": [
    "* Language-agnostic (can be used with Python, R, Java, Julia, etc.)"
   ]
  },
  {
   "cell_type": "markdown",
   "metadata": {
    "slideshow": {
     "slide_type": "subslide"
    }
   },
   "source": [
    "## Jupyter Lab"
   ]
  },
  {
   "cell_type": "markdown",
   "metadata": {},
   "source": [
    "* An exciting new project that is more fully-featured and will eventually replace the Notebook interface"
   ]
  },
  {
   "cell_type": "markdown",
   "metadata": {
    "slideshow": {
     "slide_type": "fragment"
    }
   },
   "source": [
    "* Aims to be an IDE like Spyder or RStudio, but running within the browser"
   ]
  },
  {
   "cell_type": "markdown",
   "metadata": {
    "slideshow": {
     "slide_type": "fragment"
    }
   },
   "source": [
    "* Incorporates notebooks, the terminal, text editor, file browser, rich outputs, etc. into one interface"
   ]
  },
  {
   "cell_type": "markdown",
   "metadata": {
    "slideshow": {
     "slide_type": "fragment"
    }
   },
   "source": [
    "* Deviation for a short view of Jupyter Lab"
   ]
  },
  {
   "cell_type": "markdown",
   "metadata": {
    "slideshow": {
     "slide_type": "subslide"
    }
   },
   "source": [
    "## HyperSpyUI (https://github.com/hyperspy/hyperspyui)"
   ]
  },
  {
   "cell_type": "markdown",
   "metadata": {},
   "source": [
    "* Developed in parallel to HyperSpy as a more \"user-friendly\" experience"
   ]
  },
  {
   "cell_type": "markdown",
   "metadata": {
    "slideshow": {
     "slide_type": "fragment"
    }
   },
   "source": [
    "* Many commonly used features from HyperSpy are available"
   ]
  },
  {
   "cell_type": "markdown",
   "metadata": {
    "slideshow": {
     "slide_type": "fragment"
    }
   },
   "source": [
    "* Deviation for a short view of Jupyter Lab (loading EELS signal, view metadata, signal separation)"
   ]
  },
  {
   "cell_type": "markdown",
   "metadata": {
    "slideshow": {
     "slide_type": "fragment"
    }
   },
   "source": [
    "* Most use Jupyter notebooks, but the UI is useful for quick investigations, or for those without programming experience"
   ]
  },
  {
   "cell_type": "markdown",
   "metadata": {
    "slideshow": {
     "slide_type": "slide"
    }
   },
   "source": [
    "## How to get help?"
   ]
  },
  {
   "cell_type": "markdown",
   "metadata": {
    "slideshow": {
     "slide_type": "fragment"
    }
   },
   "source": [
    "* Well-documented user guide and documentation: http://hyperspy.org/hyperspy-doc/current/user_guide/index.html"
   ]
  },
  {
   "cell_type": "markdown",
   "metadata": {
    "slideshow": {
     "slide_type": "fragment"
    }
   },
   "source": [
    "* Tutorials and demos: https://github.com/hyperspy/hyperspy-demos"
   ]
  },
  {
   "cell_type": "markdown",
   "metadata": {
    "slideshow": {
     "slide_type": "fragment"
    }
   },
   "source": [
    "* User group list: [hyperspy-users@googlegroups.com](https://groups.google.com/forum/#!forum/hyperspy-users)"
   ]
  },
  {
   "cell_type": "markdown",
   "metadata": {
    "slideshow": {
     "slide_type": "fragment"
    }
   },
   "source": [
    "* Gitter chat: https://gitter.im/hyperspy/hyperspy"
   ]
  },
  {
   "cell_type": "markdown",
   "metadata": {
    "slideshow": {
     "slide_type": "fragment"
    }
   },
   "source": [
    "* If all else fails, Andy and Josh"
   ]
  },
  {
   "cell_type": "markdown",
   "metadata": {
    "slideshow": {
     "slide_type": "slide"
    }
   },
   "source": [
    "## The Signal Class"
   ]
  },
  {
   "cell_type": "markdown",
   "metadata": {},
   "source": [
    "The \"heart\" of HyperSpy's data structure"
   ]
  },
  {
   "cell_type": "markdown",
   "metadata": {
    "slideshow": {
     "slide_type": "subslide"
    }
   },
   "source": [
    "## Structure of a `Signal`"
   ]
  },
  {
   "cell_type": "markdown",
   "metadata": {
    "slideshow": {
     "slide_type": "fragment"
    }
   },
   "source": [
    "* `Signal` is a wrapper around the raw data"
   ]
  },
  {
   "cell_type": "markdown",
   "metadata": {
    "slideshow": {
     "slide_type": "fragment"
    }
   },
   "source": [
    "*  Data is stored in a `numpy` array "
   ]
  },
  {
   "cell_type": "markdown",
   "metadata": {
    "slideshow": {
     "slide_type": "fragment"
    }
   },
   "source": [
    "* Separation of Navigation and Signal axes"
   ]
  },
  {
   "cell_type": "markdown",
   "metadata": {
    "slideshow": {
     "slide_type": "fragment"
    }
   },
   "source": [
    "* <mark>Andy, want to fill this in?</mark>"
   ]
  },
  {
   "cell_type": "markdown",
   "metadata": {
    "slideshow": {
     "slide_type": "subslide"
    }
   },
   "source": [
    "## The `Signal` class offers flexibility..."
   ]
  },
  {
   "cell_type": "markdown",
   "metadata": {
    "slideshow": {
     "slide_type": "fragment"
    }
   },
   "source": [
    "* <mark>Andy, want to fill this in?</mark>"
   ]
  },
  {
   "cell_type": "markdown",
   "metadata": {
    "slideshow": {
     "slide_type": "slide"
    }
   },
   "source": [
    "## Getting your data in (and out) of HyperSpy"
   ]
  },
  {
   "cell_type": "markdown",
   "metadata": {},
   "source": [
    "* Many data readers have been written for experimental tools:\n",
    "\n",
    "<center><img src=\"img/formats.png\" width=600px></center>"
   ]
  },
  {
   "cell_type": "markdown",
   "metadata": {
    "slideshow": {
     "slide_type": "skip"
    }
   },
   "source": [
    "# Supplementary information and setup code"
   ]
  },
  {
   "cell_type": "code",
   "execution_count": 2,
   "metadata": {
    "slideshow": {
     "slide_type": "skip"
    }
   },
   "outputs": [
    {
     "name": "stderr",
     "output_type": "stream",
     "text": [
      "WARNING:hyperspy_gui_traitsui:The nbAgg matplotlib backend is not supported by the installed traitsui version and the ETS toolkit has been set to null. To set the ETS toolkit independently from the matplotlib backend, set it before importing matplotlib.\n",
      "WARNING:hyperspy_gui_traitsui:The traitsui GUI elements are not available.\n"
     ]
    },
    {
     "data": {
      "application/javascript": [
       "/* Put everything inside the global mpl namespace */\n",
       "window.mpl = {};\n",
       "\n",
       "\n",
       "mpl.get_websocket_type = function() {\n",
       "    if (typeof(WebSocket) !== 'undefined') {\n",
       "        return WebSocket;\n",
       "    } else if (typeof(MozWebSocket) !== 'undefined') {\n",
       "        return MozWebSocket;\n",
       "    } else {\n",
       "        alert('Your browser does not have WebSocket support.' +\n",
       "              'Please try Chrome, Safari or Firefox ≥ 6. ' +\n",
       "              'Firefox 4 and 5 are also supported but you ' +\n",
       "              'have to enable WebSockets in about:config.');\n",
       "    };\n",
       "}\n",
       "\n",
       "mpl.figure = function(figure_id, websocket, ondownload, parent_element) {\n",
       "    this.id = figure_id;\n",
       "\n",
       "    this.ws = websocket;\n",
       "\n",
       "    this.supports_binary = (this.ws.binaryType != undefined);\n",
       "\n",
       "    if (!this.supports_binary) {\n",
       "        var warnings = document.getElementById(\"mpl-warnings\");\n",
       "        if (warnings) {\n",
       "            warnings.style.display = 'block';\n",
       "            warnings.textContent = (\n",
       "                \"This browser does not support binary websocket messages. \" +\n",
       "                    \"Performance may be slow.\");\n",
       "        }\n",
       "    }\n",
       "\n",
       "    this.imageObj = new Image();\n",
       "\n",
       "    this.context = undefined;\n",
       "    this.message = undefined;\n",
       "    this.canvas = undefined;\n",
       "    this.rubberband_canvas = undefined;\n",
       "    this.rubberband_context = undefined;\n",
       "    this.format_dropdown = undefined;\n",
       "\n",
       "    this.image_mode = 'full';\n",
       "\n",
       "    this.root = $('<div/>');\n",
       "    this._root_extra_style(this.root)\n",
       "    this.root.attr('style', 'display: inline-block');\n",
       "\n",
       "    $(parent_element).append(this.root);\n",
       "\n",
       "    this._init_header(this);\n",
       "    this._init_canvas(this);\n",
       "    this._init_toolbar(this);\n",
       "\n",
       "    var fig = this;\n",
       "\n",
       "    this.waiting = false;\n",
       "\n",
       "    this.ws.onopen =  function () {\n",
       "            fig.send_message(\"supports_binary\", {value: fig.supports_binary});\n",
       "            fig.send_message(\"send_image_mode\", {});\n",
       "            if (mpl.ratio != 1) {\n",
       "                fig.send_message(\"set_dpi_ratio\", {'dpi_ratio': mpl.ratio});\n",
       "            }\n",
       "            fig.send_message(\"refresh\", {});\n",
       "        }\n",
       "\n",
       "    this.imageObj.onload = function() {\n",
       "            if (fig.image_mode == 'full') {\n",
       "                // Full images could contain transparency (where diff images\n",
       "                // almost always do), so we need to clear the canvas so that\n",
       "                // there is no ghosting.\n",
       "                fig.context.clearRect(0, 0, fig.canvas.width, fig.canvas.height);\n",
       "            }\n",
       "            fig.context.drawImage(fig.imageObj, 0, 0);\n",
       "        };\n",
       "\n",
       "    this.imageObj.onunload = function() {\n",
       "        this.ws.close();\n",
       "    }\n",
       "\n",
       "    this.ws.onmessage = this._make_on_message_function(this);\n",
       "\n",
       "    this.ondownload = ondownload;\n",
       "}\n",
       "\n",
       "mpl.figure.prototype._init_header = function() {\n",
       "    var titlebar = $(\n",
       "        '<div class=\"ui-dialog-titlebar ui-widget-header ui-corner-all ' +\n",
       "        'ui-helper-clearfix\"/>');\n",
       "    var titletext = $(\n",
       "        '<div class=\"ui-dialog-title\" style=\"width: 100%; ' +\n",
       "        'text-align: center; padding: 3px;\"/>');\n",
       "    titlebar.append(titletext)\n",
       "    this.root.append(titlebar);\n",
       "    this.header = titletext[0];\n",
       "}\n",
       "\n",
       "\n",
       "\n",
       "mpl.figure.prototype._canvas_extra_style = function(canvas_div) {\n",
       "\n",
       "}\n",
       "\n",
       "\n",
       "mpl.figure.prototype._root_extra_style = function(canvas_div) {\n",
       "\n",
       "}\n",
       "\n",
       "mpl.figure.prototype._init_canvas = function() {\n",
       "    var fig = this;\n",
       "\n",
       "    var canvas_div = $('<div/>');\n",
       "\n",
       "    canvas_div.attr('style', 'position: relative; clear: both; outline: 0');\n",
       "\n",
       "    function canvas_keyboard_event(event) {\n",
       "        return fig.key_event(event, event['data']);\n",
       "    }\n",
       "\n",
       "    canvas_div.keydown('key_press', canvas_keyboard_event);\n",
       "    canvas_div.keyup('key_release', canvas_keyboard_event);\n",
       "    this.canvas_div = canvas_div\n",
       "    this._canvas_extra_style(canvas_div)\n",
       "    this.root.append(canvas_div);\n",
       "\n",
       "    var canvas = $('<canvas/>');\n",
       "    canvas.addClass('mpl-canvas');\n",
       "    canvas.attr('style', \"left: 0; top: 0; z-index: 0; outline: 0\")\n",
       "\n",
       "    this.canvas = canvas[0];\n",
       "    this.context = canvas[0].getContext(\"2d\");\n",
       "\n",
       "    var backingStore = this.context.backingStorePixelRatio ||\n",
       "\tthis.context.webkitBackingStorePixelRatio ||\n",
       "\tthis.context.mozBackingStorePixelRatio ||\n",
       "\tthis.context.msBackingStorePixelRatio ||\n",
       "\tthis.context.oBackingStorePixelRatio ||\n",
       "\tthis.context.backingStorePixelRatio || 1;\n",
       "\n",
       "    mpl.ratio = (window.devicePixelRatio || 1) / backingStore;\n",
       "\n",
       "    var rubberband = $('<canvas/>');\n",
       "    rubberband.attr('style', \"position: absolute; left: 0; top: 0; z-index: 1;\")\n",
       "\n",
       "    var pass_mouse_events = true;\n",
       "\n",
       "    canvas_div.resizable({\n",
       "        start: function(event, ui) {\n",
       "            pass_mouse_events = false;\n",
       "        },\n",
       "        resize: function(event, ui) {\n",
       "            fig.request_resize(ui.size.width, ui.size.height);\n",
       "        },\n",
       "        stop: function(event, ui) {\n",
       "            pass_mouse_events = true;\n",
       "            fig.request_resize(ui.size.width, ui.size.height);\n",
       "        },\n",
       "    });\n",
       "\n",
       "    function mouse_event_fn(event) {\n",
       "        if (pass_mouse_events)\n",
       "            return fig.mouse_event(event, event['data']);\n",
       "    }\n",
       "\n",
       "    rubberband.mousedown('button_press', mouse_event_fn);\n",
       "    rubberband.mouseup('button_release', mouse_event_fn);\n",
       "    // Throttle sequential mouse events to 1 every 20ms.\n",
       "    rubberband.mousemove('motion_notify', mouse_event_fn);\n",
       "\n",
       "    rubberband.mouseenter('figure_enter', mouse_event_fn);\n",
       "    rubberband.mouseleave('figure_leave', mouse_event_fn);\n",
       "\n",
       "    canvas_div.on(\"wheel\", function (event) {\n",
       "        event = event.originalEvent;\n",
       "        event['data'] = 'scroll'\n",
       "        if (event.deltaY < 0) {\n",
       "            event.step = 1;\n",
       "        } else {\n",
       "            event.step = -1;\n",
       "        }\n",
       "        mouse_event_fn(event);\n",
       "    });\n",
       "\n",
       "    canvas_div.append(canvas);\n",
       "    canvas_div.append(rubberband);\n",
       "\n",
       "    this.rubberband = rubberband;\n",
       "    this.rubberband_canvas = rubberband[0];\n",
       "    this.rubberband_context = rubberband[0].getContext(\"2d\");\n",
       "    this.rubberband_context.strokeStyle = \"#000000\";\n",
       "\n",
       "    this._resize_canvas = function(width, height) {\n",
       "        // Keep the size of the canvas, canvas container, and rubber band\n",
       "        // canvas in synch.\n",
       "        canvas_div.css('width', width)\n",
       "        canvas_div.css('height', height)\n",
       "\n",
       "        canvas.attr('width', width * mpl.ratio);\n",
       "        canvas.attr('height', height * mpl.ratio);\n",
       "        canvas.attr('style', 'width: ' + width + 'px; height: ' + height + 'px;');\n",
       "\n",
       "        rubberband.attr('width', width);\n",
       "        rubberband.attr('height', height);\n",
       "    }\n",
       "\n",
       "    // Set the figure to an initial 600x600px, this will subsequently be updated\n",
       "    // upon first draw.\n",
       "    this._resize_canvas(600, 600);\n",
       "\n",
       "    // Disable right mouse context menu.\n",
       "    $(this.rubberband_canvas).bind(\"contextmenu\",function(e){\n",
       "        return false;\n",
       "    });\n",
       "\n",
       "    function set_focus () {\n",
       "        canvas.focus();\n",
       "        canvas_div.focus();\n",
       "    }\n",
       "\n",
       "    window.setTimeout(set_focus, 100);\n",
       "}\n",
       "\n",
       "mpl.figure.prototype._init_toolbar = function() {\n",
       "    var fig = this;\n",
       "\n",
       "    var nav_element = $('<div/>')\n",
       "    nav_element.attr('style', 'width: 100%');\n",
       "    this.root.append(nav_element);\n",
       "\n",
       "    // Define a callback function for later on.\n",
       "    function toolbar_event(event) {\n",
       "        return fig.toolbar_button_onclick(event['data']);\n",
       "    }\n",
       "    function toolbar_mouse_event(event) {\n",
       "        return fig.toolbar_button_onmouseover(event['data']);\n",
       "    }\n",
       "\n",
       "    for(var toolbar_ind in mpl.toolbar_items) {\n",
       "        var name = mpl.toolbar_items[toolbar_ind][0];\n",
       "        var tooltip = mpl.toolbar_items[toolbar_ind][1];\n",
       "        var image = mpl.toolbar_items[toolbar_ind][2];\n",
       "        var method_name = mpl.toolbar_items[toolbar_ind][3];\n",
       "\n",
       "        if (!name) {\n",
       "            // put a spacer in here.\n",
       "            continue;\n",
       "        }\n",
       "        var button = $('<button/>');\n",
       "        button.addClass('ui-button ui-widget ui-state-default ui-corner-all ' +\n",
       "                        'ui-button-icon-only');\n",
       "        button.attr('role', 'button');\n",
       "        button.attr('aria-disabled', 'false');\n",
       "        button.click(method_name, toolbar_event);\n",
       "        button.mouseover(tooltip, toolbar_mouse_event);\n",
       "\n",
       "        var icon_img = $('<span/>');\n",
       "        icon_img.addClass('ui-button-icon-primary ui-icon');\n",
       "        icon_img.addClass(image);\n",
       "        icon_img.addClass('ui-corner-all');\n",
       "\n",
       "        var tooltip_span = $('<span/>');\n",
       "        tooltip_span.addClass('ui-button-text');\n",
       "        tooltip_span.html(tooltip);\n",
       "\n",
       "        button.append(icon_img);\n",
       "        button.append(tooltip_span);\n",
       "\n",
       "        nav_element.append(button);\n",
       "    }\n",
       "\n",
       "    var fmt_picker_span = $('<span/>');\n",
       "\n",
       "    var fmt_picker = $('<select/>');\n",
       "    fmt_picker.addClass('mpl-toolbar-option ui-widget ui-widget-content');\n",
       "    fmt_picker_span.append(fmt_picker);\n",
       "    nav_element.append(fmt_picker_span);\n",
       "    this.format_dropdown = fmt_picker[0];\n",
       "\n",
       "    for (var ind in mpl.extensions) {\n",
       "        var fmt = mpl.extensions[ind];\n",
       "        var option = $(\n",
       "            '<option/>', {selected: fmt === mpl.default_extension}).html(fmt);\n",
       "        fmt_picker.append(option)\n",
       "    }\n",
       "\n",
       "    // Add hover states to the ui-buttons\n",
       "    $( \".ui-button\" ).hover(\n",
       "        function() { $(this).addClass(\"ui-state-hover\");},\n",
       "        function() { $(this).removeClass(\"ui-state-hover\");}\n",
       "    );\n",
       "\n",
       "    var status_bar = $('<span class=\"mpl-message\"/>');\n",
       "    nav_element.append(status_bar);\n",
       "    this.message = status_bar[0];\n",
       "}\n",
       "\n",
       "mpl.figure.prototype.request_resize = function(x_pixels, y_pixels) {\n",
       "    // Request matplotlib to resize the figure. Matplotlib will then trigger a resize in the client,\n",
       "    // which will in turn request a refresh of the image.\n",
       "    this.send_message('resize', {'width': x_pixels, 'height': y_pixels});\n",
       "}\n",
       "\n",
       "mpl.figure.prototype.send_message = function(type, properties) {\n",
       "    properties['type'] = type;\n",
       "    properties['figure_id'] = this.id;\n",
       "    this.ws.send(JSON.stringify(properties));\n",
       "}\n",
       "\n",
       "mpl.figure.prototype.send_draw_message = function() {\n",
       "    if (!this.waiting) {\n",
       "        this.waiting = true;\n",
       "        this.ws.send(JSON.stringify({type: \"draw\", figure_id: this.id}));\n",
       "    }\n",
       "}\n",
       "\n",
       "\n",
       "mpl.figure.prototype.handle_save = function(fig, msg) {\n",
       "    var format_dropdown = fig.format_dropdown;\n",
       "    var format = format_dropdown.options[format_dropdown.selectedIndex].value;\n",
       "    fig.ondownload(fig, format);\n",
       "}\n",
       "\n",
       "\n",
       "mpl.figure.prototype.handle_resize = function(fig, msg) {\n",
       "    var size = msg['size'];\n",
       "    if (size[0] != fig.canvas.width || size[1] != fig.canvas.height) {\n",
       "        fig._resize_canvas(size[0], size[1]);\n",
       "        fig.send_message(\"refresh\", {});\n",
       "    };\n",
       "}\n",
       "\n",
       "mpl.figure.prototype.handle_rubberband = function(fig, msg) {\n",
       "    var x0 = msg['x0'] / mpl.ratio;\n",
       "    var y0 = (fig.canvas.height - msg['y0']) / mpl.ratio;\n",
       "    var x1 = msg['x1'] / mpl.ratio;\n",
       "    var y1 = (fig.canvas.height - msg['y1']) / mpl.ratio;\n",
       "    x0 = Math.floor(x0) + 0.5;\n",
       "    y0 = Math.floor(y0) + 0.5;\n",
       "    x1 = Math.floor(x1) + 0.5;\n",
       "    y1 = Math.floor(y1) + 0.5;\n",
       "    var min_x = Math.min(x0, x1);\n",
       "    var min_y = Math.min(y0, y1);\n",
       "    var width = Math.abs(x1 - x0);\n",
       "    var height = Math.abs(y1 - y0);\n",
       "\n",
       "    fig.rubberband_context.clearRect(\n",
       "        0, 0, fig.canvas.width, fig.canvas.height);\n",
       "\n",
       "    fig.rubberband_context.strokeRect(min_x, min_y, width, height);\n",
       "}\n",
       "\n",
       "mpl.figure.prototype.handle_figure_label = function(fig, msg) {\n",
       "    // Updates the figure title.\n",
       "    fig.header.textContent = msg['label'];\n",
       "}\n",
       "\n",
       "mpl.figure.prototype.handle_cursor = function(fig, msg) {\n",
       "    var cursor = msg['cursor'];\n",
       "    switch(cursor)\n",
       "    {\n",
       "    case 0:\n",
       "        cursor = 'pointer';\n",
       "        break;\n",
       "    case 1:\n",
       "        cursor = 'default';\n",
       "        break;\n",
       "    case 2:\n",
       "        cursor = 'crosshair';\n",
       "        break;\n",
       "    case 3:\n",
       "        cursor = 'move';\n",
       "        break;\n",
       "    }\n",
       "    fig.rubberband_canvas.style.cursor = cursor;\n",
       "}\n",
       "\n",
       "mpl.figure.prototype.handle_message = function(fig, msg) {\n",
       "    fig.message.textContent = msg['message'];\n",
       "}\n",
       "\n",
       "mpl.figure.prototype.handle_draw = function(fig, msg) {\n",
       "    // Request the server to send over a new figure.\n",
       "    fig.send_draw_message();\n",
       "}\n",
       "\n",
       "mpl.figure.prototype.handle_image_mode = function(fig, msg) {\n",
       "    fig.image_mode = msg['mode'];\n",
       "}\n",
       "\n",
       "mpl.figure.prototype.updated_canvas_event = function() {\n",
       "    // Called whenever the canvas gets updated.\n",
       "    this.send_message(\"ack\", {});\n",
       "}\n",
       "\n",
       "// A function to construct a web socket function for onmessage handling.\n",
       "// Called in the figure constructor.\n",
       "mpl.figure.prototype._make_on_message_function = function(fig) {\n",
       "    return function socket_on_message(evt) {\n",
       "        if (evt.data instanceof Blob) {\n",
       "            /* FIXME: We get \"Resource interpreted as Image but\n",
       "             * transferred with MIME type text/plain:\" errors on\n",
       "             * Chrome.  But how to set the MIME type?  It doesn't seem\n",
       "             * to be part of the websocket stream */\n",
       "            evt.data.type = \"image/png\";\n",
       "\n",
       "            /* Free the memory for the previous frames */\n",
       "            if (fig.imageObj.src) {\n",
       "                (window.URL || window.webkitURL).revokeObjectURL(\n",
       "                    fig.imageObj.src);\n",
       "            }\n",
       "\n",
       "            fig.imageObj.src = (window.URL || window.webkitURL).createObjectURL(\n",
       "                evt.data);\n",
       "            fig.updated_canvas_event();\n",
       "            fig.waiting = false;\n",
       "            return;\n",
       "        }\n",
       "        else if (typeof evt.data === 'string' && evt.data.slice(0, 21) == \"data:image/png;base64\") {\n",
       "            fig.imageObj.src = evt.data;\n",
       "            fig.updated_canvas_event();\n",
       "            fig.waiting = false;\n",
       "            return;\n",
       "        }\n",
       "\n",
       "        var msg = JSON.parse(evt.data);\n",
       "        var msg_type = msg['type'];\n",
       "\n",
       "        // Call the  \"handle_{type}\" callback, which takes\n",
       "        // the figure and JSON message as its only arguments.\n",
       "        try {\n",
       "            var callback = fig[\"handle_\" + msg_type];\n",
       "        } catch (e) {\n",
       "            console.log(\"No handler for the '\" + msg_type + \"' message type: \", msg);\n",
       "            return;\n",
       "        }\n",
       "\n",
       "        if (callback) {\n",
       "            try {\n",
       "                // console.log(\"Handling '\" + msg_type + \"' message: \", msg);\n",
       "                callback(fig, msg);\n",
       "            } catch (e) {\n",
       "                console.log(\"Exception inside the 'handler_\" + msg_type + \"' callback:\", e, e.stack, msg);\n",
       "            }\n",
       "        }\n",
       "    };\n",
       "}\n",
       "\n",
       "// from http://stackoverflow.com/questions/1114465/getting-mouse-location-in-canvas\n",
       "mpl.findpos = function(e) {\n",
       "    //this section is from http://www.quirksmode.org/js/events_properties.html\n",
       "    var targ;\n",
       "    if (!e)\n",
       "        e = window.event;\n",
       "    if (e.target)\n",
       "        targ = e.target;\n",
       "    else if (e.srcElement)\n",
       "        targ = e.srcElement;\n",
       "    if (targ.nodeType == 3) // defeat Safari bug\n",
       "        targ = targ.parentNode;\n",
       "\n",
       "    // jQuery normalizes the pageX and pageY\n",
       "    // pageX,Y are the mouse positions relative to the document\n",
       "    // offset() returns the position of the element relative to the document\n",
       "    var x = e.pageX - $(targ).offset().left;\n",
       "    var y = e.pageY - $(targ).offset().top;\n",
       "\n",
       "    return {\"x\": x, \"y\": y};\n",
       "};\n",
       "\n",
       "/*\n",
       " * return a copy of an object with only non-object keys\n",
       " * we need this to avoid circular references\n",
       " * http://stackoverflow.com/a/24161582/3208463\n",
       " */\n",
       "function simpleKeys (original) {\n",
       "  return Object.keys(original).reduce(function (obj, key) {\n",
       "    if (typeof original[key] !== 'object')\n",
       "        obj[key] = original[key]\n",
       "    return obj;\n",
       "  }, {});\n",
       "}\n",
       "\n",
       "mpl.figure.prototype.mouse_event = function(event, name) {\n",
       "    var canvas_pos = mpl.findpos(event)\n",
       "\n",
       "    if (name === 'button_press')\n",
       "    {\n",
       "        this.canvas.focus();\n",
       "        this.canvas_div.focus();\n",
       "    }\n",
       "\n",
       "    var x = canvas_pos.x * mpl.ratio;\n",
       "    var y = canvas_pos.y * mpl.ratio;\n",
       "\n",
       "    this.send_message(name, {x: x, y: y, button: event.button,\n",
       "                             step: event.step,\n",
       "                             guiEvent: simpleKeys(event)});\n",
       "\n",
       "    /* This prevents the web browser from automatically changing to\n",
       "     * the text insertion cursor when the button is pressed.  We want\n",
       "     * to control all of the cursor setting manually through the\n",
       "     * 'cursor' event from matplotlib */\n",
       "    event.preventDefault();\n",
       "    return false;\n",
       "}\n",
       "\n",
       "mpl.figure.prototype._key_event_extra = function(event, name) {\n",
       "    // Handle any extra behaviour associated with a key event\n",
       "}\n",
       "\n",
       "mpl.figure.prototype.key_event = function(event, name) {\n",
       "\n",
       "    // Prevent repeat events\n",
       "    if (name == 'key_press')\n",
       "    {\n",
       "        if (event.which === this._key)\n",
       "            return;\n",
       "        else\n",
       "            this._key = event.which;\n",
       "    }\n",
       "    if (name == 'key_release')\n",
       "        this._key = null;\n",
       "\n",
       "    var value = '';\n",
       "    if (event.ctrlKey && event.which != 17)\n",
       "        value += \"ctrl+\";\n",
       "    if (event.altKey && event.which != 18)\n",
       "        value += \"alt+\";\n",
       "    if (event.shiftKey && event.which != 16)\n",
       "        value += \"shift+\";\n",
       "\n",
       "    value += 'k';\n",
       "    value += event.which.toString();\n",
       "\n",
       "    this._key_event_extra(event, name);\n",
       "\n",
       "    this.send_message(name, {key: value,\n",
       "                             guiEvent: simpleKeys(event)});\n",
       "    return false;\n",
       "}\n",
       "\n",
       "mpl.figure.prototype.toolbar_button_onclick = function(name) {\n",
       "    if (name == 'download') {\n",
       "        this.handle_save(this, null);\n",
       "    } else {\n",
       "        this.send_message(\"toolbar_button\", {name: name});\n",
       "    }\n",
       "};\n",
       "\n",
       "mpl.figure.prototype.toolbar_button_onmouseover = function(tooltip) {\n",
       "    this.message.textContent = tooltip;\n",
       "};\n",
       "mpl.toolbar_items = [[\"Home\", \"Reset original view\", \"fa fa-home icon-home\", \"home\"], [\"Back\", \"Back to  previous view\", \"fa fa-arrow-left icon-arrow-left\", \"back\"], [\"Forward\", \"Forward to next view\", \"fa fa-arrow-right icon-arrow-right\", \"forward\"], [\"\", \"\", \"\", \"\"], [\"Pan\", \"Pan axes with left mouse, zoom with right\", \"fa fa-arrows icon-move\", \"pan\"], [\"Zoom\", \"Zoom to rectangle\", \"fa fa-square-o icon-check-empty\", \"zoom\"], [\"\", \"\", \"\", \"\"], [\"Download\", \"Download plot\", \"fa fa-floppy-o icon-save\", \"download\"]];\n",
       "\n",
       "mpl.extensions = [\"eps\", \"jpeg\", \"pdf\", \"png\", \"ps\", \"raw\", \"svg\", \"tif\"];\n",
       "\n",
       "mpl.default_extension = \"png\";var comm_websocket_adapter = function(comm) {\n",
       "    // Create a \"websocket\"-like object which calls the given IPython comm\n",
       "    // object with the appropriate methods. Currently this is a non binary\n",
       "    // socket, so there is still some room for performance tuning.\n",
       "    var ws = {};\n",
       "\n",
       "    ws.close = function() {\n",
       "        comm.close()\n",
       "    };\n",
       "    ws.send = function(m) {\n",
       "        //console.log('sending', m);\n",
       "        comm.send(m);\n",
       "    };\n",
       "    // Register the callback with on_msg.\n",
       "    comm.on_msg(function(msg) {\n",
       "        //console.log('receiving', msg['content']['data'], msg);\n",
       "        // Pass the mpl event to the overriden (by mpl) onmessage function.\n",
       "        ws.onmessage(msg['content']['data'])\n",
       "    });\n",
       "    return ws;\n",
       "}\n",
       "\n",
       "mpl.mpl_figure_comm = function(comm, msg) {\n",
       "    // This is the function which gets called when the mpl process\n",
       "    // starts-up an IPython Comm through the \"matplotlib\" channel.\n",
       "\n",
       "    var id = msg.content.data.id;\n",
       "    // Get hold of the div created by the display call when the Comm\n",
       "    // socket was opened in Python.\n",
       "    var element = $(\"#\" + id);\n",
       "    var ws_proxy = comm_websocket_adapter(comm)\n",
       "\n",
       "    function ondownload(figure, format) {\n",
       "        window.open(figure.imageObj.src);\n",
       "    }\n",
       "\n",
       "    var fig = new mpl.figure(id, ws_proxy,\n",
       "                           ondownload,\n",
       "                           element.get(0));\n",
       "\n",
       "    // Call onopen now - mpl needs it, as it is assuming we've passed it a real\n",
       "    // web socket which is closed, not our websocket->open comm proxy.\n",
       "    ws_proxy.onopen();\n",
       "\n",
       "    fig.parent_element = element.get(0);\n",
       "    fig.cell_info = mpl.find_output_cell(\"<div id='\" + id + \"'></div>\");\n",
       "    if (!fig.cell_info) {\n",
       "        console.error(\"Failed to find cell for figure\", id, fig);\n",
       "        return;\n",
       "    }\n",
       "\n",
       "    var output_index = fig.cell_info[2]\n",
       "    var cell = fig.cell_info[0];\n",
       "\n",
       "};\n",
       "\n",
       "mpl.figure.prototype.handle_close = function(fig, msg) {\n",
       "    var width = fig.canvas.width/mpl.ratio\n",
       "    fig.root.unbind('remove')\n",
       "\n",
       "    // Update the output cell to use the data from the current canvas.\n",
       "    fig.push_to_output();\n",
       "    var dataURL = fig.canvas.toDataURL();\n",
       "    // Re-enable the keyboard manager in IPython - without this line, in FF,\n",
       "    // the notebook keyboard shortcuts fail.\n",
       "    IPython.keyboard_manager.enable()\n",
       "    $(fig.parent_element).html('<img src=\"' + dataURL + '\" width=\"' + width + '\">');\n",
       "    fig.close_ws(fig, msg);\n",
       "}\n",
       "\n",
       "mpl.figure.prototype.close_ws = function(fig, msg){\n",
       "    fig.send_message('closing', msg);\n",
       "    // fig.ws.close()\n",
       "}\n",
       "\n",
       "mpl.figure.prototype.push_to_output = function(remove_interactive) {\n",
       "    // Turn the data on the canvas into data in the output cell.\n",
       "    var width = this.canvas.width/mpl.ratio\n",
       "    var dataURL = this.canvas.toDataURL();\n",
       "    this.cell_info[1]['text/html'] = '<img src=\"' + dataURL + '\" width=\"' + width + '\">';\n",
       "}\n",
       "\n",
       "mpl.figure.prototype.updated_canvas_event = function() {\n",
       "    // Tell IPython that the notebook contents must change.\n",
       "    IPython.notebook.set_dirty(true);\n",
       "    this.send_message(\"ack\", {});\n",
       "    var fig = this;\n",
       "    // Wait a second, then push the new image to the DOM so\n",
       "    // that it is saved nicely (might be nice to debounce this).\n",
       "    setTimeout(function () { fig.push_to_output() }, 1000);\n",
       "}\n",
       "\n",
       "mpl.figure.prototype._init_toolbar = function() {\n",
       "    var fig = this;\n",
       "\n",
       "    var nav_element = $('<div/>')\n",
       "    nav_element.attr('style', 'width: 100%');\n",
       "    this.root.append(nav_element);\n",
       "\n",
       "    // Define a callback function for later on.\n",
       "    function toolbar_event(event) {\n",
       "        return fig.toolbar_button_onclick(event['data']);\n",
       "    }\n",
       "    function toolbar_mouse_event(event) {\n",
       "        return fig.toolbar_button_onmouseover(event['data']);\n",
       "    }\n",
       "\n",
       "    for(var toolbar_ind in mpl.toolbar_items){\n",
       "        var name = mpl.toolbar_items[toolbar_ind][0];\n",
       "        var tooltip = mpl.toolbar_items[toolbar_ind][1];\n",
       "        var image = mpl.toolbar_items[toolbar_ind][2];\n",
       "        var method_name = mpl.toolbar_items[toolbar_ind][3];\n",
       "\n",
       "        if (!name) { continue; };\n",
       "\n",
       "        var button = $('<button class=\"btn btn-default\" href=\"#\" title=\"' + name + '\"><i class=\"fa ' + image + ' fa-lg\"></i></button>');\n",
       "        button.click(method_name, toolbar_event);\n",
       "        button.mouseover(tooltip, toolbar_mouse_event);\n",
       "        nav_element.append(button);\n",
       "    }\n",
       "\n",
       "    // Add the status bar.\n",
       "    var status_bar = $('<span class=\"mpl-message\" style=\"text-align:right; float: right;\"/>');\n",
       "    nav_element.append(status_bar);\n",
       "    this.message = status_bar[0];\n",
       "\n",
       "    // Add the close button to the window.\n",
       "    var buttongrp = $('<div class=\"btn-group inline pull-right\"></div>');\n",
       "    var button = $('<button class=\"btn btn-mini btn-primary\" href=\"#\" title=\"Stop Interaction\"><i class=\"fa fa-power-off icon-remove icon-large\"></i></button>');\n",
       "    button.click(function (evt) { fig.handle_close(fig, {}); } );\n",
       "    button.mouseover('Stop Interaction', toolbar_mouse_event);\n",
       "    buttongrp.append(button);\n",
       "    var titlebar = this.root.find($('.ui-dialog-titlebar'));\n",
       "    titlebar.prepend(buttongrp);\n",
       "}\n",
       "\n",
       "mpl.figure.prototype._root_extra_style = function(el){\n",
       "    var fig = this\n",
       "    el.on(\"remove\", function(){\n",
       "\tfig.close_ws(fig, {});\n",
       "    });\n",
       "}\n",
       "\n",
       "mpl.figure.prototype._canvas_extra_style = function(el){\n",
       "    // this is important to make the div 'focusable\n",
       "    el.attr('tabindex', 0)\n",
       "    // reach out to IPython and tell the keyboard manager to turn it's self\n",
       "    // off when our div gets focus\n",
       "\n",
       "    // location in version 3\n",
       "    if (IPython.notebook.keyboard_manager) {\n",
       "        IPython.notebook.keyboard_manager.register_events(el);\n",
       "    }\n",
       "    else {\n",
       "        // location in version 2\n",
       "        IPython.keyboard_manager.register_events(el);\n",
       "    }\n",
       "\n",
       "}\n",
       "\n",
       "mpl.figure.prototype._key_event_extra = function(event, name) {\n",
       "    var manager = IPython.notebook.keyboard_manager;\n",
       "    if (!manager)\n",
       "        manager = IPython.keyboard_manager;\n",
       "\n",
       "    // Check for shift+enter\n",
       "    if (event.shiftKey && event.which == 13) {\n",
       "        this.canvas_div.blur();\n",
       "        // select the cell after this one\n",
       "        var index = IPython.notebook.find_cell_index(this.cell_info[0]);\n",
       "        IPython.notebook.select(index + 1);\n",
       "    }\n",
       "}\n",
       "\n",
       "mpl.figure.prototype.handle_save = function(fig, msg) {\n",
       "    fig.ondownload(fig, null);\n",
       "}\n",
       "\n",
       "\n",
       "mpl.find_output_cell = function(html_output) {\n",
       "    // Return the cell and output element which can be found *uniquely* in the notebook.\n",
       "    // Note - this is a bit hacky, but it is done because the \"notebook_saving.Notebook\"\n",
       "    // IPython event is triggered only after the cells have been serialised, which for\n",
       "    // our purposes (turning an active figure into a static one), is too late.\n",
       "    var cells = IPython.notebook.get_cells();\n",
       "    var ncells = cells.length;\n",
       "    for (var i=0; i<ncells; i++) {\n",
       "        var cell = cells[i];\n",
       "        if (cell.cell_type === 'code'){\n",
       "            for (var j=0; j<cell.output_area.outputs.length; j++) {\n",
       "                var data = cell.output_area.outputs[j];\n",
       "                if (data.data) {\n",
       "                    // IPython >= 3 moved mimebundle to data attribute of output\n",
       "                    data = data.data;\n",
       "                }\n",
       "                if (data['text/html'] == html_output) {\n",
       "                    return [cell, data, j];\n",
       "                }\n",
       "            }\n",
       "        }\n",
       "    }\n",
       "}\n",
       "\n",
       "// Register the function which deals with the matplotlib target/channel.\n",
       "// The kernel may be null if the page has been refreshed.\n",
       "if (IPython.notebook.kernel != null) {\n",
       "    IPython.notebook.kernel.comm_manager.register_target('matplotlib', mpl.mpl_figure_comm);\n",
       "}\n"
      ],
      "text/plain": [
       "<IPython.core.display.Javascript object>"
      ]
     },
     "metadata": {},
     "output_type": "display_data"
    },
    {
     "data": {
      "text/html": [
       "<img src=\"data:image/png;base64,iVBORw0KGgoAAAANSUhEUgAAAyAAAALXCAYAAAB1kCR9AAAgAElEQVR4XuydCdx+5Zz/PxP9jTANxVimIirZZxoSg8q+lGxZihAllK2sibJFUZZG2bKVLUvKGKkIpSzZJ2YqKWMpMRExM/i/rtv5/Tye5/fc5zrPdV3n+/0+532/Xr2q330t3/P+XPfy/l3n3OevxAMCEIAABCAAAQhAAAIQgMBIBP5qpHmYBgIQgAAEIAABCEAAAhCAgBAQFgEEIAABCEAAAhCAAAQgMBoBBGQ01EwEAQhAAAIQgAAEIAABCCAgrAEIQAACEIAABCAAAQhAYDQCCMhoqJkIAhCAAAQgAAEIQAACEEBAWAMQgAAEIAABCEAAAhCAwGgEEJDRUDMRBCAAAQhAAAIQgAAEIICAsAYgAAEIQAACEIAABCAAgdEIICCjoWYiCEAAAhCAAAQgAAEIQAABYQ1AAAIQgAAEIAABCEAAAqMRQEBGQ81EEIAABCAAAQhAAAIQgAACwhqAAAQgAAEIQAACEIAABEYjgICMhpqJIAABCEAAAhCAAAQgAAEEhDUAAQhAAAIQgAAEIAABCIxGAAEZDTUTQQACEIAABCAAAQhAAAIICGsAAhCAAAQgAAEIQAACEBiNAAIyGmomggAEIAABCEAAAhCAAAQQENYABCAAAQhAAAIQgAAEIDAaAQRkNNRMBAEIQAACEIAABCAAAQggIKwBCEAAAhCAAAQgAAEIQGA0AgjIaKiZCAIQgAAEIAABCEAAAhBAQFgDEIAABCAAAQhAAAJjEthU0sZjTrjMXD+TdLGDOiZXAgIyucg5YAhAAAIQgAAEIGBGYNMNNtjgB7/5zW/MClgwcSpiayRk/CgQkPGZMyMEIAABCEAAAhCYKoF/lPTV9773vdp66/Td3+Zx3nnnaffdd0+TbyPpXJsqpjsrAjLd7DlyCEAAAhCAAAQgMDaBmYB89atf1T/+Y/pPm8e5556rbbZJ7oGAWCSAgFhQZ04IQAACEIAABCAwTQIzAfnKV75iLiD/9E//hIAYrUEExAg800IAAhCAAAQgAIEJEkBAJhj64kNGQFgEEIAABCAAAQhAAAJjEUBAxiLteB4ExHE4lAYBCEAAAhCAAARWGYGZgHz5y182PwXrjne8Y0LLRegGCwwBMYDOlBCAAAQgAAEIQGCiBBCQiQa/8LAREBYBBCAAAQhAAAIQgMBYBGYC8qUvfcl8B+ROd7oTOyBjpb5oHgTECDzTQgACEIAABCAAgQkSQEAmGPriQ0ZAWAQQgAAEIAABCEAAAmMRQEDGIu14HgTEcTiUBgEIQAACEIAABFYZgZmAnHPOOeanYG277bYJLRehGywwBMQAOlNCAAIQgAAEIACBiRJAQCYa/MLDRkBYBBCAAAQgAAEIQAACYxFAQMYi7XgeBMRxOJQGAQhAAAIQgAAEVhmBtQLyD//wD2aH9rWvfU2cgmWGXwiIHXtmhgAEIAABCEAAAlMjgIBMLfF1HC8CwiKAAAQgAAEIQAACEBiLwExAzj77bFnvgNz5zndOx8xF6GMlv2AeBMQAOlNCAAIQgAAEIACBiRJAQCYa/MLDRkBYBBCAAAQgAAEIQAACYxFAQMYi7XgeBMRxOJQGAQhAAAIQgAAEVhmBmYB88YtfND8Fa7vttktoOQXLYIEhIAbQmRICEIAABCAAAQhMlAACMtHgFx42AsIigAAEIAABCEAAAhAYiwACMhZpx/MgII7DoTQIQAACEIAABCCwygjMBOSss84yPwXrLne5S0LLKVgGCwwBMYDOlBCAAAQgAAEIQGCiBBCQiQa/8LAREBYBBCAAAQhAAAIQgMBYBGYCcuaZZ5rvgNz1rndlB2Ss1BfNg4AYgWdaCEAAAhCAAAQgMEECCMgEQ198yAgIiwACEIAABCAAAQhAYCwCCMhYpB3Pg4A4DofSIAABCEAAAhCAwCojMBOQL3zhC+anYP3zP/9zQstF6AYLDAExgM6UEIAABCAAAQhAYKIEEJCJBr/wsBEQFgEEIAABCEAAAhCAwFgEEJCxSDueBwFxHA6lQQACEIAABCAAgVVGYK2A3OEOdzA7tK9//eviFCwz/EJA7NgzMwQgAAEIQAACEJgaAQRkaomv43gREBYBBCAAAQhAAAIQgMBYBGYC8vnPf17WOyB3u9vd0jFzEfpYyS+YBwExgM6UEIAABCAAAQhAYKIEEJCJBr/wsBEQFgEEIAABCEAAAhCAwFgEEJCxSDueBwFxHA6lQQACEIAABCAAgVVGYCYgn/vc58xPwbr73e+e0HIKlsECQ0AMoDMlBCAAAQhAAAIQmCgBBGSiwS88bASERQABCEAAAhCAAAQgMBYBBGQs0o7nQUAch0NpEIAABCAAAQhAYJURmAnIGWecYX4K1j3ucY+EllOwDBYYAmIAnSkhAAEIQAACEIDARAkgIBMNfuFhIyAsAghAAAIQgAAEIACBsQjMBOSzn/2s+Q7I9ttvzw7IWKkvmgcBMQLPtBCAAAQgAAEIQGCCBBCQCYa++JAREBYBBCAAAQhAAAIQgMBYBBCQsUg7ngcBcRwOpUEAAhCAAAQgAIFVRmCtgNz+9rc3O7RvfOMb4hQsM/yKJCAbSbqvpIsk/dYOGTNDAAIQgAAEIACBEAT+WtJNJX1K0uVOKkZAnARhWUYkAXmMpOMsYTE3BCAAAQhAAAIQCEhgN0nHO6kbAXEShGUZkQTkLpLOfPCDH6yNN97Yktkoc2+44YajzONhkl/84hceyhilhqtf/eqjzONhkl//+tceyhilhi233HKUebxMMqX3p69//etesDevY7311ms+h5cJzj77bC+lNK3jqquu0kUXpRNHdFdJZzWdLH/wmYB85jOfkfUpWDvssEOqmvuA5GdXrWUkAZkt2D333FM3utGNqgHwOtBGG6UzzqbxuPTSS6dxoJLWX3/9yRzrL3/5y8kc6x3ucIfJHGs60Cm9P33hC1+YTLZTEpBPf/rTk8g1/UXQeeed5+1LNgIyidU3/yAREKeLYEof8AiI00VYWBYCUgjQcfcpvT8hII4XYkFpCEgBvPKuMwE5/fTTzXdAdtxxR29yVk43yAgIiNOgpvQBj4A4XYSFZSEghQAdd5/S+xMC4nghFpSGgBTAK++KgJQzDD8CAuI0wil9wCMgThdhYVkISCFAx92n9P6EgDheiAWlISAF8Mq7IiDlDMOPgIA4jXBKH/AIiNNFWFgWAlII0HH3Kb0/ISCOF2JBaQhIAbzyrjMBOe2008xPwbrnPe+ZjoaL0MszHTwCAjIY2TgdpvQBj4CMs6bGngUBGZv4ePNN6f0JARlvXY05EwIyJu0lcyEgpvh9TI6A+MhhSRVT+oBHQJwuwsKyEJBCgI67T+n9CQFxvBALSkNACuCVd0VAyhmGHwEBcRrhlD7gERCni7CwLASkEKDj7lN6f0JAHC/EgtIQkAJ45V1nAnLqqaean4J1r3vdKx0Np2CVZzp4BARkMLJxOkzpAx4BGWdNjT0LAjI28fHmm9L7EwIy3roacyYEZEzaS+ZCQEzx+5gcAfGRw5IqpvQBj4A4XYSFZSEghQAdd5/S+xMC4nghFpSGgBTAK++6VkBud7vblY+2whG++c1vih2QFcKr0A0BqQCxxRBT+oBHQFqsIPsxERD7DFpVMKX3JwSk1SqyHRcBMeWPgJji9zE5AuIjB3ZAnOZQu6z111+/9pBux0NA3EZTXBgCUozQ5QDrrbeey7paFIWAtKCaPSYCko1q9TZEQJxmO6UPeHZAnC7CwrIQkEKAjrtP6f2JHRDHC7GgNASkAF5515mApAysT8G6973vnY6Gi9DLMx08AgIyGNk4Hab0AY+AjLOmxp4FARmb+HjzTen9CQEZb12NORMCMibtJXMhIKb4fUyOgPjIYUkVU/qAR0CcLsLCshCQQoCOu0/p/QkBcbwQC0pDQArglXdFQMoZhh8BAXEa4ZQ+4BEQp4uwsCwEpBCg4+5Ten9CQBwvxILSEJACeOVdZwJyyimnmJ+CdZ/73CcdzdBTsG4q6fvLYHi7pCcteu6Gkl4s6UGS0n//XNJXJD1N0sXlOGOOgIA4zW1KH/AIiNNFWFgWAlII0HH3Kb0/ISCOF2JBaQhIAbzyrqtFQE6UdMIiHOdLOnvBn20h6XOSfifpWEmXSNpI0raSXibpG+U4Y46AgDjNbUof8AiI00VYWBYCUgjQcfcpvT8hII4XYkFpCEgBvPKuMwH51Kc+Zb4Dct/73rdkB+QVkg6cgyN9xz5HUvr5y7tL+lU5utUzAgLiNMspfcAjIE4XYWFZCEghQMfdp/T+hIA4XogFpSEgBfDKu64mAUkSkh5XrQPLjpJOk7SzpJMk/bWkP0j6n3KE8UdAQJxmOKUPeATE6SIsLAsBKQTouPuU3p8QEMcLsaA0BKQAXnnX1SIgV0q6docjnXp1pKSjFuB5jaQDut2PJCp3k/THblfk2ZK+WI4y7ggIiNPspvQBj4A4XYSFZSEghQAdd5/S+xMC4nghFpSGgBTAK+86E5B/+7d/Mz8F6373u186mt0kfXfRYf1YUvpnXY9NJb1D0sck/UDSjSXtJSkd1+GddKR+6fkHS7qsk43juus/0mlb15N0J0nfKscZcwQExGluU/qAR0CcLsLCshCQQoCOu0/p/QkBcbwQC0pDQArglXf1JiDrOqKDJb10wKFeTdIZkraTtKWkCySdKume3Z9vv2CsW0r6tqSPSNp1wByrqikC4jTOKX3AIyBOF2FhWQhIIUDH3af0/oSAOF6IBaUhIAXwyrt6E5ChOyDLEdhJ0scl7S3pLd11H+mnd9PP8qaf5134OFPSLST9XTnOmCMgIE5zm9IHPALidBEWloWAFAJ03H1K708IiOOFWFAaAlIAr7zrWgG57W1vWz7aCkf41re+pe4UrKH3AVluxtt1P6v7IkmvlHR0JyNJTE5e1Cn9fG+6OP3/rbD88N0QEKcRTukDHgFxuggLy0JACgE67j6l9ycExPFCLCgNASmAV951tQrIQyV9eMGOx56S3iZpn05GFpJLP897E0l/X44z5ggIiNPcpvQBj4A4XYSFZSEghQAdd5/S+xMC4nghFpSGgBTAK+86E5BPfvKTst4Buf/975+OZugOyA0kXboIwzUlpdOqbiPp5t0NBzfuLlL/9+7akP/r+tyx+yWsdCH74ruml9MNMgIC4jSoKX3AIyBOF2FhWQhIIUDH3af0/oSAOF6IBaUhIAXwyrtGF5CPdr9mdbqkH3a/grWHpM0lvUDSoQsQPaP7ed6zJL2/65f+7H878Ul3Rp/kAwFxGvuUPuAREKeLsLAsBKQQoOPuU3p/QkAcL8SC0hCQAnjlXaMLSDq1KgnHVt3P6ab7gZwr6fXdReiLCe0uKd3341aSfiPp052oXFiOMu4ICIjT7Kb0AY+AOF2EhWUhIIUAHXef0vsTAuJ4IRaUhoAUwCvvOhOQf/3XfzU/BesBD3hAOpqhp2CVE2AEISBOF8GUPuAREKeLsLAsBKQQoOPuU3p/QkAcL8SC0hCQAnjlXRGQcobhR0BAnEY4pQ94BMTpIiwsCwEpBOi4+5TenxAQxwuxoDQEpABeedeZgHziE58w3wF54AMfyA5IeZ4rGgEBWRG29p2m9AGPgLRfTxYzICAW1MeZc0rvTwjIOGtq7FkQkLGJ/8V8CIgpfh+TIyA+clhSxZQ+4BEQp4uwsCwEpBCg4+5Ten9CQBwvxILSEJACeOVdEZByhuFHQECcRjilD3gExOkiLCwLASkE6Lj7lN6fEBDHC7GgNASkAF5515mAnHzyyeanYD3oQQ9KR8NF6OWZDh4BARmMbJwOU/qAR0DGWVNjz4KAjE18vPmm9P6EgIy3rsacCQEZk/aSuRAQU/w+JkdAfOSwpIopfcAjIE4XYWFZCEghQMfdp/T+hIA4XogFpSEgBfDKuyIg5QzDj4CAOI1wSh/wCIjTRVhYFgJSCNBx9ym9PyEgjhdiQWkISAG88q5rBeQ2t7lN+WgrHOHb3/62OAVrhfAqdENAKkBsMcSUPuARkBYryH5MBMQ+g1YVTOn9CQFptYpsx0VATPkjIKb4fUyOgPjIYUkVU/qAR0CcLsLCshCQQoCOu0/p/QkBcbwQC0pDQArglXedCchJJ50k6x2QnXbaKR0NF6GXZzp4BARkMLJxOkzpAx4BGWdNjT0LAjI28fHmm9L7EwIy3roacyYEZEzaS+ZCQEzx+5gcAfGRAzsgTnOoXdb6669fe0i34yEgbqMpLgwBKUbocoD11lvPZV0tikJAWlDNHhMByUa1ehsiIE6zndIHPDsgThdhYVkISCFAx92n9P7EDojjhVhQGgJSAK+860xAPv7xj5ufgrXzzjuno+EUrPJMB4+AgAxGNk6HKX3AIyDjrKmxZ0FAxiY+3nxTen9CQMZbV2POhICMSXvJXAiIKX4fkyMgPnJYUsWUPuAREKeLsLAsBKQQoOPuU3p/QkAcL8SC0hCQAnjlXRGQcobhR0BAnEY4pQ94BMTpIiwsCwEpBOi4+5TenxAQxwuxoDQEpABeedeZgJx44onmp2A9+MEPTkfDKVjlmQ4eAQEZjGycDlP6gEdAxllTY8+CgIxNfLz5pvT+hICMt67GnAkBGZP2krkQEFP8PiZHQHzksKSKKX3AIyBOF2FhWQhIIUDH3af0/oSAOF6IBaUhIAXwyrvOBORjH/uY+Q7ILrvswg5IeZ4rGgEBWRG29p2m9AGPgLRfTxYzICAW1MeZc0rvTwjIOGtq7FkQkLGJ/8V8CIgpfh+TIyA+cmAHxGkOtcviPiC1ifoY7w53uIOPQkaqAgEZCfTI03AfkJGBjzDdr3/9a5133nne/pYfARkhe+9TICBOE5rSBzw7IE4XYWFZ7IAUAnTcfUrvT+yAOF6IBaWxA1IAr7zrWgG59a1vXT7aCkf4zne+I07BWiG8Ct0QkAoQWwwxpQ94BKTFCrIfEwGxz6BVBVN6f0JAWq0i23EREFP+CIgpfh+TIyA+clhSxZQ+4BEQp4uwsCwEpBCg4+5Ten9CQBwvxILSEJACeOVdEZByhuFHQECcRjilD3gExOkiLCwLASkE6Lj7lN6fEBDHC7GgNASkAF5515mAfPSjH5X1KVgPechD0tFwH5DyTAePgIAMRjZOhyl9wCMg46ypsWdBQMYmPt58U3p/QkDGW1djzoSAjEl7yVwIiCl+H5MjID5yWFLFlD7gERCni7CwLASkEKDj7lN6f0JAHC/EgtIQkAJ45V1nAvKRj3zEfAfkoQ99KDsg5XmuaAQEZEXY2nea0gc8AtJ+PVnMgIBYUB9nzim9PyEg46ypsWdBQMYm/hfzISCm+H1MjoD4yIEdEKc51C6L+4DUJupjPO4D4iOHFlUgIC2o2o+JgJhmgICY4vcxeTgBOeigg7TZZpv5oNewiiuvvLLh6L6GPuKII3wV1LCa293udg1H9zX0lG5qdsABB/iC37iaM888s/EMfoY/55xz/BTTuJJtt9228Qx+hv/3f/93P8U0rOTyyy/XSSedlGbwdKH1TEA+/OEPm5+C9bCHPcwbm4arwdfQCIivPNZWg4A4DaawLASkEKDT7giI02AqlIWAVIDocAgExDQUBMQUv4/JERAfOSypAgFxGkxhWQhIIUCn3REQp8FUKAsBqQDR4RAIiGkoCIgpfh+TIyA+ckBAnOZQuywEpDZRH+MhID5yaFEFAtKCqv2YCIhpBjMBOeGEE8xPwXr4wx+eQHg6Pc00mDEnR0DGpD1gLnZABsAK1BQBCRTWgFIRkAGwgjVFQIIFllkuApIJqk0zBKQN11CjIiBO40JAnAZTWBYCUgjQaXcExGkwFcpCQCpAdDgEAmIayloBudWtbmVWSFoD7ICY4RcCYsd+7swIiNNgCstCQAoBOu2OgDgNpkJZCEgFiA6HQEBMQ0FATPH7mBwB8ZHDkioQEKfBFJaFgBQCdNodAXEaTIWyEJAKEB0OgYCYhoKAmOL3MTkC4iMHBMRpDrXLQkBqE/UxHgLiI4cWVSAgLajaj4mAmGYwE5APfehDsj4F6xGPeEQCwUXoBssBATGAnjMlOyA5lOK1QUDiZZZTMQKSQylmGwQkZm59VSMgfYSaPo+ANMUbY3AExGlOCIjTYArLQkAKATrtjoA4DaZCWQhIBYgOh0BATENBQEzx+5gcAfGRw5IqEBCnwRSWhYAUAnTaHQFxGkyFshCQChAdDoGAmIYyE5APfvCD5qdg7brrrgkEp2AZLAcExAB6zpQISA6leG0QkHiZ5VSMgORQitkGAYmZW1/VCEgfoabPIyBN8cYYHAFxmhMC4jSYwrIQkEKATrsjIE6DqVAWAlIBosMhEBDTUGYC8oEPfMB8B+SRj3wkOyBGSwEBMQLfNy0C0kco5vMISMzc+qpGQPoIxX0eAYmb3bzKERDTXBEQU/w+JkdAfOSwpAoExGkwhWUhIIUAnXZHQJwGU6EsBKQCRIdDICCmoSAgpvh9TI6A+MgBAXGaQ+2yEJDaRH2Mh4D4yKFFFQhIC6r2YyIgphnMBOT973+/+SlYj3rUoxIILkI3WA4IiAH0nCnZAcmhFK8NAhIvs5yKEZAcSjHbICAxc+urGgHpI9T0eQSkKd4YgyMgTnNCQJwGU1gWAlII0Gl3BMRpMBXKQkAqQHQ4BAJiGgoCYorfx+QIiI8cllSBgDgNprAsBKQQoNPuCIjTYCqUhYBUgOhwCATENJS1ArL11lubFXLeeeeJU7DM8AsBsWM/d2YExGkwhWUhIIUAnXZHQJwGU6EsBKQCRIdDICCmoSAgpvh9TI6A+MiBHRCnOdQuCwGpTdTHeAiIjxxaVIGAtKBqPyYCYprBTEDe9773yXoH5NGPfnQCwUXoBssBATGAnjMlOyA5lOK1QUDiZZZTMQKSQylmGwQkZm59VSMgfYSaPo+ANMUbY3AExGlOCIjTYArLQkAKATrtjoA4DaZCWQhIBYgOh0BATENBQEzx+5gcAfGRw5IqEBCnwRSWhYAUAnTaHQFxGkyFshCQChAdDoGAmIYyE5Djjz/e/BSsxzzmMQkEp2AZLAcExAB6zpQISA6leG0QkHiZ5VSMgORQitkGAYmZW1/VCEgfoabPIyBN8cYYHAFxmhMC4jSYwrIQkEKATrsjIE6DqVAWAlIBosMhEBDTUBAQU/w+JkdAfOSwpAoExGkwhWUhIIUAnXZHQJwGU6EsBKQCRIdDICCmocwE5LjjjjM/BWu33XZLIDgFy2A5ICAG0HOmREByKMVrg4DEyyynYgQkh1LMNghIzNz6qkZA+gg1fR4BaYo3xuAIiNOcEBCnwRSWhYAUAnTaHQFxGkyFshCQChAdDoGAmIYyE5D3vve95jsgu+++OzsgRksBATEC3zctAtJHKObzCEjM3PqqRkD6CMV9HgGJm928yhEQ01wREFP8PiZHQHzksKQKBMRpMIVlISCFAJ12R0CcBlOhLASkAkSHQyAgpqEgIKb4fUyOgPjIAQFxmkPtshCQ2kR9jIeA+MihRRUISAuq9mMiIKYZrBWQW97ylmaFfPe73xWnYJnhFwJix37uzOyAOA2msCwEpBCg0+4IiNNgKpSFgFSA6HAIBMQ0FATEFL+PyREQHzmwA+I0h9plISC1ifoYDwHxkUOLKhCQFlTtx0RATDNAQEzx+5gcAfGRAwLiNIfaZSEgtYn6GA8B8ZFDiyoQkBZU7cdEQEwzmAnIe97zHlmfgvXYxz42geA+IAbLAQExgJ4zJadg5VCK1wYBiZdZTsUISA6lmG0QkJi59VWNgPQRavo8AtIUb4zBERCnOSEgToMpLAsBKQTotDsC4jSYCmUhIBUgOhwCATENZSYg7373u813QB73uMexA2K0FBAQI/B90yIgfYRiPo+AxMytr2oEpI9Q3OcRkLjZzascATHNFQExxe9jcgTERw5LqkBAnAZTWBYCUgjQaXcExGkwFcpCQCpAdDgEAmIaCgJiit/H5AiIjxwQEKc51C4LAalN1Md4CIiPHFpUgYC0oGo/JgJimsFMQN71rneZn4K1xx57JBBchG6wHBAQA+g5U7IDkkMpXhsEJF5mORUjIDmUYrZBQGLm1lc1AtJHqOnzCEhTvDEGR0Cc5oSAOA2msCwEpBCg0+4IiNNgKpSFgFSA6HAIBMQ0FATEFL+PyREQHzksqQIBcRpMYVkISCFAp90REKfBVCgLAakA0eEQCIhpKDMBeec732l+CtbjH//4BIJTsAyWAwJiAD1nSgQkh1K8NghIvMxyKkZAcijFbIOAxMytr2oEpI9Q0+cRkKZ4YwyOgDjNCQFxGkxhWQhIIUCn3REQp8FUKAsBqQDR4RAIiGkoawVkq622Mivke9/7ntgBMcMvBMSO/dyZERCnwRSWhYAUAnTaHQFxGkyFshCQChAdDoGAmIYSXUBuKun7yxB8u6QnLfPcjpJO657bQtL5pikYT46AGAew3PQIiNNgCstCQAoBOu2OgDgNpkJZCEgFiA6HQEBMQ1ktAnKipBMWkUxScfY66K4v6ZuSNpF0LUkIiOkSHDb5bMEedNBB2myzzYb1DNgaAQkYWkbJCEgGpIBNEJCAoWWWjIBkggrWDAExDWz2fe7YY4+V9SlYT3jCExKIoRehr9kBeYWkAzNJvkDSMyUd3/0bAckE56EZAuIhhQY1HHHEEQ1G9TkkAuIzl9KqEJBSgn77IyB+sympDAEpoVfcdzUJSJKQ9LhqDpVNJZ0n6emS0t+gv4QdEHENSPHLqNEA7IA0Ams8LAJiHECj6RGQRmAdDIuAOAihQQkISAOo+UOuFgG5UtK1u8NOp14dKemodWD4qKQbSdqukw8ERAhI/stl5JYIyMjAR5oOARkJ9MjTICAjAx9xOgRkRNgjToWAjAh76VQzAXnHO95hfgrWE5/4xFTdbpK+u6jMH0tK/6zrkXY03iHpY5J+IOnGkvaSlI7rcEkHLCQRdagAACAASURBVOj0AEknSdpW0lckvZQdkD/R4SJ009fg8pMjIE6DKSwLASkE6LQ7AuI0mAplISAVIDocAgExDcWbgKwLxsGdLOSCupqkM7pdji0lXSDpryV9R9Lpkp7cDYSAdCAQkNylNXI7BGRk4CNNh4CMBHrkaRCQkYGPOB0CMiLsEadCQEaEvXSqmYC8/e1vN98B2XPPPVN1Q3dAloO3k6SPS9pb0lskJYnZr7ve42cIyF9iQ0BMX4PsgCQCXITudBEWlrXeeusVjhCnOwISJ6uhlSIgQ4nFaI+AmObkTUCG/grWcvBuJ+kbkl4k6djuXiHpV3aOWdAh/RLWMyRt3z1/sWkShpMjIIbw503NDojTYArLYgekEKDT7giI02AqlIWAVIDocAgExDSU1SogD5X04e5GhF+V9LUeyr9ecBG7aSAWkyMgFtQz5kRAMiAFbIKABAwto2QEJANS0CYISNDgespGQExznQnI2972NvNTsJ70pNlNy4fugNxA0qWLCF5T0pmSbiPp5pJ+KWmHdVB+lKRHStpH0g8lnWyahOHkCIghfHZA/kSAU7CcLsLCsjgFqxCg4+5nnpk+Z6fxQEBWZ84IiGmu0QUk/azuRt3F5Uki0q9g7SFpc0nphoOHzqHLRegdHATE9DW4/OTsgDgNprAsdkAKATrtzg6I02AqlIWAVIDocAgExDSU6AKSrlxPwrGVpOtJSvcDOVfS67uL0OfBRUCiCsg+++yjG984yebqftzkJjdZ3Qe44OhOPz39Qt00Hl/60pemcaCS9t1338kc68YbbzyZY00H+tvf/nYyx7vLLrtM5lg/+clPTuZYp/JefOmll+r4449PuQ49zajlWpgJyFvf+lbzU7Ce/OTZr+N6YtOSu6uxw+2AICCu1k+VYhCQKhjdDYKAuIukWkEISDWUrgZCQFzFUaUYBGR5jN/73veEgFRZZisaBAFZEbb2ndgBac/YYoap/K1bYouAWKywceZEQMbhPPYsCMjYxNvP511Attwy3bPP5vEf//EfCIgN+tmsCIgh/HlTIyBOgyksCwEpBOi0O6dgOQ2mQlmcglUBosMhpvJejIAsv/gQENsXJgJiy3/Z2REQp8EUljWVDz12QAoXivPu7IA4D2iF5bEDskJwjrshIAiI1+WJgDhNBgFxGkxhWQhIIUCn3dkBcRpMhbLYAakA0eEQU3kv9iwgb3nLW2R9CtZee+2VVicXoRu8RhEQA+g5UyIgOZTitZnKhx47IPHW5pCK2QEZQitOW3ZA4mSVWykCMn8HBAHJXUn12yEg9ZlWGREBqYLR3SAIiLtIqhTEDkgVjC4HYQfEZSzFRU3lvRgBQUCKXyyNBkBAGoEtHRYBKSXos/9UPvTYAfG5/mpVxQ5ILZK+xmEHxFceNarxLCDHHHOM+SlYe++9d8LMKVg1FtvAMRCQgcDGao6AjEV63HkQkHF5jzUbOyBjkR5/HnZAxmc+xoxTeS9GQObvgCAgY7za1j0HAmLHfu7MCIjTYArLmsqHHjsghQvFeXd2QJwHtMLy2AFZITjH3TwLyNFHH22+A/KUpzyFHRCj9YuAGIHvmxYB6SMU83kEJGZufVWzA9JHKO7z7IDEzW5e5VN5L0ZA5u+AICB2r28ExI49OyAdgdNPP91pCvXLmsqHHjsg9deOpxHZAfGURr1a2AGpx9LLSAgIAuJlLS6uAwFxmgw7IE6DKSwLASkE6LQ7OyBOg6lQFjsgFSA6HGIq78WeBeTNb36z+SlY++yzT1qdXIRu8BpFQAyg50yJgORQitdmKh967IDEW5tDKmYHZAitOG3ZAYmTVW6lCMj8HRAEJHcl1W+HgNRnWmVEBKQKRneDICDuIqlSEDsgVTC6HIQdEJexFBc1lfdiBAQBKX6xNBoAAWkEtnRYBKSUoM/+U/nQYwfE5/qrVRU7ILVI+hqHHRBfedSoxruAbLHFFjUOc0Vj/Od//qfYAVkRuiqdEJAqGOsPgoDUZ+phRATEQwr1a2AHpD5TLyOyA+Ilibp1TOW9GAFZft0gIHVfU0NHQ0CGEhupPQIyEuiRp5nKhx47ICMvrJGnYwdkZOAjTccOyEigR5zGs4D8y7/8i6x3QJ761KemNLgIfcQ1uWYqBMQAes6UCEgOpXhtEJB4meVUzA5IDqWYbdgBiZlbX9VTeS9GQObvgCAgfa+Uds8jIO3YFo2MgBThc9t5Kh967IC4XYJVCmMHpApGd4OwA+IukuKCEBAEpHgRNRoAAWkEtnRYBKSUoM/+CIjPXEqrYgeklKDf/uyA+M2mpLKpvBd7FpCjjjrK/BSspz3taWkZcQpWyYtphX0RkBWCa90NAWlN2Gb8qXzosQNis77GmpUdkLFIjzsPOyDj8h5jNgRk/g4IAjLGKlz3HAiIHfu5MyMgToMpLAsBKQTotDs7IE6DqVAWOyAVIDocYirvxQgIAuLw5TcrCQFxmgwC4jSYwrKm8qHHDkjhQnHenR0Q5wGtsDx2QFYIznE3zwLypje9yfwUrKc//ekpPU7BMljDCIgB9JwpEZAcSvHaICDxMsupmB2QHEox27ADEjO3vqqn8l6MgMzfAUFA+l4p7Z5HQNqxLRoZASnC57bzVD702AFxuwSrFMYOSBWM7gZhB8RdJMUFeRaQN77xjeY7IPvuuy87IMWrbGUDICAr49a8FwLSHLHJBAiICfbmk7ID0hyx2QTsgJihbzrxVN6LEZD5OyAISNOX2dzBERA79nNnRkCcBlNY1lQ+9NgBKVwozruzA+I8oBWWxw7ICsE57oaAICBelycC4jQZBMRpMIVlISCFAJ12ZwfEaTAVymIHpAJEh0NM5b3Yu4Dc4ha3MFsd559/vtgBMcPPr2DZoZ8/MwLiNZmyuqbyoccOSNk68d6bHRDvCa2sPnZAVsbNcy8EZPl0EBDblcsOiC3/ZWdHQJwGU1gWAlII0Gl3dkCcBlOhLHZAKkB0OMRU3osREATE4ctvVhIC4jQZBMRpMIVlTeVDjx2QwoXivDs7IM4DWmF57ICsEJzjbp4F5A1veIOsT8Hab7/9UnrcB8RgDSMgBtBzpkRAcijFa4OAxMssp2J2QHIoxWzDDkjM3Pqqnsp7MQIyfwcEAel7pbR7HgFpx7ZoZASkCJ/bzlP50GMHxO0SrFIYOyBVMLobhB0Qd5EUF+RZQF7/+teb74A84xnPYAekeJWtbAAEZGXcmvdCQJojNpkAATHB3nxSdkCaIzabgB0QM/RNJ57KezECMn8HBAFp+jKbOzgCYsd+7swIiNNgCsuayoceOyCFC8V5d3ZAnAe0wvLYAVkhOMfdEBAExOvyRECcJoOAOA2msCwEpBCg0+7sgDgNpkJZ7IBUgOhwiKm8F3sWkCOPPNL8FKxnPvOZaXVyEbrBaxQBMYCeMyUCkkMpXpupfOixAxJvbQ6pmB2QIbTitGUHJE5WuZUiIPN3QBCQ3JVUvx0CUp9plRERkCoY3Q2CgLiLpEpB7IBUwehyEHZAXMZSXNRU3osREASk+MXSaAAEpBHY0mERkFKCPvtP5UOPHRCf669WVeyA1CLpaxx2QHzlUaMazwJyxBFHmJ+C9axnPSth5hSsGott4BgIyEBgYzVHQMYiPe48CMi4vMeajR2QsUiPPw87IOMzH2PGqbwXIyDzd0AQkDFebeueAwGxYz93ZgTEaTCFZU3lQ48dkMKF4rw7OyDOA1pheeyArBCc427eBeTmN7+5Gb0LLrhACIgZfiEgduwRkI7A6aef7jSF+mUhIPWZehiRHRAPKbSpgR2QNlytR53KezECsvxKQ0BsX4UIiC3/ZWdnB8RpMIVlTeVDjx2QwoXivDs7IM4DWmF57ICsEJzjbggIAuJ1eSIgTpNBQJwGU1gWAlII0Gl3dkCcBlOhLHZAKkB0OMRU3os9C8jrXvc6WZ+C9exnPzutTi5CN3iNIiAG0HOmREByKMVrM5UPPXZA4q3NIRWzAzKEVpy27IDEySq3UgRk/g4IApK7kuq3Q0DqM60yIgJSBaO7QRAQd5FUKYgdkCoYXQ7CDojLWIqLmsp7MQKCgBS/WBoNgIA0Als6LAJSStBn/6l86LED4nP91aqKHZBaJH2Nww6IrzxqVONZQF772tean4L1nOc8J2HmFKwai23gGAjIQGBjNUdAxiI97jwIyLi8x5qNHZCxSI8/Dzsg4zMfY8apvBcjIPN3QBCQMV5t654DAbFjP3dmBMRpMIVlTeVDjx2QwoXivDs7IM4DWmF57ICsEJzjbp4F5PDDDzffAdl///3ZATFavwiIEfi+aRGQPkIxn0dAYubWVzU7IH2E4j7PDkjc7OZVPpX3YgRk/g4IAmL3+kZA7NizA9IR4EaEThdhYVn77rtv4QhxuiMgcbIaWikCMpRYjPYIiGlO/yjpq+yAmGZgPjkCYh7BugtgB8RpMIVlTeVDL2FCQAoXi+PunILlOJyC0jgFqwCe066ed0AOO+ww81OwDjjggJQcF6EbrF8ExAB6zpQISA6leG0QkHiZ5VTMDkgOpZht2AGJmVtf1VN5L0ZAll8JF1xwgRCQvldKu+cRkHZsi0ZGQIrwue08lQ89dkDcLsEqhbEDUgWju0HYAXEXSXFB3gVk8803Lz7GlQ5w4YUXIiArhVehHwJSAWKLIRCQFlTtx0RA7DNoUQE7IC2o+hiTHRAfOdSuYirvxQjI8isHAan9qho2HgIyjNdorRGQ0VCPOtEUPvSu/fvfa6v/+R897GEPG5Wt5WQbbrjhbPorNt1U/7vBBpaljDI3OyCjYB59EnZARkfefEIEBAFpvshWOAECskJwrbshIK0J24w/BQHZ5qqrdPwll9gANp711Je8RD+75S2Nq2g/PQLSnrHFDAiIBfW2c3oWkNe85jWyPgXruc99bgqAi9DbLsN1jh5OQLbeemttMIG/YfzKV75isBxsptxiiy1sJjaY9c53vrPBrONOueWll+rFp5wy7qROZnvNzjvrghve0Ek17cq4+OKL2w3ubOSddtrJWUXtyrn88svbDe5s5BNOOMFZRW3K+c1vfqPzzz/f25fs2c/wIiBtMo8yKgLiNCkExGkwhWUhIIUAnXdHQJwHtILyEJAVQAvQBQExDQkBMcXvY3IExEcOS6pAQJwGU1jWFAXke/vtpysNf+mkMLK53a994YXa6g1vWNsGAWlJ22ZsBMSGe+tZEZDWhOeOPxOQV7/61eanYD3vec/ztjtkGsyYkyMgY9IeMBcCMgBWoKZTFJCvHnmkrrjtbQOllF/qht/6lrZ55jMRkHxk4VoiIOEiyyoYAcnC1KoRAtKKbKBxERCnYSEgToMpLAsBKQTorDsC4iyQBuUgIA2gOhgSATENYSYghx56qPkOyPOf/3x2QIyWAgJiBL5vWgSkj1DM5xGQmLktVzUCsrryXNfRICCrM2MExDRXBMQUv4/JERAfOSypAgFxGkxhWQhIIUBn3REQZ4E0KAcBaQDVwZAIiGkICIgpfh+TIyA+ckBAnOZQuywEpDZR2/EQEFv+Y8yOgIxBefw5EJDxmS+YcSYgr3rVq8xPwXrBC16QyuI+IAbLAQExgJ4zJTsgOZTitUFA4mU2r2IEZHXlua6jQUBWZ8YIiGmuCIgpfh+TIyA+cmAHxGkOtctCQGoTtR0PAbHlP8bsCMgYlMefAwEZnzk7IKbM3U2OgLiL5E8FsQPiNJjCshCQQoDOuiMgzgJpUA4C0gCqgyERENMQ1u6A3OxmNzMr5Pvf/744BcsMvxAQO/ZzZ0ZAnAZTWBYCUgjQWXcExFkgDcpBQBpAdTAkAmIaAgJiit/H5AiIjxyWVIGAOA2msCwEpBCgs+4IiLNAGpSDgDSA6mBIBMQ0hJmAvPKVr5T1DsgLX/jCBIKL0A2WAwJiAD1nSgQkh1K8NghIvMzmVYyArK4813U0CMjqzBgBMc0VATHF72NyBMRHDuyAOM2hdlkISG2ituMhILb8x5gdARmD8vhzICDjM18wIwJiit/H5AiIjxwQEKc51C4LAalN1HY8BMSW/xizIyBjUB5/DgRkfOaLBeQVr3iF+SlYL3rRi1JZnIJlsBwQEAPoOVNyClYOpXhtEJB4mc2rGAFZXXmu62gQkNWZMQJimutsBySwgNxU0veXIfh2SU/qnvsnSbtL2lFS+rmvX0v6jqRXSTrVNAEHkyMgDkJYVwkIiNNgCstCQAoBOuuOgDgLpEE5CEgDqA6GREBMQ1gtAnKipBMWkTxf0tndn6Xn7iHpw5LOlXRtSU+QdBtJT5X0ZtMUjCdHQIwDWG56BMRpMIVlISCFAJ11R0CcBdKgHASkAVQHQyIgpiHMBOTlL3+5+SlYBx54YAIx9BSsNTsgr5A0G2CZx13Tbd0k/W7B89eU9HVJ15d0A0n/Z5qE4eQIiCH8eVMjIE6DKSwLASkE6Kw7AuIskAblICANoDoYEgExDWE1CUiSkPS4agDR10p6tqRNJP1wQL9V1RQBcRonAuI0mMKyEJBCgM66IyDOAmlQDgLSAKqDIREQ0xBmAvKyl73MfAfkxS9+cQKx0h2QK7vTqtIY6dSrIyUdlUH2fZIeLum6ktIYk3wgIE5jR0CcBlNYFgJSCNBZdwTEWSANykFAGkB1MCQCYhqCNwHZTdJ3FxH5saT0z7oem0p6h6SPSfqBpBtL2ktSOq7DJR0wh+7W3SlYJ0t6mGkKxpMjIMYBLDc9AuI0mMKyEJBCgM66IyDOAmlQDgLSAKqDIREQ0xC8Cci6YBws6aUDKF1N0hmStpO0paQL1tF3Q0lf7ITl9p28DJhidTVFQJzmiYA4DaawLASkEKCz7giIs0AalIOANIDqYEgExDSEtQJy05um67ltHhdddJG6U7CG7oAsV/BOkj4uaW9Jb1nUKF18/ilJd5J0f0mfsTlqP7MiIH6y+ItKEBCnwRSWhYAUAnTWHQFxFkiDchCQBlAdDImAmIbgTUCGXgOyHLzbSfqGpHR3w1cuaPT/OjG5Z3ftR/r53sk/EBCnSwABcRpMYVkISCFAZ90REGeBNCgHAWkA1cGQCIhpCKtVQB7a3fMj3Ygw3ZAwPa7e3Ssk7Y48TtJxpuQdTY6AOApjYSkIiNNgCstCQAoBOuuOgDgLpEE5CEgDqA6GREBMQ5gJyCGHHCLrU7AOOuigBGLoDki6f8eliwimU6zO7G4yeHNJl0haT9Lxkh4p6SmSjjGl7mxyBMRZIGvKQUCcBlNYFgJSCNBZdwTEWSANykFAGkB1MCQCYhpCdAH5qKSNJJ3e3ccj/QrWHpI2l/QCSYd2dF8n6VmSPifpresg/mlJPzVNwnByBMQQ/rypERCnwRSWhYAUAnTWHQFxFkiDchCQBlAdDImAmIYwE5CDDz7YfAfkJS95yUp2QPbshGMrSdfr7uVxrqTXd9d6rIH7WUn3mEN6B0mpzSQfCIjT2BEQp8EUloWAFAJ01h0BcRZIg3IQkAZQHQyJgJiGEF1ATOGtlskREKdJIiBOgyksCwEpBOisOwLiLJAG5SAgDaA6GBIBMQ0BATHF72NyBMRHDkuqQECcBlNYFgJSCNBZdwTEWSANykFAGkB1MCQCYhrCTEBe+tKXmp+ClWpYwUXopvBWy+QIiNMkERCnwRSWhYAUAnTWHQFxFkiDchCQBlAdDImAmIaAgJji9zE5AuIjB3ZAnOZQuywEpDZR2/EQEFv+Y8yOgIxBefw5EJDxmS+YEQExxe9jcgTERw4IiNMcapeFgNQmajseAmLLf4zZEZAxKI8/BwIyPvPFApJ+gcr6PiDpl7g4BctmLSAgNtx7Z+UUrF5EIRsgICFjW7ZoBGR15bmuo0FAVmfGCIhprrMdEATENAPzyREQ8wjWXQAC4jSYwrIQkEKAzrojIM4CaVAOAtIAqoMhERDTENYKyGabbWZWyA9+8AOxA2KGXwiIHfu5MyMgToMpLAsBKQTorDsC4iyQBuUgIA2gOhgSATENAQExxe9jcgTERw5LqkBAnAZTWBYCUgjQWXcExFkgDcpBQBpAdTAkAmIaAgJiit/H5AiIjxwQEKc51C4LAalN1HY8BMSW/xizIyBjUB5/DgRkfOYLZpwJyEEHHSTrU7AOOeSQVNY2ks41JTLByREQp6GzA+I0mMKyEJBCgM66IyDOAmlQDgLSAKqDIREQ0xAQEFP8PiYfW0DWl3QdST9fweHPFuzWW2+tDTbYYAXdY3VBQGLllVstApJLKkY7BCRGTiVVIiAl9Pz2RUBMs0FATPH7mLyVgDxc0naSnrPgMJ8vKf3g8tUlfVLSIyRdNQADAjIAVqSmW2yxRaRyi2pFQIrwueuMgLiLpHpBCEh1pC4GREBMY5h9n3vxi19sfgrWy172sgSCU7AMlkMrATlL0n9K2qM7pjukxSYp/fn3JD1e0kslvXzAMSMgA2BFaoqAREqrv9YtL71ULz7llLUNv3rkkbritrft7xiwBQISMLSBJSMgA4EFaY6AmAaFgJji9zF5KwH5maRXSDqiO8xXStpL0k0k/U7SmyXdXdKtB2BAQAbAitQUAYmUVn+tCMgN+yEFb3HxxRcHP4L88hGQfFaRWiIgpmnNvs8deOCB5jsgL3/57O/B2QExWA6tBOS3kvaRdGx3TF+SdL6kx3T/v6ekI7vrQXIPGwHJJRWsHQISLLCechEQBGQ1rWgEZDWl+edjQUBMc0VATPH7mLyVgHxf0vGSXiTp+pJ+LOlpko7pDvtZkg6SdN0BGBCQAbAiNUVAIqXVXysCgoD0r5I4LRCQOFkNqRQBGUKrelsEpDrSeAO2EpCjJO0mKV3ds6Oke0raXNKPOkRvk3RHSbcfgAwBGQArUlMEJFJa/bUiIAhI/yqJ0wIBiZPVkEoRkCG0qredfZ970YteZH4K1iteka4W4BSs6glnDNhKQDaS9OHuOo90zUfa8Ti6q+eanYi8s/vzjDJnTRCQXFLB2iEgwQLrKRcBQUBW04pGQFZTmn8+FgTENFcExBS/j8lbCciao/ub7qd2/3fB4SYB2VLSJQPvB4KA+Fgz1atAQKojNR0QAUFATBdg5ckRkMpAnQyHgJgGgYCY4vcxeWsBqXmUCEhNmo7GQkAchVGhFAQEAamwjNwMgYC4iaJqIQhIVZxDB1srIJtuuunQvtXap1/z4xSsajgHD1RLQNJP6qbH57p/r/n/voLWtO9rl55HQHIoBWyDgAQMbU7JCAgCsppWNAKymtL887EgIKa5IiCm+H1MXktA/iDpj5LS6VX/I2nN/y93lGne1P5qAzAgIANgRWqKgERKq79WBAQB6V8lcVogIHGyGlIpAjKEVvW2s+9zL3zhC2W9A/LKV6bb1HERevWEMwasJSDpzuZJKN7d/XvNHdD7SnhXX4MFzyMgA2BFaoqAREqrv1YEBAHpXyVxWiAgcbIaUikCMoRW9bYISHWk8QasJSBjHDkCMgZlgzkQEAPoDadEQBCQhstr9KERkNGRjzIhAjIK5uUmQUBM8fuYvJWAXFvSlT2HuIWk/xyAAQEZACtSUwQkUlr9tSIgCEj/KonTAgGJk9WQShGQIbSqt519n3vBC15gfgrWq171qnRw20g6t/pRMuBcAq0E5HxJu0s6e5nZ95Z0uKTrDMgHARkAK1JTBCRSWv21IiAISP8qidMCAYmT1ZBKEZAhtKq3RUCqI403YCsBSTsbm0lKt5hMd0NPF6Wnx8aS3i5pJ0mnSLrfAGQIyABYkZoiIJHS6q91sYB8b7/9dOXmm/d3DNji2hdeqK3e8Ia1lb9m5511wQ0RkIBRLlsyArKa0vzzsSAgprkiIKb4fUzeSkA2kPRGSU/odkHSbshWkt4haUNJz5f050/tPBYISB6ncK0QkHCRzS14sYCsrqObfzQIyOpLGwFZfZmmI0JATHOdfZ97/vOfb34K1qGHHppAcAqWwXJoJSBrDuWhkt7S/TzvX0v6Zndq1ndWcKyzBXvwwQfrpje96Qq6x+py7rnTOR3xgQ98YKxwCqo966yzCnrH6LrJD36gJx57bIxiK1d58XHH6apt0mfZ6n5ceWXfJX6r5/gvuuii1XMwPUfy8Ic/fDLHesghh0ziWH/0ox/p6KOP9vYlGwGZxOqbf5CtBeT2kj4gacuujKMkPVvS/66APQKyAmgRuiAgEVLKrxEBQUDyV4v/lgiI/4xWUiECshJq1frMvs8973nPM98BefWrX+1NzqpB9j5QSwHZv7v+41JJT5H0IEn7dLsgu0kauguCgHhfTSusDwFZITin3a7x29/qBj/9qTZfpdd9rAv7mmP93ZZb6g/XGfLbGk5D7CmLHZCYufVVzQ5IH6F4z3veAUFA4q2nmhW3EpDTJO2QTrOUlH7x6hdd0fdfcB3ICyS9fsDBICADYEVqioBESiu/1tvc5jb5jYO3nNKxpqgQkOALdpnyEZDVlysCsnymF198sdgBsVvzrQTkCkn7dndGX3x0a34JK+2IXG3AoSMgA2BFaoqAREorv9YpfSmf0rEiIPmvgWgtEZBoifXX611ANtlkk/6DaNTikksuQUAasc0ZtpWApN/cvLCngCdLemtOkV0bBGQArEhNEZBIaeXXOqUv5VM6VgQk/zUQrSUCEi2x/noRkOUZISD966dli1YC0qJmBKQFVQdjIiAOQmhQwpS+lE/pWBGQBi8WJ0MiIE6CqFgGAoKAVFxOVYcaQ0CuLelvJa23jsovHnA0CMgAWJGaIiCR0sqvdUpfyqd0rAhI/msgWksEJFpi/fV6FpDnPve5sj4F6zWveU2CyH1A+pdS9RYtBeTxkp634Cd411U814AsEyn3Aam+1l0MOIX7gKwBPaUv5VM6VgTExVtJkyIQkCZYTQdFQObvgCAgdsuzlYCkO5+/W9LpktIvYr1C0hGSftfdHf2Hkt4k6V0DDp0dkAGwIjVlByRSWvm1TulL+ZSOFQHJfw1Ea4mAREusnqYSdwAAIABJREFUv17PAnLAAQeY74Acdthh7ID0L6MmLVoJSLqN9y8lbS9pI0mXSbpXJyTp/78m6VWS3jzgqBCQAbAiNUVAIqWVX+uUvpRP6VgRkPzXQLSWCEi0xPrrRUDm74AgIP1rqFWLVgLyG0nPl/QGSdeVdLmkdA+QT3UH8mJJj5J06wEHhoAMgBWpKQISKa38Wqf0pXxKx4qA5L8GorVEQKIl1l8vAoKA9K8SmxatBCTdeDDdaPBoSetL+m136lU6LSs99pJ0pKQNBhw2AjIAVqSmCEiktPJrndKX8ikdKwKS/xqI1hIBiZZYf72eBWT//fc3PwXr8MMPTxC5CL1/KVVv0UpAviLps5L27yo+T9J/SHqwpDTnJyTdUlK6X0juAwHJJRWsHQISLLDMcqf0pXxKx4qAZL4AAjZDQAKG1lMyArI8oHQfEATEbs23EpBXSkoXot9U0h8kPVPS6xbcnPBmkg6RdPCAQ0dABsCK1BQBiZRWfq1T+lI+pWNFQPJfA9FaIiDREuuvFwFBQPpXiU2LVgJyHUk3lnSBpP/rDu253XUfv5f0MUmHSkr/nftAQHJJBWuHgAQLLLPcKX0pn9KxIiCZL4CAzRCQgKEF3gF5znOeY34K1mtf+9pEkFOwDJZ+KwFpcSgISAuqDsZEQByE0KCEKX0pn9KxIiANXixOhkRAnARRsQzPOyAISMWgAw6FgDgNjRsROg2msCxuRFgI0Gl3BMRpMBXKuuiiiyqMEmMIBCRGTkOq9Cwgz372s813QF73unR1ADsgQ9ZUrbYISC2SlcdBQCoDdTIcAuIkiMplICCVgToaDgFxFEbFUg45JF2GuvofCMjyGaeL0BEQu9cAAmLHfu7MCIjTYArLQkAKATrtjoA4DaZCWQhIBYgOh0BATEOZnVLPDohpBuaTIyDmEay7AATEaTCFZSEghQCddkdAnAZToSwEpAJEh0MgIKahrBWQv//7vzcr5Ic//CE7IGb0/3RPjigPLkKPktTAOrkIfSCwIM2n9KV8Ssealt+VV14ZZBWWl4mAlDP0OAICYpoKAmKK38fkrQTk7pLSzQcvW+YwN5Z0K0mfG4ABARkAK1JTBCRSWvm1TulL+ZSOFQHJfw1Ea8lF6NES66/X+zUg7ID0Z7haW7QSkHR/j8dKOn4ZcI/snrvaALAIyABYkZoiIJHSyq91Sl/Kp3SsCEj+ayBaSwQkWmL99XoWkGc961myFpAjjjgiQeQ+IP1LqXqLVgKS7n6e7oS+nIAkOXmHpPUHHBECMgBWpKYISKS08mud0pfyKR0rApL/GojWEgGJllh/vQjI8ozSNSAISP8aatWipoD8jaS/7QpNP5z+DEknrqPw63Z3Qb+1pE0HHBgCMgBWpKYISKS08mud0pfyKR0rApL/GojWEgGJllh/vZ4F5JnPfKb5DsiRRx7JDkj/MmrSoqaAvETSQZlVpnlfJin1yX0gILmkgrVDQIIFllnulL6UT+lYEZDMF0DAZghIwNB6SkZA5u+AICB2a76mgOwgaUf96Ze1Xtjtfnx70aH9UdKvJX1F0mkDDxsBGQgsSnMEJEpSw+qc0pfyKR0rAjLsdRCpNQISKa28WhEQBCRvpYzfqqaALKz+WElHSzqn4iEhIBVhehoKAfGURr1apvSlfErHioDUe414GwkB8ZZIeT2eBeQZz3iG+SlYr3/96xNkLkIvX2qDR2glIIMLyeiAgGRAitgEAYmYWn/NU/pSPqVjRUD6137UFghI1OSWrxsBmb8DgoDYrflWArK9pCQMr1twaOlXsV4uKV2E/h5J+0lKv5aV+0BAckkFa4eABAsss9wpfSmf0rEiIJkvgIDNEJCAofWUjIAgIF5XdSsBOV3S5ZIe0R34LSR9R9LFktIvZKVrRdKvZL1pABgEZACsSE0RkEhp5dc6pS/lUzpWBCT/NRCtJQISLbH+ej0LyH777Wd+CtYb3vCGBJFTsPqXUvUWrQTkp5IOl3RYV/GBkp4raRNJV0g6TtLW3S5J7kEhILmkgrVDQIIFllnulL6UT+lYEZDMF0DAZghIwNAC74AgIKtvvQ05olYC8ltJT5H0zq6Yz0u6TNJDu/9/cicna+4bklMzApJDKWAbBCRgaBklT+lL+ZSOFQHJWPxBmyAgQYObU7b3HZCb3OQmZtD/67/+S+yAmOGf/WRui8clkt4q6RBJ15H0s24HZPZzA5L2lfQKSenmhbkPBCSXVLB2CEiwwDLLndKX8ikdKwKS+QII2AwBCRhaT8kIyPKAEBDb9d5KQN7bXefxdEkPlLSHpC0lXdgdbrr2457daVi5BBCQXFLB2iEgwQLLLHdKX8qndKwISOYLIGAzBCRgaAjIikNDQFaMrkrHVgKymaRPS0oXn6dH2u14cfffV5eUdkhO7E7Tyj0QBCSXVLB2CEiwwDLLndKX8ikdKwKS+QII2AwBCRhaYAHZd999ZX0K1hvf+MZEkIvQDZZ+KwFJh5JE41aS/rv79as1h5dOu0p3Tf9G94tYuYeNgOSSCtYOAQkWWGa5U/pSPqVjRUAyXwABmyEgAUNDQFYcWtoBQUBWjK+4Y0sBKS5u0QAISG2iTsZDQJwEUbmMKX0pn9KxIiCVXyiOhkNAHIVRqRTP14CwA1Ip5KDDWAlIujA93ZAw3Rck94GA5JIK1g4BCRZYZrlT+lI+pWNFQDJfAAGbISABQwu8A/L0pz/d/BSsN71pdjs6TsEyWPpWAvKi7heyrjbgmBGQAbAiNUVAIqWVX+uUvpRP6VgRkPzXQLSWCEi0xPrr9bwDgoD057eaWyAgTtM999xznVZWvywEpD5TDyNO6Uv5lI4VAfHw6mpTAwLShqvlqJ4F5GlPe5r5DshRRx3FDojRAq0pII8bcAw7S3qIJHZAloGGgAxYTYGannXWWYGqLSt1Sl/Kp3SsCEjZ68JzbwTEczorqw0BWZ5buggdAVnZuqrRq6aA/EHSH6XsmxumtggIAiJ2QGq8lP2NMaUv5VM6VgTE32utVkUISC2SfsZBQBAQP6vxLyupKSBXSErnDb0842B3l5R2TBAQBAQByXjBRGwypS/lUzpWBCTiqzGvZgQkj1OkVp4F5KlPfar5KVj/8i//kuLkInSDRV1TQD4j6YaZdzfnIvSesDkFy+DVMMKUnII1AmSDKRAQA+gjTXnRRReNNJP9NAiIfQa1K0BA5u+ArFBAbirp+8uM/HZJT1rwXPqL9gO6P9ukuxH32yQdJun3tfOONF5NAXmtpGd0P6/7qx4IB3a/grXeAFj8CtYAWJGacgpWpLTya53Sl/IpHSs7IPmvgWgtEZBoifXXi4A0FZATJZ2waIbzJZ294M/SFss+ko6VlC4CvYukJ0hKf/60/gRXb4uaArKlpO0kpUDS3c/nPdLd0NN9QH4wAC0CMgBWpKYISKS08mud0pfyKR0rApL/GojWEgGJllh/vd4F5MY3vnH/QTRqkdgU7oC8QlL6C/XlHreV9A1Jb+z+gn5Nu9dL2lfS7SV9q9HhuR+2poC0PlgEpDVho/ERECPwjaed0pfyKR0rAtL4hWM4PAJiCL/R1AjI8mArCUiSkPS4ah0zpedeKGnzRads3UzShZL6BKbRqvAxLALiI4clVXANiNNgCsviGpBCgE67IyBOg6lQFteAVIDocIhDDjnEYVX1S/IsIPvss4+sd0De/OY3J+hDL0Jfcw3IlZKu3aWWTr06UtLsxiLd41PdLke6Pnrx46eSvibpfvVTjzEiAuI0JwTEaTCFZSEghQCddkdAnAZToSwEpAJEh0MgIKahzM5ocSQgu0n67iIiP5aU/lnXY1NJ75D0se5SgnQe2V6S0nEd3l10nvql06v+pxOcxeOkX41dX1I6TWuSDwTEaewIiNNgCstCQAoBOu2OgDgNpkJZCEgFiA6HQEBMQ/EmIOuCcbCklw6glH7t6ozuWuh0TfQF3T9ppyNdeL74kS5Iv4GkWwyYY1U1RUCcxomAOA2msCwEpBCg0+4IiNNgKpSFgFSA6HAIBMQ0lJmAPOUpTzE/Bevoo49OIIbugCwHbydJH5e0t6S3sAMyf40hIKavweUnR0CcBlNYFgJSCNBpdwTEaTAVykJAKkB0OAQCYhqKNwEZeg3IcvBu1/3qVbrX3SslcQ3InGWGgJi+BhGQRIBfwXK6CAvLmtKX8ikda1oWV16Zrr2cxgMBWZ05IyCmua5WAXmopA93Nx1MNyRMEvKCOb+ClZ5PsjLJBwLiNHZ2QJwGU1gWOyCFAJ12R0CcBlOhLASkAkSHQyAgpqHMBGTvvfc2PwXrmGOOSSCG7oCkazcuXUTwmpLOlHQbSTfv7nie7vORfulqufuA3EHSN02TMJy8loCkXwMY+vijpD0HdOI+IANgRWrKDkiktPJrndKX8ikda1oB7IDkvw4iteQ+IJHSyqvV88/wBhaQj0raSNLpkn4oKf0K1h7dTkfa8Th0QTrpIpN0TUi6E3oSlLt2d0JP5vOUvBRXZ6taAnKRpCQUCx8bSLp+9wfpzuhprg27dj+T9OsurFyyCEguqWDtEJBggWWWO6Uv5VM6VgQk8wUQsBkCEjC0npI9C8hee+1lvgPylreka8UH74CkvzxPwrGVpOulv5ORlH5WN93hPF2EvvBxdUnP7U7L+vtOWN4m6TWS/m/1rbj8I6olIItnTNtPn5H0wQ7ymq2qtG31PEkPl7Rj9xNludUiILmkgrVDQIIFllnulL6UT+lYEZDMF0DAZghIwNAQkBWHluRshQKy4jnp+GcCrQTkZElXdD9tti7ex0u6jqT0k2W5j5mA7Lrrrrr+9ddsrOR2jddum23SKYnTeJxyyinTOFBJl1122WSO9Rvf+MZkjnWXXXaZzLGmA731rW89meP9v/+bzl9SXuMa15hMrptssskkjvWCCy7Q/vvvn4516HUOLfnMvs8F3gFpyWYyY7cSkF92W06zH1hexyOd9/bq7pSsXNgISC6pYO0QkGCBZZaLgGSCCtgMAQkYWkbJCEgGpGBNvAvIjW50IzOiP/7xj9kBMaP/p+syWjx+Lun9kp66zOBJTHbtzp3LnR8BySUVrB0CEiywzHIRkExQAZshIAFDyygZAcmAFKwJArJ8YAiI7WJuJSDvlLS7pGdJSrLxv91hri9pH0mvlXScpMcPOHwEZACsSE0RkEhp5deKgOSzitYSAYmWWF69CEgep0itEBAExOt6bSUg6VcBPi3pHyT9StKaX8m6WXftRzo5/F6SLh8ABgEZACtSUwQkUlr5tSIg+ayitURAoiWWVy8CkscpUivPAvLkJz9Z1qdgvfWtb01xero+JtLyKqq1lYCkotJuR/qpsp0lJfFIc13Y/URZukPkml2R3ANAQHJJBWuHgAQLLLNcBCQTVMBmCEjA0DJKRkAyIAVrgoDM3wFBQOwWdEsBqX1UCEhtok7GQ0CcBFG5DASkMlBHwyEgjsKoWAoCUhGmk6E8C8iTnvQk8x2Qt70t3ZKDHRCL5TqGgFxL0saSfiLpdwUHiYAUwPPcFQHxnM7Ka0NAVs7Oe08ExHtCK6sPAVkZN8+9EJD5OyAIiN3qbSkgd5F0mKRtu9Ov7t3dtj7dxOMESa+U9KkBh46ADIAVqSkCEimt/FoRkHxW0VoiINESy6sXAcnjFKkVAoKAeF2vrQTkzpI+K+nHkk6V9ERJawQksThD0o8kPXoAGARkAKxITRGQSGnl14qA5LOK1hIBiZZYXr0ISB6nSK08C8iee+5pfgrW29+eLknmFCyLNd1KQNKtrW8i6Y6SNpB0aferV6d3B3lwd5f0Www4aARkAKxITRGQSGnl14qA5LOK1hIBiZZYXr0ISB6nSK0QkPk7IAiI3WpuJSDpTuhJMtL9PjaSdNkiAXmSpNdLSteH5D4QkFxSwdohIMECyywXAckEFbAZAhIwtIySEZAMSMGaICAIiNcl20pArpR0gKQ3LyMgz5f0PEnXHQAGARkAK1JTBCRSWvm1IiD5rKK1RECiJZZXLwKSxylSK88C8sQnPtH8FKx3vOMdKU7uA2KwqFsJyDndzQcfuYyAfFHSVZJ2HHDMCMgAWJGaIiCR0sqvFQHJZxWtJQISLbG8ehGQPE6RWiEg83dAEBC71dxKQPaQlLRyf0kflHSJpHtK+k7361dPkLSrpA8POHQEZACsSE0RkEhp5deKgOSzitYSAYmWWF69CEgep0itvAvIDW94QzOcP/nJT4SAmOGf3Z281eNwSc+W9D+S/p+kX3cXpKc5XyMpnYY15IGADKEVqC0CEiisAaUiIANgBWuKgAQLLLNcBCQTVKBmCMjyYSEgtgu5pYCkI0u/gpV+aner7l4g50s6XtLZKzhsBGQF0CJ0QUAipDS8RgRkOLMoPRCQKEkNqxMBGcYrQmsEBAHxuk5bC0jN40ZAatJ0NBYC4iiMiqUgIBVhOhsKAXEWSKVyEJBKIB0N41lAnvCEJ8j6FKxjjz02pcVF6AZrFgExgJ4z5TbbpNfDNB4IyOrMGQFZnbmmo0JAVme2CMjqyxUBmb8DgoDYrfmWAnIzSXtKurmk63WnYC080j9Kuu+AQ2cHZACsSE0RkEhp5deKgOSzitYSAYmWWF69CEgep0itPAvI4x//ePMdkHe+853sgBgt6FYCkn7h6r2Sri7pfyWlGxMufiQBucGA40ZABsCK1BQBiZRWfq0ISD6raC0RkGiJ5dWLgORxitQKAZm/A4KA2K3mVgJygaQ/dBegf6XS4SEglUB6GwYB8ZZInXoQkDocPY6CgHhMpbwmBKScobcREBAExNuaXFNPKwH5jaTnSnpTxQNHQCrC9DQUAuIpjXq1ICD1WHobCQHxlkidehCQOhw9jeJZQPbYYw/zU7De9a53pbi4CN1g0bYSkHQn9JMkvbziMSEgFWF6GgoB8ZRGvVoQkHosvY2EgHhLpE49CEgdjp5GQUDm74AgIHartZWA3EvSeyTtKOm8SoeHgFQC6W0YBMRbInXqQUDqcPQ4CgLiMZXymhCQcobeRkBAEBBva3JNPa0EJI3/sO6mg2dKukTS7xdBSBehp1/Jyn0gILmkgrVDQIIFllkuApIJKmAzBCRgaBklIyAZkII18Swgj3vc48xPwXr3u9+dEuUULIN13UpAtu9OwbrWnGNKAnK1AceMgAyAFakpAhIprfxaEZB8VtFaIiDREsurFwHJ4xSpFQKyfFo/+clPhIDYreZWAvJ1STeUtJektAPy38sc4uJdkXkkEBC7ddJ0ZgSkKV6zwREQM/TNJ0ZAmiM2mQABMcHedFLvAvJ3f/d3TY9/3uA//elPERAz+lIrAUm/gvUiSUdUPDYEpCJMT0MhIJ7SqFcLAlKPpbeREBBvidSpBwGpw9HTKAjI8mkgILYrtZWAfLu7CP3VFQ8PAakI09NQCIinNOrVgoDUY+ltJATEWyJ16kFA6nD0NAoCgoB4Wo8La2klII+SdKikO0v6SaWDR0AqgfQ2DALiLZE69SAgdTh6HAUB8ZhKeU0ISDlDbyN4FpDHPvaxsj4F6z3vST/YykXoFuu2lYAcIumBkraQdKKki5f5FayXDDhoBGQArEhNEZBIaeXXioDks4rWEgGJllhevQhIHqdIrRCQ+TsgCIjdam4lIH/IOCR+BWsOpG22Sb8KN40HArI6c0ZAVmeu6agQkNWZLQKy+nJFQBAQr6u6lYBslnnAP8hsl5qxAzIAVqSmCEiktPJrRUDyWUVriYBESyyvXgQkj1OkVp4FZPfddzc/Beu9731vipP7gBgs6lYC0uJQEJAWVB2MiYA4CKFBCQhIA6hOhkRAnARRuQwEpDJQB8MhIPN3QBAQu0WKgNixnzszp2A5DaawrMsuu6xwhDjdEZA4WQ2tFAEZSixGewQkRk5DqvQsILvttpv5Dshxxx3HDsiQBVWxbUsB+X+SHiLpjpL+VtJ6i+pO14DsOeBY2AEZACtSU3ZAIqWVXysCks8qWksEJFpiefUiIHmcIrVCQObvgCAgdqu5lYDcSNLpkrbq7oK+oaSfS7puJyI/k3SlpM0HHDoCMgBWpKYISKS08mtFQPJZRWuJgERLLK9eBCSPU6RWCAgC4nW9thKQd0naRdKDJJ0n6VJJ95J0lqT9u52P7SVxEfoyK4NTsLy+ZMrq4hSsMn5ee++yS3q7m84DAVmdWSMgqy9XzwLymMc8xvwUrOOPPz6FzkXoBku/lYD8uLsT+nMlbSQpnfh+b0mndceYEl9f0iMGHDM7IANgRWrKDkiktPJrZQckn1W0lghItMTy6kVA8jhFaoWAzN8BQUDsVnMrAfmtpKdJeruk60i6orseJN2UMD32lvTKTk5yjx4BySUVrB0CEiywzHIRkExQAZshIAFDyygZAcmAFKwJAoKAeF2yrQQknVr1ZkmHdgf+y0441vz/QZKe3V2cnssGAcklFawdAhIssMxyEZBMUAGbISABQ8soGQHJgBSsiXcBucENbmBG9NJLLxU7IGb41UpAPiTpGpJ27g7tI5LuJulZkq4m6bWSvt5dF5J79AhILqlg7RCQYIFllouAZIIK2AwBCRhaRskISAakYE0QkOUDQ0BsF3MrAbmPpMdJepKkdDrWFpI+L+n60kx60jUh9+0kJJcAApJLKlg7BCRYYJnlIiCZoAI2Q0AChpZRMgKSASlYE88C8uhHP1rWOyDve9/7UqJchG6wrlsJyLoOJV0LsoOk30s6s/t53iGHjIAMoRWoLQISKKwBpSIgA2AFa4qABAsss1wEJBNUoGYIyPwdEATEbjGPKSClR4mAlBJ02h8BcRpMYVkISCFAx90REMfhFJSGgBTAc9oVAUFAnC7NZteALDzea0m6Xnfq1WIOFw8Ag4AMgBWpKQISKa38WhGQfFbRWiIg0RLLqxcByeMUqZVnAXnUox5lfgrW+9///hQnp2AZLOpWOyDpHh8Hdj+3m677WO6RLkjPfSAguaSCtUNAggWWWS4CkgkqYDMEJGBoGSUjIBmQgjVBQJYPLF2EjoDYLehWApJ+gncvSR+XdIakXyxziOmO6bkPBCSXVLB2CEiwwDLLRUAyQQVshoAEDC2jZAQkA1KwJggIAuJ1ybYSkMslpZsOPrHigSMgFWF6GgoB8ZRGvVoQkHosvY2EgHhLpE49CEgdjp5G8Swgj3zkI81PwfrABz6Q4uIULINF20pA0o0H95f0lorHhIBUhOlpKATEUxr1akFA6rH0NhIC4i2ROvUgIHU4ehoFAZm/A4KA2K3WVgJykqSfSHpyxUNDQCrC9DQUAuIpjXq1ICD1WHobCQHxlkidehCQOhw9jeJZQHbddVfzHZAPfvCD7IAYLdhWArKZpFMlHSUpXQ/yuwrHh4BUgOhxCATEYyrlNSEg5Qy9joCAeE2mrC4EpIyfx94IyPwdEATEbtW2EpD087rX7H5+94+SftrdgHDhkaY/T6KS+0BAckkFa4eABAsss1wEJBNUwGYISMDQMkpGQDIgBWuCgCAgXpdsKwH5rKQkGH2PdGf03AcCkksqWDsEJFhgmeUiIJmgAjZDQAKGllEyApIBKVgT7wJy/evPu1NDW9iXXXaZ2AFpy3je6K0EpMURISAtqDoYEwFxEEKDEhCQBlCdDImAOAmichkISGWgDoZDQJYPAQGxXaAIiC3/ZWffZpv0q3DTeCAgqzNnBGR15pqOCgFZndkiIKsvVwQEAfG6qscQkGt114Ksa650rUjugx2QXFLB2iEgwQLLLBcByQQVsBkCEjC0jJIRkAxIwZp4FpBHPOIRsj4F60Mf+lBKlPuAGKzrVgKyvqQDJe0tad4JflcbcMwIyABYkZoiIJHSyq8VAclnFa0lAhItsbx6EZA8TpFaISDzd0AQELvV3EpA0k/v7iXp45LOkPSLZQ7xXQMOfSYg++23n25yk5sM6Baz6de//vWYha+g6mOOOWYFvWJ2Oeyww2IWvoKqL7zwwhX0itnlAQ94QMzCV1j1t7/97RX2jNft5z//ebyiV1jxT36Sbt81jccll1wyiQP9zW9+o+9+97vpWD39Lf/s+9zDH/5w8x2QE044wRubSazLdJCtBORySSdKemJFkghIRZiehkJAPKVRrxYEpB5LbyMhIN4SqVMPAlKHo6dREJDl00gXoSMgdqu1lYD8UtL+kt5S8dAQkIowPQ2FgHhKo14tCEg9lt5GQkC8JVKnHgSkDkdPoyAgCIin9biwllYCcpKktJf75IoHjoBUhOlpKATEUxr1akFA6rH0NhIC4i2ROvUgIHU4ehrFs4A87GEPMz8F68Mf/nCKy9PpaZ6WT9NaWglIusP5qZKOkpSuB/ldhaNAQCpA9DgEAuIxlfKaEJByhl5HQEC8JlNWFwJSxs9jbwRk/g4IAmK3alsJSPp53Wt2P7+b7oj+U0m/X3SY6c+TqOQ+EJBcUsHaISDBAsssFwHJBBWwGQISMLSMkhGQDEjBmiAgCIjXJdtKQD4rKQlG32OHvgYLnkdABsCK1BQBiZRWfq0ISD6raC0RkGiJ5dWLgORxitTKs4A89KEPNT8F6yMf+UiKk1OwDBZ1KwFpcSgISAuqDsZEQByE0KAEBKQBVCdDIiBOgqhcBgJSGaiD4RCQ+TsgCIjdIkVA7NjPnZn7gDgNprAs7gNSCNBpd+4D4jSYCmVxH5AKEB0OwX1ATEOZ/YVy2gHZeOONzQr52c9+JgTEDH/V+4BsPucw0ulYV0m6VNIfVni47ICsEJz3buyAeE9oZfWxA7IybhF6sQMSIaXhNbIDMpyZ9x7ed0AQEO8rqF19NXdAklj0XfeRJOSTkl4g6fyBh4WADAQWpTkCEiWpYXUiIMN4RWqNgERKK79WBCSfVZSWCMjySbEDYruKawrIS3sEZANJt5J0L0lXSrqjpIsGHD4CMgBWpKYISKS08mtFQPJZRWuJgERLLK9eBCSPU6RWngXkIQ+ls/IrAAAgAElEQVR5iPkpWB/96EdTnFyEbrCoawpIbvlJQs6R9AFJT8rtJAkBGQArUlMEJFJa+bUiIPmsorVEQKIlllcvApLHKVIrBGT+DggCYreaLQQkHe3rJD2M+4AsHzwXodu9KFrOzEXoLenajc1F6HbsW8/MReitCduMz0XoNty7WWd/ocwOiGkG5pNbCchekt4o6RoDCLADMgBWpKbsgERKK79WdkDyWUVryQ5ItMTy6mUHJI9TpFaed0B22WUX81OwPvaxj6U4OQXLYFFbCciBkp7d3Sk997ARkFxSwdohIMECyywXAckEFbAZAhIwtIySEZAMSMGaICDLB5YuQq8oIDtKOq2bbYtFP7S0laR0nfRdJV1f0n91P8j0Kkk/CrakqpVrISDrS/qKpMu6C9JzDwYBySUVrB0CEiywzHIRkExQAZshIAFDyygZAcmAFKyJZwF58IMfbL4DcuKJJ9bYAUnfa78paRNJ15K0UEDSf58r6ReSjpH0U0m3k5TOBPqJpNt0P8wUbGWVl1tTQObdByRVek1JW0t6qqR7SNpF0kkDDgEBGQArUlMEJFJa+bUiIPmsorVEQKIlllcvApLHKVIrBGT+DkglAUm3lnimpOO7fy8UkFdLem4nHd9aUM1zJB0u6SGSZueBTe1RU0By7gOS5vutpBdKOnIgbARkILAozRGQKEkNqxMBGcYrUmsEJFJa+bUiIPmsorREQJoLyKaSzpP09O6HlV6yaAfkaEl7d6de/WxBNY/uhOW+kk6Jsp5q1llTQPruA5LEI93341RJl6/gIBCQFUCL0AUBiZDS8BoRkOHMovRAQKIkNaxOBGQYrwitPQvIzjvvbH4K1sc//vEUY8lF6OlGIjeStJ2kJB+LBWTX7rYTJ3fXgaTTrtIpWEd113+kM4J+H2Et1a6xpoDUrm3xeAhIa8JG4yMgRuAbT4uANAZsODwCYgi/4dQISEO4RkMjIPN3QDoB2U3Sdxe1/LGk9M+8xwO6Swm27a5tTn8Rv1hA0vfsgyWlU67SDbnXPE6Q9DhJVxktDfNpERDzCNZdAPcBcRpMYVncB6QQoNPu3AfEaTAVyuI+IBUgOhyC+4CYhjL7C2VHOyDrgpGkIQnFco+/lvQdSadLenLXaF0Ckp56gqS0E5KueE87IHfurhX5hKRHSEqXMEzugYA4jRwBcRpMYVkISCFAp90REKfBVCgLAakA0eEQCIhpKDMB2WmnncxPwTrppNlvIa1kByQJyn7d9R5rru1Yl4CkNi+TlH6KN8nHmkf6Faz0q1iPlPRB0zSMJkdAjMD3TYuA9BGK+TwCEjO3vqoRkD5CcZ9HQOJmN69yBMQ0V28CMvQakHTNx/clHdFJxBqY6ZewniFp++75i7t/p4vU0+laCx8bSUrikq4FSRewT+6BgDiNHAFxGkxhWQhIIUCn3REQp8FUKAsBqQDR4RAIiGkoawVko43S93Cbx+WXX65uB2SogNxB0td6qv61pGtL+p2kz0pKv3a18PF33Y5I2gV5ig0B21kREFv+y86OgDgNprAsBKQQoNPuCIjTYCqUhYBUgOhwCATENJToArKhpB3WQfBR3SlV+0j6oaT0y1ffkHQLSbeVdOGCPvtLOqy7fuRtpmkYTY6AGIHvmxYB6SMU83kEJGZufVUjIH2E4j6PgMTNbl7lCIhprtEFZDl467oGJF1knq7xuFTSm7tf1ko/2ftYSd/rfgJ4kr+EhYCYvgaXnxwBcRpMYVkISCFAp90REKfBVCgLAakA0eEQCIhpKDMBedCDHiTrU7BOPjltUhTdB2QhyOV+Betu3Q240/0/rt+depWufj9ohffFMw2v1uQISC2SlcdBQCoDdTIcAuIkiMplICCVgToaDgFxFEbFUhCQijCHD7VaBWQ4iQn3QECcho+AOA2msCwEpBCg0+4IiNNgKpSFgFSA6HAIBMQ0FATEFL+PyREQHzksqQIBcRpMYVkISCFAp90REKfBVCgLAakA0eEQCIhpKDMBeeADH2h+CtYnPpHuBVjtFCxTqNEmR0CcJoaAOA2msCwEpBCg0+4IiNNgKpSFgFSA6HAIBMQ0FATEFL+PyREQHzmwA+I0h9plISC1ifoYDwHxkUOLKhCQFlTtx0RATDOYCUh637S+CP1f//Vf2QExWgoIiBH4vmnZAekjFPN5BCRmbn1VIyB9hOI+j4DEzW5e5QiIaa4IiCl+H5MjID5yYAfEaQ61y0JAahP1MR4C4iOHFlUgIC2o2o+JgJhmgICY4vcxOQLiIwcExGkOtctCQGoT9TEeAuIjhxZVICAtqNqPiYCYZjATkPvf//7mp2B98pOfTCC2kXSuKZEJTo6AOA2dU7CcBlNYFgJSCNBpdwTEaTAVykJAKkB0OAQCYhoKAmKK38fkCIiPHNgBcZpD7bIQkNpEfYyHgPjIoUUVCEgLqvZjIiCmGSAgpvh9TI6A+MgBAXGaQ+2yEJDaRH2Mh4D4yKFFFQhIC6r2YyIgphmsFZDrXe96ZoWk1zanYJnhFwJix37uzJyC5TSYwrIQkEKATrsjIE6DqVAWAlIBosMhEBDTUBAQU/w+JkdAfOTADojTHGqXhYDUJupjPATERw4tqkBAWlC1HxMBMc1gJiD3u9/9ZL0D8m//9m8JBBehGywHBMQAes6U7IDkUIrXBgGJl1lOxQhIDqWYbRCQmLn1VY2A9BFq+jwC0hRvjMEREKc5ISBOgyksCwEpBOi0OwLiNJgKZSEgFSA6HAIBMQ0FATHF72NyBMRHDkuqQECcBlNYFgJSCNBpdwTEaTAVykJAKkB0OAQCYhrKTEDue9/7mp+C9alPfSqB4BQsg+WAgBhAz5kSAcmhFK8NAhIvs5yKEZAcSjHbICAxc+urGgHpI9T0eQSkKd4YgyMgTnNCQJwGU1gWAlII0Gl3BMRpMBXKQkAqQHQ4BAJiGgoCYorfx+QIiI8cllSBgDgNprAsBKQQoNPuCIjTYCqUhYBUgOhwCATENJSZgNznPvcxPwXrlFNOSSA4BctgOSAgBtBzpkRAcijFa4OAxMssp2IEJIdSzDYISMzc+qpGQPoINX0eAWmKN8bgCIjTnBAQp8EUloWAFAJ02h0BcRpMhbIQkAoQHQ6BgJiGMhOQe9/73uY7IJ/+9KfZATFaCgiIEfi+aRGQPkIxn0dAYubWVzUC0kco7vMISNzs5lWOgJjmioCY4vcxOQLiI4clVSAgToMpLAsBKQTotDsC4jSYCmUhIBUgOhwCATENBQExxe9jcgTERw4IiNMcapeFgNQm6mM8BMRHDi2qQEBaULUfEwExzWCtgFz3utc1K+QXv/iFOAXLDL8QEDv2c2dmB8RpMIVlISCFAJ12R0CcBlOhLASkAkSHQyAgpqEgIKb4fUyOgPjIgR0QpznULgsBqU3Ux3gIiI8cWlSBgLSgaj8mAmKaAQJiit/H5AiIjxwQEKc51C4LAalN1Md4CIiPHFpUgYC0oGo/JgJimsFMQO51r3vJ+hSsU089NYHgPiAGywEBMYCeMyWnYOVQitcGAYmXWU7FCEgOpZhtEJCYufVVjYD0EWr6PALSFG+MwREQpzkhIE6DKSwLASkE6LQ7AuI0mAplISAVIDocAgExDWUmIPe85z3Nd0BOO+00dkCMlgICYgS+b1oEpI9QzOcRkJi59VWNgPQRivs8AhI3u3mVIyCmuSIgpvh9TI6A+MhhSRUIiNNgCstCQAoBOu2OgDgNpkJZCEgFiA6HQEBMQ0FATPH7mBwB8ZEDAuI0h9plISC1ifoYDwHxkUOLKhCQFlTtx0RATDOYCciOO+5ofgrW6aefnkBwEbrBcggnIC984Qu16aabGqAad8q/+qtI0ZSxucENblA2QKDeJ598cqBqy0rdeuutywYI1Puqq64KVG15qVdeeWX5IEFGuPnNbx6k0vIyf/SjH5UPEmSEc845J0ilZWVeccUVOuuss7x9yUZAymJdFb0jfcudLVgEZFWsu784CARk9WWajggBWZ25pqNCQFZntgjI6ssVAVk+03QndHZA7NY8AmLHfu7M7IA4DaawLHZACgE67c4OiNNgKpTFDkgFiA6HYAfENJTZXyjvsMMO5qdgfeYzn/G2O2QazJiTIyBj0h4wFwIyAFagpghIoLAGlIqADIAVrCkCEiywzHIRkExQbZohIG24hhoVAXEaFwLiNJjCshCQQoBOuyMgToOpUBYCUgGiwyEQENNQ1grI3/7t35oV8t///d9iB8QMvxAQO/ZzZ0ZAnAZTWBYCUgjQaXcExGkwFcpCQCpAdDgEAmIaCgJiit/H5AiIjxyWVIGAOA2msCwEpBCg0+4IiNNgKpSFgFSA6HAIBMQ0FATEFL+PyREQHzkgIE5zqF0WAlKbqI/xEBAfObSoAgFpQdV+TATENIOZgGy//fayPgXrs5/9bALBfUAMlgMCYgA9Z0p2QHIoxWuDgMTLLKdiBCSHUsw2CEjM3PqqRkD6CDV9HgFpijfG4AiI05wQEKfBFJaFgBQCdNodAXEaTIWyEJAKEB0OgYCYhoKAmOL3MTkC4iOHJVUgIE6DKSwLASkE6LQ7AuI0mAplISAVIDocAgExDWUmIPe4xz3MT8E644wzEghOwTJYDgiIAfScKRGQHErx2iAg8TLLqRgByaEUsw0CEjO3vqoRkD5CTZ9HQJrijTE4AuI0JwTEaTCFZSEghQCddkdAnAZToSwEpAJEh0MgIKahzATk7ne/u/kOyOc+9zl2QIyWAgJiBL5vWgSkj1DM5xGQmLn1VY2A9BGK+zwCEje7eZUjIKa5IiCm+H1MjoD4yGFJFQiI02AKy0JACgE67Y6AOA2mQlkISAWIDodAQExDQUBM8fuYHAHxkQMC4jSH2mUhILWJ+hgPAfGRQ4sqEJAWVO3HREBMM5gJyN3udjfzU7A+//nPJxBchG6wHBAQA+g5U7IDkkMpXhsEJF5mORUjIDmUYrZBQGLm1lc1AtJHqOnzCEhTvDEGR0Cc5oSAOA2msCwEpBCg0+4IiNNgKpSFgFSA6HAIBMQ0FATEFL+PyREQHzksqQIBcRpMYVkISCFAp90REKfBVCgLAakA0eEQCIhpKGsFZMMNNzQr5IorrhCnYJnhFwJix37uzAiI02AKy0JACgE67Y6AOA2mQlkISAWIDodAQExDQUBM8fuYHAHxkQM7IE5zqF0WAlKbqI/xEBAfObSoAgFpQdV+TATENIOZgPzzP/+zrHdAvvCFLyQQXIRusBwQEAPoOVOyA5JDKV4bBCReZjkVIyA5lGK2QUBi5tZXNQLSR6jp8whIU7wxBkdAnOaEgDgNprAsBKQQoNPuCIjTYCqUhYBUgOhwCATENBQExBS/j8kREB85LKkCAXEaTGFZCEghQKfdERCnwVQoCwGpANHhEAiIaSgzAbnrXe9qfgrWmWeemUBwCpbBckBADKDnTImA5FCK1wYBiZdZTsUISA6lmG0QkJi59VWNgPQRavo8AtIUb4zBERCnOSEgToMpLAsBKQTotDsC4jSYCmUhIBUgOhwCATENBQExxe9jcgTERw5LqkBAnAZTWBYCUgjQaXcExGkwFcpCQCpAdDgEAmIaykxA7nKXu5ifgnXWWWclEJyCZbAcEBAD6DlTIiA5lOK1QUDiZZZTMQKSQylmGwQkZm59VSMgfYSaPo+ANMUbY3AExGlOCIjTYArLQkAKATrtjoA4DaZCWQhIBYgOh0BATEOZCch2221nvgPyxS9+kR0Qo6WAgBiB75sWAekjFPN5BCRmbn1VIyB9hOI+j4DEzW5e5QiIaa4IiCl+H5MjID5yWFIFAuI0mMKyEJBCgE67IyBOg6lQFgJSAaLDIRAQ01AQEFP8PiZHQHzkgIA4zaF2WQhIbaI+xkNAfOTQogoEpAVV+zERENMM1grI3/zN35gV8stf/lKcgmWGXwiIHfu5M7MD4jSYwrIQkEKATrsjIE6DqVAWAlIBosMhEBDTUBAQU/w+JkdAfOTADojTHGqXhYDUJupjPATERw4tqkBAWlC1HxMBMc1gJiB3vvOdZb0DcvbZZycQ/AyvwXJAQAyg50zJDkgOpXhtEJB4meVUjIDkUIrZBgGJmVtf1QhIH6GmzyMgTfHGGBwBcZoTAuI0mMKyEJBCgE67IyBOg6lQFgJSAaLDIRAQ01AQEFP8PiZHQHzksKQKBMRpMIVlISCFAJ12R0CcBlOhLASkAkSHQyAgpqHMBGTbbbc1PwWrWwecgmWwHBAQA+g5UyIgOZTitUFA4mWWUzECkkMpZhsEJGZufVUjIH2Emj6PgDTFG2NwBMRpTgiI02AKy0JACgE67Y6AOA2mQlkISAWIDodAQExDQUBM8fuYHAHxkcOSKhAQp8EUloWAFAJ02h0BcRpMhbIQkAoQHQ6BgJiGMhOQO93pTuanYH3pS19KIDgFy2A5ICAG0HOmREByKMVrg4DEyyynYgQkh1LMNghIzNz6qkZA+gg1fR4BaYo3xuAIiNOcEBCnwRSWhYAUAnTaHQFxGkyFshCQChAdDoGAmIYyE5A73vGO5jsgX/7yl9kBMVoKCIgR+L5pEZA+QjGfR0Bi5tZXNQLSRyju8whI3OzmVY6AmOaKgJji9zE5AuIjhyVVICBOgyksCwEpBOi0OwLiNJgKZSEgFSA6HAIBMQ1lNQrIjpJO66huIen8RYRvIekgSfeWdD1Jl0pKt2F/gqQrTdMwmhwBMQLfNy0C0kco5vMISMzc+qpGQPoIxX0eAYmbHTsg0hVXXKGzzjorofB0ofVaAbnOda5jtsB+9atfqdIpWOtL+qakTSRdS9JiAdlO0imSLpJ0vKSfSrqhpLtK2kPSz/5/e+cBdUtVpunXS7zkaALJOQlCm9qAedpxWkTFgAnRUcQ2DE4v7dU9dtbp6RlGxxmmdZxBxzCKmG3sER1zFpCMJDEgEpQMwgVmvdV17jqcP1Sdv6rO9+3/PLUWyyVVtfdXz1uXW8/Ze1eFQQjsGAEJhL9c1whI0mA6loWAdASY9HQEJGkwPZSFgPQAMWETjICEhrLaBORtkt5Uy4X/d1xANpN0kaQLJf2hpLtDySfqHAFJFMZ4KQhI0mA6loWAdASY9HQEJGkwPZSFgPQAMWETCEhoKKtJQHapBeP1knaV9PYJAXmlpPdLOkTSeZIsJJaQuRcRBCT0z+DSnSMgSYPpWBYC0hFg0tMRkKTB9FAWAtIDxIRNICChoVQCcsQRRyh6CtYPf/hDg+gyPe1Tkh4iydOsLB+TAvJxSc+Q9C8lvUfSwyXdI+krkt4g6eLQJAI7R0AC4S/XNQKSNJiOZSEgHQEmPR0BSRpMD2UhID1ATNgEAhIaSjYBOXYREfiVJP+z3PZMSZ+T9ChJNpk/X0RAzqlHRNyOZeTzknaX9KeS7qqFpKmf0LCG6hwBGYpsx3YRkI4Ak56OgCQNpmNZCEhHgIlPR0ASh9OhNASkA7zup1YCcvjhh4ePgPzoRz9a6mr+ohaKpfZvKumCeiTj1fVBiwmI34a1p6QP1gvOR+09VdKXJP0HSX/cHWl5LSAgSTNDQJIG07EsBKQjwKSnIyBJg+mhLASkB4gJm0BAQkPJJiArGQGxoHgKlRecj95itZiAeN3HQZIsHKPX9I7g/1LSL+oRlNBAIjpHQCKot+gTAWkBqcBDEJACQ2tRMgLSAlKhhyAghQbXUDYCEpprNgGZdg2I13xcKelkSf8wRtJvwHqjpCPr/T+T9MV6DcjBks6foO5pW1tJ2ic0jaDOEZAg8E3dIiBNhMrcj4CUmVtT1QhIE6Fy9yMg5Wa3XOUISGiulYA84hGPCJ+CddZZZxnEtAJyqKSzGwjeJmkLSX9Vr/f4g1pGxk+7pv5g4eNC0wjqHAEJAt/ULQLSRKjM/QhImbk1VY2ANBEqdz8CUm52CEjuDxEWLCBbS3rSIvfXCyW9QNIJ9dQqLzg/sH797mckPWfsnOdK+oSkP5P016vzT9nyV4WAJE0dAUkaTMeyEJCOAJOejoAkDaaHshCQHiAmbIIRkNBQSh8BWQreYmtAfKynanl61j9K+kL9Fqw/knSVpN+TdHNoGkGdIyBB4Ju6RUCaCJW5HwEpM7emqhGQJkLl7kdAys2OEZDcIyCHHXZY+BSss8+uZlJNOwVrWgFZI8nC8VpJe0i6UdJnJf2JpOtW55+w5qtCQJoZhRyBgIRgH7xTBGRwxCEdICAh2GfSKQIyE8wz74QRkJkjH++wGgFZhQISCrW0zhGQpIkhIEmD6VgWAtIRYNLTEZCkwfRQFgLSA8SETSAgoaGsF5AttvA67Zjt1ltvVc8jIDEXUmivCEjS4BCQpMF0LAsB6Qgw6ekISNJgeigLAekBYsImEJDQUBCQUPw5Oi9OQI4++mjtuOOOOegNWMW6desGbD1X08ce628Azcd2/vmTrwFfvdc9Tw9up5xyyuoNcpEr23333efmeo877ri5udbLL798bq71y1+e/Cbc6rz06667Tqeffrovrq91Dn2AQkD6oFh4GwhI0gARkKTBdCwLAekIMOnpCEjSYHooCwHpAWLCJhCQ0FAqATn00EMVPQXrnHPOySZnocHMsnMEZJa0p+gLAZkCVkGHIiAFhTVFqQjIFLAKOxQBKSywluUiIC1BDXMYAjIM16JaRUCSxoWAJA2mY1kISEeASU9HQJIG00NZCEgPEBM2gYCEhoKAhOLP0TkCkiOHBVUgIEmD6VgWAtIRYNLTEZCkwfRQFgLSA8SETSAgoaFUAvLwhz88fArWj3/8Y4PItD4mNJhZdo6AzJL2FH0hIFPAKuhQBKSgsKYoFQGZAlZhhyIghQXWslwEpCWoYQ5DQIbhWlSrCEjSuBCQpMF0LAsB6Qgw6ekISNJgeigLAekBYsImEJDQUCoBOeSQQ8JHQM4991xGQIJuBQQkCHxTtwhIE6Ey9yMgZebWVDUC0kSo3P0ISLnZLVc5AhKaKwISij9H5whIjhwWVIGAJA2mY1kISEeASU9HQJIG00NZCEgPEBM2gYCEhoKAhOLP0TkCkiMHBCRpDn2XhYD0TTRHewhIjhyGqAIBGYJqfJsISGgGlYAcfPDB4VOwzjvvPINgEXrA7YCABEBv0yUjIG0olXcMAlJeZm0qRkDaUCrzGASkzNyaqkZAmggNuh8BGRRvGY0jIElzQkCSBtOxLASkI8CkpyMgSYPpoSwEpAeICZtAQEJDQUBC8efoHAHJkcOCKhCQpMF0LAsB6Qgw6ekISNJgeigLAekBYsImEJDQUNYLyOabbx5WyG233SamYIXhFwISx37ZnhGQpMF0LAsB6Qgw6ekISNJgeigLAekBYsImEJDQUBCQUPw5OkdAcuTACEjSHPouCwHpm2iO9hCQHDkMUQUCMgTV+DYRkNAMKgE56KCDFD0CUv+dzCL0gNsBAQmA3qZLRkDaUCrvGASkvMzaVIyAtKFU5jEISJm5NVWNgDQRGnQ/AjIo3jIaR0CS5oSAJA2mY1kISEeASU9HQJIG00NZCEgPEBM2gYCEhoKAhOLP0TkCkiOHBVUgIEmD6VgWAtIRYNLTEZCkwfRQFgLSA8SETSAgoaFUAnLggQeGT8G64IILDIIpWAG3AwISAL1NlwhIG0rlHYOAlJdZm4oRkDaUyjwGASkzt6aqEZAmQoPuR0AGxVtG4whI0pwQkKTBdCwLAekIMOnpCEjSYHooCwHpAWLCJhCQ0FAQkFD8OTpHQHLksKAKBCRpMB3LQkA6Akx6OgKSNJgeykJAeoCYsAkEJDSUSkAOOOCA8ClYF154oUEwBSvgdkBAAqC36RIBaUOpvGMQkPIya1MxAtKGUpnHICBl5tZUNQLSRGjQ/QjIoHjLaBwBSZoTApI0mI5lISAdASY9HQFJGkwPZSEgPUBM2AQCEhpKJSD7779/+AjIRRddxAhI0K2AgASBb+oWAWkiVOZ+BKTM3JqqRkCaCJW7HwEpN7vlKkdAQnNFQELx5+gcAcmRw4IqEJCkwXQsCwHpCDDp6QhI0mB6KAsB6QFiwiYQkNBQEJBQ/Dk6R0By5ICAJM2h77IQkL6J5mgPAcmRwxBVICBDUI1vEwEJzWC9gGy22WZhhdx+++1iClYYfiEgceyX7ZkRkKTBdCwLAekIMOnpCEjSYHooCwHpAWLCJhCQ0FAQkFD8OTpHQHLkwAhI0hz6LgsB6ZtojvYQkBw5DFEFAjIE1fg2EZDQDBCQUPw5OkdAcuSAgCTNoe+yEJC+ieZoDwHJkcMQVSAgQ1CNbxMBCc2gEpD99ttP0VOwLr74YoPgOyABtwMCEgC9TZdMwWpDqbxjEJDyMmtTMQLShlKZxyAgZebWVDUC0kRo0P0IyKB4y2gcAUmaEwKSNJiOZSEgHQEmPR0BSRpMD2UhID1ATNgEAhIaSiUg++67b/gIyCWXXMIISNCtgIAEgW/qFgFpIlTmfgSkzNyaqkZAmgiVux8BKTe75SpHQEJzRUBC8efoHAHJkcOCKhCQpMF0LAsB6Qgw6ekISNJgeigLAekBYsImEJDQUBCQUPw5OkdAcuSAgCTNoe+yEJC+ieZoDwHJkcMQVSAgQ1CNbxMBCc2gEpB99tknfArWT37yE4NgEXrA7YCABEBv0yUjIG0olXcMAlJeZm0qRkDaUCrzGASkzNyaqkZAmggNuh8BGRRvGY0jIElzQkCSBtOxLASkI8CkpyMgSYPpoSwEpAeICZtAQEJDQUBC8efoHAHJkcOCKhCQpMF0LAsB6Qgw6ekISNJgeigLAekBYsImEJDQUCoB2XvvvcOnYF166aUGwRSsgNsBAQmA3qZLBKQNpfKOQUDKy6xNxQhIG0plHoOAlJlbU9UISBOhQfcjIIPiLaNxBCRpTghI0mA6loWAdASY9HQEJGkwPZSFgPQAMWETCEhoKJWA7LXXXuEjIJdddhkjIEG3AgISBL6pWwSkiVCZ+yB7Ge8AACAASURBVBGQMnNrqhoBaSJU7n4EpNzslqscAQnNFQEJxZ+jcwQkRw4LqkBAkgbTsSwEpCPApKcjIEmD6aEsBKQHiAmbQEBCQ0FAQvHn6BwByZEDApI0h77LQkD6JpqjPQQkRw5DVIGADEE1vk0EJDSD9QKydu3asELuuOMOMQUrDL8QkDj2y/bMCEjSYDqWhYB0BJj0dAQkaTA9lIWA9AAxYRMISGgoCEgo/hydIyA5cmAEJGkOfZeFgPRNNEd7CEiOHIaoAgEZgmp8mwhIaAYISCj+HJ0jIDlyQECS5tB3WQhI30RztIeA5MhhiCoQkCGoxreJgIRmUAnInnvuqegpWJdffrlB8B2QgNsBAQmA3qZLpmC1oVTeMQhIeZm1qRgBaUOpzGMQkDJza6oaAWkiNOh+BGRQvGU0joAkzQkBSRpMx7IQkI4Ak56OgCQNpoeyEJAeICZsAgEJDaUSkD322CN8BOSKK65gBCToVkBAgsA3dYuANBEqcz8CUmZuTVUjIE2Eyt2PgJSb3XKVIyChuSIgofhzdI6A5MhhQRUISNJgOpaFgHQEmPR0BCRpMD2UhYD0ADFhEwhIaCgISCj+HJ0jIDlyQECS5tB3WQhI30RztIeA5MhhiCoQkCGoxreJgIRmUAnI7rvvHj4F68orrzQIFqEH3A4ISAD0Nl0yAtKGUnnHICDlZdamYgSkDaUyj0FAysytqWoEpInQoPsRkEHxltE4ApI0JwQkaTAdy0JAOgJMejoCkjSYHspCQHqAmLAJBCQ0FAQkFH+OzhGQHDksqAIBSRpMx7IQkI4Ak56OgCQNpoeyEJAeICZsAgEJDaUSkN122y18CtZPf/pTg2AKVsDtgIAEQG/TJQLShlJ5xyAg5WXWpmIEpA2lMo9BQMrMralqBKSJ0KD7EZBB8ZbROAKSNCcEJGkwHctCQDoCTHo6ApI0mB7KQkB6gJiwCQQkNJT1ArLpppuGFXLnnXeKEZAw/EJA4tgv2zMCkjSYjmUhIB0BJj0dAUkaTA9lISA9QEzYBAISGgoCEoo/R+cISI4cFlSBgCQNpmNZCEhHgElPR0CSBtNDWQhIDxATNoGAhIaCgITiz9E5ApIjBwQkaQ59l4WA9E00R3sISI4chqgCARmCanybCEhoBpWA7LrrroqegnXVVVcZBIvQA24HBCQAepsuGQFpQ6m8YxCQ8jJrUzEC0oZSmccgIGXm1lQ1AtJEaND9CMigeMtovDgBOfHEE7XTTjuVQbdDlZtvvnmHs8s69fbbby+r4A7V1gveOrRQzqnHH398OcV2rPTiiy/u2EJZp59xxhllFdyh2pNPPrnD2WWdetppp5VVcIdqN9hggw5nl3Pqz372M73zne90wZl+5UdAyrmFBqsUARkMbbeGEZBu/LKejYBkTaZbXQhIN36Zz0ZAMqez8toQkJWz6+HMSkB22WWX8ClYFrRkctYD3jKaQECS5oSAJA2mY1kISEeASU9HQJIG00NZCEgPEBM2gYCEhoKAhOLP0TkCkiOHBVUgIEmD6VgWAtIRYNLTEZCkwfRQFgLSA8SETSAgoaFUAvKwhz0sfATk5z//OSMgQbcCAhIEvqlbBKSJUJn7EZAyc2uqGgFpIlTufgSk3OyWqxwBCc0VAQnFn6NzBCRHDoyAJM2h77IQkL6J5mgPAcmRwxBVICBDUI1vEwEJzQABCcWfo3MEJEcOCEjSHPouCwHpm2iO9hCQHDkMUQUCMgTV+DYRkNAMKgHZeeedw6dg/eIXvzCITG8ICw1mlp0jILOkPUVfTMGaAlZBhyIgBYU1RakIyBSwCjsUASkssJblIiAtQQ1zGAIyDNeiWkVAksaFgCQNpmNZCEhHgElPR0CSBtNDWQhIDxATNoGAhIaCgITiz9E5ApIjhwVVDCkgb3jDG/S9732v+mcl29Zbb60nPvGJevCDH1wNn37961/X7373Oz3taU/T6aefrl/+8pdTNdvXhwjf+ta36pvf/Gb1T9YNAcmaTLe6EJBu/DKfjYBkTmfltSEgK2fXw5nrBWSTTTbpobmVNeHnFqZgrYxdH2chIBMU/VB90EEHadddd5UftO+++25df/31+s53vqNZPjxmFpDnPe952nbbbfWDH/xAd9xxh6699tpKRhCQ5j+Ss7yHmqsZ9gi+hD4s38jW+RJ6JP3h+uZL6MOxjWo585fQvQYEAYm6M+L7RUAmMnjOc54jf53Tv2j++te/1kYbbaRDDjlED3zgA/XFL35RZ5999kxSyyog/tXoda97nc455xx94xvfWM/iAQ94gNasWaN77rlnaj6MgEyNrIgTEJAiYlpRkQjIirClPwkBSR/R1AVmFpCddtopXEDqGRssQp/6zup+AgIywdB/IK655pr7PUhvuOGGeuUrX6nNNttM73rXu3TfffetiLwf0nfYYQddd911jednFZAtttiiYtFlCtfkxQ8lIJZHc7zxxhsbec/qAEZAZkV6tv0wBWu2vGfZG1OwZkl7dn0xBWt2rBfpqZqChYCEZhDeOQLSMoInP/nJetSjHqX3vOc9uuWWW1qe9c+Hbb/99jr44IOrqV2/+c1v9JGPfGT9+Y973OP0+Mc/Xu94xzvu16anNB133HH60pe+pIsuuqjat//++1fTnD796U/rIQ95iA488MBqDYanQH31q1+tpoqNb1tuuaWe8IQnyF8bvffee3XVVVdV6zVe/epXLxAIS9bhhx+uffbZR1tttVW1psPHe+rZrbfeWjX71Kc+VQcccMCCa3/3u9+9vrbxNSBt6x0JiGt49KMfXbXl6W+u4corr9TXvva1+zF3fa7F0+Qsg1dccYXOPPNMeW3L+BoQt3HCCSfIXzo9//zzq1Ettxm5ISCR9IfrGwEZjm10ywhIdALD9I+ADMO1ZaurUUCeLOnL9fXvLemyJVi8UtL7630bSVrXktmqOwwBaRnps5/9bO27777yX0ZeF9K0WQz8sG7xeOhDH1qdc9lll+mss86Sh0RH20oExFPDvF1yySXyQ/thhx2mu+66Sx/84AfXj854XuWLX/xirV27Vueee65uvvlm7bbbbtUojqeTjY9geOrU0UcfrR133FEXXnhhJTKWF089c90f/ehHdeedd1brPPyPpcbXcvnll6+vYyQbiwlIU70WENfgeh/0oAdV9VqqLBqWIkvDqaeeWq038XV5BMYjG2bp0Y0999yz+v+ubVxA/BeM2Vj8vM/Xcumll+q8886r1vOsdCSrKfvl9iMgXejlPRcByZtN18oQkK4Ec56PgITmUgmIn42i14BcffXVBtF1CpZF4lxJD5O0uaSlBGQ7P7pJWlsfh4CE3obtO69u2BNPPFEetpvl5hEMP/T6oftTn/rUkl17ipUfhi0de+21l/wfOL9hwQ+8S/36vhIB8cP5xz/+8WpUw9see+yhZz3rWfrMZz5TjVp4e+xjH6sjjjhCn//856sRgtH2zGc+s6ptXEAe8YhH6DGPeUz1BitPPxttni72whe+sHrQ//a3v139a4uJR2Ymp2AtJyBN9VpAHvnIR1Zv1vrwhz+s+j8IVX+WpVe84hVVfx4J8TGjWi0To+2oo47Sfvvtt+RbsEajUJZCi41HsS644IIqmxtuuGFmtxMCMjPUM+0IAZkp7pl2hoDMFPfMOkNAZoZ6sY5Wm4C8TdKbJHl6i/93KQH5B0m/L+kcScdKQkBCb8P2nYcIiO38ZS97mbz24f3vf381kjC5ea2BRwU8Jcq/xHualaf8+J+bbrpp2StciYB85Stfqdoeba7xNa95TTUNy6MH3l7ykpdUowoeFRnfPBJwzDHH3E8gLBmWmc9+9rMLavUbrzxy8LGPfWzFAtJUrwXEkuEF7J/4xCcW1HDsscdWNXzgAx/Qq171quq63vve997vOP+S4pzavIbXI0EeFfF0s4033rgSHr/RazTVrf0tOf2RCMj0zEo4AwEpIaWV1YiArIxb9rMQkNCEVpOA7CLJ8+RfL2lXSW9fQkAeKek7kp4m6WWSXo6AhN6DU3U+cwHx9KYXvOAF1RQqP4CPT50ar9xrDfxmKG/+Rd3rETxlqc22EgHxGpDJWrz+4bvf/a6+//3vV926Hq99+NznPne/MvzA/drXvvZ+AuJ1EpaopTZLl6dAeVvJCEhTvRaQk046adkaLHKnnHKK3vKWt1TTpyZFxRL25je/uZWAjK7TI2keOfIrhc1zfG1Om+xWcgwCshJq+c9BQPJntNIKEZCVkst9HgISmk/1POe1rNFTsH71q18ZRJcpWJ4W8xBJj6nlYzEBWSPJD2eejnKMJD9QISCht+B0nc9UQPwr+/Of//xqobOnXY1P95ks21OvRus9fLxHE7w+wqMUnrY1miq12OUuJSCWnpe//OWLLkJ3PZaL8W3y44IWED9UewrW+LaYgPhYv5nLArPYtm7dOtV/SFckIE31jgTEa0XGX+07XotHRzydzQLihemeLja+tRUQj2Q5K4+AeHqXRdEjH36t8GitynS35XRHIyDT8SrlaASklKSmrxMBmZ5ZCWcgIKEpZRMQT4e6eIKIzaSyk2W2Z0ryr7yPkvRDSX++xAjIiZL+TtJ+kvzwhoBIYhH6IneWhcKLsr1Wwg/wXivQdvMIgdeA+J/tttuuWjjtB1zLyGJfCPc6Db/Zyn/JjY+aeD2Dv0my2Fuwmh7oXes0U7C8+NvC9aEPfajxMlcyAtJUrwXEa2z8F8L73ve+ZWtYyRQsj+54utXoA5PuwBLj0SqL5Uq+XdIIaokDEJCVkst9HgKSO58u1SEgXejlPRcBCc2mEhBPCY8eARlf9zpB5C9qoVgK1KaS/HD4FUmvrg9aTEAeWC88/3tJf1Mfh4AgIIvfV37jlX8l98e2/Mv4SjdP8bGIeIG234rltSFeTD3epheQe5rXJz/5yeqtVqPN6zJ23333FQvINIvQLUE+flx2xq/Zb9KySHkbSkD8+t0jjzxSX/jCFyoxmNxGNfgYH+sRkKZF6B7tefrTn75+rYdHeUZrc2677baVxtrpPASkE760JyMgaaPpXBgC0hlhygYQkNBYsgnISkZALChvqNd7jL6BsJiAfKBeeH6gpNF3ABAQBGThH8CnPOUp1RuZPH1pMfnwL+fTfjjPa0n8C7xlxCMNfq3taPNoixeQW1C8fsOvnPXrfv2rgH8dWOkIiNt70YtetOA1vF4k79ftjr/Fyv8h9lukLEx+qPeibE8b89uiLEj+d6PpWUMJiGuwdPmbJX6Y83Qrj0xss8022nvvvatRJE/P8nWNPgr5ox/9qFrk7zePeWqVX+E7+R0QL273q4UtNcv80jGz/xIjIDNDPdOOEJCZ4p5pZwjITHHPrDMEZGaoF+som4BMuwbEaz6ulHSyJL/ZarT5DVhvlHRkvX8Hj/TUC9S/MHacR0OeK2kvSf51t3oX8LxtTMGaSNzTkbyOY6nNr4ldajF6m5vH04EmvyPi1936l3oLgAXED8weDfE0qpUKiGuxQPjtXDvvvHPjhwj9H+NDDz20EiUvyraA+AOEXmvih3eP3ngbSkDctmvwaIzfJjaqwa/L9auFzz777PUfWvSi/9GHCF3nUh8itOx5W24NTpvM+jwGAemTZp62EJA8WfRdCQLSN9Ec7SEgoTmsFxDPVIja/P20+ofJaQXkUElnN9TtaRYvkbT0txv+uQFP4zooikFkvwhIJP1l+vZIxbxs044olcwFASk5vaVrR0BWZ66+KgRkdWaLgITmWrqAbC3pSYsQfKGkF0g6QdIv6tEPL1Cf3Dx1y+d7FOTGeh1JaCARnSMgEdRb9ImAtIBU4CEISIGhtSgZAWkBqdBDEJBCg2soGwEJzbV0AVkK3lJvwZo8njUgrAEJ/QO4bOcISN5sulSGgHShl/dcBCRvNl0rQ0C6Esx5PgISmkslIF63GT0Fq379/rRTsBCQHm4fRkB6gDhEEwjIEFTj20RA4jMYogIEZAiqOdpEQHLk0HcVCEjfRKdqb7UKyFQQ5v1gBGSZO8BvovIboyI2v+1pXjYvvI/c/HreWdWAgEQmPVzfCMhwbKNbRkCiEximfwRkGK4tW60ExB8Djh4Bufbaa11yXyMgLS+fw0wAAVnmPvDbo1760pdyp6xyAv4Ao1/7O4sNAZkF5dn3gYDMnvmsekRAZkV6tv0gILPlPdEbAhKKP0fnCAgCkuNODKwCARkG/vHHHz9MwwlbRUAShtJTSQhITyCTNYOAhAaCgITiz9E5AoKA5LgTA6tAQIaBj4AMwzVDq2eccUaGMmZSAwIyE8wz7wQBmTny8Q4rAfEU9+gpWJ6CzRSsmHsBAVmGO2tAZnNTzmr9xVJXwxqQYXJGQIbhmqFVBCRDCv3XcNppp/XfaNIWEZDQYBCQUPw5OkdAcuSwoAregpU0mI5lsQakI8CkpzMFK2kwPZTFCEgPEBM2gYCEhoKAhOLP0TkCkiMHBCRpDn2XhYD0TTRHewhIjhyGqAIBGYJqfJsISGgGlYDssMMO4VOwrr/+eoPgLVgBtwMCEgC9TZeMgLShVN4xCEh5mbWpGAFpQ6nMYxCQMnNrqhoBaSI06H4EZFC8ZTSOgCTNCQFJGkzHshCQjgCTno6AJA2mh7IQkB4gJmwCAQkNZb2AbLTRRmGF3H333WIEJAw/3wGJQ798zwhI1mS61YWAdOOX9WwEJGsy3etCQLozzNgCAhKaCgISij9H54yA5MhhQRUISNJgOpaFgHQEmPR0BCRpMD2UhYD0ADFhEwhIaCgISCj+HJ0jIDlyQECS5tB3WQhI30RztIeA5MhhiCoQkCGoxreJgIRmUAnI9ttvr+gpWDfccINBsAg94HZAQAKgt+mSEZA2lMo7BgEpL7M2FSMgbSiVeQwCUmZuTVUjIE2EBt2PgAyKt4zGEZCkOSEgSYPpWBYC0hFg0tMRkKTB9FAWAtIDxIRNICChoSAgofhzdI6A5MhhQRUISNJgOpaFgHQEmPR0BCRpMD2UhYD0ADFhEwhIaCiVgGy33XbhU7B+85vfGARTsAJuBwQkAHqbLhGQNpTKOwYBKS+zNhUjIG0olXkMAlJmbk1VIyBNhAbdj4AMireMxhGQpDkhIEmD6VgWAtIRYNLTEZCkwfRQFgLSA8SETSAgoaFUArLtttuGj4D89re/ZQQk6FZAQILAN3WLgDQRKnM/AlJmbk1VIyBNhMrdj4CUm91ylSMgobkiIKH4c3SOgOTIYUEVCEjSYDqWhYB0BJj0dAQkaTA9lIWA9AAxYRMISGgoCEgo/hydIyA5ckBAkubQd1kISN9Ec7SHgOTIYYgqEJAhqMa3iYCEZlAJyDbbbBM+BevGG280CBahB9wOCEgA9DZdMgLShlJ5xyAg5WXWpmIEpA2lMo9BQMrMralqBKSJ0KD7EZBB8ZbROAKSNCcEJGkwHctCQDoCTHo6ApI0mB7KQkB6gJiwCQQkNBQEJBR/js4RkBw5LKgCAUkaTMeyEJCOAJOejoAkDaaHshCQHiAmbAIBCQ1lvYBsuOGGYYWsW7dOTMEKwy8EJI79sj0jIEmD6VgWAtIRYNLTEZCkwfRQFgLSA8SETSAgoaEgIKH4c3SOgOTIgRGQpDn0XRYC0jfRHO0hIDlyGKIKBGQIqvFtIiChGVQCsvXWWyt6BOSmm24yCBahB9wOCEgA9DZdMgLShlJ5xyAg5WXWpmIEpA2lMo9BQMrMralqBKSJ0KD7EZBB8ZbROAKSNCcEJGkwHctCQDoCTHo6ApI0mB7KQkB6gJiwCQQkNBQEJBR/js4RkBw5LKgCAUkaTMeyEJCOAJOejoAkDaaHshCQHiAmbAIBCQ2lEpCtttoqfArWzTffbBBMwQq4HRCQAOhtukRA2lAq7xgEpLzM2lSMgLShVOYxCEiZuTVVjYA0ERp0PwIyKN4yGkdAkuaEgCQNpmNZCEhHgElPR0CSBtNDWQhIDxATNoGAhIZSCciWW24ZPgJyyy23MAISdCsgIEHgm7pFQJoIlbkfASkzt6aqEZAmQuXuR0DKzW65yhGQ0FwRkFD8OTovSUAeK+lbxxxzjHbccccc9AasYu3atQO2nqvpO++8M1dBA1Zz9dVXD9h6rqaPOuqoXAUNWM08iaUxfutb3xqQZq6mTzrppFwFDVjNmWeeOWDruZpes2ZNroIGquaaa67Rqaee6tZ/X9K3B+pm2mYRkGmJrcLjSxKQF0v68CrMgEuCAAQgAAEIQAACQxI4VtJHhuxgirYrAdliiy3Cp2DdeuutLptF6FOE19ehJQnI9pKeIemnkubnJ/O+kqYdCEAAAhCAAATmjcCmknaT9E+Sbkhy8QhIkiAiyyhJQCI50TcEIAABCEAAAhCAQHcCCEh3hsW3gIAUHyEXAAEIQAACEIAABIohsF5AIl8GcM8994gpWHH3DAISx56eIQABCEAAAhCAwLwRQEDmLfFFrhcB4SaAAAQgAAEIQAACEJgVgUpA/LmB6BGQ2267zdfMIvRZJT/WDwISAJ0uIQABCEAAAhCAwJwSQEDmNPjxy0ZAuAkgAAEI9EfAb+n7qqRX9Nfksi25v19IetyM+mvTzZ9Leruk3eu3FrY5h2MgAIH5IYCAzE/WS14pAsJNAAEIjBMYPTzuLemyRdA07Z93mtMIyHaS3inp2ZK2knS+pL+V9KkJiEdLOkSS2U9uCMi833FcPwTKI1AJyGabbRY+Bev22283PaZgBdxDCEgAdLqEQGICTYLRtD/xpc2ktLYCsomk70jaR9LJkn4uyR8Ke4KkF0j6+Fi1H6r3Lfbf64wCsqEk//M7SffNhDqdQAACJRFAQEpKa6BaEZCBwNIsBAol0CQYTfsLvezeym4rIK+X9F8keXRjNOLhh/bvSXqIpF0l3V1XVZqA9AaThiAAgVVJAAFZlbFOd1EIyHS8OBoCq51Ak2Astt9rHvaq1yH4ofrI+uHZv+K/sf4lfMRtmmOfIenVkh4p6UGSfivp/0p6q6Srx4LwV36vlPQ3ki6Q9KeS9pD0E0lvkvT/JD21nt50sKRfSXqbpI8tEubLJZ0o6UBJ90r6rqR/V49WjB++vaT/WE+fsjh8Q9IbJJ3Zcg3ItyTtVH+heLzd4yT9T0lPG2vriYvUOVpfMRoBcc3vqlndLOl/SPqzFiMQD5X0x5KeUtfivxN+XLP8x7F+H1Nf44clmdFo8/nn1tP1vA5lXT1VbHINiDP66/re2FHSTXVWfyXpK6v9DxXXBwEI3I9AJSBr164Nn4J1xx13uDCmYAXcoAhIAHS6hEBiAisVED/YWxC+JukHkh5dP6j6odMPwuMC0vZYP+xuLenbkq6TtK+kf10LxMMl3Vk3OhKQsyXtIOkUSXfVD9Zb1HW8p/73rtFS5BEGt3f5WG1/L+nfSDq9lojNJL2ylhk/oH+zPnbjWkgOk/S++oH98bWAbSrpCw2L0NdIulXSZyW9cOJe2F/ShbUgeX2IRcSZPFbSS8eO9aiJ3x9pAblH0uaS/o+kiyX9gaQ/lPQqSe9vuNf+haR3S/pkLXFei/ISSc7IfX957PzRvTGaIua/PyyEztosRmuGJhehb1TLhtv+75J+JskSYrH0NDRzZ4MABOaHAAIyP1kveaUICDcBBCAwTmClAuJf6d9SjwqM2vt0/eD8wAkBaXusBaBaITi2+VyPorxY0kcnBMQP5JaKX9b/3ou7XYN/lfcDshd5e/s9Sd+X9A5JfzLx7/7txAOxBcbnedTEowDeXlvLzJsl/eex2jwiYoH5QIOAePTkekn/SdJJE9fnh3SPDliY/qje1zQFyzL1vFqcRs2dU0uYH/KX29bWIje+VsPrU3y+RcGjUKNtg1rCzNiL4i0ilofj61Gb0XGTAmJZdHvHSDqtoR52QwACq59AJSCbbrpp+AjInXdWv2MxAhJwzyEgAdDpEgKJCaxUQLx42r/CV+PZ9eYHdD9k+6H6lvrfWR7aHjtqx/+d2lKSRx68XSrpf9UP+/7/oxEQC4nFZLR5NMQjJ1+XND6Nye15gbRHEfwQ7c11el3GnhPX4H0eifBIiEdjfB1n1KMdbt/tjDZPE7umhYA8rH64HxegURu+RrfpkQuPYHhrEhALg9eNjG+ejuWRDMtO282jN87QfDw1ymz8pq7xzXw80uQMDpL0eUnPnThmUkAsSB6pObUeffIUMTYIQGB+CSAg85v9+itHQLgJIACBcQJtBcRrPkbTlywV/lV88iHY38KwKFgQrqo7meZYvyFqNA3JIxHjm9u1FHgbCYiP9dqO0ea1GV7I7Qf48elL3u8RCD9Ie5qRN6938NSl5TavK/FaE09zcruepjS5eYrXZ2Y8AjI+OjOqZ5Rj03/jLTxeM/Oyelra+PV4VMTTxSa310n6r5KulXSApBsmDljsOyBen+NsPBrl0ad/qqeMWWTYIACB+SKAgMxX3otebdNfTiCCAATmi4AXePuXeU+xOW+RS/87SZ6m5AXUo4Xgo4XlO08cPxKQ8Q/StT3WoyZeRO71Ax6d8LoIr5vwQ7HXOviX99HH/sYXoftherSNBGSxKVEWEE8L8uJ0bx7V8MiMp20ttXnhuEd4LqlHKcxocruxnva13IcIp1kD4vabRkAW+xBhWwH5b5JOkPS/aykwF68p8WJ4jyYt9nfE5yQ9q57i5fUfFrnxbakPEVpa/1U9GmXulh+P8nxwvv6IcbUQmHsC6wVkzZrFfuOYDZ97771XTMGaDevFekFA4tjTMwQyEvCiaE9lmvwWxahWP3x6QbYFwb9me2srFdMcO1q/4Qd5C8Ro85oFi4gfmPsUEL+9y1OwPIrjaVTLbV2nYLltL6z3G6QsT+Pb6C1YT5f0pXqHr9XTqab5DkhbAfGIjUXsSRN1fETSixbp07JiafnLWh68XsXzp8en3rX5Evq29csKLCG7ZPyDQE0QgMBgBBCQwdCW0zACUk5WVAqBWRDwugZ/2YSywAAABzBJREFUFM/fo/BDsN8mNdo83easerqSv18x2oYQEP/CbtnxNCtPtxptHuHw+oTxUY0+RkC8wNxS4L68qHryA3peSO8pR95GD+ErXYTuNrzA3G+fWuw7IBYTr5sYsfebo15Tr8ewMIxvS32IsK2AeMTDry4eXyOzd/1qXa8JGf87wtPsnL9Hgrw43aMYnkplIbG8jbZJAfHaGb9MYPRdk9FxfmXxo+r1PbO4t+kDAhDIQQAByZFDaBUISCh+OodASgKjxeOeguW3FvnBe/QKXD8Ue9qNp0eNtiEExL+Qe6qTp1F5QfWv64dkv47WC6X7noLla/n39at7LV9ex+GHcy8Y93dN/N9Kv2rXm3+19zoGrwHx9zY8guDpW/4ORpvX8LoNH+dvjHhakqeYeRrV6Evo42/48rGepuTX/XpUwqMvHnmynI1ew9tlCpbrt3C5bedo8fEaD4uN3xw2+jvCU+H8ylzLnqeejabf+Svu/tbKM+vaXO+kgBxVv37Xrzd2pn7tjIXH12m5stCxQQAC80OgEpBNNtlE0VOwfve76j0ivAUr4N5DQAKg0yUECiDgKVD+Xob/ovADv6cl+Rdrjz5cMVH/EALiLty3X/N6RL0uwR8U9Gtr/b/us88pWKNLen79IUI/fFs0vMDb3zXxG5z88D/a/B0Lv3bX39vw62n9IULz8rSp8dqWi9pvqPLCebP2lDaPRPztxOt0fb4f/kejJe7X/92e/BCh5Wd8azsC4sX9XvPjkRi/8coL7F2Tv0fijwmO/o5wXV5E7jde+Zsho81v4DIfjxBZyPzWsUkBca0+19LhtUP+wKPvIY82eTH7aCpfAX8sKBECEOiBAALSA8TSm0BASk+Q+iEAAQhAAAIQgEA5BCoB2XjjjcNHQO66q5rpyghIwL2DgARAp0sIQAACEIAABCAwpwQQkDkNfvyyERBuAghAAAIQgAAEIACBWRFAQGZFOnE/CEjicCgNAhCAAAQgAAEIrDIClYBstNFG4VOw7r67ejkfU7ACbjAEJAA6XUIAAhCAAAQgAIE5JYCAzGnw45eNgHATQAACEIAABCAAAQjMigACMivSiftBQBKHQ2kQgAAEIAABCEBglRGoBGTDDTcMn4K1bl31FnCmYAXcYAhIAHS6hAAEIAABCEAAAnNKAAGZ0+DHLxsB4SaAAAQgAAEIQAACEJgVgfUC8oAHxD2G3nfffWIEZFaRL+wnLvm4a6ZnCEAAAhCAAAQgAIEYAghIDPdUvSIgqeKgGAhAAAIQgAAEILCqCSAgqzredheHgLTjxFEQgAAEIAABCEAAAt0JVAKywQYbKHoK1j333OOrYRF690ynbgEBmRoZJ0AAAhCAAAQgAAEIrJAAArJCcKvpNARkNaXJtUAAAhCAAAQgAIHcBBCQ3PnMpDoEZCaY6QQCEIAABCAAAQhAQFIlIGvWrAmfgnXvvfc6EKZgBdyWCEgAdLqEAAQgAAEIQAACc0oAAZnT4McvGwHhJoAABCAAAQhAAAIQmBWBSkC8AD16Ebq/BcIIyKxiv38/CEgMd3qFAAQgAAEIQAAC80gAAZnH1CeuGQHhJoAABCAAAQhAAAIQmBUBBGRWpBP3g4AkDofSIAABCEAAAhCAwCojUAmIryl6ClbNlUXoATcYAhIAnS4hAAEIQAACEIDAnBJAQOY0+PHLRkC4CSAAAQhAAAIQgAAEZkUAAZkV6cT9ICCJw6E0CEAAAhCAAAQgsMoIrBeQJNfFFKyAIBCQAOh0CQEIQAACEIAABOaUAAIyp8GPXzYCwk0AAQhAAAIQgAAEIDArArtIukjSZrPqcJl+bpe0v6SfJahlrkpAQOYqbi4WAhCAAAQgAAEIhBOwhOwQXoV0PfIRkwICEsOdXiEAAQhAAAIQgAAEIDCXBBCQuYydi4YABCAAAQhAAAIQgEAMAQQkhju9QgACEIAABCAAAQhAYC4JICBzGTsXDQEIQAACEIAABCAAgRgCCEgMd3qFAAQgAAEIQAACEIDAXBJAQOYydi4aAhCAAAQgAAEIQAACMQQQkBju9AoBCEAAAhCAAAQgAIG5JICAzGXsXDQEIAABCEAAAhCAAARiCCAgMdzpFQIQgAAEIAABCEAAAnNJAAGZy9i5aAhAAAIQgAAEIAABCMQQQEBiuNMrBCAAAQhAAAIQgAAE5pIAAjKXsXPREIAABCAAAQhAAAIQiCGAgMRwp1cIQAACEIAABCAAAQjMJQEEZC5j56IhAAEIQAACEIAABCAQQwABieFOrxCAAAQgAAEIQAACEJhLAgjIXMbORUMAAhCAAAQgAAEIQCCGAAISw51eIQABCEAAAhCAAAQgMJcEEJC5jJ2LhgAEIAABCEAAAhCAQAwBBCSGO71CAAIQgAAEIAABCEBgLgkgIHMZOxcNAQhAAAIQgAAEIACBGAIISAx3eoUABCAAAQhAAAIQgMBcEvj/2CEPAJ28QrgAAAAASUVORK5CYII=\" width=\"640\">"
      ],
      "text/plain": [
       "<IPython.core.display.HTML object>"
      ]
     },
     "metadata": {},
     "output_type": "display_data"
    },
    {
     "data": {
      "application/javascript": [
       "/* Put everything inside the global mpl namespace */\n",
       "window.mpl = {};\n",
       "\n",
       "\n",
       "mpl.get_websocket_type = function() {\n",
       "    if (typeof(WebSocket) !== 'undefined') {\n",
       "        return WebSocket;\n",
       "    } else if (typeof(MozWebSocket) !== 'undefined') {\n",
       "        return MozWebSocket;\n",
       "    } else {\n",
       "        alert('Your browser does not have WebSocket support.' +\n",
       "              'Please try Chrome, Safari or Firefox ≥ 6. ' +\n",
       "              'Firefox 4 and 5 are also supported but you ' +\n",
       "              'have to enable WebSockets in about:config.');\n",
       "    };\n",
       "}\n",
       "\n",
       "mpl.figure = function(figure_id, websocket, ondownload, parent_element) {\n",
       "    this.id = figure_id;\n",
       "\n",
       "    this.ws = websocket;\n",
       "\n",
       "    this.supports_binary = (this.ws.binaryType != undefined);\n",
       "\n",
       "    if (!this.supports_binary) {\n",
       "        var warnings = document.getElementById(\"mpl-warnings\");\n",
       "        if (warnings) {\n",
       "            warnings.style.display = 'block';\n",
       "            warnings.textContent = (\n",
       "                \"This browser does not support binary websocket messages. \" +\n",
       "                    \"Performance may be slow.\");\n",
       "        }\n",
       "    }\n",
       "\n",
       "    this.imageObj = new Image();\n",
       "\n",
       "    this.context = undefined;\n",
       "    this.message = undefined;\n",
       "    this.canvas = undefined;\n",
       "    this.rubberband_canvas = undefined;\n",
       "    this.rubberband_context = undefined;\n",
       "    this.format_dropdown = undefined;\n",
       "\n",
       "    this.image_mode = 'full';\n",
       "\n",
       "    this.root = $('<div/>');\n",
       "    this._root_extra_style(this.root)\n",
       "    this.root.attr('style', 'display: inline-block');\n",
       "\n",
       "    $(parent_element).append(this.root);\n",
       "\n",
       "    this._init_header(this);\n",
       "    this._init_canvas(this);\n",
       "    this._init_toolbar(this);\n",
       "\n",
       "    var fig = this;\n",
       "\n",
       "    this.waiting = false;\n",
       "\n",
       "    this.ws.onopen =  function () {\n",
       "            fig.send_message(\"supports_binary\", {value: fig.supports_binary});\n",
       "            fig.send_message(\"send_image_mode\", {});\n",
       "            if (mpl.ratio != 1) {\n",
       "                fig.send_message(\"set_dpi_ratio\", {'dpi_ratio': mpl.ratio});\n",
       "            }\n",
       "            fig.send_message(\"refresh\", {});\n",
       "        }\n",
       "\n",
       "    this.imageObj.onload = function() {\n",
       "            if (fig.image_mode == 'full') {\n",
       "                // Full images could contain transparency (where diff images\n",
       "                // almost always do), so we need to clear the canvas so that\n",
       "                // there is no ghosting.\n",
       "                fig.context.clearRect(0, 0, fig.canvas.width, fig.canvas.height);\n",
       "            }\n",
       "            fig.context.drawImage(fig.imageObj, 0, 0);\n",
       "        };\n",
       "\n",
       "    this.imageObj.onunload = function() {\n",
       "        this.ws.close();\n",
       "    }\n",
       "\n",
       "    this.ws.onmessage = this._make_on_message_function(this);\n",
       "\n",
       "    this.ondownload = ondownload;\n",
       "}\n",
       "\n",
       "mpl.figure.prototype._init_header = function() {\n",
       "    var titlebar = $(\n",
       "        '<div class=\"ui-dialog-titlebar ui-widget-header ui-corner-all ' +\n",
       "        'ui-helper-clearfix\"/>');\n",
       "    var titletext = $(\n",
       "        '<div class=\"ui-dialog-title\" style=\"width: 100%; ' +\n",
       "        'text-align: center; padding: 3px;\"/>');\n",
       "    titlebar.append(titletext)\n",
       "    this.root.append(titlebar);\n",
       "    this.header = titletext[0];\n",
       "}\n",
       "\n",
       "\n",
       "\n",
       "mpl.figure.prototype._canvas_extra_style = function(canvas_div) {\n",
       "\n",
       "}\n",
       "\n",
       "\n",
       "mpl.figure.prototype._root_extra_style = function(canvas_div) {\n",
       "\n",
       "}\n",
       "\n",
       "mpl.figure.prototype._init_canvas = function() {\n",
       "    var fig = this;\n",
       "\n",
       "    var canvas_div = $('<div/>');\n",
       "\n",
       "    canvas_div.attr('style', 'position: relative; clear: both; outline: 0');\n",
       "\n",
       "    function canvas_keyboard_event(event) {\n",
       "        return fig.key_event(event, event['data']);\n",
       "    }\n",
       "\n",
       "    canvas_div.keydown('key_press', canvas_keyboard_event);\n",
       "    canvas_div.keyup('key_release', canvas_keyboard_event);\n",
       "    this.canvas_div = canvas_div\n",
       "    this._canvas_extra_style(canvas_div)\n",
       "    this.root.append(canvas_div);\n",
       "\n",
       "    var canvas = $('<canvas/>');\n",
       "    canvas.addClass('mpl-canvas');\n",
       "    canvas.attr('style', \"left: 0; top: 0; z-index: 0; outline: 0\")\n",
       "\n",
       "    this.canvas = canvas[0];\n",
       "    this.context = canvas[0].getContext(\"2d\");\n",
       "\n",
       "    var backingStore = this.context.backingStorePixelRatio ||\n",
       "\tthis.context.webkitBackingStorePixelRatio ||\n",
       "\tthis.context.mozBackingStorePixelRatio ||\n",
       "\tthis.context.msBackingStorePixelRatio ||\n",
       "\tthis.context.oBackingStorePixelRatio ||\n",
       "\tthis.context.backingStorePixelRatio || 1;\n",
       "\n",
       "    mpl.ratio = (window.devicePixelRatio || 1) / backingStore;\n",
       "\n",
       "    var rubberband = $('<canvas/>');\n",
       "    rubberband.attr('style', \"position: absolute; left: 0; top: 0; z-index: 1;\")\n",
       "\n",
       "    var pass_mouse_events = true;\n",
       "\n",
       "    canvas_div.resizable({\n",
       "        start: function(event, ui) {\n",
       "            pass_mouse_events = false;\n",
       "        },\n",
       "        resize: function(event, ui) {\n",
       "            fig.request_resize(ui.size.width, ui.size.height);\n",
       "        },\n",
       "        stop: function(event, ui) {\n",
       "            pass_mouse_events = true;\n",
       "            fig.request_resize(ui.size.width, ui.size.height);\n",
       "        },\n",
       "    });\n",
       "\n",
       "    function mouse_event_fn(event) {\n",
       "        if (pass_mouse_events)\n",
       "            return fig.mouse_event(event, event['data']);\n",
       "    }\n",
       "\n",
       "    rubberband.mousedown('button_press', mouse_event_fn);\n",
       "    rubberband.mouseup('button_release', mouse_event_fn);\n",
       "    // Throttle sequential mouse events to 1 every 20ms.\n",
       "    rubberband.mousemove('motion_notify', mouse_event_fn);\n",
       "\n",
       "    rubberband.mouseenter('figure_enter', mouse_event_fn);\n",
       "    rubberband.mouseleave('figure_leave', mouse_event_fn);\n",
       "\n",
       "    canvas_div.on(\"wheel\", function (event) {\n",
       "        event = event.originalEvent;\n",
       "        event['data'] = 'scroll'\n",
       "        if (event.deltaY < 0) {\n",
       "            event.step = 1;\n",
       "        } else {\n",
       "            event.step = -1;\n",
       "        }\n",
       "        mouse_event_fn(event);\n",
       "    });\n",
       "\n",
       "    canvas_div.append(canvas);\n",
       "    canvas_div.append(rubberband);\n",
       "\n",
       "    this.rubberband = rubberband;\n",
       "    this.rubberband_canvas = rubberband[0];\n",
       "    this.rubberband_context = rubberband[0].getContext(\"2d\");\n",
       "    this.rubberband_context.strokeStyle = \"#000000\";\n",
       "\n",
       "    this._resize_canvas = function(width, height) {\n",
       "        // Keep the size of the canvas, canvas container, and rubber band\n",
       "        // canvas in synch.\n",
       "        canvas_div.css('width', width)\n",
       "        canvas_div.css('height', height)\n",
       "\n",
       "        canvas.attr('width', width * mpl.ratio);\n",
       "        canvas.attr('height', height * mpl.ratio);\n",
       "        canvas.attr('style', 'width: ' + width + 'px; height: ' + height + 'px;');\n",
       "\n",
       "        rubberband.attr('width', width);\n",
       "        rubberband.attr('height', height);\n",
       "    }\n",
       "\n",
       "    // Set the figure to an initial 600x600px, this will subsequently be updated\n",
       "    // upon first draw.\n",
       "    this._resize_canvas(600, 600);\n",
       "\n",
       "    // Disable right mouse context menu.\n",
       "    $(this.rubberband_canvas).bind(\"contextmenu\",function(e){\n",
       "        return false;\n",
       "    });\n",
       "\n",
       "    function set_focus () {\n",
       "        canvas.focus();\n",
       "        canvas_div.focus();\n",
       "    }\n",
       "\n",
       "    window.setTimeout(set_focus, 100);\n",
       "}\n",
       "\n",
       "mpl.figure.prototype._init_toolbar = function() {\n",
       "    var fig = this;\n",
       "\n",
       "    var nav_element = $('<div/>')\n",
       "    nav_element.attr('style', 'width: 100%');\n",
       "    this.root.append(nav_element);\n",
       "\n",
       "    // Define a callback function for later on.\n",
       "    function toolbar_event(event) {\n",
       "        return fig.toolbar_button_onclick(event['data']);\n",
       "    }\n",
       "    function toolbar_mouse_event(event) {\n",
       "        return fig.toolbar_button_onmouseover(event['data']);\n",
       "    }\n",
       "\n",
       "    for(var toolbar_ind in mpl.toolbar_items) {\n",
       "        var name = mpl.toolbar_items[toolbar_ind][0];\n",
       "        var tooltip = mpl.toolbar_items[toolbar_ind][1];\n",
       "        var image = mpl.toolbar_items[toolbar_ind][2];\n",
       "        var method_name = mpl.toolbar_items[toolbar_ind][3];\n",
       "\n",
       "        if (!name) {\n",
       "            // put a spacer in here.\n",
       "            continue;\n",
       "        }\n",
       "        var button = $('<button/>');\n",
       "        button.addClass('ui-button ui-widget ui-state-default ui-corner-all ' +\n",
       "                        'ui-button-icon-only');\n",
       "        button.attr('role', 'button');\n",
       "        button.attr('aria-disabled', 'false');\n",
       "        button.click(method_name, toolbar_event);\n",
       "        button.mouseover(tooltip, toolbar_mouse_event);\n",
       "\n",
       "        var icon_img = $('<span/>');\n",
       "        icon_img.addClass('ui-button-icon-primary ui-icon');\n",
       "        icon_img.addClass(image);\n",
       "        icon_img.addClass('ui-corner-all');\n",
       "\n",
       "        var tooltip_span = $('<span/>');\n",
       "        tooltip_span.addClass('ui-button-text');\n",
       "        tooltip_span.html(tooltip);\n",
       "\n",
       "        button.append(icon_img);\n",
       "        button.append(tooltip_span);\n",
       "\n",
       "        nav_element.append(button);\n",
       "    }\n",
       "\n",
       "    var fmt_picker_span = $('<span/>');\n",
       "\n",
       "    var fmt_picker = $('<select/>');\n",
       "    fmt_picker.addClass('mpl-toolbar-option ui-widget ui-widget-content');\n",
       "    fmt_picker_span.append(fmt_picker);\n",
       "    nav_element.append(fmt_picker_span);\n",
       "    this.format_dropdown = fmt_picker[0];\n",
       "\n",
       "    for (var ind in mpl.extensions) {\n",
       "        var fmt = mpl.extensions[ind];\n",
       "        var option = $(\n",
       "            '<option/>', {selected: fmt === mpl.default_extension}).html(fmt);\n",
       "        fmt_picker.append(option)\n",
       "    }\n",
       "\n",
       "    // Add hover states to the ui-buttons\n",
       "    $( \".ui-button\" ).hover(\n",
       "        function() { $(this).addClass(\"ui-state-hover\");},\n",
       "        function() { $(this).removeClass(\"ui-state-hover\");}\n",
       "    );\n",
       "\n",
       "    var status_bar = $('<span class=\"mpl-message\"/>');\n",
       "    nav_element.append(status_bar);\n",
       "    this.message = status_bar[0];\n",
       "}\n",
       "\n",
       "mpl.figure.prototype.request_resize = function(x_pixels, y_pixels) {\n",
       "    // Request matplotlib to resize the figure. Matplotlib will then trigger a resize in the client,\n",
       "    // which will in turn request a refresh of the image.\n",
       "    this.send_message('resize', {'width': x_pixels, 'height': y_pixels});\n",
       "}\n",
       "\n",
       "mpl.figure.prototype.send_message = function(type, properties) {\n",
       "    properties['type'] = type;\n",
       "    properties['figure_id'] = this.id;\n",
       "    this.ws.send(JSON.stringify(properties));\n",
       "}\n",
       "\n",
       "mpl.figure.prototype.send_draw_message = function() {\n",
       "    if (!this.waiting) {\n",
       "        this.waiting = true;\n",
       "        this.ws.send(JSON.stringify({type: \"draw\", figure_id: this.id}));\n",
       "    }\n",
       "}\n",
       "\n",
       "\n",
       "mpl.figure.prototype.handle_save = function(fig, msg) {\n",
       "    var format_dropdown = fig.format_dropdown;\n",
       "    var format = format_dropdown.options[format_dropdown.selectedIndex].value;\n",
       "    fig.ondownload(fig, format);\n",
       "}\n",
       "\n",
       "\n",
       "mpl.figure.prototype.handle_resize = function(fig, msg) {\n",
       "    var size = msg['size'];\n",
       "    if (size[0] != fig.canvas.width || size[1] != fig.canvas.height) {\n",
       "        fig._resize_canvas(size[0], size[1]);\n",
       "        fig.send_message(\"refresh\", {});\n",
       "    };\n",
       "}\n",
       "\n",
       "mpl.figure.prototype.handle_rubberband = function(fig, msg) {\n",
       "    var x0 = msg['x0'] / mpl.ratio;\n",
       "    var y0 = (fig.canvas.height - msg['y0']) / mpl.ratio;\n",
       "    var x1 = msg['x1'] / mpl.ratio;\n",
       "    var y1 = (fig.canvas.height - msg['y1']) / mpl.ratio;\n",
       "    x0 = Math.floor(x0) + 0.5;\n",
       "    y0 = Math.floor(y0) + 0.5;\n",
       "    x1 = Math.floor(x1) + 0.5;\n",
       "    y1 = Math.floor(y1) + 0.5;\n",
       "    var min_x = Math.min(x0, x1);\n",
       "    var min_y = Math.min(y0, y1);\n",
       "    var width = Math.abs(x1 - x0);\n",
       "    var height = Math.abs(y1 - y0);\n",
       "\n",
       "    fig.rubberband_context.clearRect(\n",
       "        0, 0, fig.canvas.width, fig.canvas.height);\n",
       "\n",
       "    fig.rubberband_context.strokeRect(min_x, min_y, width, height);\n",
       "}\n",
       "\n",
       "mpl.figure.prototype.handle_figure_label = function(fig, msg) {\n",
       "    // Updates the figure title.\n",
       "    fig.header.textContent = msg['label'];\n",
       "}\n",
       "\n",
       "mpl.figure.prototype.handle_cursor = function(fig, msg) {\n",
       "    var cursor = msg['cursor'];\n",
       "    switch(cursor)\n",
       "    {\n",
       "    case 0:\n",
       "        cursor = 'pointer';\n",
       "        break;\n",
       "    case 1:\n",
       "        cursor = 'default';\n",
       "        break;\n",
       "    case 2:\n",
       "        cursor = 'crosshair';\n",
       "        break;\n",
       "    case 3:\n",
       "        cursor = 'move';\n",
       "        break;\n",
       "    }\n",
       "    fig.rubberband_canvas.style.cursor = cursor;\n",
       "}\n",
       "\n",
       "mpl.figure.prototype.handle_message = function(fig, msg) {\n",
       "    fig.message.textContent = msg['message'];\n",
       "}\n",
       "\n",
       "mpl.figure.prototype.handle_draw = function(fig, msg) {\n",
       "    // Request the server to send over a new figure.\n",
       "    fig.send_draw_message();\n",
       "}\n",
       "\n",
       "mpl.figure.prototype.handle_image_mode = function(fig, msg) {\n",
       "    fig.image_mode = msg['mode'];\n",
       "}\n",
       "\n",
       "mpl.figure.prototype.updated_canvas_event = function() {\n",
       "    // Called whenever the canvas gets updated.\n",
       "    this.send_message(\"ack\", {});\n",
       "}\n",
       "\n",
       "// A function to construct a web socket function for onmessage handling.\n",
       "// Called in the figure constructor.\n",
       "mpl.figure.prototype._make_on_message_function = function(fig) {\n",
       "    return function socket_on_message(evt) {\n",
       "        if (evt.data instanceof Blob) {\n",
       "            /* FIXME: We get \"Resource interpreted as Image but\n",
       "             * transferred with MIME type text/plain:\" errors on\n",
       "             * Chrome.  But how to set the MIME type?  It doesn't seem\n",
       "             * to be part of the websocket stream */\n",
       "            evt.data.type = \"image/png\";\n",
       "\n",
       "            /* Free the memory for the previous frames */\n",
       "            if (fig.imageObj.src) {\n",
       "                (window.URL || window.webkitURL).revokeObjectURL(\n",
       "                    fig.imageObj.src);\n",
       "            }\n",
       "\n",
       "            fig.imageObj.src = (window.URL || window.webkitURL).createObjectURL(\n",
       "                evt.data);\n",
       "            fig.updated_canvas_event();\n",
       "            fig.waiting = false;\n",
       "            return;\n",
       "        }\n",
       "        else if (typeof evt.data === 'string' && evt.data.slice(0, 21) == \"data:image/png;base64\") {\n",
       "            fig.imageObj.src = evt.data;\n",
       "            fig.updated_canvas_event();\n",
       "            fig.waiting = false;\n",
       "            return;\n",
       "        }\n",
       "\n",
       "        var msg = JSON.parse(evt.data);\n",
       "        var msg_type = msg['type'];\n",
       "\n",
       "        // Call the  \"handle_{type}\" callback, which takes\n",
       "        // the figure and JSON message as its only arguments.\n",
       "        try {\n",
       "            var callback = fig[\"handle_\" + msg_type];\n",
       "        } catch (e) {\n",
       "            console.log(\"No handler for the '\" + msg_type + \"' message type: \", msg);\n",
       "            return;\n",
       "        }\n",
       "\n",
       "        if (callback) {\n",
       "            try {\n",
       "                // console.log(\"Handling '\" + msg_type + \"' message: \", msg);\n",
       "                callback(fig, msg);\n",
       "            } catch (e) {\n",
       "                console.log(\"Exception inside the 'handler_\" + msg_type + \"' callback:\", e, e.stack, msg);\n",
       "            }\n",
       "        }\n",
       "    };\n",
       "}\n",
       "\n",
       "// from http://stackoverflow.com/questions/1114465/getting-mouse-location-in-canvas\n",
       "mpl.findpos = function(e) {\n",
       "    //this section is from http://www.quirksmode.org/js/events_properties.html\n",
       "    var targ;\n",
       "    if (!e)\n",
       "        e = window.event;\n",
       "    if (e.target)\n",
       "        targ = e.target;\n",
       "    else if (e.srcElement)\n",
       "        targ = e.srcElement;\n",
       "    if (targ.nodeType == 3) // defeat Safari bug\n",
       "        targ = targ.parentNode;\n",
       "\n",
       "    // jQuery normalizes the pageX and pageY\n",
       "    // pageX,Y are the mouse positions relative to the document\n",
       "    // offset() returns the position of the element relative to the document\n",
       "    var x = e.pageX - $(targ).offset().left;\n",
       "    var y = e.pageY - $(targ).offset().top;\n",
       "\n",
       "    return {\"x\": x, \"y\": y};\n",
       "};\n",
       "\n",
       "/*\n",
       " * return a copy of an object with only non-object keys\n",
       " * we need this to avoid circular references\n",
       " * http://stackoverflow.com/a/24161582/3208463\n",
       " */\n",
       "function simpleKeys (original) {\n",
       "  return Object.keys(original).reduce(function (obj, key) {\n",
       "    if (typeof original[key] !== 'object')\n",
       "        obj[key] = original[key]\n",
       "    return obj;\n",
       "  }, {});\n",
       "}\n",
       "\n",
       "mpl.figure.prototype.mouse_event = function(event, name) {\n",
       "    var canvas_pos = mpl.findpos(event)\n",
       "\n",
       "    if (name === 'button_press')\n",
       "    {\n",
       "        this.canvas.focus();\n",
       "        this.canvas_div.focus();\n",
       "    }\n",
       "\n",
       "    var x = canvas_pos.x * mpl.ratio;\n",
       "    var y = canvas_pos.y * mpl.ratio;\n",
       "\n",
       "    this.send_message(name, {x: x, y: y, button: event.button,\n",
       "                             step: event.step,\n",
       "                             guiEvent: simpleKeys(event)});\n",
       "\n",
       "    /* This prevents the web browser from automatically changing to\n",
       "     * the text insertion cursor when the button is pressed.  We want\n",
       "     * to control all of the cursor setting manually through the\n",
       "     * 'cursor' event from matplotlib */\n",
       "    event.preventDefault();\n",
       "    return false;\n",
       "}\n",
       "\n",
       "mpl.figure.prototype._key_event_extra = function(event, name) {\n",
       "    // Handle any extra behaviour associated with a key event\n",
       "}\n",
       "\n",
       "mpl.figure.prototype.key_event = function(event, name) {\n",
       "\n",
       "    // Prevent repeat events\n",
       "    if (name == 'key_press')\n",
       "    {\n",
       "        if (event.which === this._key)\n",
       "            return;\n",
       "        else\n",
       "            this._key = event.which;\n",
       "    }\n",
       "    if (name == 'key_release')\n",
       "        this._key = null;\n",
       "\n",
       "    var value = '';\n",
       "    if (event.ctrlKey && event.which != 17)\n",
       "        value += \"ctrl+\";\n",
       "    if (event.altKey && event.which != 18)\n",
       "        value += \"alt+\";\n",
       "    if (event.shiftKey && event.which != 16)\n",
       "        value += \"shift+\";\n",
       "\n",
       "    value += 'k';\n",
       "    value += event.which.toString();\n",
       "\n",
       "    this._key_event_extra(event, name);\n",
       "\n",
       "    this.send_message(name, {key: value,\n",
       "                             guiEvent: simpleKeys(event)});\n",
       "    return false;\n",
       "}\n",
       "\n",
       "mpl.figure.prototype.toolbar_button_onclick = function(name) {\n",
       "    if (name == 'download') {\n",
       "        this.handle_save(this, null);\n",
       "    } else {\n",
       "        this.send_message(\"toolbar_button\", {name: name});\n",
       "    }\n",
       "};\n",
       "\n",
       "mpl.figure.prototype.toolbar_button_onmouseover = function(tooltip) {\n",
       "    this.message.textContent = tooltip;\n",
       "};\n",
       "mpl.toolbar_items = [[\"Home\", \"Reset original view\", \"fa fa-home icon-home\", \"home\"], [\"Back\", \"Back to  previous view\", \"fa fa-arrow-left icon-arrow-left\", \"back\"], [\"Forward\", \"Forward to next view\", \"fa fa-arrow-right icon-arrow-right\", \"forward\"], [\"\", \"\", \"\", \"\"], [\"Pan\", \"Pan axes with left mouse, zoom with right\", \"fa fa-arrows icon-move\", \"pan\"], [\"Zoom\", \"Zoom to rectangle\", \"fa fa-square-o icon-check-empty\", \"zoom\"], [\"\", \"\", \"\", \"\"], [\"Download\", \"Download plot\", \"fa fa-floppy-o icon-save\", \"download\"]];\n",
       "\n",
       "mpl.extensions = [\"eps\", \"jpeg\", \"pdf\", \"png\", \"ps\", \"raw\", \"svg\", \"tif\"];\n",
       "\n",
       "mpl.default_extension = \"png\";var comm_websocket_adapter = function(comm) {\n",
       "    // Create a \"websocket\"-like object which calls the given IPython comm\n",
       "    // object with the appropriate methods. Currently this is a non binary\n",
       "    // socket, so there is still some room for performance tuning.\n",
       "    var ws = {};\n",
       "\n",
       "    ws.close = function() {\n",
       "        comm.close()\n",
       "    };\n",
       "    ws.send = function(m) {\n",
       "        //console.log('sending', m);\n",
       "        comm.send(m);\n",
       "    };\n",
       "    // Register the callback with on_msg.\n",
       "    comm.on_msg(function(msg) {\n",
       "        //console.log('receiving', msg['content']['data'], msg);\n",
       "        // Pass the mpl event to the overriden (by mpl) onmessage function.\n",
       "        ws.onmessage(msg['content']['data'])\n",
       "    });\n",
       "    return ws;\n",
       "}\n",
       "\n",
       "mpl.mpl_figure_comm = function(comm, msg) {\n",
       "    // This is the function which gets called when the mpl process\n",
       "    // starts-up an IPython Comm through the \"matplotlib\" channel.\n",
       "\n",
       "    var id = msg.content.data.id;\n",
       "    // Get hold of the div created by the display call when the Comm\n",
       "    // socket was opened in Python.\n",
       "    var element = $(\"#\" + id);\n",
       "    var ws_proxy = comm_websocket_adapter(comm)\n",
       "\n",
       "    function ondownload(figure, format) {\n",
       "        window.open(figure.imageObj.src);\n",
       "    }\n",
       "\n",
       "    var fig = new mpl.figure(id, ws_proxy,\n",
       "                           ondownload,\n",
       "                           element.get(0));\n",
       "\n",
       "    // Call onopen now - mpl needs it, as it is assuming we've passed it a real\n",
       "    // web socket which is closed, not our websocket->open comm proxy.\n",
       "    ws_proxy.onopen();\n",
       "\n",
       "    fig.parent_element = element.get(0);\n",
       "    fig.cell_info = mpl.find_output_cell(\"<div id='\" + id + \"'></div>\");\n",
       "    if (!fig.cell_info) {\n",
       "        console.error(\"Failed to find cell for figure\", id, fig);\n",
       "        return;\n",
       "    }\n",
       "\n",
       "    var output_index = fig.cell_info[2]\n",
       "    var cell = fig.cell_info[0];\n",
       "\n",
       "};\n",
       "\n",
       "mpl.figure.prototype.handle_close = function(fig, msg) {\n",
       "    var width = fig.canvas.width/mpl.ratio\n",
       "    fig.root.unbind('remove')\n",
       "\n",
       "    // Update the output cell to use the data from the current canvas.\n",
       "    fig.push_to_output();\n",
       "    var dataURL = fig.canvas.toDataURL();\n",
       "    // Re-enable the keyboard manager in IPython - without this line, in FF,\n",
       "    // the notebook keyboard shortcuts fail.\n",
       "    IPython.keyboard_manager.enable()\n",
       "    $(fig.parent_element).html('<img src=\"' + dataURL + '\" width=\"' + width + '\">');\n",
       "    fig.close_ws(fig, msg);\n",
       "}\n",
       "\n",
       "mpl.figure.prototype.close_ws = function(fig, msg){\n",
       "    fig.send_message('closing', msg);\n",
       "    // fig.ws.close()\n",
       "}\n",
       "\n",
       "mpl.figure.prototype.push_to_output = function(remove_interactive) {\n",
       "    // Turn the data on the canvas into data in the output cell.\n",
       "    var width = this.canvas.width/mpl.ratio\n",
       "    var dataURL = this.canvas.toDataURL();\n",
       "    this.cell_info[1]['text/html'] = '<img src=\"' + dataURL + '\" width=\"' + width + '\">';\n",
       "}\n",
       "\n",
       "mpl.figure.prototype.updated_canvas_event = function() {\n",
       "    // Tell IPython that the notebook contents must change.\n",
       "    IPython.notebook.set_dirty(true);\n",
       "    this.send_message(\"ack\", {});\n",
       "    var fig = this;\n",
       "    // Wait a second, then push the new image to the DOM so\n",
       "    // that it is saved nicely (might be nice to debounce this).\n",
       "    setTimeout(function () { fig.push_to_output() }, 1000);\n",
       "}\n",
       "\n",
       "mpl.figure.prototype._init_toolbar = function() {\n",
       "    var fig = this;\n",
       "\n",
       "    var nav_element = $('<div/>')\n",
       "    nav_element.attr('style', 'width: 100%');\n",
       "    this.root.append(nav_element);\n",
       "\n",
       "    // Define a callback function for later on.\n",
       "    function toolbar_event(event) {\n",
       "        return fig.toolbar_button_onclick(event['data']);\n",
       "    }\n",
       "    function toolbar_mouse_event(event) {\n",
       "        return fig.toolbar_button_onmouseover(event['data']);\n",
       "    }\n",
       "\n",
       "    for(var toolbar_ind in mpl.toolbar_items){\n",
       "        var name = mpl.toolbar_items[toolbar_ind][0];\n",
       "        var tooltip = mpl.toolbar_items[toolbar_ind][1];\n",
       "        var image = mpl.toolbar_items[toolbar_ind][2];\n",
       "        var method_name = mpl.toolbar_items[toolbar_ind][3];\n",
       "\n",
       "        if (!name) { continue; };\n",
       "\n",
       "        var button = $('<button class=\"btn btn-default\" href=\"#\" title=\"' + name + '\"><i class=\"fa ' + image + ' fa-lg\"></i></button>');\n",
       "        button.click(method_name, toolbar_event);\n",
       "        button.mouseover(tooltip, toolbar_mouse_event);\n",
       "        nav_element.append(button);\n",
       "    }\n",
       "\n",
       "    // Add the status bar.\n",
       "    var status_bar = $('<span class=\"mpl-message\" style=\"text-align:right; float: right;\"/>');\n",
       "    nav_element.append(status_bar);\n",
       "    this.message = status_bar[0];\n",
       "\n",
       "    // Add the close button to the window.\n",
       "    var buttongrp = $('<div class=\"btn-group inline pull-right\"></div>');\n",
       "    var button = $('<button class=\"btn btn-mini btn-primary\" href=\"#\" title=\"Stop Interaction\"><i class=\"fa fa-power-off icon-remove icon-large\"></i></button>');\n",
       "    button.click(function (evt) { fig.handle_close(fig, {}); } );\n",
       "    button.mouseover('Stop Interaction', toolbar_mouse_event);\n",
       "    buttongrp.append(button);\n",
       "    var titlebar = this.root.find($('.ui-dialog-titlebar'));\n",
       "    titlebar.prepend(buttongrp);\n",
       "}\n",
       "\n",
       "mpl.figure.prototype._root_extra_style = function(el){\n",
       "    var fig = this\n",
       "    el.on(\"remove\", function(){\n",
       "\tfig.close_ws(fig, {});\n",
       "    });\n",
       "}\n",
       "\n",
       "mpl.figure.prototype._canvas_extra_style = function(el){\n",
       "    // this is important to make the div 'focusable\n",
       "    el.attr('tabindex', 0)\n",
       "    // reach out to IPython and tell the keyboard manager to turn it's self\n",
       "    // off when our div gets focus\n",
       "\n",
       "    // location in version 3\n",
       "    if (IPython.notebook.keyboard_manager) {\n",
       "        IPython.notebook.keyboard_manager.register_events(el);\n",
       "    }\n",
       "    else {\n",
       "        // location in version 2\n",
       "        IPython.keyboard_manager.register_events(el);\n",
       "    }\n",
       "\n",
       "}\n",
       "\n",
       "mpl.figure.prototype._key_event_extra = function(event, name) {\n",
       "    var manager = IPython.notebook.keyboard_manager;\n",
       "    if (!manager)\n",
       "        manager = IPython.keyboard_manager;\n",
       "\n",
       "    // Check for shift+enter\n",
       "    if (event.shiftKey && event.which == 13) {\n",
       "        this.canvas_div.blur();\n",
       "        // select the cell after this one\n",
       "        var index = IPython.notebook.find_cell_index(this.cell_info[0]);\n",
       "        IPython.notebook.select(index + 1);\n",
       "    }\n",
       "}\n",
       "\n",
       "mpl.figure.prototype.handle_save = function(fig, msg) {\n",
       "    fig.ondownload(fig, null);\n",
       "}\n",
       "\n",
       "\n",
       "mpl.find_output_cell = function(html_output) {\n",
       "    // Return the cell and output element which can be found *uniquely* in the notebook.\n",
       "    // Note - this is a bit hacky, but it is done because the \"notebook_saving.Notebook\"\n",
       "    // IPython event is triggered only after the cells have been serialised, which for\n",
       "    // our purposes (turning an active figure into a static one), is too late.\n",
       "    var cells = IPython.notebook.get_cells();\n",
       "    var ncells = cells.length;\n",
       "    for (var i=0; i<ncells; i++) {\n",
       "        var cell = cells[i];\n",
       "        if (cell.cell_type === 'code'){\n",
       "            for (var j=0; j<cell.output_area.outputs.length; j++) {\n",
       "                var data = cell.output_area.outputs[j];\n",
       "                if (data.data) {\n",
       "                    // IPython >= 3 moved mimebundle to data attribute of output\n",
       "                    data = data.data;\n",
       "                }\n",
       "                if (data['text/html'] == html_output) {\n",
       "                    return [cell, data, j];\n",
       "                }\n",
       "            }\n",
       "        }\n",
       "    }\n",
       "}\n",
       "\n",
       "// Register the function which deals with the matplotlib target/channel.\n",
       "// The kernel may be null if the page has been refreshed.\n",
       "if (IPython.notebook.kernel != null) {\n",
       "    IPython.notebook.kernel.comm_manager.register_target('matplotlib', mpl.mpl_figure_comm);\n",
       "}\n"
      ],
      "text/plain": [
       "<IPython.core.display.Javascript object>"
      ]
     },
     "metadata": {},
     "output_type": "display_data"
    },
    {
     "data": {
      "text/html": [
       "<img src=\"data:image/png;base64,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\" width=\"640\">"
      ],
      "text/plain": [
       "<IPython.core.display.HTML object>"
      ]
     },
     "metadata": {},
     "output_type": "display_data"
    }
   ],
   "source": [
    "%matplotlib nbagg\n",
    "import hyperspy.api as hs\n",
    "import numpy as np\n",
    "hs.signals.Signal1D(np.random.rand(10,10,100)).plot()"
   ]
  },
  {
   "cell_type": "markdown",
   "metadata": {
    "slideshow": {
     "slide_type": "skip"
    }
   },
   "source": [
    "#### Downloading and creating test signal:"
   ]
  },
  {
   "cell_type": "code",
   "execution_count": 14,
   "metadata": {
    "slideshow": {
     "slide_type": "skip"
    }
   },
   "outputs": [
    {
     "name": "stdout",
     "output_type": "stream",
     "text": [
      "Overwrite 'examples/EELS_signal_B4C.hdf5' (y/n)?\n",
      "y\n"
     ]
    }
   ],
   "source": [
    "import hyperspy.api as hs\n",
    "hs.datasets.eelsdb(spectrum_type='coreloss', formula=\"B4C\")[0].save('examples/EELS_signal_B4C.hdf5')\n",
    "hs.datasets.eelsdb(spectrum_type='lowloss', title=\"Silicon Dioxide Amorphous\")[0].save('examples/EELS_signal_SiO2_ll.hdf5')"
   ]
  },
  {
   "cell_type": "code",
   "execution_count": 59,
   "metadata": {
    "slideshow": {
     "slide_type": "skip"
    }
   },
   "outputs": [
    {
     "name": "stdout",
     "output_type": "stream",
     "text": [
      "Overwrite 'astronaut.hdf5' (y/n)?\n",
      "y\n"
     ]
    }
   ],
   "source": [
    "import hyperspy.api as hs\n",
    "from skimage.data import astronaut\n",
    "s = hs.signals.Signal1D(astronaut())\n",
    "\n",
    "# Calibrate the image\n",
    "s.axes_manager[0].name = \"width\"\n",
    "s.axes_manager[0].scale = 0.13\n",
    "s.axes_manager[0].offset = -29.2\n",
    "s.axes_manager[0].units = \"cm\"\n",
    "\n",
    "s.axes_manager[1].name = \"height\"\n",
    "s.axes_manager[1].scale = 0.13\n",
    "s.axes_manager[1].offset = -12.9\n",
    "s.axes_manager[1].units = \"cm\"\n",
    "\n",
    "s.axes_manager[2].name = \"RGB\"\n",
    "s.to_signal2D().save(\"astronaut.hdf5\")"
   ]
  },
  {
   "cell_type": "code",
   "execution_count": 60,
   "metadata": {
    "slideshow": {
     "slide_type": "skip"
    }
   },
   "outputs": [],
   "source": [
    "from urllib.request import urlretrieve, urlopen\n",
    "from zipfile import ZipFile\n",
    "\n",
    "# This line doesn't work at NIST, but we've packaged the files locally\n",
    "# files = urlretrieve(\"https://www.dropbox.com/s/dt6bc3dtg373ahw/machine_learning.zip?raw=1\", \"./machine_learning.zip\")\n",
    "\n",
    "with ZipFile(\"../machine_learning.zip\") as z:\n",
    "    z.extractall()"
   ]
  }
 ],
 "metadata": {
  "celltoolbar": "Slideshow",
  "kernelspec": {
   "display_name": "Python 3",
   "language": "python",
   "name": "python3"
  },
  "language_info": {
   "codemirror_mode": {
    "name": "ipython",
    "version": 3
   },
   "file_extension": ".py",
   "mimetype": "text/x-python",
   "name": "python",
   "nbconvert_exporter": "python",
   "pygments_lexer": "ipython3",
   "version": "3.6.4"
  },
  "livereveal": {
   "autolaunch": true,
   "backimage": "nist_mml_background.png",
   "footer": "<img src=\"nist_mml_logo.svg\">",
   "header": "",
   "scroll": true,
   "transition": "slide",
   "transitionSpeed": "slow"
  },
  "toc": {
   "nav_menu": {},
   "number_sections": true,
   "sideBar": true,
   "skip_h1_title": false,
   "toc_cell": false,
   "toc_position": {},
   "toc_section_display": "block",
   "toc_window_display": false
  },
  "varInspector": {
   "cols": {
    "lenName": 16,
    "lenType": 16,
    "lenVar": 40
   },
   "kernels_config": {
    "python": {
     "delete_cmd_postfix": "",
     "delete_cmd_prefix": "del ",
     "library": "var_list.py",
     "varRefreshCmd": "print(var_dic_list())"
    },
    "r": {
     "delete_cmd_postfix": ") ",
     "delete_cmd_prefix": "rm(",
     "library": "var_list.r",
     "varRefreshCmd": "cat(var_dic_list()) "
    }
   },
   "types_to_exclude": [
    "module",
    "function",
    "builtin_function_or_method",
    "instance",
    "_Feature"
   ],
   "window_display": false
  }
 },
 "nbformat": 4,
 "nbformat_minor": 2
}
