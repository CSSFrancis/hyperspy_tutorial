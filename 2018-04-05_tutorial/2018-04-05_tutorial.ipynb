{
 "cells": [
  {
   "cell_type": "markdown",
   "metadata": {
    "collapsed": true,
    "slideshow": {
     "slide_type": "slide"
    }
   },
   "source": [
    "# An Introduction to HyperSpy:\n",
    "## The multi-dimensional data analysis toolbox\n",
    "\n",
    "### <br/>\n",
    "### Josh Taillon and Andy Herzing\n",
    "#### *April 5, 2018*"
   ]
  },
  {
   "cell_type": "markdown",
   "metadata": {
    "slideshow": {
     "slide_type": "notes"
    }
   },
   "source": [
    "# Notes for before presentation:\n",
    "* Open separate instances of the following (all in `hyperspy` conda env):\n",
    "    * Jupyter QtConsole\n",
    "    * HyperSpyUI\n",
    "    * JupyterLab\n",
    "    * Jupyter Notebook\n",
    "    * Spyder (with `./examples/analysis_script.py` open)\n",
    "    * Plain anaconda console in `./examples/` directory\n",
    "    "
   ]
  },
  {
   "cell_type": "markdown",
   "metadata": {
    "slideshow": {
     "slide_type": "notes"
    }
   },
   "source": [
    "#### Import hyperspy"
   ]
  },
  {
   "cell_type": "code",
   "execution_count": null,
   "metadata": {
    "slideshow": {
     "slide_type": "notes"
    }
   },
   "outputs": [],
   "source": [
    "%matplotlib nbagg\n",
    "import hyperspy.api as hs"
   ]
  },
  {
   "cell_type": "markdown",
   "metadata": {
    "slideshow": {
     "slide_type": "notes"
    }
   },
   "source": [
    "#### Disable warnings for presentation:"
   ]
  },
  {
   "cell_type": "code",
   "execution_count": null,
   "metadata": {
    "slideshow": {
     "slide_type": "notes"
    }
   },
   "outputs": [],
   "source": [
    "import logging\n",
    "hs_logger = logging.getLogger('hyperspy') \n",
    "hs_logger.setLevel(logging.ERROR)"
   ]
  },
  {
   "cell_type": "markdown",
   "metadata": {
    "slideshow": {
     "slide_type": "slide"
    }
   },
   "source": [
    "## A quick note first:"
   ]
  },
  {
   "cell_type": "markdown",
   "metadata": {
    "collapsed": true,
    "slideshow": {
     "slide_type": "subslide"
    }
   },
   "source": [
    "## This isn't your parents' Powerpoint..."
   ]
  },
  {
   "cell_type": "markdown",
   "metadata": {
    "slideshow": {
     "slide_type": "subslide"
    }
   },
   "source": [
    "## ...because everything is interactive!"
   ]
  },
  {
   "cell_type": "code",
   "execution_count": null,
   "metadata": {
    "ExecuteTime": {
     "end_time": "2018-03-29T14:43:53.331510Z",
     "start_time": "2018-03-29T14:43:53.326506Z"
    },
    "slideshow": {
     "slide_type": "-"
    }
   },
   "outputs": [],
   "source": [
    "import datetime\n",
    "import time\n",
    "datestring = datetime.datetime.now().strftime('%B %d, %Y')\n",
    "for c in 'Today is {}!'.format(datestring):\n",
    "    print(c, end='')\n",
    "    time.sleep(.2)"
   ]
  },
  {
   "cell_type": "markdown",
   "metadata": {
    "slideshow": {
     "slide_type": "subslide"
    }
   },
   "source": [
    "## Made possible with:"
   ]
  },
  {
   "cell_type": "markdown",
   "metadata": {
    "slideshow": {
     "slide_type": ""
    }
   },
   "source": [
    "* Jupyter notebook &mdash; https://jupyter.org/"
   ]
  },
  {
   "cell_type": "markdown",
   "metadata": {
    "slideshow": {
     "slide_type": ""
    }
   },
   "source": [
    "* RISE (Reveal.js IPython/Jupyter Slideshow Extension) &mdash; https://github.com/damianavila/RISE"
   ]
  },
  {
   "cell_type": "markdown",
   "metadata": {
    "slideshow": {
     "slide_type": "slide"
    }
   },
   "source": [
    "# Introduction"
   ]
  },
  {
   "cell_type": "markdown",
   "metadata": {
    "slideshow": {
     "slide_type": "slide"
    }
   },
   "source": [
    "## What is HyperSpy?"
   ]
  },
  {
   "cell_type": "markdown",
   "metadata": {
    "slideshow": {
     "slide_type": "fragment"
    }
   },
   "source": [
    "* Open-source Python library for interactive data analysis of multi-dimensional datasets"
   ]
  },
  {
   "cell_type": "markdown",
   "metadata": {
    "slideshow": {
     "slide_type": "fragment"
    }
   },
   "source": [
    "* Makes it easy to operate on multi-dimensional arrays as you would a single spectrum (or image)"
   ]
  },
  {
   "cell_type": "markdown",
   "metadata": {
    "slideshow": {
     "slide_type": "fragment"
    }
   },
   "source": [
    "* Easy access to cutting-edge signal processing tools "
   ]
  },
  {
   "cell_type": "markdown",
   "metadata": {
    "slideshow": {
     "slide_type": "fragment"
    }
   },
   "source": [
    "* Modular structure makes it easy to add custom features"
   ]
  },
  {
   "cell_type": "markdown",
   "metadata": {
    "slideshow": {
     "slide_type": "subslide"
    }
   },
   "source": [
    "## History of HyperSpy"
   ]
  },
  {
   "cell_type": "markdown",
   "metadata": {
    "slideshow": {
     "slide_type": ""
    }
   },
   "source": [
    "* Developed by [Francisco de la Peña](https://scholar.google.com/citations?user=5n2c_fYAAAAJ&hl=en) in 2007 &mdash; 2012 as part of Ph.D. Thesis"
   ]
  },
  {
   "cell_type": "markdown",
   "metadata": {
    "slideshow": {
     "slide_type": "fragment"
    }
   },
   "source": [
    "* Originally called EELSLab:\n",
    "\n",
    "<center><img src=\"img/eelslab.png\" width=500px></center>"
   ]
  },
  {
   "cell_type": "markdown",
   "metadata": {
    "slideshow": {
     "slide_type": "subslide"
    }
   },
   "source": [
    "* Open-sourced (on [Github](https://github.com/hyperspy/hyperspy)) in 2010"
   ]
  },
  {
   "cell_type": "markdown",
   "metadata": {
    "slideshow": {
     "slide_type": "fragment"
    }
   },
   "source": [
    "* Renamed to HyperSpy in 2011"
   ]
  },
  {
   "cell_type": "markdown",
   "metadata": {
    "slideshow": {
     "slide_type": "fragment"
    }
   },
   "source": [
    "* Now... over 100 citations, and rapidly growing!"
   ]
  },
  {
   "cell_type": "markdown",
   "metadata": {
    "slideshow": {
     "slide_type": "slide"
    }
   },
   "source": [
    "## Design philosophy of HyperSpy"
   ]
  },
  {
   "cell_type": "markdown",
   "metadata": {
    "slideshow": {
     "slide_type": "fragment"
    }
   },
   "source": [
    "* HyperSpy is a Python library, rather than standalone program\n",
    "    * Part of the greater scientific Python ecosystem"
   ]
  },
  {
   "cell_type": "markdown",
   "metadata": {
    "slideshow": {
     "slide_type": "notes"
    }
   },
   "source": [
    "* Enables and requires Python scientific stack (i.e. `numpy` and `scipy`)"
   ]
  },
  {
   "cell_type": "markdown",
   "metadata": {
    "slideshow": {
     "slide_type": "fragment"
    }
   },
   "source": [
    "* Data storage is in an open hierarchical format (HDF5)"
   ]
  },
  {
   "cell_type": "markdown",
   "metadata": {
    "slideshow": {
     "slide_type": "fragment"
    }
   },
   "source": [
    "* Analysis done via reproducible notebooks"
   ]
  },
  {
   "cell_type": "markdown",
   "metadata": {
    "slideshow": {
     "slide_type": "fragment"
    }
   },
   "source": [
    "* Feature development is completely open-source"
   ]
  },
  {
   "cell_type": "markdown",
   "metadata": {
    "slideshow": {
     "slide_type": "slide"
    }
   },
   "source": [
    "## How we came to love HyperSpy"
   ]
  },
  {
   "cell_type": "markdown",
   "metadata": {
    "slideshow": {
     "slide_type": "subslide"
    }
   },
   "source": [
    "### Josh:"
   ]
  },
  {
   "cell_type": "markdown",
   "metadata": {},
   "source": [
    "* Became interested in multivariate statistical analysis of EELS spectrum images"
   ]
  },
  {
   "cell_type": "markdown",
   "metadata": {},
   "source": [
    "* No easy way to do that in commercial software"
   ]
  },
  {
   "cell_type": "markdown",
   "metadata": {},
   "source": [
    "* The entire scientific Python ecosystem is available from HyperSpy &mdash; <br/> machine learning, clustering, signal separation, etc."
   ]
  },
  {
   "cell_type": "markdown",
   "metadata": {},
   "source": [
    "* Came for the data analysis, stayed because of the community"
   ]
  },
  {
   "cell_type": "markdown",
   "metadata": {
    "slideshow": {
     "slide_type": "subslide"
    }
   },
   "source": [
    "### Andy:"
   ]
  },
  {
   "cell_type": "markdown",
   "metadata": {},
   "source": [
    "* <mark>To be filled-in</mark>"
   ]
  },
  {
   "cell_type": "markdown",
   "metadata": {},
   "source": [
    "* <mark>To be filled-in</mark>"
   ]
  },
  {
   "cell_type": "markdown",
   "metadata": {},
   "source": [
    "* <mark>To be filled-in</mark>"
   ]
  },
  {
   "cell_type": "markdown",
   "metadata": {},
   "source": [
    "* <mark>To be filled-in</mark>"
   ]
  },
  {
   "cell_type": "markdown",
   "metadata": {
    "slideshow": {
     "slide_type": "subslide"
    }
   },
   "source": [
    "# Getting Started"
   ]
  },
  {
   "cell_type": "markdown",
   "metadata": {
    "slideshow": {
     "slide_type": "slide"
    }
   },
   "source": [
    "## Installation"
   ]
  },
  {
   "cell_type": "markdown",
   "metadata": {
    "slideshow": {
     "slide_type": "fragment"
    }
   },
   "source": [
    "* Easiest method on Windows &mdash; HyperSpy bundle\n",
    "  * http://hyperspy.org/download.html#windows-bundle-installers\n",
    "  * Installs a Python distribution with HyperSpy included\n",
    "  * Best method if you have no prior Python experience"
   ]
  },
  {
   "cell_type": "markdown",
   "metadata": {
    "slideshow": {
     "slide_type": "fragment"
    }
   },
   "source": [
    "* For more control (on Windows, Mac, and Linux) &mdash; Anaconda Python\n",
    "  * https://www.anaconda.com/download/\n",
    "  * After installing Anaconda, simply run `conda install hyperspy`\n",
    "  * This method is preferred by the developers"
   ]
  },
  {
   "cell_type": "markdown",
   "metadata": {
    "slideshow": {
     "slide_type": "slide"
    }
   },
   "source": [
    "## How to use HyperSpy?"
   ]
  },
  {
   "cell_type": "markdown",
   "metadata": {
    "slideshow": {
     "slide_type": "fragment"
    }
   },
   "source": [
    "* Console/Command line"
   ]
  },
  {
   "cell_type": "markdown",
   "metadata": {
    "slideshow": {
     "slide_type": "fragment"
    }
   },
   "source": [
    "* Integrated development environment (IDE)"
   ]
  },
  {
   "cell_type": "markdown",
   "metadata": {
    "slideshow": {
     "slide_type": "fragment"
    }
   },
   "source": [
    "* **Jupyter Notebook** (and JupyterLab)"
   ]
  },
  {
   "cell_type": "markdown",
   "metadata": {
    "slideshow": {
     "slide_type": "fragment"
    }
   },
   "source": [
    "* HyperSpyUI"
   ]
  },
  {
   "cell_type": "markdown",
   "metadata": {
    "slideshow": {
     "slide_type": "subslide"
    }
   },
   "source": [
    "## Important note:\n"
   ]
  },
  {
   "cell_type": "markdown",
   "metadata": {},
   "source": [
    "<center>*Because HyperSpy is a library, all of these are just generic ways to access Python, and not specific to HyperSpy! <br/>(except the last one)*</center>"
   ]
  },
  {
   "cell_type": "markdown",
   "metadata": {
    "slideshow": {
     "slide_type": "subslide"
    }
   },
   "source": [
    "## Console/Command line"
   ]
  },
  {
   "cell_type": "markdown",
   "metadata": {},
   "source": [
    "The simplest way to run is with a pre-written script directly from the command line:\n",
    "\n",
    "```\n",
    "$ python analysis_script.py\n",
    "```"
   ]
  },
  {
   "cell_type": "markdown",
   "metadata": {
    "slideshow": {
     "slide_type": "fragment"
    }
   },
   "source": [
    "There are also \"advanced Python interpreters\", such as Jupyter QTConsole, `bpython`, `ipython`, etc."
   ]
  },
  {
   "cell_type": "markdown",
   "metadata": {
    "slideshow": {
     "slide_type": "subslide"
    }
   },
   "source": [
    "## Integrated Development Environments"
   ]
  },
  {
   "cell_type": "markdown",
   "metadata": {},
   "source": [
    "* Spyder (live example)\n",
    "* PyCharm\n",
    "* NetBeans"
   ]
  },
  {
   "cell_type": "markdown",
   "metadata": {
    "slideshow": {
     "slide_type": "subslide"
    }
   },
   "source": [
    "## Jupyter Notebook"
   ]
  },
  {
   "cell_type": "markdown",
   "metadata": {},
   "source": [
    "The Jupyter project (https://jupyter.org) exists to:\n",
    "\n",
    "\"...develop open-source software, open-standards, and services for interactive computing across dozens of programming languages.\""
   ]
  },
  {
   "cell_type": "markdown",
   "metadata": {
    "slideshow": {
     "slide_type": "subslide"
    }
   },
   "source": [
    "The \"Notebook\" is a human-readable format for storing both the inputs and outputs of code (see https://en.wikipedia.org/wiki/Notebook_interface)...\n",
    "\n",
    "Inspired by Mathematica and Maple; has been adopted in many languages"
   ]
  },
  {
   "cell_type": "markdown",
   "metadata": {
    "slideshow": {
     "slide_type": "fragment"
    }
   },
   "source": [
    "Quick deviation from slideshow to show notebook interface..."
   ]
  },
  {
   "cell_type": "markdown",
   "metadata": {
    "slideshow": {
     "slide_type": "subslide"
    }
   },
   "source": [
    "#### **Features of the notebook:**"
   ]
  },
  {
   "cell_type": "markdown",
   "metadata": {
    "slideshow": {
     "slide_type": ""
    }
   },
   "source": [
    "* Separation of the kernel (for calculation) and the front-end (for display)"
   ]
  },
  {
   "cell_type": "markdown",
   "metadata": {
    "slideshow": {
     "slide_type": "fragment"
    }
   },
   "source": [
    "* Runs completely in the web-browser (no special software needed)"
   ]
  },
  {
   "cell_type": "markdown",
   "metadata": {
    "slideshow": {
     "slide_type": "fragment"
    }
   },
   "source": [
    "* Kernel can be run on a central server - users connect with a web browser"
   ]
  },
  {
   "cell_type": "markdown",
   "metadata": {
    "slideshow": {
     "slide_type": "fragment"
    }
   },
   "source": [
    "* `.ipynb` files are JSON format and can be versioned"
   ]
  },
  {
   "cell_type": "markdown",
   "metadata": {
    "slideshow": {
     "slide_type": "fragment"
    }
   },
   "source": [
    "* Language-agnostic (can be used with Python, R, Java, Julia, etc.)"
   ]
  },
  {
   "cell_type": "markdown",
   "metadata": {
    "slideshow": {
     "slide_type": "subslide"
    }
   },
   "source": [
    "## Jupyter Lab"
   ]
  },
  {
   "cell_type": "markdown",
   "metadata": {},
   "source": [
    "* An exciting new project that is more fully-featured and will eventually replace the Notebook interface"
   ]
  },
  {
   "cell_type": "markdown",
   "metadata": {
    "slideshow": {
     "slide_type": "fragment"
    }
   },
   "source": [
    "* Aims to be an IDE like Spyder or RStudio, but running within the browser"
   ]
  },
  {
   "cell_type": "markdown",
   "metadata": {
    "slideshow": {
     "slide_type": "fragment"
    }
   },
   "source": [
    "* Incorporates notebooks, the terminal, text editor, file browser, rich outputs, etc. into one interface"
   ]
  },
  {
   "cell_type": "markdown",
   "metadata": {
    "slideshow": {
     "slide_type": "fragment"
    }
   },
   "source": [
    "* Deviation for a short view of Jupyter Lab"
   ]
  },
  {
   "cell_type": "markdown",
   "metadata": {
    "slideshow": {
     "slide_type": "subslide"
    }
   },
   "source": [
    "## HyperSpyUI (https://github.com/hyperspy/hyperspyui)"
   ]
  },
  {
   "cell_type": "markdown",
   "metadata": {},
   "source": [
    "* Developed in parallel to HyperSpy as a more \"user-friendly\" experience"
   ]
  },
  {
   "cell_type": "markdown",
   "metadata": {
    "slideshow": {
     "slide_type": "fragment"
    }
   },
   "source": [
    "* Many commonly used features from HyperSpy are available"
   ]
  },
  {
   "cell_type": "markdown",
   "metadata": {
    "slideshow": {
     "slide_type": "fragment"
    }
   },
   "source": [
    "* Deviation for a short view of Jupyter Lab (loading EELS signal, view metadata, signal separation)"
   ]
  },
  {
   "cell_type": "markdown",
   "metadata": {
    "slideshow": {
     "slide_type": "fragment"
    }
   },
   "source": [
    "* Most use Jupyter notebooks, but the UI is useful for quick investigations, or for those without programming experience"
   ]
  },
  {
   "cell_type": "markdown",
   "metadata": {
    "slideshow": {
     "slide_type": "slide"
    }
   },
   "source": [
    "## How to get help?"
   ]
  },
  {
   "cell_type": "markdown",
   "metadata": {
    "slideshow": {
     "slide_type": "fragment"
    }
   },
   "source": [
    "* Well-documented user guide and documentation: http://hyperspy.org/hyperspy-doc/current/user_guide/index.html"
   ]
  },
  {
   "cell_type": "markdown",
   "metadata": {
    "slideshow": {
     "slide_type": "fragment"
    }
   },
   "source": [
    "* Tutorials and demos: https://github.com/hyperspy/hyperspy-demos"
   ]
  },
  {
   "cell_type": "markdown",
   "metadata": {
    "slideshow": {
     "slide_type": "fragment"
    }
   },
   "source": [
    "* User group list: [hyperspy-users@googlegroups.com](https://groups.google.com/forum/#!forum/hyperspy-users)"
   ]
  },
  {
   "cell_type": "markdown",
   "metadata": {
    "slideshow": {
     "slide_type": "fragment"
    }
   },
   "source": [
    "* Gitter chat: https://gitter.im/hyperspy/hyperspy"
   ]
  },
  {
   "cell_type": "markdown",
   "metadata": {
    "slideshow": {
     "slide_type": "fragment"
    }
   },
   "source": [
    "* If all else fails, Andy and Josh"
   ]
  },
  {
   "cell_type": "markdown",
   "metadata": {
    "slideshow": {
     "slide_type": "slide"
    }
   },
   "source": [
    "## The Signal Class"
   ]
  },
  {
   "cell_type": "markdown",
   "metadata": {},
   "source": [
    "The \"heart\" of HyperSpy's data structure"
   ]
  },
  {
   "cell_type": "markdown",
   "metadata": {
    "slideshow": {
     "slide_type": "subslide"
    }
   },
   "source": [
    "## Structure of a `Signal`"
   ]
  },
  {
   "cell_type": "markdown",
   "metadata": {
    "slideshow": {
     "slide_type": "fragment"
    }
   },
   "source": [
    "* `Signal` is a wrapper around the raw data"
   ]
  },
  {
   "cell_type": "markdown",
   "metadata": {
    "slideshow": {
     "slide_type": "fragment"
    }
   },
   "source": [
    "*  Data is stored in a `numpy` array "
   ]
  },
  {
   "cell_type": "markdown",
   "metadata": {
    "slideshow": {
     "slide_type": "fragment"
    }
   },
   "source": [
    "* Separation of Navigation and Signal axes"
   ]
  },
  {
   "cell_type": "markdown",
   "metadata": {
    "slideshow": {
     "slide_type": "fragment"
    }
   },
   "source": [
    "* <mark>Andy, want to fill this in?</mark>"
   ]
  },
  {
   "cell_type": "markdown",
   "metadata": {
    "slideshow": {
     "slide_type": "subslide"
    }
   },
   "source": [
    "## The `Signal` class offers flexibility..."
   ]
  },
  {
   "cell_type": "markdown",
   "metadata": {
    "slideshow": {
     "slide_type": "fragment"
    }
   },
   "source": [
    "* <mark>Andy, want to fill this in?</mark>"
   ]
  },
  {
   "cell_type": "markdown",
   "metadata": {
    "slideshow": {
     "slide_type": "slide"
    }
   },
   "source": [
    "## Getting your data in (and out) of HyperSpy"
   ]
  },
  {
   "cell_type": "markdown",
   "metadata": {
    "slideshow": {
     "slide_type": "subslide"
    }
   },
   "source": [
    "Many data readers have been written for experimental tools:\n",
    "<br/><br/>\n",
    "\n",
    "<center><img src=\"img/formats.png\" width=800px></center>"
   ]
  },
  {
   "cell_type": "markdown",
   "metadata": {
    "slideshow": {
     "slide_type": "subslide"
    }
   },
   "source": [
    "## Loading data is simple!"
   ]
  },
  {
   "cell_type": "markdown",
   "metadata": {
    "slideshow": {
     "slide_type": "fragment"
    }
   },
   "source": [
    "Example of Gatan's `dm3` format:"
   ]
  },
  {
   "cell_type": "code",
   "execution_count": 187,
   "metadata": {
    "slideshow": {
     "slide_type": ""
    }
   },
   "outputs": [],
   "source": [
    "im = hs.load('examples/HRSTEM.dm3')"
   ]
  },
  {
   "cell_type": "code",
   "execution_count": 188,
   "metadata": {},
   "outputs": [
    {
     "data": {
      "text/plain": [
       "<Signal2D, title: 03_5Mx_scale_corrected, dimensions: (|512, 512)>"
      ]
     },
     "execution_count": 188,
     "metadata": {},
     "output_type": "execute_result"
    }
   ],
   "source": [
    "im"
   ]
  },
  {
   "cell_type": "code",
   "execution_count": 189,
   "metadata": {},
   "outputs": [
    {
     "data": {
      "text/plain": [
       "├── Acquisition_instrument\n",
       "│   └── TEM\n",
       "│       ├── acquisition_mode = STEM\n",
       "│       ├── beam_current = 0.0\n",
       "│       ├── beam_energy = 200.0\n",
       "│       ├── camera_length = 20.0\n",
       "│       ├── dwell_time = 0.00012989999389648437\n",
       "│       ├── magnification = 5000000.0\n",
       "│       └── microscope = JEOL COM\n",
       "├── General\n",
       "│   ├── date = 2016-05-07\n",
       "│   ├── original_filename = HRSTEM.dm3\n",
       "│   ├── time = 12:58:18\n",
       "│   └── title = 03_5Mx_scale_corrected\n",
       "└── Signal\n",
       "    ├── Noise_properties\n",
       "    │   └── Variance_linear_model\n",
       "    │       ├── gain_factor = 1.0\n",
       "    │       └── gain_offset = 0.0\n",
       "    ├── binned = False\n",
       "    ├── quantity = Intensity\n",
       "    └── signal_type = "
      ]
     },
     "execution_count": 189,
     "metadata": {},
     "output_type": "execute_result"
    }
   ],
   "source": [
    "im.metadata"
   ]
  },
  {
   "cell_type": "markdown",
   "metadata": {
    "slideshow": {
     "slide_type": "subslide"
    }
   },
   "source": [
    "Original metadata is maintained:"
   ]
  },
  {
   "cell_type": "code",
   "execution_count": null,
   "metadata": {
    "scrolled": false
   },
   "outputs": [],
   "source": [
    "im.original_metadata"
   ]
  },
  {
   "cell_type": "markdown",
   "metadata": {
    "slideshow": {
     "slide_type": "subslide"
    }
   },
   "source": [
    "Plotting is also simple within the notebook:"
   ]
  },
  {
   "cell_type": "code",
   "execution_count": 191,
   "metadata": {
    "slideshow": {
     "slide_type": ""
    }
   },
   "outputs": [
    {
     "data": {
      "application/javascript": [
       "/* Put everything inside the global mpl namespace */\n",
       "window.mpl = {};\n",
       "\n",
       "\n",
       "mpl.get_websocket_type = function() {\n",
       "    if (typeof(WebSocket) !== 'undefined') {\n",
       "        return WebSocket;\n",
       "    } else if (typeof(MozWebSocket) !== 'undefined') {\n",
       "        return MozWebSocket;\n",
       "    } else {\n",
       "        alert('Your browser does not have WebSocket support.' +\n",
       "              'Please try Chrome, Safari or Firefox ≥ 6. ' +\n",
       "              'Firefox 4 and 5 are also supported but you ' +\n",
       "              'have to enable WebSockets in about:config.');\n",
       "    };\n",
       "}\n",
       "\n",
       "mpl.figure = function(figure_id, websocket, ondownload, parent_element) {\n",
       "    this.id = figure_id;\n",
       "\n",
       "    this.ws = websocket;\n",
       "\n",
       "    this.supports_binary = (this.ws.binaryType != undefined);\n",
       "\n",
       "    if (!this.supports_binary) {\n",
       "        var warnings = document.getElementById(\"mpl-warnings\");\n",
       "        if (warnings) {\n",
       "            warnings.style.display = 'block';\n",
       "            warnings.textContent = (\n",
       "                \"This browser does not support binary websocket messages. \" +\n",
       "                    \"Performance may be slow.\");\n",
       "        }\n",
       "    }\n",
       "\n",
       "    this.imageObj = new Image();\n",
       "\n",
       "    this.context = undefined;\n",
       "    this.message = undefined;\n",
       "    this.canvas = undefined;\n",
       "    this.rubberband_canvas = undefined;\n",
       "    this.rubberband_context = undefined;\n",
       "    this.format_dropdown = undefined;\n",
       "\n",
       "    this.image_mode = 'full';\n",
       "\n",
       "    this.root = $('<div/>');\n",
       "    this._root_extra_style(this.root)\n",
       "    this.root.attr('style', 'display: inline-block');\n",
       "\n",
       "    $(parent_element).append(this.root);\n",
       "\n",
       "    this._init_header(this);\n",
       "    this._init_canvas(this);\n",
       "    this._init_toolbar(this);\n",
       "\n",
       "    var fig = this;\n",
       "\n",
       "    this.waiting = false;\n",
       "\n",
       "    this.ws.onopen =  function () {\n",
       "            fig.send_message(\"supports_binary\", {value: fig.supports_binary});\n",
       "            fig.send_message(\"send_image_mode\", {});\n",
       "            if (mpl.ratio != 1) {\n",
       "                fig.send_message(\"set_dpi_ratio\", {'dpi_ratio': mpl.ratio});\n",
       "            }\n",
       "            fig.send_message(\"refresh\", {});\n",
       "        }\n",
       "\n",
       "    this.imageObj.onload = function() {\n",
       "            if (fig.image_mode == 'full') {\n",
       "                // Full images could contain transparency (where diff images\n",
       "                // almost always do), so we need to clear the canvas so that\n",
       "                // there is no ghosting.\n",
       "                fig.context.clearRect(0, 0, fig.canvas.width, fig.canvas.height);\n",
       "            }\n",
       "            fig.context.drawImage(fig.imageObj, 0, 0);\n",
       "        };\n",
       "\n",
       "    this.imageObj.onunload = function() {\n",
       "        this.ws.close();\n",
       "    }\n",
       "\n",
       "    this.ws.onmessage = this._make_on_message_function(this);\n",
       "\n",
       "    this.ondownload = ondownload;\n",
       "}\n",
       "\n",
       "mpl.figure.prototype._init_header = function() {\n",
       "    var titlebar = $(\n",
       "        '<div class=\"ui-dialog-titlebar ui-widget-header ui-corner-all ' +\n",
       "        'ui-helper-clearfix\"/>');\n",
       "    var titletext = $(\n",
       "        '<div class=\"ui-dialog-title\" style=\"width: 100%; ' +\n",
       "        'text-align: center; padding: 3px;\"/>');\n",
       "    titlebar.append(titletext)\n",
       "    this.root.append(titlebar);\n",
       "    this.header = titletext[0];\n",
       "}\n",
       "\n",
       "\n",
       "\n",
       "mpl.figure.prototype._canvas_extra_style = function(canvas_div) {\n",
       "\n",
       "}\n",
       "\n",
       "\n",
       "mpl.figure.prototype._root_extra_style = function(canvas_div) {\n",
       "\n",
       "}\n",
       "\n",
       "mpl.figure.prototype._init_canvas = function() {\n",
       "    var fig = this;\n",
       "\n",
       "    var canvas_div = $('<div/>');\n",
       "\n",
       "    canvas_div.attr('style', 'position: relative; clear: both; outline: 0');\n",
       "\n",
       "    function canvas_keyboard_event(event) {\n",
       "        return fig.key_event(event, event['data']);\n",
       "    }\n",
       "\n",
       "    canvas_div.keydown('key_press', canvas_keyboard_event);\n",
       "    canvas_div.keyup('key_release', canvas_keyboard_event);\n",
       "    this.canvas_div = canvas_div\n",
       "    this._canvas_extra_style(canvas_div)\n",
       "    this.root.append(canvas_div);\n",
       "\n",
       "    var canvas = $('<canvas/>');\n",
       "    canvas.addClass('mpl-canvas');\n",
       "    canvas.attr('style', \"left: 0; top: 0; z-index: 0; outline: 0\")\n",
       "\n",
       "    this.canvas = canvas[0];\n",
       "    this.context = canvas[0].getContext(\"2d\");\n",
       "\n",
       "    var backingStore = this.context.backingStorePixelRatio ||\n",
       "\tthis.context.webkitBackingStorePixelRatio ||\n",
       "\tthis.context.mozBackingStorePixelRatio ||\n",
       "\tthis.context.msBackingStorePixelRatio ||\n",
       "\tthis.context.oBackingStorePixelRatio ||\n",
       "\tthis.context.backingStorePixelRatio || 1;\n",
       "\n",
       "    mpl.ratio = (window.devicePixelRatio || 1) / backingStore;\n",
       "\n",
       "    var rubberband = $('<canvas/>');\n",
       "    rubberband.attr('style', \"position: absolute; left: 0; top: 0; z-index: 1;\")\n",
       "\n",
       "    var pass_mouse_events = true;\n",
       "\n",
       "    canvas_div.resizable({\n",
       "        start: function(event, ui) {\n",
       "            pass_mouse_events = false;\n",
       "        },\n",
       "        resize: function(event, ui) {\n",
       "            fig.request_resize(ui.size.width, ui.size.height);\n",
       "        },\n",
       "        stop: function(event, ui) {\n",
       "            pass_mouse_events = true;\n",
       "            fig.request_resize(ui.size.width, ui.size.height);\n",
       "        },\n",
       "    });\n",
       "\n",
       "    function mouse_event_fn(event) {\n",
       "        if (pass_mouse_events)\n",
       "            return fig.mouse_event(event, event['data']);\n",
       "    }\n",
       "\n",
       "    rubberband.mousedown('button_press', mouse_event_fn);\n",
       "    rubberband.mouseup('button_release', mouse_event_fn);\n",
       "    // Throttle sequential mouse events to 1 every 20ms.\n",
       "    rubberband.mousemove('motion_notify', mouse_event_fn);\n",
       "\n",
       "    rubberband.mouseenter('figure_enter', mouse_event_fn);\n",
       "    rubberband.mouseleave('figure_leave', mouse_event_fn);\n",
       "\n",
       "    canvas_div.on(\"wheel\", function (event) {\n",
       "        event = event.originalEvent;\n",
       "        event['data'] = 'scroll'\n",
       "        if (event.deltaY < 0) {\n",
       "            event.step = 1;\n",
       "        } else {\n",
       "            event.step = -1;\n",
       "        }\n",
       "        mouse_event_fn(event);\n",
       "    });\n",
       "\n",
       "    canvas_div.append(canvas);\n",
       "    canvas_div.append(rubberband);\n",
       "\n",
       "    this.rubberband = rubberband;\n",
       "    this.rubberband_canvas = rubberband[0];\n",
       "    this.rubberband_context = rubberband[0].getContext(\"2d\");\n",
       "    this.rubberband_context.strokeStyle = \"#000000\";\n",
       "\n",
       "    this._resize_canvas = function(width, height) {\n",
       "        // Keep the size of the canvas, canvas container, and rubber band\n",
       "        // canvas in synch.\n",
       "        canvas_div.css('width', width)\n",
       "        canvas_div.css('height', height)\n",
       "\n",
       "        canvas.attr('width', width * mpl.ratio);\n",
       "        canvas.attr('height', height * mpl.ratio);\n",
       "        canvas.attr('style', 'width: ' + width + 'px; height: ' + height + 'px;');\n",
       "\n",
       "        rubberband.attr('width', width);\n",
       "        rubberband.attr('height', height);\n",
       "    }\n",
       "\n",
       "    // Set the figure to an initial 600x600px, this will subsequently be updated\n",
       "    // upon first draw.\n",
       "    this._resize_canvas(600, 600);\n",
       "\n",
       "    // Disable right mouse context menu.\n",
       "    $(this.rubberband_canvas).bind(\"contextmenu\",function(e){\n",
       "        return false;\n",
       "    });\n",
       "\n",
       "    function set_focus () {\n",
       "        canvas.focus();\n",
       "        canvas_div.focus();\n",
       "    }\n",
       "\n",
       "    window.setTimeout(set_focus, 100);\n",
       "}\n",
       "\n",
       "mpl.figure.prototype._init_toolbar = function() {\n",
       "    var fig = this;\n",
       "\n",
       "    var nav_element = $('<div/>')\n",
       "    nav_element.attr('style', 'width: 100%');\n",
       "    this.root.append(nav_element);\n",
       "\n",
       "    // Define a callback function for later on.\n",
       "    function toolbar_event(event) {\n",
       "        return fig.toolbar_button_onclick(event['data']);\n",
       "    }\n",
       "    function toolbar_mouse_event(event) {\n",
       "        return fig.toolbar_button_onmouseover(event['data']);\n",
       "    }\n",
       "\n",
       "    for(var toolbar_ind in mpl.toolbar_items) {\n",
       "        var name = mpl.toolbar_items[toolbar_ind][0];\n",
       "        var tooltip = mpl.toolbar_items[toolbar_ind][1];\n",
       "        var image = mpl.toolbar_items[toolbar_ind][2];\n",
       "        var method_name = mpl.toolbar_items[toolbar_ind][3];\n",
       "\n",
       "        if (!name) {\n",
       "            // put a spacer in here.\n",
       "            continue;\n",
       "        }\n",
       "        var button = $('<button/>');\n",
       "        button.addClass('ui-button ui-widget ui-state-default ui-corner-all ' +\n",
       "                        'ui-button-icon-only');\n",
       "        button.attr('role', 'button');\n",
       "        button.attr('aria-disabled', 'false');\n",
       "        button.click(method_name, toolbar_event);\n",
       "        button.mouseover(tooltip, toolbar_mouse_event);\n",
       "\n",
       "        var icon_img = $('<span/>');\n",
       "        icon_img.addClass('ui-button-icon-primary ui-icon');\n",
       "        icon_img.addClass(image);\n",
       "        icon_img.addClass('ui-corner-all');\n",
       "\n",
       "        var tooltip_span = $('<span/>');\n",
       "        tooltip_span.addClass('ui-button-text');\n",
       "        tooltip_span.html(tooltip);\n",
       "\n",
       "        button.append(icon_img);\n",
       "        button.append(tooltip_span);\n",
       "\n",
       "        nav_element.append(button);\n",
       "    }\n",
       "\n",
       "    var fmt_picker_span = $('<span/>');\n",
       "\n",
       "    var fmt_picker = $('<select/>');\n",
       "    fmt_picker.addClass('mpl-toolbar-option ui-widget ui-widget-content');\n",
       "    fmt_picker_span.append(fmt_picker);\n",
       "    nav_element.append(fmt_picker_span);\n",
       "    this.format_dropdown = fmt_picker[0];\n",
       "\n",
       "    for (var ind in mpl.extensions) {\n",
       "        var fmt = mpl.extensions[ind];\n",
       "        var option = $(\n",
       "            '<option/>', {selected: fmt === mpl.default_extension}).html(fmt);\n",
       "        fmt_picker.append(option)\n",
       "    }\n",
       "\n",
       "    // Add hover states to the ui-buttons\n",
       "    $( \".ui-button\" ).hover(\n",
       "        function() { $(this).addClass(\"ui-state-hover\");},\n",
       "        function() { $(this).removeClass(\"ui-state-hover\");}\n",
       "    );\n",
       "\n",
       "    var status_bar = $('<span class=\"mpl-message\"/>');\n",
       "    nav_element.append(status_bar);\n",
       "    this.message = status_bar[0];\n",
       "}\n",
       "\n",
       "mpl.figure.prototype.request_resize = function(x_pixels, y_pixels) {\n",
       "    // Request matplotlib to resize the figure. Matplotlib will then trigger a resize in the client,\n",
       "    // which will in turn request a refresh of the image.\n",
       "    this.send_message('resize', {'width': x_pixels, 'height': y_pixels});\n",
       "}\n",
       "\n",
       "mpl.figure.prototype.send_message = function(type, properties) {\n",
       "    properties['type'] = type;\n",
       "    properties['figure_id'] = this.id;\n",
       "    this.ws.send(JSON.stringify(properties));\n",
       "}\n",
       "\n",
       "mpl.figure.prototype.send_draw_message = function() {\n",
       "    if (!this.waiting) {\n",
       "        this.waiting = true;\n",
       "        this.ws.send(JSON.stringify({type: \"draw\", figure_id: this.id}));\n",
       "    }\n",
       "}\n",
       "\n",
       "\n",
       "mpl.figure.prototype.handle_save = function(fig, msg) {\n",
       "    var format_dropdown = fig.format_dropdown;\n",
       "    var format = format_dropdown.options[format_dropdown.selectedIndex].value;\n",
       "    fig.ondownload(fig, format);\n",
       "}\n",
       "\n",
       "\n",
       "mpl.figure.prototype.handle_resize = function(fig, msg) {\n",
       "    var size = msg['size'];\n",
       "    if (size[0] != fig.canvas.width || size[1] != fig.canvas.height) {\n",
       "        fig._resize_canvas(size[0], size[1]);\n",
       "        fig.send_message(\"refresh\", {});\n",
       "    };\n",
       "}\n",
       "\n",
       "mpl.figure.prototype.handle_rubberband = function(fig, msg) {\n",
       "    var x0 = msg['x0'] / mpl.ratio;\n",
       "    var y0 = (fig.canvas.height - msg['y0']) / mpl.ratio;\n",
       "    var x1 = msg['x1'] / mpl.ratio;\n",
       "    var y1 = (fig.canvas.height - msg['y1']) / mpl.ratio;\n",
       "    x0 = Math.floor(x0) + 0.5;\n",
       "    y0 = Math.floor(y0) + 0.5;\n",
       "    x1 = Math.floor(x1) + 0.5;\n",
       "    y1 = Math.floor(y1) + 0.5;\n",
       "    var min_x = Math.min(x0, x1);\n",
       "    var min_y = Math.min(y0, y1);\n",
       "    var width = Math.abs(x1 - x0);\n",
       "    var height = Math.abs(y1 - y0);\n",
       "\n",
       "    fig.rubberband_context.clearRect(\n",
       "        0, 0, fig.canvas.width, fig.canvas.height);\n",
       "\n",
       "    fig.rubberband_context.strokeRect(min_x, min_y, width, height);\n",
       "}\n",
       "\n",
       "mpl.figure.prototype.handle_figure_label = function(fig, msg) {\n",
       "    // Updates the figure title.\n",
       "    fig.header.textContent = msg['label'];\n",
       "}\n",
       "\n",
       "mpl.figure.prototype.handle_cursor = function(fig, msg) {\n",
       "    var cursor = msg['cursor'];\n",
       "    switch(cursor)\n",
       "    {\n",
       "    case 0:\n",
       "        cursor = 'pointer';\n",
       "        break;\n",
       "    case 1:\n",
       "        cursor = 'default';\n",
       "        break;\n",
       "    case 2:\n",
       "        cursor = 'crosshair';\n",
       "        break;\n",
       "    case 3:\n",
       "        cursor = 'move';\n",
       "        break;\n",
       "    }\n",
       "    fig.rubberband_canvas.style.cursor = cursor;\n",
       "}\n",
       "\n",
       "mpl.figure.prototype.handle_message = function(fig, msg) {\n",
       "    fig.message.textContent = msg['message'];\n",
       "}\n",
       "\n",
       "mpl.figure.prototype.handle_draw = function(fig, msg) {\n",
       "    // Request the server to send over a new figure.\n",
       "    fig.send_draw_message();\n",
       "}\n",
       "\n",
       "mpl.figure.prototype.handle_image_mode = function(fig, msg) {\n",
       "    fig.image_mode = msg['mode'];\n",
       "}\n",
       "\n",
       "mpl.figure.prototype.updated_canvas_event = function() {\n",
       "    // Called whenever the canvas gets updated.\n",
       "    this.send_message(\"ack\", {});\n",
       "}\n",
       "\n",
       "// A function to construct a web socket function for onmessage handling.\n",
       "// Called in the figure constructor.\n",
       "mpl.figure.prototype._make_on_message_function = function(fig) {\n",
       "    return function socket_on_message(evt) {\n",
       "        if (evt.data instanceof Blob) {\n",
       "            /* FIXME: We get \"Resource interpreted as Image but\n",
       "             * transferred with MIME type text/plain:\" errors on\n",
       "             * Chrome.  But how to set the MIME type?  It doesn't seem\n",
       "             * to be part of the websocket stream */\n",
       "            evt.data.type = \"image/png\";\n",
       "\n",
       "            /* Free the memory for the previous frames */\n",
       "            if (fig.imageObj.src) {\n",
       "                (window.URL || window.webkitURL).revokeObjectURL(\n",
       "                    fig.imageObj.src);\n",
       "            }\n",
       "\n",
       "            fig.imageObj.src = (window.URL || window.webkitURL).createObjectURL(\n",
       "                evt.data);\n",
       "            fig.updated_canvas_event();\n",
       "            fig.waiting = false;\n",
       "            return;\n",
       "        }\n",
       "        else if (typeof evt.data === 'string' && evt.data.slice(0, 21) == \"data:image/png;base64\") {\n",
       "            fig.imageObj.src = evt.data;\n",
       "            fig.updated_canvas_event();\n",
       "            fig.waiting = false;\n",
       "            return;\n",
       "        }\n",
       "\n",
       "        var msg = JSON.parse(evt.data);\n",
       "        var msg_type = msg['type'];\n",
       "\n",
       "        // Call the  \"handle_{type}\" callback, which takes\n",
       "        // the figure and JSON message as its only arguments.\n",
       "        try {\n",
       "            var callback = fig[\"handle_\" + msg_type];\n",
       "        } catch (e) {\n",
       "            console.log(\"No handler for the '\" + msg_type + \"' message type: \", msg);\n",
       "            return;\n",
       "        }\n",
       "\n",
       "        if (callback) {\n",
       "            try {\n",
       "                // console.log(\"Handling '\" + msg_type + \"' message: \", msg);\n",
       "                callback(fig, msg);\n",
       "            } catch (e) {\n",
       "                console.log(\"Exception inside the 'handler_\" + msg_type + \"' callback:\", e, e.stack, msg);\n",
       "            }\n",
       "        }\n",
       "    };\n",
       "}\n",
       "\n",
       "// from http://stackoverflow.com/questions/1114465/getting-mouse-location-in-canvas\n",
       "mpl.findpos = function(e) {\n",
       "    //this section is from http://www.quirksmode.org/js/events_properties.html\n",
       "    var targ;\n",
       "    if (!e)\n",
       "        e = window.event;\n",
       "    if (e.target)\n",
       "        targ = e.target;\n",
       "    else if (e.srcElement)\n",
       "        targ = e.srcElement;\n",
       "    if (targ.nodeType == 3) // defeat Safari bug\n",
       "        targ = targ.parentNode;\n",
       "\n",
       "    // jQuery normalizes the pageX and pageY\n",
       "    // pageX,Y are the mouse positions relative to the document\n",
       "    // offset() returns the position of the element relative to the document\n",
       "    var x = e.pageX - $(targ).offset().left;\n",
       "    var y = e.pageY - $(targ).offset().top;\n",
       "\n",
       "    return {\"x\": x, \"y\": y};\n",
       "};\n",
       "\n",
       "/*\n",
       " * return a copy of an object with only non-object keys\n",
       " * we need this to avoid circular references\n",
       " * http://stackoverflow.com/a/24161582/3208463\n",
       " */\n",
       "function simpleKeys (original) {\n",
       "  return Object.keys(original).reduce(function (obj, key) {\n",
       "    if (typeof original[key] !== 'object')\n",
       "        obj[key] = original[key]\n",
       "    return obj;\n",
       "  }, {});\n",
       "}\n",
       "\n",
       "mpl.figure.prototype.mouse_event = function(event, name) {\n",
       "    var canvas_pos = mpl.findpos(event)\n",
       "\n",
       "    if (name === 'button_press')\n",
       "    {\n",
       "        this.canvas.focus();\n",
       "        this.canvas_div.focus();\n",
       "    }\n",
       "\n",
       "    var x = canvas_pos.x * mpl.ratio;\n",
       "    var y = canvas_pos.y * mpl.ratio;\n",
       "\n",
       "    this.send_message(name, {x: x, y: y, button: event.button,\n",
       "                             step: event.step,\n",
       "                             guiEvent: simpleKeys(event)});\n",
       "\n",
       "    /* This prevents the web browser from automatically changing to\n",
       "     * the text insertion cursor when the button is pressed.  We want\n",
       "     * to control all of the cursor setting manually through the\n",
       "     * 'cursor' event from matplotlib */\n",
       "    event.preventDefault();\n",
       "    return false;\n",
       "}\n",
       "\n",
       "mpl.figure.prototype._key_event_extra = function(event, name) {\n",
       "    // Handle any extra behaviour associated with a key event\n",
       "}\n",
       "\n",
       "mpl.figure.prototype.key_event = function(event, name) {\n",
       "\n",
       "    // Prevent repeat events\n",
       "    if (name == 'key_press')\n",
       "    {\n",
       "        if (event.which === this._key)\n",
       "            return;\n",
       "        else\n",
       "            this._key = event.which;\n",
       "    }\n",
       "    if (name == 'key_release')\n",
       "        this._key = null;\n",
       "\n",
       "    var value = '';\n",
       "    if (event.ctrlKey && event.which != 17)\n",
       "        value += \"ctrl+\";\n",
       "    if (event.altKey && event.which != 18)\n",
       "        value += \"alt+\";\n",
       "    if (event.shiftKey && event.which != 16)\n",
       "        value += \"shift+\";\n",
       "\n",
       "    value += 'k';\n",
       "    value += event.which.toString();\n",
       "\n",
       "    this._key_event_extra(event, name);\n",
       "\n",
       "    this.send_message(name, {key: value,\n",
       "                             guiEvent: simpleKeys(event)});\n",
       "    return false;\n",
       "}\n",
       "\n",
       "mpl.figure.prototype.toolbar_button_onclick = function(name) {\n",
       "    if (name == 'download') {\n",
       "        this.handle_save(this, null);\n",
       "    } else {\n",
       "        this.send_message(\"toolbar_button\", {name: name});\n",
       "    }\n",
       "};\n",
       "\n",
       "mpl.figure.prototype.toolbar_button_onmouseover = function(tooltip) {\n",
       "    this.message.textContent = tooltip;\n",
       "};\n",
       "mpl.toolbar_items = [[\"Home\", \"Reset original view\", \"fa fa-home icon-home\", \"home\"], [\"Back\", \"Back to  previous view\", \"fa fa-arrow-left icon-arrow-left\", \"back\"], [\"Forward\", \"Forward to next view\", \"fa fa-arrow-right icon-arrow-right\", \"forward\"], [\"\", \"\", \"\", \"\"], [\"Pan\", \"Pan axes with left mouse, zoom with right\", \"fa fa-arrows icon-move\", \"pan\"], [\"Zoom\", \"Zoom to rectangle\", \"fa fa-square-o icon-check-empty\", \"zoom\"], [\"\", \"\", \"\", \"\"], [\"Download\", \"Download plot\", \"fa fa-floppy-o icon-save\", \"download\"]];\n",
       "\n",
       "mpl.extensions = [\"eps\", \"jpeg\", \"pdf\", \"png\", \"ps\", \"raw\", \"svg\", \"tif\"];\n",
       "\n",
       "mpl.default_extension = \"png\";var comm_websocket_adapter = function(comm) {\n",
       "    // Create a \"websocket\"-like object which calls the given IPython comm\n",
       "    // object with the appropriate methods. Currently this is a non binary\n",
       "    // socket, so there is still some room for performance tuning.\n",
       "    var ws = {};\n",
       "\n",
       "    ws.close = function() {\n",
       "        comm.close()\n",
       "    };\n",
       "    ws.send = function(m) {\n",
       "        //console.log('sending', m);\n",
       "        comm.send(m);\n",
       "    };\n",
       "    // Register the callback with on_msg.\n",
       "    comm.on_msg(function(msg) {\n",
       "        //console.log('receiving', msg['content']['data'], msg);\n",
       "        // Pass the mpl event to the overriden (by mpl) onmessage function.\n",
       "        ws.onmessage(msg['content']['data'])\n",
       "    });\n",
       "    return ws;\n",
       "}\n",
       "\n",
       "mpl.mpl_figure_comm = function(comm, msg) {\n",
       "    // This is the function which gets called when the mpl process\n",
       "    // starts-up an IPython Comm through the \"matplotlib\" channel.\n",
       "\n",
       "    var id = msg.content.data.id;\n",
       "    // Get hold of the div created by the display call when the Comm\n",
       "    // socket was opened in Python.\n",
       "    var element = $(\"#\" + id);\n",
       "    var ws_proxy = comm_websocket_adapter(comm)\n",
       "\n",
       "    function ondownload(figure, format) {\n",
       "        window.open(figure.imageObj.src);\n",
       "    }\n",
       "\n",
       "    var fig = new mpl.figure(id, ws_proxy,\n",
       "                           ondownload,\n",
       "                           element.get(0));\n",
       "\n",
       "    // Call onopen now - mpl needs it, as it is assuming we've passed it a real\n",
       "    // web socket which is closed, not our websocket->open comm proxy.\n",
       "    ws_proxy.onopen();\n",
       "\n",
       "    fig.parent_element = element.get(0);\n",
       "    fig.cell_info = mpl.find_output_cell(\"<div id='\" + id + \"'></div>\");\n",
       "    if (!fig.cell_info) {\n",
       "        console.error(\"Failed to find cell for figure\", id, fig);\n",
       "        return;\n",
       "    }\n",
       "\n",
       "    var output_index = fig.cell_info[2]\n",
       "    var cell = fig.cell_info[0];\n",
       "\n",
       "};\n",
       "\n",
       "mpl.figure.prototype.handle_close = function(fig, msg) {\n",
       "    var width = fig.canvas.width/mpl.ratio\n",
       "    fig.root.unbind('remove')\n",
       "\n",
       "    // Update the output cell to use the data from the current canvas.\n",
       "    fig.push_to_output();\n",
       "    var dataURL = fig.canvas.toDataURL();\n",
       "    // Re-enable the keyboard manager in IPython - without this line, in FF,\n",
       "    // the notebook keyboard shortcuts fail.\n",
       "    IPython.keyboard_manager.enable()\n",
       "    $(fig.parent_element).html('<img src=\"' + dataURL + '\" width=\"' + width + '\">');\n",
       "    fig.close_ws(fig, msg);\n",
       "}\n",
       "\n",
       "mpl.figure.prototype.close_ws = function(fig, msg){\n",
       "    fig.send_message('closing', msg);\n",
       "    // fig.ws.close()\n",
       "}\n",
       "\n",
       "mpl.figure.prototype.push_to_output = function(remove_interactive) {\n",
       "    // Turn the data on the canvas into data in the output cell.\n",
       "    var width = this.canvas.width/mpl.ratio\n",
       "    var dataURL = this.canvas.toDataURL();\n",
       "    this.cell_info[1]['text/html'] = '<img src=\"' + dataURL + '\" width=\"' + width + '\">';\n",
       "}\n",
       "\n",
       "mpl.figure.prototype.updated_canvas_event = function() {\n",
       "    // Tell IPython that the notebook contents must change.\n",
       "    IPython.notebook.set_dirty(true);\n",
       "    this.send_message(\"ack\", {});\n",
       "    var fig = this;\n",
       "    // Wait a second, then push the new image to the DOM so\n",
       "    // that it is saved nicely (might be nice to debounce this).\n",
       "    setTimeout(function () { fig.push_to_output() }, 1000);\n",
       "}\n",
       "\n",
       "mpl.figure.prototype._init_toolbar = function() {\n",
       "    var fig = this;\n",
       "\n",
       "    var nav_element = $('<div/>')\n",
       "    nav_element.attr('style', 'width: 100%');\n",
       "    this.root.append(nav_element);\n",
       "\n",
       "    // Define a callback function for later on.\n",
       "    function toolbar_event(event) {\n",
       "        return fig.toolbar_button_onclick(event['data']);\n",
       "    }\n",
       "    function toolbar_mouse_event(event) {\n",
       "        return fig.toolbar_button_onmouseover(event['data']);\n",
       "    }\n",
       "\n",
       "    for(var toolbar_ind in mpl.toolbar_items){\n",
       "        var name = mpl.toolbar_items[toolbar_ind][0];\n",
       "        var tooltip = mpl.toolbar_items[toolbar_ind][1];\n",
       "        var image = mpl.toolbar_items[toolbar_ind][2];\n",
       "        var method_name = mpl.toolbar_items[toolbar_ind][3];\n",
       "\n",
       "        if (!name) { continue; };\n",
       "\n",
       "        var button = $('<button class=\"btn btn-default\" href=\"#\" title=\"' + name + '\"><i class=\"fa ' + image + ' fa-lg\"></i></button>');\n",
       "        button.click(method_name, toolbar_event);\n",
       "        button.mouseover(tooltip, toolbar_mouse_event);\n",
       "        nav_element.append(button);\n",
       "    }\n",
       "\n",
       "    // Add the status bar.\n",
       "    var status_bar = $('<span class=\"mpl-message\" style=\"text-align:right; float: right;\"/>');\n",
       "    nav_element.append(status_bar);\n",
       "    this.message = status_bar[0];\n",
       "\n",
       "    // Add the close button to the window.\n",
       "    var buttongrp = $('<div class=\"btn-group inline pull-right\"></div>');\n",
       "    var button = $('<button class=\"btn btn-mini btn-primary\" href=\"#\" title=\"Stop Interaction\"><i class=\"fa fa-power-off icon-remove icon-large\"></i></button>');\n",
       "    button.click(function (evt) { fig.handle_close(fig, {}); } );\n",
       "    button.mouseover('Stop Interaction', toolbar_mouse_event);\n",
       "    buttongrp.append(button);\n",
       "    var titlebar = this.root.find($('.ui-dialog-titlebar'));\n",
       "    titlebar.prepend(buttongrp);\n",
       "}\n",
       "\n",
       "mpl.figure.prototype._root_extra_style = function(el){\n",
       "    var fig = this\n",
       "    el.on(\"remove\", function(){\n",
       "\tfig.close_ws(fig, {});\n",
       "    });\n",
       "}\n",
       "\n",
       "mpl.figure.prototype._canvas_extra_style = function(el){\n",
       "    // this is important to make the div 'focusable\n",
       "    el.attr('tabindex', 0)\n",
       "    // reach out to IPython and tell the keyboard manager to turn it's self\n",
       "    // off when our div gets focus\n",
       "\n",
       "    // location in version 3\n",
       "    if (IPython.notebook.keyboard_manager) {\n",
       "        IPython.notebook.keyboard_manager.register_events(el);\n",
       "    }\n",
       "    else {\n",
       "        // location in version 2\n",
       "        IPython.keyboard_manager.register_events(el);\n",
       "    }\n",
       "\n",
       "}\n",
       "\n",
       "mpl.figure.prototype._key_event_extra = function(event, name) {\n",
       "    var manager = IPython.notebook.keyboard_manager;\n",
       "    if (!manager)\n",
       "        manager = IPython.keyboard_manager;\n",
       "\n",
       "    // Check for shift+enter\n",
       "    if (event.shiftKey && event.which == 13) {\n",
       "        this.canvas_div.blur();\n",
       "        // select the cell after this one\n",
       "        var index = IPython.notebook.find_cell_index(this.cell_info[0]);\n",
       "        IPython.notebook.select(index + 1);\n",
       "    }\n",
       "}\n",
       "\n",
       "mpl.figure.prototype.handle_save = function(fig, msg) {\n",
       "    fig.ondownload(fig, null);\n",
       "}\n",
       "\n",
       "\n",
       "mpl.find_output_cell = function(html_output) {\n",
       "    // Return the cell and output element which can be found *uniquely* in the notebook.\n",
       "    // Note - this is a bit hacky, but it is done because the \"notebook_saving.Notebook\"\n",
       "    // IPython event is triggered only after the cells have been serialised, which for\n",
       "    // our purposes (turning an active figure into a static one), is too late.\n",
       "    var cells = IPython.notebook.get_cells();\n",
       "    var ncells = cells.length;\n",
       "    for (var i=0; i<ncells; i++) {\n",
       "        var cell = cells[i];\n",
       "        if (cell.cell_type === 'code'){\n",
       "            for (var j=0; j<cell.output_area.outputs.length; j++) {\n",
       "                var data = cell.output_area.outputs[j];\n",
       "                if (data.data) {\n",
       "                    // IPython >= 3 moved mimebundle to data attribute of output\n",
       "                    data = data.data;\n",
       "                }\n",
       "                if (data['text/html'] == html_output) {\n",
       "                    return [cell, data, j];\n",
       "                }\n",
       "            }\n",
       "        }\n",
       "    }\n",
       "}\n",
       "\n",
       "// Register the function which deals with the matplotlib target/channel.\n",
       "// The kernel may be null if the page has been refreshed.\n",
       "if (IPython.notebook.kernel != null) {\n",
       "    IPython.notebook.kernel.comm_manager.register_target('matplotlib', mpl.mpl_figure_comm);\n",
       "}\n"
      ],
      "text/plain": [
       "<IPython.core.display.Javascript object>"
      ]
     },
     "metadata": {},
     "output_type": "display_data"
    },
    {
     "data": {
      "text/html": [
       "<img src=\"data:image/png;base64,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\" width=\"638.888905813665\">"
      ],
      "text/plain": [
       "<IPython.core.display.HTML object>"
      ]
     },
     "metadata": {},
     "output_type": "display_data"
    }
   ],
   "source": [
    "im.plot()"
   ]
  },
  {
   "cell_type": "markdown",
   "metadata": {
    "slideshow": {
     "slide_type": "subslide"
    }
   },
   "source": [
    "### EDAX EDS mapping data"
   ]
  },
  {
   "cell_type": "code",
   "execution_count": 192,
   "metadata": {},
   "outputs": [],
   "source": [
    "s = hs.load('examples/SEM_EDS_map.spd')"
   ]
  },
  {
   "cell_type": "code",
   "execution_count": 193,
   "metadata": {},
   "outputs": [
    {
     "data": {
      "text/plain": [
       "<EDSSEMSpectrum, title: EDS Spectrum Image, dimensions: (256, 231|2000)>"
      ]
     },
     "execution_count": 193,
     "metadata": {},
     "output_type": "execute_result"
    }
   ],
   "source": [
    "s"
   ]
  },
  {
   "cell_type": "code",
   "execution_count": 194,
   "metadata": {},
   "outputs": [
    {
     "data": {
      "text/html": [
       "<style>\n",
       "table, th, td {\n",
       "\tborder: 1px solid black;\n",
       "\tborder-collapse: collapse;\n",
       "}\n",
       "th, td {\n",
       "\tpadding: 5px;\n",
       "}\n",
       "</style>\n",
       "<p><b>< Axes manager, axes: (256, 231|2000) ></b></p>\n",
       "<table style='width:100%'>\n",
       "\n",
       "<tr> \n",
       "<th>Navigation axis name</th> \n",
       "<th>size</th> \n",
       "<th>index</th> \n",
       "<th>offset</th> \n",
       "<th>scale</th> \n",
       "<th>units</th> </tr>\n",
       "<tr> \n",
       "<td>x</td> \n",
       "<td>256</td> \n",
       "<td>0</td> \n",
       "<td>0.0</td> \n",
       "<td>0.02440594509243965</td> \n",
       "<td>$\\mu m$</td> </tr>\n",
       "<tr> \n",
       "<td>y</td> \n",
       "<td>231</td> \n",
       "<td>0</td> \n",
       "<td>0.0</td> \n",
       "<td>0.022832725197076797</td> \n",
       "<td>$\\mu m$</td> </tr></table>\n",
       "<table style='width:100%'>\n",
       "\n",
       "<tr> \n",
       "<th>Signal axis name</th> \n",
       "<th>size</th> \n",
       "<th>offset</th> \n",
       "<th>scale</th> \n",
       "<th>units</th> </tr>\n",
       "<tr> \n",
       "<td>Energy</td> \n",
       "<td>2000</td> \n",
       "<td>0.0</td> \n",
       "<td>0.005</td> \n",
       "<td>keV</td> </tr></table>\n"
      ],
      "text/plain": [
       "<Axes manager, axes: (256, 231|2000)>\n",
       "            Name |   size |  index |  offset |   scale |  units \n",
       "================ | ====== | ====== | ======= | ======= | ====== \n",
       "               x |    256 |      0 |       0 |   0.024 | $\\mu m$ \n",
       "               y |    231 |      0 |       0 |   0.023 | $\\mu m$ \n",
       "---------------- | ------ | ------ | ------- | ------- | ------ \n",
       "          Energy |   2000 |        |       0 |   0.005 |    keV "
      ]
     },
     "execution_count": 194,
     "metadata": {},
     "output_type": "execute_result"
    }
   ],
   "source": [
    "s.axes_manager"
   ]
  },
  {
   "cell_type": "code",
   "execution_count": null,
   "metadata": {
    "slideshow": {
     "slide_type": "subslide"
    }
   },
   "outputs": [],
   "source": [
    "s.plot()"
   ]
  },
  {
   "cell_type": "markdown",
   "metadata": {
    "slideshow": {
     "slide_type": "slide"
    }
   },
   "source": [
    "## Generic data access"
   ]
  },
  {
   "cell_type": "markdown",
   "metadata": {},
   "source": [
    "* A `Signal` can be created from any data that can be expressed as a `numpy` array"
   ]
  },
  {
   "cell_type": "markdown",
   "metadata": {
    "slideshow": {
     "slide_type": "fragment"
    }
   },
   "source": [
    "* If your tool can output raw data, it can be loaded into HyperSpy with little fuss"
   ]
  },
  {
   "cell_type": "markdown",
   "metadata": {
    "slideshow": {
     "slide_type": "fragment"
    }
   },
   "source": [
    "* Using general Python features, data from other sources can be loaded easily as well"
   ]
  },
  {
   "cell_type": "markdown",
   "metadata": {
    "slideshow": {
     "slide_type": "subslide"
    }
   },
   "source": [
    "### Loading a `.csv` spectrum file"
   ]
  },
  {
   "cell_type": "code",
   "execution_count": null,
   "metadata": {
    "slideshow": {
     "slide_type": "skip"
    }
   },
   "outputs": [],
   "source": [
    "# Create a csv example:\n",
    "single_pix = hs.load('examples/signal_separation_EELS_SI.hdf5').inav[0,0]\n",
    "x_data = single_pix.axes_manager[0].axis\n",
    "y_data = single_pix.data\n",
    "data = np.stack([x_data, y_data])\n",
    "np.savetxt(\"examples/spectrum.csv\", data.T, delimiter=\",\", header=\"Energy (eV), Counts\")"
   ]
  },
  {
   "cell_type": "code",
   "execution_count": null,
   "metadata": {},
   "outputs": [],
   "source": [
    "# Print the first few lines of the .csv file for inspection:\n",
    "with open('examples/spectrum.csv', 'r') as f:\n",
    "    for i in range(10):\n",
    "        print(f.readline(), end='')"
   ]
  },
  {
   "cell_type": "code",
   "execution_count": null,
   "metadata": {
    "slideshow": {
     "slide_type": "subslide"
    }
   },
   "outputs": [],
   "source": [
    "# Load the data into a numpy array from the .csv file:\n",
    "d = np.loadtxt(\"examples/spectrum.csv\", delimiter=',')\n",
    "\n",
    "# Create a signal from the second column of data (the spectral counts)\n",
    "s = hs.signals.Signal1D(d[:,1])\n",
    "s"
   ]
  },
  {
   "cell_type": "code",
   "execution_count": null,
   "metadata": {
    "slideshow": {
     "slide_type": "fragment"
    }
   },
   "outputs": [],
   "source": [
    "# Take the first column of values and set the energy axis accordingly:\n",
    "energy_data = d[:,0]\n",
    "s.axes_manager[0].scale = np.diff(energy_data).mean()\n",
    "s.axes_manager[0].units = 'eV'\n",
    "s.axes_manager[0].offset = energy_data[0]\n",
    "s.axes_manager[0].name = 'Energy'\n",
    "s.axes_manager"
   ]
  },
  {
   "cell_type": "code",
   "execution_count": null,
   "metadata": {
    "slideshow": {
     "slide_type": "subslide"
    }
   },
   "outputs": [],
   "source": [
    "s.plot()"
   ]
  },
  {
   "cell_type": "markdown",
   "metadata": {
    "slideshow": {
     "slide_type": "subslide"
    }
   },
   "source": [
    "### Loading and saving MATLAB files "
   ]
  },
  {
   "cell_type": "markdown",
   "metadata": {},
   "source": [
    "The SciPy project provides a Matlab reader and saver that makes this easy:"
   ]
  },
  {
   "cell_type": "code",
   "execution_count": 204,
   "metadata": {
    "slideshow": {
     "slide_type": "fragment"
    }
   },
   "outputs": [
    {
     "name": "stdout",
     "output_type": "stream",
     "text": [
      "b'MATLAB 5.0 MAT-file, Platform: PCWIN64, Created on: Mon Sep 11 14:27:46 2017'\n"
     ]
    }
   ],
   "source": [
    "from scipy.io import loadmat, savemat\n",
    "house = loadmat('examples/house_image.mat')\n",
    "print(house['__header__'])"
   ]
  },
  {
   "cell_type": "code",
   "execution_count": 205,
   "metadata": {
    "slideshow": {
     "slide_type": "fragment"
    }
   },
   "outputs": [
    {
     "name": "stdout",
     "output_type": "stream",
     "text": [
      "├── General\n",
      "│   └── title = \n",
      "└── Signal\n",
      "    ├── binned = False\n",
      "    └── signal_type = \n",
      "\n"
     ]
    },
    {
     "data": {
      "text/html": [
       "<style>\n",
       "table, th, td {\n",
       "\tborder: 1px solid black;\n",
       "\tborder-collapse: collapse;\n",
       "}\n",
       "th, td {\n",
       "\tpadding: 5px;\n",
       "}\n",
       "</style>\n",
       "<p><b>< Axes manager, axes: (|256, 256) ></b></p>\n",
       "<table style='width:100%'>\n",
       "\n",
       "<tr> \n",
       "<th>Signal axis name</th> \n",
       "<th>size</th> \n",
       "<th>offset</th> \n",
       "<th>scale</th> \n",
       "<th>units</th> </tr>\n",
       "<tr> \n",
       "<td><undefined></td> \n",
       "<td>256</td> \n",
       "<td>0.0</td> \n",
       "<td>1.0</td> \n",
       "<td><undefined></td> </tr>\n",
       "<tr> \n",
       "<td><undefined></td> \n",
       "<td>256</td> \n",
       "<td>0.0</td> \n",
       "<td>1.0</td> \n",
       "<td><undefined></td> </tr></table>\n"
      ],
      "text/plain": [
       "<Axes manager, axes: (|256, 256)>\n",
       "            Name |   size |  index |  offset |   scale |  units \n",
       "================ | ====== | ====== | ======= | ======= | ====== \n",
       "---------------- | ------ | ------ | ------- | ------- | ------ \n",
       "     <undefined> |    256 |        |       0 |       1 | <undefined> \n",
       "     <undefined> |    256 |        |       0 |       1 | <undefined> "
      ]
     },
     "execution_count": 205,
     "metadata": {},
     "output_type": "execute_result"
    }
   ],
   "source": [
    "s = hs.signals.Signal2D(house['IMin0'])\n",
    "print(s.metadata)\n",
    "s.axes_manager"
   ]
  },
  {
   "cell_type": "code",
   "execution_count": 206,
   "metadata": {
    "slideshow": {
     "slide_type": "subslide"
    }
   },
   "outputs": [
    {
     "data": {
      "application/javascript": [
       "/* Put everything inside the global mpl namespace */\n",
       "window.mpl = {};\n",
       "\n",
       "\n",
       "mpl.get_websocket_type = function() {\n",
       "    if (typeof(WebSocket) !== 'undefined') {\n",
       "        return WebSocket;\n",
       "    } else if (typeof(MozWebSocket) !== 'undefined') {\n",
       "        return MozWebSocket;\n",
       "    } else {\n",
       "        alert('Your browser does not have WebSocket support.' +\n",
       "              'Please try Chrome, Safari or Firefox ≥ 6. ' +\n",
       "              'Firefox 4 and 5 are also supported but you ' +\n",
       "              'have to enable WebSockets in about:config.');\n",
       "    };\n",
       "}\n",
       "\n",
       "mpl.figure = function(figure_id, websocket, ondownload, parent_element) {\n",
       "    this.id = figure_id;\n",
       "\n",
       "    this.ws = websocket;\n",
       "\n",
       "    this.supports_binary = (this.ws.binaryType != undefined);\n",
       "\n",
       "    if (!this.supports_binary) {\n",
       "        var warnings = document.getElementById(\"mpl-warnings\");\n",
       "        if (warnings) {\n",
       "            warnings.style.display = 'block';\n",
       "            warnings.textContent = (\n",
       "                \"This browser does not support binary websocket messages. \" +\n",
       "                    \"Performance may be slow.\");\n",
       "        }\n",
       "    }\n",
       "\n",
       "    this.imageObj = new Image();\n",
       "\n",
       "    this.context = undefined;\n",
       "    this.message = undefined;\n",
       "    this.canvas = undefined;\n",
       "    this.rubberband_canvas = undefined;\n",
       "    this.rubberband_context = undefined;\n",
       "    this.format_dropdown = undefined;\n",
       "\n",
       "    this.image_mode = 'full';\n",
       "\n",
       "    this.root = $('<div/>');\n",
       "    this._root_extra_style(this.root)\n",
       "    this.root.attr('style', 'display: inline-block');\n",
       "\n",
       "    $(parent_element).append(this.root);\n",
       "\n",
       "    this._init_header(this);\n",
       "    this._init_canvas(this);\n",
       "    this._init_toolbar(this);\n",
       "\n",
       "    var fig = this;\n",
       "\n",
       "    this.waiting = false;\n",
       "\n",
       "    this.ws.onopen =  function () {\n",
       "            fig.send_message(\"supports_binary\", {value: fig.supports_binary});\n",
       "            fig.send_message(\"send_image_mode\", {});\n",
       "            if (mpl.ratio != 1) {\n",
       "                fig.send_message(\"set_dpi_ratio\", {'dpi_ratio': mpl.ratio});\n",
       "            }\n",
       "            fig.send_message(\"refresh\", {});\n",
       "        }\n",
       "\n",
       "    this.imageObj.onload = function() {\n",
       "            if (fig.image_mode == 'full') {\n",
       "                // Full images could contain transparency (where diff images\n",
       "                // almost always do), so we need to clear the canvas so that\n",
       "                // there is no ghosting.\n",
       "                fig.context.clearRect(0, 0, fig.canvas.width, fig.canvas.height);\n",
       "            }\n",
       "            fig.context.drawImage(fig.imageObj, 0, 0);\n",
       "        };\n",
       "\n",
       "    this.imageObj.onunload = function() {\n",
       "        this.ws.close();\n",
       "    }\n",
       "\n",
       "    this.ws.onmessage = this._make_on_message_function(this);\n",
       "\n",
       "    this.ondownload = ondownload;\n",
       "}\n",
       "\n",
       "mpl.figure.prototype._init_header = function() {\n",
       "    var titlebar = $(\n",
       "        '<div class=\"ui-dialog-titlebar ui-widget-header ui-corner-all ' +\n",
       "        'ui-helper-clearfix\"/>');\n",
       "    var titletext = $(\n",
       "        '<div class=\"ui-dialog-title\" style=\"width: 100%; ' +\n",
       "        'text-align: center; padding: 3px;\"/>');\n",
       "    titlebar.append(titletext)\n",
       "    this.root.append(titlebar);\n",
       "    this.header = titletext[0];\n",
       "}\n",
       "\n",
       "\n",
       "\n",
       "mpl.figure.prototype._canvas_extra_style = function(canvas_div) {\n",
       "\n",
       "}\n",
       "\n",
       "\n",
       "mpl.figure.prototype._root_extra_style = function(canvas_div) {\n",
       "\n",
       "}\n",
       "\n",
       "mpl.figure.prototype._init_canvas = function() {\n",
       "    var fig = this;\n",
       "\n",
       "    var canvas_div = $('<div/>');\n",
       "\n",
       "    canvas_div.attr('style', 'position: relative; clear: both; outline: 0');\n",
       "\n",
       "    function canvas_keyboard_event(event) {\n",
       "        return fig.key_event(event, event['data']);\n",
       "    }\n",
       "\n",
       "    canvas_div.keydown('key_press', canvas_keyboard_event);\n",
       "    canvas_div.keyup('key_release', canvas_keyboard_event);\n",
       "    this.canvas_div = canvas_div\n",
       "    this._canvas_extra_style(canvas_div)\n",
       "    this.root.append(canvas_div);\n",
       "\n",
       "    var canvas = $('<canvas/>');\n",
       "    canvas.addClass('mpl-canvas');\n",
       "    canvas.attr('style', \"left: 0; top: 0; z-index: 0; outline: 0\")\n",
       "\n",
       "    this.canvas = canvas[0];\n",
       "    this.context = canvas[0].getContext(\"2d\");\n",
       "\n",
       "    var backingStore = this.context.backingStorePixelRatio ||\n",
       "\tthis.context.webkitBackingStorePixelRatio ||\n",
       "\tthis.context.mozBackingStorePixelRatio ||\n",
       "\tthis.context.msBackingStorePixelRatio ||\n",
       "\tthis.context.oBackingStorePixelRatio ||\n",
       "\tthis.context.backingStorePixelRatio || 1;\n",
       "\n",
       "    mpl.ratio = (window.devicePixelRatio || 1) / backingStore;\n",
       "\n",
       "    var rubberband = $('<canvas/>');\n",
       "    rubberband.attr('style', \"position: absolute; left: 0; top: 0; z-index: 1;\")\n",
       "\n",
       "    var pass_mouse_events = true;\n",
       "\n",
       "    canvas_div.resizable({\n",
       "        start: function(event, ui) {\n",
       "            pass_mouse_events = false;\n",
       "        },\n",
       "        resize: function(event, ui) {\n",
       "            fig.request_resize(ui.size.width, ui.size.height);\n",
       "        },\n",
       "        stop: function(event, ui) {\n",
       "            pass_mouse_events = true;\n",
       "            fig.request_resize(ui.size.width, ui.size.height);\n",
       "        },\n",
       "    });\n",
       "\n",
       "    function mouse_event_fn(event) {\n",
       "        if (pass_mouse_events)\n",
       "            return fig.mouse_event(event, event['data']);\n",
       "    }\n",
       "\n",
       "    rubberband.mousedown('button_press', mouse_event_fn);\n",
       "    rubberband.mouseup('button_release', mouse_event_fn);\n",
       "    // Throttle sequential mouse events to 1 every 20ms.\n",
       "    rubberband.mousemove('motion_notify', mouse_event_fn);\n",
       "\n",
       "    rubberband.mouseenter('figure_enter', mouse_event_fn);\n",
       "    rubberband.mouseleave('figure_leave', mouse_event_fn);\n",
       "\n",
       "    canvas_div.on(\"wheel\", function (event) {\n",
       "        event = event.originalEvent;\n",
       "        event['data'] = 'scroll'\n",
       "        if (event.deltaY < 0) {\n",
       "            event.step = 1;\n",
       "        } else {\n",
       "            event.step = -1;\n",
       "        }\n",
       "        mouse_event_fn(event);\n",
       "    });\n",
       "\n",
       "    canvas_div.append(canvas);\n",
       "    canvas_div.append(rubberband);\n",
       "\n",
       "    this.rubberband = rubberband;\n",
       "    this.rubberband_canvas = rubberband[0];\n",
       "    this.rubberband_context = rubberband[0].getContext(\"2d\");\n",
       "    this.rubberband_context.strokeStyle = \"#000000\";\n",
       "\n",
       "    this._resize_canvas = function(width, height) {\n",
       "        // Keep the size of the canvas, canvas container, and rubber band\n",
       "        // canvas in synch.\n",
       "        canvas_div.css('width', width)\n",
       "        canvas_div.css('height', height)\n",
       "\n",
       "        canvas.attr('width', width * mpl.ratio);\n",
       "        canvas.attr('height', height * mpl.ratio);\n",
       "        canvas.attr('style', 'width: ' + width + 'px; height: ' + height + 'px;');\n",
       "\n",
       "        rubberband.attr('width', width);\n",
       "        rubberband.attr('height', height);\n",
       "    }\n",
       "\n",
       "    // Set the figure to an initial 600x600px, this will subsequently be updated\n",
       "    // upon first draw.\n",
       "    this._resize_canvas(600, 600);\n",
       "\n",
       "    // Disable right mouse context menu.\n",
       "    $(this.rubberband_canvas).bind(\"contextmenu\",function(e){\n",
       "        return false;\n",
       "    });\n",
       "\n",
       "    function set_focus () {\n",
       "        canvas.focus();\n",
       "        canvas_div.focus();\n",
       "    }\n",
       "\n",
       "    window.setTimeout(set_focus, 100);\n",
       "}\n",
       "\n",
       "mpl.figure.prototype._init_toolbar = function() {\n",
       "    var fig = this;\n",
       "\n",
       "    var nav_element = $('<div/>')\n",
       "    nav_element.attr('style', 'width: 100%');\n",
       "    this.root.append(nav_element);\n",
       "\n",
       "    // Define a callback function for later on.\n",
       "    function toolbar_event(event) {\n",
       "        return fig.toolbar_button_onclick(event['data']);\n",
       "    }\n",
       "    function toolbar_mouse_event(event) {\n",
       "        return fig.toolbar_button_onmouseover(event['data']);\n",
       "    }\n",
       "\n",
       "    for(var toolbar_ind in mpl.toolbar_items) {\n",
       "        var name = mpl.toolbar_items[toolbar_ind][0];\n",
       "        var tooltip = mpl.toolbar_items[toolbar_ind][1];\n",
       "        var image = mpl.toolbar_items[toolbar_ind][2];\n",
       "        var method_name = mpl.toolbar_items[toolbar_ind][3];\n",
       "\n",
       "        if (!name) {\n",
       "            // put a spacer in here.\n",
       "            continue;\n",
       "        }\n",
       "        var button = $('<button/>');\n",
       "        button.addClass('ui-button ui-widget ui-state-default ui-corner-all ' +\n",
       "                        'ui-button-icon-only');\n",
       "        button.attr('role', 'button');\n",
       "        button.attr('aria-disabled', 'false');\n",
       "        button.click(method_name, toolbar_event);\n",
       "        button.mouseover(tooltip, toolbar_mouse_event);\n",
       "\n",
       "        var icon_img = $('<span/>');\n",
       "        icon_img.addClass('ui-button-icon-primary ui-icon');\n",
       "        icon_img.addClass(image);\n",
       "        icon_img.addClass('ui-corner-all');\n",
       "\n",
       "        var tooltip_span = $('<span/>');\n",
       "        tooltip_span.addClass('ui-button-text');\n",
       "        tooltip_span.html(tooltip);\n",
       "\n",
       "        button.append(icon_img);\n",
       "        button.append(tooltip_span);\n",
       "\n",
       "        nav_element.append(button);\n",
       "    }\n",
       "\n",
       "    var fmt_picker_span = $('<span/>');\n",
       "\n",
       "    var fmt_picker = $('<select/>');\n",
       "    fmt_picker.addClass('mpl-toolbar-option ui-widget ui-widget-content');\n",
       "    fmt_picker_span.append(fmt_picker);\n",
       "    nav_element.append(fmt_picker_span);\n",
       "    this.format_dropdown = fmt_picker[0];\n",
       "\n",
       "    for (var ind in mpl.extensions) {\n",
       "        var fmt = mpl.extensions[ind];\n",
       "        var option = $(\n",
       "            '<option/>', {selected: fmt === mpl.default_extension}).html(fmt);\n",
       "        fmt_picker.append(option)\n",
       "    }\n",
       "\n",
       "    // Add hover states to the ui-buttons\n",
       "    $( \".ui-button\" ).hover(\n",
       "        function() { $(this).addClass(\"ui-state-hover\");},\n",
       "        function() { $(this).removeClass(\"ui-state-hover\");}\n",
       "    );\n",
       "\n",
       "    var status_bar = $('<span class=\"mpl-message\"/>');\n",
       "    nav_element.append(status_bar);\n",
       "    this.message = status_bar[0];\n",
       "}\n",
       "\n",
       "mpl.figure.prototype.request_resize = function(x_pixels, y_pixels) {\n",
       "    // Request matplotlib to resize the figure. Matplotlib will then trigger a resize in the client,\n",
       "    // which will in turn request a refresh of the image.\n",
       "    this.send_message('resize', {'width': x_pixels, 'height': y_pixels});\n",
       "}\n",
       "\n",
       "mpl.figure.prototype.send_message = function(type, properties) {\n",
       "    properties['type'] = type;\n",
       "    properties['figure_id'] = this.id;\n",
       "    this.ws.send(JSON.stringify(properties));\n",
       "}\n",
       "\n",
       "mpl.figure.prototype.send_draw_message = function() {\n",
       "    if (!this.waiting) {\n",
       "        this.waiting = true;\n",
       "        this.ws.send(JSON.stringify({type: \"draw\", figure_id: this.id}));\n",
       "    }\n",
       "}\n",
       "\n",
       "\n",
       "mpl.figure.prototype.handle_save = function(fig, msg) {\n",
       "    var format_dropdown = fig.format_dropdown;\n",
       "    var format = format_dropdown.options[format_dropdown.selectedIndex].value;\n",
       "    fig.ondownload(fig, format);\n",
       "}\n",
       "\n",
       "\n",
       "mpl.figure.prototype.handle_resize = function(fig, msg) {\n",
       "    var size = msg['size'];\n",
       "    if (size[0] != fig.canvas.width || size[1] != fig.canvas.height) {\n",
       "        fig._resize_canvas(size[0], size[1]);\n",
       "        fig.send_message(\"refresh\", {});\n",
       "    };\n",
       "}\n",
       "\n",
       "mpl.figure.prototype.handle_rubberband = function(fig, msg) {\n",
       "    var x0 = msg['x0'] / mpl.ratio;\n",
       "    var y0 = (fig.canvas.height - msg['y0']) / mpl.ratio;\n",
       "    var x1 = msg['x1'] / mpl.ratio;\n",
       "    var y1 = (fig.canvas.height - msg['y1']) / mpl.ratio;\n",
       "    x0 = Math.floor(x0) + 0.5;\n",
       "    y0 = Math.floor(y0) + 0.5;\n",
       "    x1 = Math.floor(x1) + 0.5;\n",
       "    y1 = Math.floor(y1) + 0.5;\n",
       "    var min_x = Math.min(x0, x1);\n",
       "    var min_y = Math.min(y0, y1);\n",
       "    var width = Math.abs(x1 - x0);\n",
       "    var height = Math.abs(y1 - y0);\n",
       "\n",
       "    fig.rubberband_context.clearRect(\n",
       "        0, 0, fig.canvas.width, fig.canvas.height);\n",
       "\n",
       "    fig.rubberband_context.strokeRect(min_x, min_y, width, height);\n",
       "}\n",
       "\n",
       "mpl.figure.prototype.handle_figure_label = function(fig, msg) {\n",
       "    // Updates the figure title.\n",
       "    fig.header.textContent = msg['label'];\n",
       "}\n",
       "\n",
       "mpl.figure.prototype.handle_cursor = function(fig, msg) {\n",
       "    var cursor = msg['cursor'];\n",
       "    switch(cursor)\n",
       "    {\n",
       "    case 0:\n",
       "        cursor = 'pointer';\n",
       "        break;\n",
       "    case 1:\n",
       "        cursor = 'default';\n",
       "        break;\n",
       "    case 2:\n",
       "        cursor = 'crosshair';\n",
       "        break;\n",
       "    case 3:\n",
       "        cursor = 'move';\n",
       "        break;\n",
       "    }\n",
       "    fig.rubberband_canvas.style.cursor = cursor;\n",
       "}\n",
       "\n",
       "mpl.figure.prototype.handle_message = function(fig, msg) {\n",
       "    fig.message.textContent = msg['message'];\n",
       "}\n",
       "\n",
       "mpl.figure.prototype.handle_draw = function(fig, msg) {\n",
       "    // Request the server to send over a new figure.\n",
       "    fig.send_draw_message();\n",
       "}\n",
       "\n",
       "mpl.figure.prototype.handle_image_mode = function(fig, msg) {\n",
       "    fig.image_mode = msg['mode'];\n",
       "}\n",
       "\n",
       "mpl.figure.prototype.updated_canvas_event = function() {\n",
       "    // Called whenever the canvas gets updated.\n",
       "    this.send_message(\"ack\", {});\n",
       "}\n",
       "\n",
       "// A function to construct a web socket function for onmessage handling.\n",
       "// Called in the figure constructor.\n",
       "mpl.figure.prototype._make_on_message_function = function(fig) {\n",
       "    return function socket_on_message(evt) {\n",
       "        if (evt.data instanceof Blob) {\n",
       "            /* FIXME: We get \"Resource interpreted as Image but\n",
       "             * transferred with MIME type text/plain:\" errors on\n",
       "             * Chrome.  But how to set the MIME type?  It doesn't seem\n",
       "             * to be part of the websocket stream */\n",
       "            evt.data.type = \"image/png\";\n",
       "\n",
       "            /* Free the memory for the previous frames */\n",
       "            if (fig.imageObj.src) {\n",
       "                (window.URL || window.webkitURL).revokeObjectURL(\n",
       "                    fig.imageObj.src);\n",
       "            }\n",
       "\n",
       "            fig.imageObj.src = (window.URL || window.webkitURL).createObjectURL(\n",
       "                evt.data);\n",
       "            fig.updated_canvas_event();\n",
       "            fig.waiting = false;\n",
       "            return;\n",
       "        }\n",
       "        else if (typeof evt.data === 'string' && evt.data.slice(0, 21) == \"data:image/png;base64\") {\n",
       "            fig.imageObj.src = evt.data;\n",
       "            fig.updated_canvas_event();\n",
       "            fig.waiting = false;\n",
       "            return;\n",
       "        }\n",
       "\n",
       "        var msg = JSON.parse(evt.data);\n",
       "        var msg_type = msg['type'];\n",
       "\n",
       "        // Call the  \"handle_{type}\" callback, which takes\n",
       "        // the figure and JSON message as its only arguments.\n",
       "        try {\n",
       "            var callback = fig[\"handle_\" + msg_type];\n",
       "        } catch (e) {\n",
       "            console.log(\"No handler for the '\" + msg_type + \"' message type: \", msg);\n",
       "            return;\n",
       "        }\n",
       "\n",
       "        if (callback) {\n",
       "            try {\n",
       "                // console.log(\"Handling '\" + msg_type + \"' message: \", msg);\n",
       "                callback(fig, msg);\n",
       "            } catch (e) {\n",
       "                console.log(\"Exception inside the 'handler_\" + msg_type + \"' callback:\", e, e.stack, msg);\n",
       "            }\n",
       "        }\n",
       "    };\n",
       "}\n",
       "\n",
       "// from http://stackoverflow.com/questions/1114465/getting-mouse-location-in-canvas\n",
       "mpl.findpos = function(e) {\n",
       "    //this section is from http://www.quirksmode.org/js/events_properties.html\n",
       "    var targ;\n",
       "    if (!e)\n",
       "        e = window.event;\n",
       "    if (e.target)\n",
       "        targ = e.target;\n",
       "    else if (e.srcElement)\n",
       "        targ = e.srcElement;\n",
       "    if (targ.nodeType == 3) // defeat Safari bug\n",
       "        targ = targ.parentNode;\n",
       "\n",
       "    // jQuery normalizes the pageX and pageY\n",
       "    // pageX,Y are the mouse positions relative to the document\n",
       "    // offset() returns the position of the element relative to the document\n",
       "    var x = e.pageX - $(targ).offset().left;\n",
       "    var y = e.pageY - $(targ).offset().top;\n",
       "\n",
       "    return {\"x\": x, \"y\": y};\n",
       "};\n",
       "\n",
       "/*\n",
       " * return a copy of an object with only non-object keys\n",
       " * we need this to avoid circular references\n",
       " * http://stackoverflow.com/a/24161582/3208463\n",
       " */\n",
       "function simpleKeys (original) {\n",
       "  return Object.keys(original).reduce(function (obj, key) {\n",
       "    if (typeof original[key] !== 'object')\n",
       "        obj[key] = original[key]\n",
       "    return obj;\n",
       "  }, {});\n",
       "}\n",
       "\n",
       "mpl.figure.prototype.mouse_event = function(event, name) {\n",
       "    var canvas_pos = mpl.findpos(event)\n",
       "\n",
       "    if (name === 'button_press')\n",
       "    {\n",
       "        this.canvas.focus();\n",
       "        this.canvas_div.focus();\n",
       "    }\n",
       "\n",
       "    var x = canvas_pos.x * mpl.ratio;\n",
       "    var y = canvas_pos.y * mpl.ratio;\n",
       "\n",
       "    this.send_message(name, {x: x, y: y, button: event.button,\n",
       "                             step: event.step,\n",
       "                             guiEvent: simpleKeys(event)});\n",
       "\n",
       "    /* This prevents the web browser from automatically changing to\n",
       "     * the text insertion cursor when the button is pressed.  We want\n",
       "     * to control all of the cursor setting manually through the\n",
       "     * 'cursor' event from matplotlib */\n",
       "    event.preventDefault();\n",
       "    return false;\n",
       "}\n",
       "\n",
       "mpl.figure.prototype._key_event_extra = function(event, name) {\n",
       "    // Handle any extra behaviour associated with a key event\n",
       "}\n",
       "\n",
       "mpl.figure.prototype.key_event = function(event, name) {\n",
       "\n",
       "    // Prevent repeat events\n",
       "    if (name == 'key_press')\n",
       "    {\n",
       "        if (event.which === this._key)\n",
       "            return;\n",
       "        else\n",
       "            this._key = event.which;\n",
       "    }\n",
       "    if (name == 'key_release')\n",
       "        this._key = null;\n",
       "\n",
       "    var value = '';\n",
       "    if (event.ctrlKey && event.which != 17)\n",
       "        value += \"ctrl+\";\n",
       "    if (event.altKey && event.which != 18)\n",
       "        value += \"alt+\";\n",
       "    if (event.shiftKey && event.which != 16)\n",
       "        value += \"shift+\";\n",
       "\n",
       "    value += 'k';\n",
       "    value += event.which.toString();\n",
       "\n",
       "    this._key_event_extra(event, name);\n",
       "\n",
       "    this.send_message(name, {key: value,\n",
       "                             guiEvent: simpleKeys(event)});\n",
       "    return false;\n",
       "}\n",
       "\n",
       "mpl.figure.prototype.toolbar_button_onclick = function(name) {\n",
       "    if (name == 'download') {\n",
       "        this.handle_save(this, null);\n",
       "    } else {\n",
       "        this.send_message(\"toolbar_button\", {name: name});\n",
       "    }\n",
       "};\n",
       "\n",
       "mpl.figure.prototype.toolbar_button_onmouseover = function(tooltip) {\n",
       "    this.message.textContent = tooltip;\n",
       "};\n",
       "mpl.toolbar_items = [[\"Home\", \"Reset original view\", \"fa fa-home icon-home\", \"home\"], [\"Back\", \"Back to  previous view\", \"fa fa-arrow-left icon-arrow-left\", \"back\"], [\"Forward\", \"Forward to next view\", \"fa fa-arrow-right icon-arrow-right\", \"forward\"], [\"\", \"\", \"\", \"\"], [\"Pan\", \"Pan axes with left mouse, zoom with right\", \"fa fa-arrows icon-move\", \"pan\"], [\"Zoom\", \"Zoom to rectangle\", \"fa fa-square-o icon-check-empty\", \"zoom\"], [\"\", \"\", \"\", \"\"], [\"Download\", \"Download plot\", \"fa fa-floppy-o icon-save\", \"download\"]];\n",
       "\n",
       "mpl.extensions = [\"eps\", \"jpeg\", \"pdf\", \"png\", \"ps\", \"raw\", \"svg\", \"tif\"];\n",
       "\n",
       "mpl.default_extension = \"png\";var comm_websocket_adapter = function(comm) {\n",
       "    // Create a \"websocket\"-like object which calls the given IPython comm\n",
       "    // object with the appropriate methods. Currently this is a non binary\n",
       "    // socket, so there is still some room for performance tuning.\n",
       "    var ws = {};\n",
       "\n",
       "    ws.close = function() {\n",
       "        comm.close()\n",
       "    };\n",
       "    ws.send = function(m) {\n",
       "        //console.log('sending', m);\n",
       "        comm.send(m);\n",
       "    };\n",
       "    // Register the callback with on_msg.\n",
       "    comm.on_msg(function(msg) {\n",
       "        //console.log('receiving', msg['content']['data'], msg);\n",
       "        // Pass the mpl event to the overriden (by mpl) onmessage function.\n",
       "        ws.onmessage(msg['content']['data'])\n",
       "    });\n",
       "    return ws;\n",
       "}\n",
       "\n",
       "mpl.mpl_figure_comm = function(comm, msg) {\n",
       "    // This is the function which gets called when the mpl process\n",
       "    // starts-up an IPython Comm through the \"matplotlib\" channel.\n",
       "\n",
       "    var id = msg.content.data.id;\n",
       "    // Get hold of the div created by the display call when the Comm\n",
       "    // socket was opened in Python.\n",
       "    var element = $(\"#\" + id);\n",
       "    var ws_proxy = comm_websocket_adapter(comm)\n",
       "\n",
       "    function ondownload(figure, format) {\n",
       "        window.open(figure.imageObj.src);\n",
       "    }\n",
       "\n",
       "    var fig = new mpl.figure(id, ws_proxy,\n",
       "                           ondownload,\n",
       "                           element.get(0));\n",
       "\n",
       "    // Call onopen now - mpl needs it, as it is assuming we've passed it a real\n",
       "    // web socket which is closed, not our websocket->open comm proxy.\n",
       "    ws_proxy.onopen();\n",
       "\n",
       "    fig.parent_element = element.get(0);\n",
       "    fig.cell_info = mpl.find_output_cell(\"<div id='\" + id + \"'></div>\");\n",
       "    if (!fig.cell_info) {\n",
       "        console.error(\"Failed to find cell for figure\", id, fig);\n",
       "        return;\n",
       "    }\n",
       "\n",
       "    var output_index = fig.cell_info[2]\n",
       "    var cell = fig.cell_info[0];\n",
       "\n",
       "};\n",
       "\n",
       "mpl.figure.prototype.handle_close = function(fig, msg) {\n",
       "    var width = fig.canvas.width/mpl.ratio\n",
       "    fig.root.unbind('remove')\n",
       "\n",
       "    // Update the output cell to use the data from the current canvas.\n",
       "    fig.push_to_output();\n",
       "    var dataURL = fig.canvas.toDataURL();\n",
       "    // Re-enable the keyboard manager in IPython - without this line, in FF,\n",
       "    // the notebook keyboard shortcuts fail.\n",
       "    IPython.keyboard_manager.enable()\n",
       "    $(fig.parent_element).html('<img src=\"' + dataURL + '\" width=\"' + width + '\">');\n",
       "    fig.close_ws(fig, msg);\n",
       "}\n",
       "\n",
       "mpl.figure.prototype.close_ws = function(fig, msg){\n",
       "    fig.send_message('closing', msg);\n",
       "    // fig.ws.close()\n",
       "}\n",
       "\n",
       "mpl.figure.prototype.push_to_output = function(remove_interactive) {\n",
       "    // Turn the data on the canvas into data in the output cell.\n",
       "    var width = this.canvas.width/mpl.ratio\n",
       "    var dataURL = this.canvas.toDataURL();\n",
       "    this.cell_info[1]['text/html'] = '<img src=\"' + dataURL + '\" width=\"' + width + '\">';\n",
       "}\n",
       "\n",
       "mpl.figure.prototype.updated_canvas_event = function() {\n",
       "    // Tell IPython that the notebook contents must change.\n",
       "    IPython.notebook.set_dirty(true);\n",
       "    this.send_message(\"ack\", {});\n",
       "    var fig = this;\n",
       "    // Wait a second, then push the new image to the DOM so\n",
       "    // that it is saved nicely (might be nice to debounce this).\n",
       "    setTimeout(function () { fig.push_to_output() }, 1000);\n",
       "}\n",
       "\n",
       "mpl.figure.prototype._init_toolbar = function() {\n",
       "    var fig = this;\n",
       "\n",
       "    var nav_element = $('<div/>')\n",
       "    nav_element.attr('style', 'width: 100%');\n",
       "    this.root.append(nav_element);\n",
       "\n",
       "    // Define a callback function for later on.\n",
       "    function toolbar_event(event) {\n",
       "        return fig.toolbar_button_onclick(event['data']);\n",
       "    }\n",
       "    function toolbar_mouse_event(event) {\n",
       "        return fig.toolbar_button_onmouseover(event['data']);\n",
       "    }\n",
       "\n",
       "    for(var toolbar_ind in mpl.toolbar_items){\n",
       "        var name = mpl.toolbar_items[toolbar_ind][0];\n",
       "        var tooltip = mpl.toolbar_items[toolbar_ind][1];\n",
       "        var image = mpl.toolbar_items[toolbar_ind][2];\n",
       "        var method_name = mpl.toolbar_items[toolbar_ind][3];\n",
       "\n",
       "        if (!name) { continue; };\n",
       "\n",
       "        var button = $('<button class=\"btn btn-default\" href=\"#\" title=\"' + name + '\"><i class=\"fa ' + image + ' fa-lg\"></i></button>');\n",
       "        button.click(method_name, toolbar_event);\n",
       "        button.mouseover(tooltip, toolbar_mouse_event);\n",
       "        nav_element.append(button);\n",
       "    }\n",
       "\n",
       "    // Add the status bar.\n",
       "    var status_bar = $('<span class=\"mpl-message\" style=\"text-align:right; float: right;\"/>');\n",
       "    nav_element.append(status_bar);\n",
       "    this.message = status_bar[0];\n",
       "\n",
       "    // Add the close button to the window.\n",
       "    var buttongrp = $('<div class=\"btn-group inline pull-right\"></div>');\n",
       "    var button = $('<button class=\"btn btn-mini btn-primary\" href=\"#\" title=\"Stop Interaction\"><i class=\"fa fa-power-off icon-remove icon-large\"></i></button>');\n",
       "    button.click(function (evt) { fig.handle_close(fig, {}); } );\n",
       "    button.mouseover('Stop Interaction', toolbar_mouse_event);\n",
       "    buttongrp.append(button);\n",
       "    var titlebar = this.root.find($('.ui-dialog-titlebar'));\n",
       "    titlebar.prepend(buttongrp);\n",
       "}\n",
       "\n",
       "mpl.figure.prototype._root_extra_style = function(el){\n",
       "    var fig = this\n",
       "    el.on(\"remove\", function(){\n",
       "\tfig.close_ws(fig, {});\n",
       "    });\n",
       "}\n",
       "\n",
       "mpl.figure.prototype._canvas_extra_style = function(el){\n",
       "    // this is important to make the div 'focusable\n",
       "    el.attr('tabindex', 0)\n",
       "    // reach out to IPython and tell the keyboard manager to turn it's self\n",
       "    // off when our div gets focus\n",
       "\n",
       "    // location in version 3\n",
       "    if (IPython.notebook.keyboard_manager) {\n",
       "        IPython.notebook.keyboard_manager.register_events(el);\n",
       "    }\n",
       "    else {\n",
       "        // location in version 2\n",
       "        IPython.keyboard_manager.register_events(el);\n",
       "    }\n",
       "\n",
       "}\n",
       "\n",
       "mpl.figure.prototype._key_event_extra = function(event, name) {\n",
       "    var manager = IPython.notebook.keyboard_manager;\n",
       "    if (!manager)\n",
       "        manager = IPython.keyboard_manager;\n",
       "\n",
       "    // Check for shift+enter\n",
       "    if (event.shiftKey && event.which == 13) {\n",
       "        this.canvas_div.blur();\n",
       "        // select the cell after this one\n",
       "        var index = IPython.notebook.find_cell_index(this.cell_info[0]);\n",
       "        IPython.notebook.select(index + 1);\n",
       "    }\n",
       "}\n",
       "\n",
       "mpl.figure.prototype.handle_save = function(fig, msg) {\n",
       "    fig.ondownload(fig, null);\n",
       "}\n",
       "\n",
       "\n",
       "mpl.find_output_cell = function(html_output) {\n",
       "    // Return the cell and output element which can be found *uniquely* in the notebook.\n",
       "    // Note - this is a bit hacky, but it is done because the \"notebook_saving.Notebook\"\n",
       "    // IPython event is triggered only after the cells have been serialised, which for\n",
       "    // our purposes (turning an active figure into a static one), is too late.\n",
       "    var cells = IPython.notebook.get_cells();\n",
       "    var ncells = cells.length;\n",
       "    for (var i=0; i<ncells; i++) {\n",
       "        var cell = cells[i];\n",
       "        if (cell.cell_type === 'code'){\n",
       "            for (var j=0; j<cell.output_area.outputs.length; j++) {\n",
       "                var data = cell.output_area.outputs[j];\n",
       "                if (data.data) {\n",
       "                    // IPython >= 3 moved mimebundle to data attribute of output\n",
       "                    data = data.data;\n",
       "                }\n",
       "                if (data['text/html'] == html_output) {\n",
       "                    return [cell, data, j];\n",
       "                }\n",
       "            }\n",
       "        }\n",
       "    }\n",
       "}\n",
       "\n",
       "// Register the function which deals with the matplotlib target/channel.\n",
       "// The kernel may be null if the page has been refreshed.\n",
       "if (IPython.notebook.kernel != null) {\n",
       "    IPython.notebook.kernel.comm_manager.register_target('matplotlib', mpl.mpl_figure_comm);\n",
       "}\n"
      ],
      "text/plain": [
       "<IPython.core.display.Javascript object>"
      ]
     },
     "metadata": {},
     "output_type": "display_data"
    },
    {
     "data": {
      "text/html": [
       "<img src=\"data:image/png;base64,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\" width=\"640\">"
      ],
      "text/plain": [
       "<IPython.core.display.HTML object>"
      ]
     },
     "metadata": {},
     "output_type": "display_data"
    }
   ],
   "source": [
    "s.plot()"
   ]
  },
  {
   "cell_type": "markdown",
   "metadata": {
    "slideshow": {
     "slide_type": "slide"
    }
   },
   "source": [
    "## \"Lazy\" signal access"
   ]
  },
  {
   "cell_type": "markdown",
   "metadata": {
    "slideshow": {
     "slide_type": "fragment"
    }
   },
   "source": [
    "* HyperSpy makes it easy to work with big data (bigger than your system's memory)"
   ]
  },
  {
   "cell_type": "markdown",
   "metadata": {
    "slideshow": {
     "slide_type": "fragment"
    }
   },
   "source": [
    "* Uses the excellent [`dask`](https://dask.pydata.org/en/latest/) library for chunking operations"
   ]
  },
  {
   "cell_type": "markdown",
   "metadata": {
    "slideshow": {
     "slide_type": "fragment"
    }
   },
   "source": [
    "* Almost all the regular features of HyperSpy can operate on \"lazy\" signals (see [User Guide](http://hyperspy.org/hyperspy-doc/current/user_guide/big_data.html))"
   ]
  },
  {
   "cell_type": "markdown",
   "metadata": {
    "slideshow": {
     "slide_type": "subslide"
    }
   },
   "source": [
    "Comparison with normal loading:"
   ]
  },
  {
   "cell_type": "code",
   "execution_count": null,
   "metadata": {},
   "outputs": [],
   "source": [
    "# Load the EDS map lazily:\n",
    "s = hs.load('examples/SEM_EDS_map.spd', lazy=True)\n",
    "print(type(s.data))"
   ]
  },
  {
   "cell_type": "code",
   "execution_count": null,
   "metadata": {},
   "outputs": [],
   "source": [
    "# Print some statistics about memory usage\n",
    "print(\"Full dataset should consume:\", s.data.nbytes / 1e6, 'MB')\n",
    "print(\"Chunk sizes are:\", s.data.chunks)\n",
    "one_chunk = s.data[:s.data.chunks[0][0], :s.data.chunks[1][0],:s.data.chunks[2][0]]\n",
    "print(\"Memory use from one chunk: \", one_chunk.nbytes / 1e6, \"MB\")"
   ]
  },
  {
   "cell_type": "markdown",
   "metadata": {
    "slideshow": {
     "slide_type": "slide"
    }
   },
   "source": [
    "## Saving data from HyperSpy &mdash; HDF5"
   ]
  },
  {
   "cell_type": "markdown",
   "metadata": {},
   "source": [
    "* The default format for HyperSpy data is an `.hspy` file in [HDF5](https://portal.hdfgroup.org/display/HDF5/HDF5) format"
   ]
  },
  {
   "cell_type": "markdown",
   "metadata": {},
   "source": [
    "* Open, hierarchical data format supporting compression and full read/write capability"
   ]
  },
  {
   "cell_type": "markdown",
   "metadata": {},
   "source": [
    "* All HyperSpy signals can be saved as `.hspy` files"
   ]
  },
  {
   "cell_type": "markdown",
   "metadata": {},
   "source": [
    "* Saves full metadata about signal, including critical processing parameters\n",
    "  * Modeling, signal separation, elemental information"
   ]
  },
  {
   "cell_type": "markdown",
   "metadata": {
    "slideshow": {
     "slide_type": "subslide"
    }
   },
   "source": [
    "## Saving data from HyperSpy &mdash; data interchange"
   ]
  },
  {
   "cell_type": "markdown",
   "metadata": {},
   "source": [
    "* Other formats can be easily written:\n",
    "  * Single spectra &mdash; `.msa` format\n",
    "  * Images &mdash; TIFF, JPG, etc.\n",
    "  * Spectrum images &mdash; Lispix-style `.rpl`/`.raw` pairs"
   ]
  },
  {
   "cell_type": "markdown",
   "metadata": {
    "slideshow": {
     "slide_type": "skip"
    }
   },
   "source": [
    "# Supplementary information and setup code"
   ]
  },
  {
   "cell_type": "code",
   "execution_count": null,
   "metadata": {
    "slideshow": {
     "slide_type": "skip"
    }
   },
   "outputs": [],
   "source": [
    "%matplotlib nbagg\n",
    "import hyperspy.api as hs\n",
    "import numpy as np\n",
    "hs.signals.Signal1D(np.random.rand(10,10,100)).plot()"
   ]
  },
  {
   "cell_type": "markdown",
   "metadata": {
    "slideshow": {
     "slide_type": "skip"
    }
   },
   "source": [
    "#### Downloading and creating test signal:"
   ]
  },
  {
   "cell_type": "code",
   "execution_count": null,
   "metadata": {
    "slideshow": {
     "slide_type": "skip"
    }
   },
   "outputs": [],
   "source": [
    "import hyperspy.api as hs\n",
    "hs.datasets.eelsdb(spectrum_type='coreloss', formula=\"B4C\")[0].save('examples/EELS_signal_B4C.hdf5')\n",
    "hs.datasets.eelsdb(spectrum_type='lowloss', title=\"Silicon Dioxide Amorphous\")[0].save('examples/EELS_signal_SiO2_ll.hdf5')"
   ]
  },
  {
   "cell_type": "code",
   "execution_count": null,
   "metadata": {
    "slideshow": {
     "slide_type": "skip"
    }
   },
   "outputs": [],
   "source": [
    "import hyperspy.api as hs\n",
    "from skimage.data import astronaut\n",
    "s = hs.signals.Signal1D(astronaut())\n",
    "\n",
    "# Calibrate the image\n",
    "s.axes_manager[0].name = \"width\"\n",
    "s.axes_manager[0].scale = 0.13\n",
    "s.axes_manager[0].offset = -29.2\n",
    "s.axes_manager[0].units = \"cm\"\n",
    "\n",
    "s.axes_manager[1].name = \"height\"\n",
    "s.axes_manager[1].scale = 0.13\n",
    "s.axes_manager[1].offset = -12.9\n",
    "s.axes_manager[1].units = \"cm\"\n",
    "\n",
    "s.axes_manager[2].name = \"RGB\"\n",
    "s.to_signal2D().save(\"astronaut.hdf5\")"
   ]
  },
  {
   "cell_type": "code",
   "execution_count": null,
   "metadata": {
    "slideshow": {
     "slide_type": "skip"
    }
   },
   "outputs": [],
   "source": [
    "from urllib.request import urlretrieve, urlopen\n",
    "from zipfile import ZipFile\n",
    "\n",
    "# This line doesn't work at NIST, but we've packaged the files locally\n",
    "# files = urlretrieve(\"https://www.dropbox.com/s/dt6bc3dtg373ahw/machine_learning.zip?raw=1\", \"./machine_learning.zip\")\n",
    "\n",
    "with ZipFile(\"../machine_learning.zip\") as z:\n",
    "    z.extractall()"
   ]
  }
 ],
 "metadata": {
  "celltoolbar": "Slideshow",
  "kernelspec": {
   "display_name": "Python 3",
   "language": "python",
   "name": "python3"
  },
  "language_info": {
   "codemirror_mode": {
    "name": "ipython",
    "version": 3
   },
   "file_extension": ".py",
   "mimetype": "text/x-python",
   "name": "python",
   "nbconvert_exporter": "python",
   "pygments_lexer": "ipython3",
   "version": "3.6.4"
  },
  "livereveal": {
   "autolaunch": true,
   "backimage": "nist_mml_background.png",
   "footer": "<img src=\"nist_mml_logo.svg\">",
   "header": "",
   "scroll": true,
   "transition": "slide",
   "transitionSpeed": "slow"
  },
  "toc": {
   "nav_menu": {},
   "number_sections": true,
   "sideBar": true,
   "skip_h1_title": false,
   "toc_cell": false,
   "toc_position": {},
   "toc_section_display": "block",
   "toc_window_display": false
  },
  "varInspector": {
   "cols": {
    "lenName": 16,
    "lenType": 16,
    "lenVar": 40
   },
   "kernels_config": {
    "python": {
     "delete_cmd_postfix": "",
     "delete_cmd_prefix": "del ",
     "library": "var_list.py",
     "varRefreshCmd": "print(var_dic_list())"
    },
    "r": {
     "delete_cmd_postfix": ") ",
     "delete_cmd_prefix": "rm(",
     "library": "var_list.r",
     "varRefreshCmd": "cat(var_dic_list()) "
    }
   },
   "types_to_exclude": [
    "module",
    "function",
    "builtin_function_or_method",
    "instance",
    "_Feature"
   ],
   "window_display": false
  }
 },
 "nbformat": 4,
 "nbformat_minor": 2
}
