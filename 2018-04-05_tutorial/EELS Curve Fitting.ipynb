{
 "cells": [
  {
   "cell_type": "code",
   "execution_count": null,
   "metadata": {},
   "outputs": [],
   "source": [
    "%matplotlib notebook\n",
    "import hyperspy.api as hs\n",
    "import numpy as np\n",
    "import matplotlib.pylab as plt"
   ]
  },
  {
   "cell_type": "code",
   "execution_count": null,
   "metadata": {},
   "outputs": [],
   "source": [
    "import logging\n",
    "hs_logger = logging.getLogger('hyperspy') \n",
    "hs_logger.setLevel(logging.ERROR)"
   ]
  },
  {
   "cell_type": "markdown",
   "metadata": {},
   "source": [
    "## Create some test data\n",
    "- 50x50 array of Gaussians with randomly varying A, mu, and sigma"
   ]
  },
  {
   "cell_type": "code",
   "execution_count": null,
   "metadata": {},
   "outputs": [],
   "source": [
    "amps = hs.signals.Signal2D(np.random.randint(500,1500,size=[20,20]))\n",
    "centers = hs.signals.Signal2D(np.random.randint(45,55,size=[20,20]))\n",
    "sigmas = hs.signals.Signal2D(np.random.randint(5,10,size=[20,20]))\n",
    "\n",
    "xaxis = np.tile(np.arange(0,100),20**2)\n",
    "xaxis = xaxis.reshape([20,20,100])\n",
    "xaxis = np.rollaxis(xaxis,2)\n",
    "curves = amps.data/np.sqrt(2*np.pi*sigmas.data**2)*np.exp(-(xaxis-centers.data)**2/(2*sigmas.data**2))\n",
    "curves = np.rollaxis(curves,0,3)\n",
    "gaussians = hs.signals.Signal1D(curves)\n",
    "\n",
    "gaussians.plot()"
   ]
  },
  {
   "cell_type": "markdown",
   "metadata": {},
   "source": [
    "## Create a model\n",
    "- Add single Gaussian component\n",
    "- Perform fit at all pixel locations"
   ]
  },
  {
   "cell_type": "code",
   "execution_count": null,
   "metadata": {},
   "outputs": [],
   "source": [
    "gaussians_model = gaussians.create_model()\n",
    "gaussians_model.components"
   ]
  },
  {
   "cell_type": "code",
   "execution_count": null,
   "metadata": {},
   "outputs": [],
   "source": [
    "gaussians_model.append(hs.model.components1D.Gaussian())\n",
    "gaussians_model[0].estimate_parameters(gaussians,10,90,False)\n",
    "gaussians_model.components"
   ]
  },
  {
   "cell_type": "code",
   "execution_count": null,
   "metadata": {},
   "outputs": [],
   "source": [
    "gaussians_model.multifit()\n",
    "gaussians_model.plot()"
   ]
  },
  {
   "cell_type": "markdown",
   "metadata": {},
   "source": [
    "## Compare fitted values to test data\n"
   ]
  },
  {
   "cell_type": "code",
   "execution_count": null,
   "metadata": {},
   "outputs": [],
   "source": [
    "sig_results = gaussians_model.components.Gaussian.parameters[1].as_signal()\n",
    "residuals = (sig_results-sigmas)**2\n",
    "\n",
    "hs.plot.plot_images([sigmas, sig_results, residuals], cmap='inferno',\n",
    "                    axes_decor='off', tight_layout=True, \n",
    "                    label=['Test data', 'Fitted Values', 'Residuals'])\n",
    "plt.tight_layout()"
   ]
  },
  {
   "cell_type": "markdown",
   "metadata": {},
   "source": [
    "## Add some noise to the test data"
   ]
  },
  {
   "cell_type": "code",
   "execution_count": null,
   "metadata": {},
   "outputs": [],
   "source": [
    "noisy = gaussians.deepcopy()\n",
    "noisy.unfold()\n",
    "\n",
    "for i in range(0,20**2):\n",
    "    noisy.data[i,:] =noisy.data[i,:] + np.random.poisson(np.sqrt(noisy.data[i,:].max()),100)\n",
    "noisy.fold()"
   ]
  },
  {
   "cell_type": "markdown",
   "metadata": {},
   "source": [
    "## Create a model from the noisy data\n",
    "- Add a single Gaussian component\n",
    "- Add a lineaer offset to account for 'background' from adding noise\n",
    "- Perform fit at all image pixels"
   ]
  },
  {
   "cell_type": "code",
   "execution_count": null,
   "metadata": {
    "scrolled": false
   },
   "outputs": [],
   "source": [
    "noisy_model = noisy.create_model()\n",
    "noisy_model.append(hs.model.components1D.Gaussian())\n",
    "noisy_model.append(hs.model.components1D.Offset())\n",
    "noisy_model[0].estimate_parameters(noisy,10,90,False)\n",
    "noisy_model[1].estimate_parameters(noisy,10,90,False)\n",
    "noisy_model.multifit(show_progressbar=True)\n",
    "noisy_model.plot(plot_components=True)"
   ]
  },
  {
   "cell_type": "markdown",
   "metadata": {},
   "source": [
    "# More Realistic Application: Fitting EELS Fine Structure"
   ]
  },
  {
   "cell_type": "markdown",
   "metadata": {},
   "source": [
    "## Useful aside: The EELS Database\n",
    "<img src='EELSdb_logo-medium.png' width='500' align='center'/>\n",
    "\n",
    "- https://eelsdb.eu/\n",
    "    - Largest open-access repository of EELS and X-ray absorption spectra\n",
    "    - Nearly 300 spectra covering 43 elements and growing\n",
    "- Database can be directly queried by:\n",
    "    - Title, ex. \"Hexagonal Boron Nitride\"\n",
    "    - Formula, ex. \"BN\"\n",
    "    - Elements, ex. \"B,N\"\n",
    "    - Edge, ex. \"K\" or \"L1\"\n",
    "    - Etc., many other options\n",
    "- Spectra can be pulled directly from database without downloading"
   ]
  },
  {
   "cell_type": "code",
   "execution_count": null,
   "metadata": {},
   "outputs": [],
   "source": [
    "hs.datasets.eelsdb(formula='BN')"
   ]
  },
  {
   "cell_type": "code",
   "execution_count": null,
   "metadata": {},
   "outputs": [],
   "source": [
    "hs.datasets.eelsdb(element=('Fe','O'),spectrum_type='coreloss')"
   ]
  },
  {
   "cell_type": "markdown",
   "metadata": {},
   "source": [
    "## Load data downloaded from EELS Database\n",
    "- Core-loss and low-loss boron nitride spectra\n",
    "- Set microscope parameters\n",
    "- Add Boron and Nitrogen to model\n",
    "- Create model\n",
    "    - Automatically adds PowerLaw component to fit background\n",
    "    - Automatically adds relevant edges in the energy range of the spectrum"
   ]
  },
  {
   "cell_type": "code",
   "execution_count": null,
   "metadata": {},
   "outputs": [],
   "source": [
    "s = hs.datasets.eelsdb(title=\"Hexagonal Boron Nitride\", spectrum_type=\"coreloss\")[0]\n",
    "ll = hs.datasets.eelsdb(title=\"Hexagonal Boron Nitride\", spectrum_type=\"lowloss\")[0]\n",
    "\n",
    "'''If no internet'''\n",
    "#s = hs.load(\"examples/BN_(hex)_B_K_Giovanni_Bertoni_100.msa\")\n",
    "#ll = hs.load(\"examples/BN_(hex)_LowLoss_Giovanni_Bertoni_96.msa\")\n",
    "\n",
    "s.set_microscope_parameters(beam_energy=100, convergence_angle=0.2, collection_angle=2.55)\n",
    "s.add_elements(('B', 'N'))\n",
    "\n",
    "m = s.create_model(ll=ll)\n",
    "m.components"
   ]
  },
  {
   "cell_type": "code",
   "execution_count": null,
   "metadata": {},
   "outputs": [],
   "source": [
    "m.plot()"
   ]
  },
  {
   "cell_type": "markdown",
   "metadata": {},
   "source": [
    "## Perform least squares fitting"
   ]
  },
  {
   "cell_type": "code",
   "execution_count": null,
   "metadata": {},
   "outputs": [],
   "source": [
    "m.smart_fit()\n",
    "m.plot()"
   ]
  },
  {
   "cell_type": "markdown",
   "metadata": {},
   "source": [
    "## Perform least-squares fitting with fine structure\n",
    "- Requires local database of ionization cross-sections\n",
    "    - Comes with Digital Micrograph\n",
    "    - Hydrogenic and Hartree-Slater models"
   ]
  },
  {
   "cell_type": "code",
   "execution_count": null,
   "metadata": {},
   "outputs": [],
   "source": [
    "m.enable_fine_structure()\n",
    "m.smart_fit()\n",
    "m.plot()"
   ]
  },
  {
   "cell_type": "code",
   "execution_count": null,
   "metadata": {},
   "outputs": [],
   "source": []
  }
 ],
 "metadata": {
  "kernelspec": {
   "display_name": "Python 3",
   "language": "python",
   "name": "python3"
  },
  "language_info": {
   "codemirror_mode": {
    "name": "ipython",
    "version": 3
   },
   "file_extension": ".py",
   "mimetype": "text/x-python",
   "name": "python",
   "nbconvert_exporter": "python",
   "pygments_lexer": "ipython3",
   "version": "3.6.4"
  },
  "varInspector": {
   "cols": {
    "lenName": 16,
    "lenType": 16,
    "lenVar": 40
   },
   "kernels_config": {
    "python": {
     "delete_cmd_postfix": "",
     "delete_cmd_prefix": "del ",
     "library": "var_list.py",
     "varRefreshCmd": "print(var_dic_list())"
    },
    "r": {
     "delete_cmd_postfix": ") ",
     "delete_cmd_prefix": "rm(",
     "library": "var_list.r",
     "varRefreshCmd": "cat(var_dic_list()) "
    }
   },
   "types_to_exclude": [
    "module",
    "function",
    "builtin_function_or_method",
    "instance",
    "_Feature"
   ],
   "window_display": false
  }
 },
 "nbformat": 4,
 "nbformat_minor": 2
}
