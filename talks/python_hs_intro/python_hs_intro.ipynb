{
 "cells": [
  {
   "cell_type": "markdown",
   "metadata": {
    "slideshow": {
     "slide_type": "slide"
    }
   },
   "source": [
    "# Welcome to 2019 M&M Short Course X-15\n",
    "## Data Analysis in Materials Science with\n",
    "\n",
    "<br/>\n",
    "<br/>\n",
    "<img style='margin:auto;' src='img/hyperspy_banner.png'/>\n",
    "<br/>\n",
    "\n",
    "### Presented by (a selection of) the HyperSpy developers:\n",
    "- Duncan Johnstone\n",
    "- Katherine MacArthur\n",
    "- Magnus Nord\n",
    "- Eric Prestat\n",
    "- Joshua Taillon"
   ]
  },
  {
   "cell_type": "markdown",
   "metadata": {
    "slideshow": {
     "slide_type": "slide"
    }
   },
   "source": [
    "# Session 1: An Introduction to Python and  HyperSpy:\n",
    "## The multi-dimensional data analysis toolbox\n",
    "\n",
    "### <br/>\n",
    "### Josh Taillon\n",
    "#### *August 4, 2019*"
   ]
  },
  {
   "cell_type": "markdown",
   "metadata": {
    "slideshow": {
     "slide_type": "slide"
    }
   },
   "source": [
    "# NIST Disclaimer\n",
    "\n",
    "*Certain commercial equipment, instruments, materials, vendors, and\n",
    "software are identified in this talk for example purposes and to foster\n",
    "understanding. Such identification does not imply recommendation or\n",
    "endorsement by the National Institute of Standards and Technology, nor\n",
    "does it imply that the materials or equipment identified are necessarily the\n",
    "best available for the purpose.*"
   ]
  },
  {
   "cell_type": "markdown",
   "metadata": {
    "slideshow": {
     "slide_type": "skip"
    }
   },
   "source": [
    "## <a id='top'></a> Outline\n",
    "\n",
    "1. <a href='#intro'> Intro</a>\n",
    "2. <a href='#starting'> Getting Started</a>\n",
    "2. <a href='#signal'> The Signal Class</a>\n",
    "3. <a href='#io'> Input/Output</a>\n",
    "4. <a href='#EM'> Electron Microscopy Tools</a>\n",
    "5. <a href='#EDS'> EDS Processing</a>\n",
    "6. <a href='#EELS'> EELS Processing</a>\n",
    "7. <a href='#extending'> Extensibility</a>\n",
    "8. <a href='#demos'> Interactive Demos</a>"
   ]
  },
  {
   "cell_type": "markdown",
   "metadata": {
    "slideshow": {
     "slide_type": "skip"
    }
   },
   "source": [
    "#### Import hyperspy"
   ]
  },
  {
   "cell_type": "code",
   "execution_count": 22,
   "metadata": {
    "slideshow": {
     "slide_type": "skip"
    }
   },
   "outputs": [],
   "source": [
    "%matplotlib notebook\n",
    "import hyperspy.api as hs\n",
    "import numpy as np"
   ]
  },
  {
   "cell_type": "markdown",
   "metadata": {
    "slideshow": {
     "slide_type": "skip"
    }
   },
   "source": [
    "#### Disable warnings for presentation:"
   ]
  },
  {
   "cell_type": "code",
   "execution_count": 2,
   "metadata": {
    "slideshow": {
     "slide_type": "skip"
    }
   },
   "outputs": [],
   "source": [
    "import logging\n",
    "hs_logger = logging.getLogger('hyperspy') \n",
    "hs_logger.setLevel(logging.ERROR)"
   ]
  },
  {
   "cell_type": "markdown",
   "metadata": {
    "slideshow": {
     "slide_type": "skip"
    }
   },
   "source": [
    "## A quick note first:"
   ]
  },
  {
   "cell_type": "markdown",
   "metadata": {
    "collapsed": true,
    "slideshow": {
     "slide_type": "skip"
    }
   },
   "source": [
    "## This isn't your parents' Powerpoint..."
   ]
  },
  {
   "cell_type": "markdown",
   "metadata": {
    "slideshow": {
     "slide_type": "skip"
    }
   },
   "source": [
    "## ...because everything is interactive!"
   ]
  },
  {
   "cell_type": "code",
   "execution_count": 28,
   "metadata": {
    "ExecuteTime": {
     "end_time": "2019-07-28T17:52:51.337520Z",
     "start_time": "2019-07-28T17:52:49.019270Z"
    },
    "slideshow": {
     "slide_type": "skip"
    }
   },
   "outputs": [
    {
     "name": "stdout",
     "output_type": "stream",
     "text": [
      "Today is July 28, 2019!"
     ]
    }
   ],
   "source": [
    "import datetime\n",
    "import time\n",
    "datestring = datetime.datetime.now().strftime('%B %d, %Y')\n",
    "for c in 'Today is {}!'.format(datestring):\n",
    "    print(c, end='')\n",
    "    time.sleep(.1)"
   ]
  },
  {
   "cell_type": "code",
   "execution_count": 31,
   "metadata": {
    "slideshow": {
     "slide_type": "skip"
    }
   },
   "outputs": [
    {
     "data": {
      "application/javascript": [
       "/* Put everything inside the global mpl namespace */\n",
       "window.mpl = {};\n",
       "\n",
       "\n",
       "mpl.get_websocket_type = function() {\n",
       "    if (typeof(WebSocket) !== 'undefined') {\n",
       "        return WebSocket;\n",
       "    } else if (typeof(MozWebSocket) !== 'undefined') {\n",
       "        return MozWebSocket;\n",
       "    } else {\n",
       "        alert('Your browser does not have WebSocket support.' +\n",
       "              'Please try Chrome, Safari or Firefox ≥ 6. ' +\n",
       "              'Firefox 4 and 5 are also supported but you ' +\n",
       "              'have to enable WebSockets in about:config.');\n",
       "    };\n",
       "}\n",
       "\n",
       "mpl.figure = function(figure_id, websocket, ondownload, parent_element) {\n",
       "    this.id = figure_id;\n",
       "\n",
       "    this.ws = websocket;\n",
       "\n",
       "    this.supports_binary = (this.ws.binaryType != undefined);\n",
       "\n",
       "    if (!this.supports_binary) {\n",
       "        var warnings = document.getElementById(\"mpl-warnings\");\n",
       "        if (warnings) {\n",
       "            warnings.style.display = 'block';\n",
       "            warnings.textContent = (\n",
       "                \"This browser does not support binary websocket messages. \" +\n",
       "                    \"Performance may be slow.\");\n",
       "        }\n",
       "    }\n",
       "\n",
       "    this.imageObj = new Image();\n",
       "\n",
       "    this.context = undefined;\n",
       "    this.message = undefined;\n",
       "    this.canvas = undefined;\n",
       "    this.rubberband_canvas = undefined;\n",
       "    this.rubberband_context = undefined;\n",
       "    this.format_dropdown = undefined;\n",
       "\n",
       "    this.image_mode = 'full';\n",
       "\n",
       "    this.root = $('<div/>');\n",
       "    this._root_extra_style(this.root)\n",
       "    this.root.attr('style', 'display: inline-block');\n",
       "\n",
       "    $(parent_element).append(this.root);\n",
       "\n",
       "    this._init_header(this);\n",
       "    this._init_canvas(this);\n",
       "    this._init_toolbar(this);\n",
       "\n",
       "    var fig = this;\n",
       "\n",
       "    this.waiting = false;\n",
       "\n",
       "    this.ws.onopen =  function () {\n",
       "            fig.send_message(\"supports_binary\", {value: fig.supports_binary});\n",
       "            fig.send_message(\"send_image_mode\", {});\n",
       "            if (mpl.ratio != 1) {\n",
       "                fig.send_message(\"set_dpi_ratio\", {'dpi_ratio': mpl.ratio});\n",
       "            }\n",
       "            fig.send_message(\"refresh\", {});\n",
       "        }\n",
       "\n",
       "    this.imageObj.onload = function() {\n",
       "            if (fig.image_mode == 'full') {\n",
       "                // Full images could contain transparency (where diff images\n",
       "                // almost always do), so we need to clear the canvas so that\n",
       "                // there is no ghosting.\n",
       "                fig.context.clearRect(0, 0, fig.canvas.width, fig.canvas.height);\n",
       "            }\n",
       "            fig.context.drawImage(fig.imageObj, 0, 0);\n",
       "        };\n",
       "\n",
       "    this.imageObj.onunload = function() {\n",
       "        fig.ws.close();\n",
       "    }\n",
       "\n",
       "    this.ws.onmessage = this._make_on_message_function(this);\n",
       "\n",
       "    this.ondownload = ondownload;\n",
       "}\n",
       "\n",
       "mpl.figure.prototype._init_header = function() {\n",
       "    var titlebar = $(\n",
       "        '<div class=\"ui-dialog-titlebar ui-widget-header ui-corner-all ' +\n",
       "        'ui-helper-clearfix\"/>');\n",
       "    var titletext = $(\n",
       "        '<div class=\"ui-dialog-title\" style=\"width: 100%; ' +\n",
       "        'text-align: center; padding: 3px;\"/>');\n",
       "    titlebar.append(titletext)\n",
       "    this.root.append(titlebar);\n",
       "    this.header = titletext[0];\n",
       "}\n",
       "\n",
       "\n",
       "\n",
       "mpl.figure.prototype._canvas_extra_style = function(canvas_div) {\n",
       "\n",
       "}\n",
       "\n",
       "\n",
       "mpl.figure.prototype._root_extra_style = function(canvas_div) {\n",
       "\n",
       "}\n",
       "\n",
       "mpl.figure.prototype._init_canvas = function() {\n",
       "    var fig = this;\n",
       "\n",
       "    var canvas_div = $('<div/>');\n",
       "\n",
       "    canvas_div.attr('style', 'position: relative; clear: both; outline: 0');\n",
       "\n",
       "    function canvas_keyboard_event(event) {\n",
       "        return fig.key_event(event, event['data']);\n",
       "    }\n",
       "\n",
       "    canvas_div.keydown('key_press', canvas_keyboard_event);\n",
       "    canvas_div.keyup('key_release', canvas_keyboard_event);\n",
       "    this.canvas_div = canvas_div\n",
       "    this._canvas_extra_style(canvas_div)\n",
       "    this.root.append(canvas_div);\n",
       "\n",
       "    var canvas = $('<canvas/>');\n",
       "    canvas.addClass('mpl-canvas');\n",
       "    canvas.attr('style', \"left: 0; top: 0; z-index: 0; outline: 0\")\n",
       "\n",
       "    this.canvas = canvas[0];\n",
       "    this.context = canvas[0].getContext(\"2d\");\n",
       "\n",
       "    var backingStore = this.context.backingStorePixelRatio ||\n",
       "\tthis.context.webkitBackingStorePixelRatio ||\n",
       "\tthis.context.mozBackingStorePixelRatio ||\n",
       "\tthis.context.msBackingStorePixelRatio ||\n",
       "\tthis.context.oBackingStorePixelRatio ||\n",
       "\tthis.context.backingStorePixelRatio || 1;\n",
       "\n",
       "    mpl.ratio = (window.devicePixelRatio || 1) / backingStore;\n",
       "\n",
       "    var rubberband = $('<canvas/>');\n",
       "    rubberband.attr('style', \"position: absolute; left: 0; top: 0; z-index: 1;\")\n",
       "\n",
       "    var pass_mouse_events = true;\n",
       "\n",
       "    canvas_div.resizable({\n",
       "        start: function(event, ui) {\n",
       "            pass_mouse_events = false;\n",
       "        },\n",
       "        resize: function(event, ui) {\n",
       "            fig.request_resize(ui.size.width, ui.size.height);\n",
       "        },\n",
       "        stop: function(event, ui) {\n",
       "            pass_mouse_events = true;\n",
       "            fig.request_resize(ui.size.width, ui.size.height);\n",
       "        },\n",
       "    });\n",
       "\n",
       "    function mouse_event_fn(event) {\n",
       "        if (pass_mouse_events)\n",
       "            return fig.mouse_event(event, event['data']);\n",
       "    }\n",
       "\n",
       "    rubberband.mousedown('button_press', mouse_event_fn);\n",
       "    rubberband.mouseup('button_release', mouse_event_fn);\n",
       "    // Throttle sequential mouse events to 1 every 20ms.\n",
       "    rubberband.mousemove('motion_notify', mouse_event_fn);\n",
       "\n",
       "    rubberband.mouseenter('figure_enter', mouse_event_fn);\n",
       "    rubberband.mouseleave('figure_leave', mouse_event_fn);\n",
       "\n",
       "    canvas_div.on(\"wheel\", function (event) {\n",
       "        event = event.originalEvent;\n",
       "        event['data'] = 'scroll'\n",
       "        if (event.deltaY < 0) {\n",
       "            event.step = 1;\n",
       "        } else {\n",
       "            event.step = -1;\n",
       "        }\n",
       "        mouse_event_fn(event);\n",
       "    });\n",
       "\n",
       "    canvas_div.append(canvas);\n",
       "    canvas_div.append(rubberband);\n",
       "\n",
       "    this.rubberband = rubberband;\n",
       "    this.rubberband_canvas = rubberband[0];\n",
       "    this.rubberband_context = rubberband[0].getContext(\"2d\");\n",
       "    this.rubberband_context.strokeStyle = \"#000000\";\n",
       "\n",
       "    this._resize_canvas = function(width, height) {\n",
       "        // Keep the size of the canvas, canvas container, and rubber band\n",
       "        // canvas in synch.\n",
       "        canvas_div.css('width', width)\n",
       "        canvas_div.css('height', height)\n",
       "\n",
       "        canvas.attr('width', width * mpl.ratio);\n",
       "        canvas.attr('height', height * mpl.ratio);\n",
       "        canvas.attr('style', 'width: ' + width + 'px; height: ' + height + 'px;');\n",
       "\n",
       "        rubberband.attr('width', width);\n",
       "        rubberband.attr('height', height);\n",
       "    }\n",
       "\n",
       "    // Set the figure to an initial 600x600px, this will subsequently be updated\n",
       "    // upon first draw.\n",
       "    this._resize_canvas(600, 600);\n",
       "\n",
       "    // Disable right mouse context menu.\n",
       "    $(this.rubberband_canvas).bind(\"contextmenu\",function(e){\n",
       "        return false;\n",
       "    });\n",
       "\n",
       "    function set_focus () {\n",
       "        canvas.focus();\n",
       "        canvas_div.focus();\n",
       "    }\n",
       "\n",
       "    window.setTimeout(set_focus, 100);\n",
       "}\n",
       "\n",
       "mpl.figure.prototype._init_toolbar = function() {\n",
       "    var fig = this;\n",
       "\n",
       "    var nav_element = $('<div/>')\n",
       "    nav_element.attr('style', 'width: 100%');\n",
       "    this.root.append(nav_element);\n",
       "\n",
       "    // Define a callback function for later on.\n",
       "    function toolbar_event(event) {\n",
       "        return fig.toolbar_button_onclick(event['data']);\n",
       "    }\n",
       "    function toolbar_mouse_event(event) {\n",
       "        return fig.toolbar_button_onmouseover(event['data']);\n",
       "    }\n",
       "\n",
       "    for(var toolbar_ind in mpl.toolbar_items) {\n",
       "        var name = mpl.toolbar_items[toolbar_ind][0];\n",
       "        var tooltip = mpl.toolbar_items[toolbar_ind][1];\n",
       "        var image = mpl.toolbar_items[toolbar_ind][2];\n",
       "        var method_name = mpl.toolbar_items[toolbar_ind][3];\n",
       "\n",
       "        if (!name) {\n",
       "            // put a spacer in here.\n",
       "            continue;\n",
       "        }\n",
       "        var button = $('<button/>');\n",
       "        button.addClass('ui-button ui-widget ui-state-default ui-corner-all ' +\n",
       "                        'ui-button-icon-only');\n",
       "        button.attr('role', 'button');\n",
       "        button.attr('aria-disabled', 'false');\n",
       "        button.click(method_name, toolbar_event);\n",
       "        button.mouseover(tooltip, toolbar_mouse_event);\n",
       "\n",
       "        var icon_img = $('<span/>');\n",
       "        icon_img.addClass('ui-button-icon-primary ui-icon');\n",
       "        icon_img.addClass(image);\n",
       "        icon_img.addClass('ui-corner-all');\n",
       "\n",
       "        var tooltip_span = $('<span/>');\n",
       "        tooltip_span.addClass('ui-button-text');\n",
       "        tooltip_span.html(tooltip);\n",
       "\n",
       "        button.append(icon_img);\n",
       "        button.append(tooltip_span);\n",
       "\n",
       "        nav_element.append(button);\n",
       "    }\n",
       "\n",
       "    var fmt_picker_span = $('<span/>');\n",
       "\n",
       "    var fmt_picker = $('<select/>');\n",
       "    fmt_picker.addClass('mpl-toolbar-option ui-widget ui-widget-content');\n",
       "    fmt_picker_span.append(fmt_picker);\n",
       "    nav_element.append(fmt_picker_span);\n",
       "    this.format_dropdown = fmt_picker[0];\n",
       "\n",
       "    for (var ind in mpl.extensions) {\n",
       "        var fmt = mpl.extensions[ind];\n",
       "        var option = $(\n",
       "            '<option/>', {selected: fmt === mpl.default_extension}).html(fmt);\n",
       "        fmt_picker.append(option)\n",
       "    }\n",
       "\n",
       "    // Add hover states to the ui-buttons\n",
       "    $( \".ui-button\" ).hover(\n",
       "        function() { $(this).addClass(\"ui-state-hover\");},\n",
       "        function() { $(this).removeClass(\"ui-state-hover\");}\n",
       "    );\n",
       "\n",
       "    var status_bar = $('<span class=\"mpl-message\"/>');\n",
       "    nav_element.append(status_bar);\n",
       "    this.message = status_bar[0];\n",
       "}\n",
       "\n",
       "mpl.figure.prototype.request_resize = function(x_pixels, y_pixels) {\n",
       "    // Request matplotlib to resize the figure. Matplotlib will then trigger a resize in the client,\n",
       "    // which will in turn request a refresh of the image.\n",
       "    this.send_message('resize', {'width': x_pixels, 'height': y_pixels});\n",
       "}\n",
       "\n",
       "mpl.figure.prototype.send_message = function(type, properties) {\n",
       "    properties['type'] = type;\n",
       "    properties['figure_id'] = this.id;\n",
       "    this.ws.send(JSON.stringify(properties));\n",
       "}\n",
       "\n",
       "mpl.figure.prototype.send_draw_message = function() {\n",
       "    if (!this.waiting) {\n",
       "        this.waiting = true;\n",
       "        this.ws.send(JSON.stringify({type: \"draw\", figure_id: this.id}));\n",
       "    }\n",
       "}\n",
       "\n",
       "\n",
       "mpl.figure.prototype.handle_save = function(fig, msg) {\n",
       "    var format_dropdown = fig.format_dropdown;\n",
       "    var format = format_dropdown.options[format_dropdown.selectedIndex].value;\n",
       "    fig.ondownload(fig, format);\n",
       "}\n",
       "\n",
       "\n",
       "mpl.figure.prototype.handle_resize = function(fig, msg) {\n",
       "    var size = msg['size'];\n",
       "    if (size[0] != fig.canvas.width || size[1] != fig.canvas.height) {\n",
       "        fig._resize_canvas(size[0], size[1]);\n",
       "        fig.send_message(\"refresh\", {});\n",
       "    };\n",
       "}\n",
       "\n",
       "mpl.figure.prototype.handle_rubberband = function(fig, msg) {\n",
       "    var x0 = msg['x0'] / mpl.ratio;\n",
       "    var y0 = (fig.canvas.height - msg['y0']) / mpl.ratio;\n",
       "    var x1 = msg['x1'] / mpl.ratio;\n",
       "    var y1 = (fig.canvas.height - msg['y1']) / mpl.ratio;\n",
       "    x0 = Math.floor(x0) + 0.5;\n",
       "    y0 = Math.floor(y0) + 0.5;\n",
       "    x1 = Math.floor(x1) + 0.5;\n",
       "    y1 = Math.floor(y1) + 0.5;\n",
       "    var min_x = Math.min(x0, x1);\n",
       "    var min_y = Math.min(y0, y1);\n",
       "    var width = Math.abs(x1 - x0);\n",
       "    var height = Math.abs(y1 - y0);\n",
       "\n",
       "    fig.rubberband_context.clearRect(\n",
       "        0, 0, fig.canvas.width, fig.canvas.height);\n",
       "\n",
       "    fig.rubberband_context.strokeRect(min_x, min_y, width, height);\n",
       "}\n",
       "\n",
       "mpl.figure.prototype.handle_figure_label = function(fig, msg) {\n",
       "    // Updates the figure title.\n",
       "    fig.header.textContent = msg['label'];\n",
       "}\n",
       "\n",
       "mpl.figure.prototype.handle_cursor = function(fig, msg) {\n",
       "    var cursor = msg['cursor'];\n",
       "    switch(cursor)\n",
       "    {\n",
       "    case 0:\n",
       "        cursor = 'pointer';\n",
       "        break;\n",
       "    case 1:\n",
       "        cursor = 'default';\n",
       "        break;\n",
       "    case 2:\n",
       "        cursor = 'crosshair';\n",
       "        break;\n",
       "    case 3:\n",
       "        cursor = 'move';\n",
       "        break;\n",
       "    }\n",
       "    fig.rubberband_canvas.style.cursor = cursor;\n",
       "}\n",
       "\n",
       "mpl.figure.prototype.handle_message = function(fig, msg) {\n",
       "    fig.message.textContent = msg['message'];\n",
       "}\n",
       "\n",
       "mpl.figure.prototype.handle_draw = function(fig, msg) {\n",
       "    // Request the server to send over a new figure.\n",
       "    fig.send_draw_message();\n",
       "}\n",
       "\n",
       "mpl.figure.prototype.handle_image_mode = function(fig, msg) {\n",
       "    fig.image_mode = msg['mode'];\n",
       "}\n",
       "\n",
       "mpl.figure.prototype.updated_canvas_event = function() {\n",
       "    // Called whenever the canvas gets updated.\n",
       "    this.send_message(\"ack\", {});\n",
       "}\n",
       "\n",
       "// A function to construct a web socket function for onmessage handling.\n",
       "// Called in the figure constructor.\n",
       "mpl.figure.prototype._make_on_message_function = function(fig) {\n",
       "    return function socket_on_message(evt) {\n",
       "        if (evt.data instanceof Blob) {\n",
       "            /* FIXME: We get \"Resource interpreted as Image but\n",
       "             * transferred with MIME type text/plain:\" errors on\n",
       "             * Chrome.  But how to set the MIME type?  It doesn't seem\n",
       "             * to be part of the websocket stream */\n",
       "            evt.data.type = \"image/png\";\n",
       "\n",
       "            /* Free the memory for the previous frames */\n",
       "            if (fig.imageObj.src) {\n",
       "                (window.URL || window.webkitURL).revokeObjectURL(\n",
       "                    fig.imageObj.src);\n",
       "            }\n",
       "\n",
       "            fig.imageObj.src = (window.URL || window.webkitURL).createObjectURL(\n",
       "                evt.data);\n",
       "            fig.updated_canvas_event();\n",
       "            fig.waiting = false;\n",
       "            return;\n",
       "        }\n",
       "        else if (typeof evt.data === 'string' && evt.data.slice(0, 21) == \"data:image/png;base64\") {\n",
       "            fig.imageObj.src = evt.data;\n",
       "            fig.updated_canvas_event();\n",
       "            fig.waiting = false;\n",
       "            return;\n",
       "        }\n",
       "\n",
       "        var msg = JSON.parse(evt.data);\n",
       "        var msg_type = msg['type'];\n",
       "\n",
       "        // Call the  \"handle_{type}\" callback, which takes\n",
       "        // the figure and JSON message as its only arguments.\n",
       "        try {\n",
       "            var callback = fig[\"handle_\" + msg_type];\n",
       "        } catch (e) {\n",
       "            console.log(\"No handler for the '\" + msg_type + \"' message type: \", msg);\n",
       "            return;\n",
       "        }\n",
       "\n",
       "        if (callback) {\n",
       "            try {\n",
       "                // console.log(\"Handling '\" + msg_type + \"' message: \", msg);\n",
       "                callback(fig, msg);\n",
       "            } catch (e) {\n",
       "                console.log(\"Exception inside the 'handler_\" + msg_type + \"' callback:\", e, e.stack, msg);\n",
       "            }\n",
       "        }\n",
       "    };\n",
       "}\n",
       "\n",
       "// from http://stackoverflow.com/questions/1114465/getting-mouse-location-in-canvas\n",
       "mpl.findpos = function(e) {\n",
       "    //this section is from http://www.quirksmode.org/js/events_properties.html\n",
       "    var targ;\n",
       "    if (!e)\n",
       "        e = window.event;\n",
       "    if (e.target)\n",
       "        targ = e.target;\n",
       "    else if (e.srcElement)\n",
       "        targ = e.srcElement;\n",
       "    if (targ.nodeType == 3) // defeat Safari bug\n",
       "        targ = targ.parentNode;\n",
       "\n",
       "    // jQuery normalizes the pageX and pageY\n",
       "    // pageX,Y are the mouse positions relative to the document\n",
       "    // offset() returns the position of the element relative to the document\n",
       "    var x = e.pageX - $(targ).offset().left;\n",
       "    var y = e.pageY - $(targ).offset().top;\n",
       "\n",
       "    return {\"x\": x, \"y\": y};\n",
       "};\n",
       "\n",
       "/*\n",
       " * return a copy of an object with only non-object keys\n",
       " * we need this to avoid circular references\n",
       " * http://stackoverflow.com/a/24161582/3208463\n",
       " */\n",
       "function simpleKeys (original) {\n",
       "  return Object.keys(original).reduce(function (obj, key) {\n",
       "    if (typeof original[key] !== 'object')\n",
       "        obj[key] = original[key]\n",
       "    return obj;\n",
       "  }, {});\n",
       "}\n",
       "\n",
       "mpl.figure.prototype.mouse_event = function(event, name) {\n",
       "    var canvas_pos = mpl.findpos(event)\n",
       "\n",
       "    if (name === 'button_press')\n",
       "    {\n",
       "        this.canvas.focus();\n",
       "        this.canvas_div.focus();\n",
       "    }\n",
       "\n",
       "    var x = canvas_pos.x * mpl.ratio;\n",
       "    var y = canvas_pos.y * mpl.ratio;\n",
       "\n",
       "    this.send_message(name, {x: x, y: y, button: event.button,\n",
       "                             step: event.step,\n",
       "                             guiEvent: simpleKeys(event)});\n",
       "\n",
       "    /* This prevents the web browser from automatically changing to\n",
       "     * the text insertion cursor when the button is pressed.  We want\n",
       "     * to control all of the cursor setting manually through the\n",
       "     * 'cursor' event from matplotlib */\n",
       "    event.preventDefault();\n",
       "    return false;\n",
       "}\n",
       "\n",
       "mpl.figure.prototype._key_event_extra = function(event, name) {\n",
       "    // Handle any extra behaviour associated with a key event\n",
       "}\n",
       "\n",
       "mpl.figure.prototype.key_event = function(event, name) {\n",
       "\n",
       "    // Prevent repeat events\n",
       "    if (name == 'key_press')\n",
       "    {\n",
       "        if (event.which === this._key)\n",
       "            return;\n",
       "        else\n",
       "            this._key = event.which;\n",
       "    }\n",
       "    if (name == 'key_release')\n",
       "        this._key = null;\n",
       "\n",
       "    var value = '';\n",
       "    if (event.ctrlKey && event.which != 17)\n",
       "        value += \"ctrl+\";\n",
       "    if (event.altKey && event.which != 18)\n",
       "        value += \"alt+\";\n",
       "    if (event.shiftKey && event.which != 16)\n",
       "        value += \"shift+\";\n",
       "\n",
       "    value += 'k';\n",
       "    value += event.which.toString();\n",
       "\n",
       "    this._key_event_extra(event, name);\n",
       "\n",
       "    this.send_message(name, {key: value,\n",
       "                             guiEvent: simpleKeys(event)});\n",
       "    return false;\n",
       "}\n",
       "\n",
       "mpl.figure.prototype.toolbar_button_onclick = function(name) {\n",
       "    if (name == 'download') {\n",
       "        this.handle_save(this, null);\n",
       "    } else {\n",
       "        this.send_message(\"toolbar_button\", {name: name});\n",
       "    }\n",
       "};\n",
       "\n",
       "mpl.figure.prototype.toolbar_button_onmouseover = function(tooltip) {\n",
       "    this.message.textContent = tooltip;\n",
       "};\n",
       "mpl.toolbar_items = [[\"Home\", \"Reset original view\", \"fa fa-home icon-home\", \"home\"], [\"Back\", \"Back to previous view\", \"fa fa-arrow-left icon-arrow-left\", \"back\"], [\"Forward\", \"Forward to next view\", \"fa fa-arrow-right icon-arrow-right\", \"forward\"], [\"\", \"\", \"\", \"\"], [\"Pan\", \"Pan axes with left mouse, zoom with right\", \"fa fa-arrows icon-move\", \"pan\"], [\"Zoom\", \"Zoom to rectangle\", \"fa fa-square-o icon-check-empty\", \"zoom\"], [\"\", \"\", \"\", \"\"], [\"Download\", \"Download plot\", \"fa fa-floppy-o icon-save\", \"download\"]];\n",
       "\n",
       "mpl.extensions = [\"eps\", \"jpeg\", \"pdf\", \"png\", \"ps\", \"raw\", \"svg\", \"tif\"];\n",
       "\n",
       "mpl.default_extension = \"png\";var comm_websocket_adapter = function(comm) {\n",
       "    // Create a \"websocket\"-like object which calls the given IPython comm\n",
       "    // object with the appropriate methods. Currently this is a non binary\n",
       "    // socket, so there is still some room for performance tuning.\n",
       "    var ws = {};\n",
       "\n",
       "    ws.close = function() {\n",
       "        comm.close()\n",
       "    };\n",
       "    ws.send = function(m) {\n",
       "        //console.log('sending', m);\n",
       "        comm.send(m);\n",
       "    };\n",
       "    // Register the callback with on_msg.\n",
       "    comm.on_msg(function(msg) {\n",
       "        //console.log('receiving', msg['content']['data'], msg);\n",
       "        // Pass the mpl event to the overridden (by mpl) onmessage function.\n",
       "        ws.onmessage(msg['content']['data'])\n",
       "    });\n",
       "    return ws;\n",
       "}\n",
       "\n",
       "mpl.mpl_figure_comm = function(comm, msg) {\n",
       "    // This is the function which gets called when the mpl process\n",
       "    // starts-up an IPython Comm through the \"matplotlib\" channel.\n",
       "\n",
       "    var id = msg.content.data.id;\n",
       "    // Get hold of the div created by the display call when the Comm\n",
       "    // socket was opened in Python.\n",
       "    var element = $(\"#\" + id);\n",
       "    var ws_proxy = comm_websocket_adapter(comm)\n",
       "\n",
       "    function ondownload(figure, format) {\n",
       "        window.open(figure.imageObj.src);\n",
       "    }\n",
       "\n",
       "    var fig = new mpl.figure(id, ws_proxy,\n",
       "                           ondownload,\n",
       "                           element.get(0));\n",
       "\n",
       "    // Call onopen now - mpl needs it, as it is assuming we've passed it a real\n",
       "    // web socket which is closed, not our websocket->open comm proxy.\n",
       "    ws_proxy.onopen();\n",
       "\n",
       "    fig.parent_element = element.get(0);\n",
       "    fig.cell_info = mpl.find_output_cell(\"<div id='\" + id + \"'></div>\");\n",
       "    if (!fig.cell_info) {\n",
       "        console.error(\"Failed to find cell for figure\", id, fig);\n",
       "        return;\n",
       "    }\n",
       "\n",
       "    var output_index = fig.cell_info[2]\n",
       "    var cell = fig.cell_info[0];\n",
       "\n",
       "};\n",
       "\n",
       "mpl.figure.prototype.handle_close = function(fig, msg) {\n",
       "    var width = fig.canvas.width/mpl.ratio\n",
       "    fig.root.unbind('remove')\n",
       "\n",
       "    // Update the output cell to use the data from the current canvas.\n",
       "    fig.push_to_output();\n",
       "    var dataURL = fig.canvas.toDataURL();\n",
       "    // Re-enable the keyboard manager in IPython - without this line, in FF,\n",
       "    // the notebook keyboard shortcuts fail.\n",
       "    IPython.keyboard_manager.enable()\n",
       "    $(fig.parent_element).html('<img src=\"' + dataURL + '\" width=\"' + width + '\">');\n",
       "    fig.close_ws(fig, msg);\n",
       "}\n",
       "\n",
       "mpl.figure.prototype.close_ws = function(fig, msg){\n",
       "    fig.send_message('closing', msg);\n",
       "    // fig.ws.close()\n",
       "}\n",
       "\n",
       "mpl.figure.prototype.push_to_output = function(remove_interactive) {\n",
       "    // Turn the data on the canvas into data in the output cell.\n",
       "    var width = this.canvas.width/mpl.ratio\n",
       "    var dataURL = this.canvas.toDataURL();\n",
       "    this.cell_info[1]['text/html'] = '<img src=\"' + dataURL + '\" width=\"' + width + '\">';\n",
       "}\n",
       "\n",
       "mpl.figure.prototype.updated_canvas_event = function() {\n",
       "    // Tell IPython that the notebook contents must change.\n",
       "    IPython.notebook.set_dirty(true);\n",
       "    this.send_message(\"ack\", {});\n",
       "    var fig = this;\n",
       "    // Wait a second, then push the new image to the DOM so\n",
       "    // that it is saved nicely (might be nice to debounce this).\n",
       "    setTimeout(function () { fig.push_to_output() }, 1000);\n",
       "}\n",
       "\n",
       "mpl.figure.prototype._init_toolbar = function() {\n",
       "    var fig = this;\n",
       "\n",
       "    var nav_element = $('<div/>')\n",
       "    nav_element.attr('style', 'width: 100%');\n",
       "    this.root.append(nav_element);\n",
       "\n",
       "    // Define a callback function for later on.\n",
       "    function toolbar_event(event) {\n",
       "        return fig.toolbar_button_onclick(event['data']);\n",
       "    }\n",
       "    function toolbar_mouse_event(event) {\n",
       "        return fig.toolbar_button_onmouseover(event['data']);\n",
       "    }\n",
       "\n",
       "    for(var toolbar_ind in mpl.toolbar_items){\n",
       "        var name = mpl.toolbar_items[toolbar_ind][0];\n",
       "        var tooltip = mpl.toolbar_items[toolbar_ind][1];\n",
       "        var image = mpl.toolbar_items[toolbar_ind][2];\n",
       "        var method_name = mpl.toolbar_items[toolbar_ind][3];\n",
       "\n",
       "        if (!name) { continue; };\n",
       "\n",
       "        var button = $('<button class=\"btn btn-default\" href=\"#\" title=\"' + name + '\"><i class=\"fa ' + image + ' fa-lg\"></i></button>');\n",
       "        button.click(method_name, toolbar_event);\n",
       "        button.mouseover(tooltip, toolbar_mouse_event);\n",
       "        nav_element.append(button);\n",
       "    }\n",
       "\n",
       "    // Add the status bar.\n",
       "    var status_bar = $('<span class=\"mpl-message\" style=\"text-align:right; float: right;\"/>');\n",
       "    nav_element.append(status_bar);\n",
       "    this.message = status_bar[0];\n",
       "\n",
       "    // Add the close button to the window.\n",
       "    var buttongrp = $('<div class=\"btn-group inline pull-right\"></div>');\n",
       "    var button = $('<button class=\"btn btn-mini btn-primary\" href=\"#\" title=\"Stop Interaction\"><i class=\"fa fa-power-off icon-remove icon-large\"></i></button>');\n",
       "    button.click(function (evt) { fig.handle_close(fig, {}); } );\n",
       "    button.mouseover('Stop Interaction', toolbar_mouse_event);\n",
       "    buttongrp.append(button);\n",
       "    var titlebar = this.root.find($('.ui-dialog-titlebar'));\n",
       "    titlebar.prepend(buttongrp);\n",
       "}\n",
       "\n",
       "mpl.figure.prototype._root_extra_style = function(el){\n",
       "    var fig = this\n",
       "    el.on(\"remove\", function(){\n",
       "\tfig.close_ws(fig, {});\n",
       "    });\n",
       "}\n",
       "\n",
       "mpl.figure.prototype._canvas_extra_style = function(el){\n",
       "    // this is important to make the div 'focusable\n",
       "    el.attr('tabindex', 0)\n",
       "    // reach out to IPython and tell the keyboard manager to turn it's self\n",
       "    // off when our div gets focus\n",
       "\n",
       "    // location in version 3\n",
       "    if (IPython.notebook.keyboard_manager) {\n",
       "        IPython.notebook.keyboard_manager.register_events(el);\n",
       "    }\n",
       "    else {\n",
       "        // location in version 2\n",
       "        IPython.keyboard_manager.register_events(el);\n",
       "    }\n",
       "\n",
       "}\n",
       "\n",
       "mpl.figure.prototype._key_event_extra = function(event, name) {\n",
       "    var manager = IPython.notebook.keyboard_manager;\n",
       "    if (!manager)\n",
       "        manager = IPython.keyboard_manager;\n",
       "\n",
       "    // Check for shift+enter\n",
       "    if (event.shiftKey && event.which == 13) {\n",
       "        this.canvas_div.blur();\n",
       "        event.shiftKey = false;\n",
       "        // Send a \"J\" for go to next cell\n",
       "        event.which = 74;\n",
       "        event.keyCode = 74;\n",
       "        manager.command_mode();\n",
       "        manager.handle_keydown(event);\n",
       "    }\n",
       "}\n",
       "\n",
       "mpl.figure.prototype.handle_save = function(fig, msg) {\n",
       "    fig.ondownload(fig, null);\n",
       "}\n",
       "\n",
       "\n",
       "mpl.find_output_cell = function(html_output) {\n",
       "    // Return the cell and output element which can be found *uniquely* in the notebook.\n",
       "    // Note - this is a bit hacky, but it is done because the \"notebook_saving.Notebook\"\n",
       "    // IPython event is triggered only after the cells have been serialised, which for\n",
       "    // our purposes (turning an active figure into a static one), is too late.\n",
       "    var cells = IPython.notebook.get_cells();\n",
       "    var ncells = cells.length;\n",
       "    for (var i=0; i<ncells; i++) {\n",
       "        var cell = cells[i];\n",
       "        if (cell.cell_type === 'code'){\n",
       "            for (var j=0; j<cell.output_area.outputs.length; j++) {\n",
       "                var data = cell.output_area.outputs[j];\n",
       "                if (data.data) {\n",
       "                    // IPython >= 3 moved mimebundle to data attribute of output\n",
       "                    data = data.data;\n",
       "                }\n",
       "                if (data['text/html'] == html_output) {\n",
       "                    return [cell, data, j];\n",
       "                }\n",
       "            }\n",
       "        }\n",
       "    }\n",
       "}\n",
       "\n",
       "// Register the function which deals with the matplotlib target/channel.\n",
       "// The kernel may be null if the page has been refreshed.\n",
       "if (IPython.notebook.kernel != null) {\n",
       "    IPython.notebook.kernel.comm_manager.register_target('matplotlib', mpl.mpl_figure_comm);\n",
       "}\n"
      ],
      "text/plain": [
       "<IPython.core.display.Javascript object>"
      ]
     },
     "metadata": {},
     "output_type": "display_data"
    },
    {
     "data": {
      "text/html": [
       "<img src=\"data:image/png;base64,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\" width=\"640\">"
      ],
      "text/plain": [
       "<IPython.core.display.HTML object>"
      ]
     },
     "metadata": {},
     "output_type": "display_data"
    }
   ],
   "source": [
    "%matplotlib notebook\n",
    "import numpy as np\n",
    "import matplotlib.pyplot as plt\n",
    "\n",
    "lineplot = plt.plot(3 * np.random.rand(10), 5 * np.random.rand(10),'o')\n",
    "plt.xlabel(\"X axis\"); plt.ylabel(\"Y axis\");"
   ]
  },
  {
   "cell_type": "markdown",
   "metadata": {
    "slideshow": {
     "slide_type": "skip"
    }
   },
   "source": [
    "## Made possible with:"
   ]
  },
  {
   "cell_type": "markdown",
   "metadata": {
    "slideshow": {
     "slide_type": "skip"
    }
   },
   "source": [
    "* Jupyter notebook &mdash; https://jupyter.org/"
   ]
  },
  {
   "cell_type": "markdown",
   "metadata": {
    "slideshow": {
     "slide_type": "skip"
    }
   },
   "source": [
    "* RISE (Reveal.js IPython/Jupyter Slideshow Extension) &mdash; https://github.com/damianavila/RISE"
   ]
  },
  {
   "cell_type": "markdown",
   "metadata": {
    "slideshow": {
     "slide_type": "slide"
    }
   },
   "source": [
    "# <img style='display:inline-block;' src='img/python_just_logo.svg' width=125/> &nbsp; What is this \"Python\" that I've heard of?"
   ]
  },
  {
   "cell_type": "markdown",
   "metadata": {
    "slideshow": {
     "slide_type": "slide"
    }
   },
   "source": [
    "## What is &nbsp; <img src=\"img/python_logo.svg\" width=300px style=\"display: inline-block;\">  ?"
   ]
  },
  {
   "cell_type": "markdown",
   "metadata": {
    "slideshow": {
     "slide_type": "fragment"
    }
   },
   "source": [
    "- High-level, *general purpose* programming language with \"batteries included\""
   ]
  },
  {
   "cell_type": "markdown",
   "metadata": {
    "slideshow": {
     "slide_type": "fragment"
    }
   },
   "source": [
    "- Simple enough for quick scripts; featured enough for complex projects"
   ]
  },
  {
   "cell_type": "markdown",
   "metadata": {
    "slideshow": {
     "slide_type": "fragment"
    }
   },
   "source": [
    "- Used extensively on the web, in applications, and throughout science"
   ]
  },
  {
   "cell_type": "markdown",
   "metadata": {
    "slideshow": {
     "slide_type": "fragment"
    }
   },
   "source": [
    "- Syntax emphasizes readability and explicitness "
   ]
  },
  {
   "cell_type": "markdown",
   "metadata": {
    "slideshow": {
     "slide_type": "subslide"
    }
   },
   "source": [
    "## A \"Hello, World!\" comparison:"
   ]
  },
  {
   "cell_type": "markdown",
   "metadata": {
    "slideshow": {
     "slide_type": "subslide"
    }
   },
   "source": [
    "### Java:\n",
    "\n",
    "```java\n",
    "public class HelloWorld {\n",
    "\n",
    "    public static void main(String[] args) {\n",
    "        System.out.println(\"Hello, World!\");\n",
    "    }\n",
    "\n",
    "}\n",
    "```"
   ]
  },
  {
   "cell_type": "markdown",
   "metadata": {
    "slideshow": {
     "slide_type": "subslide"
    }
   },
   "source": [
    "### C++:\n",
    "   \n",
    "```c++\n",
    "#include <iostream>\n",
    "using namespace std;\n",
    "\n",
    "int main() {\n",
    "    cout << \"Hello, World!\" << endl;\n",
    "    return 0;\n",
    "}\n",
    "```"
   ]
  },
  {
   "cell_type": "markdown",
   "metadata": {
    "slideshow": {
     "slide_type": "subslide"
    }
   },
   "source": [
    "### Python:\n",
    "\n",
    "```python\n",
    "print(\"Hello, World!\")\n",
    "```"
   ]
  },
  {
   "cell_type": "markdown",
   "metadata": {
    "slideshow": {
     "slide_type": "fragment"
    }
   },
   "source": [
    "### Matlab:\n",
    "\n",
    "```OCTAVE\n",
    "disp(\"Hello, World!\")\n",
    "```"
   ]
  },
  {
   "cell_type": "markdown",
   "metadata": {
    "slideshow": {
     "slide_type": "slide"
    }
   },
   "source": [
    "## Okay, but what does this have to do with science?"
   ]
  },
  {
   "cell_type": "markdown",
   "metadata": {},
   "source": [
    "The \"scientific Python\" ecosystem provides almost any functionality you may need:"
   ]
  },
  {
   "cell_type": "markdown",
   "metadata": {},
   "source": [
    "<div style=\"margin:auto; text-align:center;\">\n",
    "  <img style=\"display:inline-block\" alt=\"Python\" class=\"plain\" src=\"img/python_just_logo.svg\" width=\"200px\"/>&nbsp;&nbsp;&nbsp;&nbsp;\n",
    "  <img style=\"display:inline-block; \" alt=\"NumPy\" class=\"plain\" src=\"img/numpy_logo.svg\" width=\"200px\"/> &nbsp;&nbsp;&nbsp;&nbsp;\n",
    "  <img style=\"display:inline-block;\" alt=\"Jupyter\" class=\"plain\" src=\"img/jupyter_logo.svg\" width=\"200px\"/>&nbsp;&nbsp;&nbsp;&nbsp;\n",
    "  <img style=\"display:inline-block;\" alt=\"SciPy\" class=\"plain\" src=\"img/scipy_logo.svg\" width=\"200px\"/>\n",
    "</div>\n",
    "<div style=\"margin:auto; text-align:center;\">\n",
    "  <img style=\"display:inline-block;\" alt=\"Matplotlib\" class=\"plain\" src=\"img/mpl.svg\" width=\"350px\"/>&nbsp;&nbsp;&nbsp;&nbsp;\n",
    "  <img style=\"display:inline-block;\" alt=\"SymPy\" class=\"plain\" src=\"img/sympy_logo.svg\" width=\"200px\"/> &nbsp;&nbsp;&nbsp;&nbsp;\n",
    "  <img style=\"display:inline-block;\" alt=\"pandas\" class=\"plain\" src=\"img/pandas_logo.png\" width=\"450px\"/>&nbsp;&nbsp;&nbsp;&nbsp;\n",
    "  <img style=\"display:inline-block;\" alt=\"scikit-learn\" class=\"plain\" src=\"img/scikit-learn_logo.svg\" width=\"300px\"/>\n",
    "</div>"
   ]
  },
  {
   "cell_type": "markdown",
   "metadata": {
    "slideshow": {
     "slide_type": "subslide"
    }
   },
   "source": [
    "## Linear algebra, optimization, machine learning..."
   ]
  },
  {
   "cell_type": "markdown",
   "metadata": {
    "slideshow": {
     "slide_type": "-"
    }
   },
   "source": [
    "- Numerical computing with [`NumPy`](https://www.numpy.org) (like what you would use Matlab for): &nbsp;&nbsp;&nbsp;&nbsp;\n",
    " <img style=\"display:inline-block; \" alt=\"NumPy\" src=\"img/numpy_logo.svg\" width=\"150px\"/> "
   ]
  },
  {
   "cell_type": "markdown",
   "metadata": {
    "slideshow": {
     "slide_type": "fragment"
    }
   },
   "source": [
    "- Signal processing, numerical integration, optimization, etc. with [`SciPy`](https://scipy.org): &nbsp;&nbsp;&nbsp;&nbsp;\n",
    " <img style=\"display:inline-block; \" alt=\"SciPy\" src=\"img/scipy_logo.svg\" width=\"150px\"/> "
   ]
  },
  {
   "cell_type": "markdown",
   "metadata": {
    "slideshow": {
     "slide_type": "fragment"
    }
   },
   "source": [
    "- Machine learning with [`scikit-learn`](https://scikit-learn.org/stable/) (and others): &nbsp;&nbsp;&nbsp;&nbsp;\n",
    " <img style=\"display:inline-block; \" alt=\"scikit-learn\" src=\"img/scikit-learn_logo.svg\" width=\"200px\"/> "
   ]
  },
  {
   "cell_type": "markdown",
   "metadata": {
    "slideshow": {
     "slide_type": "subslide"
    }
   },
   "source": [
    "## Visualization, statistics, computer algebra..."
   ]
  },
  {
   "cell_type": "markdown",
   "metadata": {
    "slideshow": {
     "slide_type": "-"
    }
   },
   "source": [
    "- Scientific visualization with [`matplotlib`](https://matplotlib.org): &nbsp;&nbsp;&nbsp;&nbsp;\n",
    " <img style=\"display:inline-block; \" alt=\"matplotlib\" src=\"img/mpl.svg\" width=\"400px\"/> "
   ]
  },
  {
   "cell_type": "markdown",
   "metadata": {
    "slideshow": {
     "slide_type": "fragment"
    }
   },
   "source": [
    "- Data series and statistical analysis with [`pandas`](https://pandas.pydata.org/): &nbsp;&nbsp;&nbsp;&nbsp;\n",
    " <img style=\"display:inline-block; \" alt=\"pandas\" src=\"img/pandas_logo.png\" width=\"400px\"/> "
   ]
  },
  {
   "cell_type": "markdown",
   "metadata": {
    "slideshow": {
     "slide_type": "fragment"
    }
   },
   "source": [
    "- Symbolic computation with [`SymPy`](https://www.sympy.org/en/index.html): &nbsp;&nbsp;&nbsp;&nbsp;\n",
    " <img style=\"display:inline-block; \" alt=\"sympy\" src=\"img/sympy_logo.svg\" width=\"200px\"/> "
   ]
  },
  {
   "cell_type": "markdown",
   "metadata": {
    "slideshow": {
     "slide_type": "subslide"
    }
   },
   "source": [
    "## A better (?) way to create and publish your work"
   ]
  },
  {
   "cell_type": "markdown",
   "metadata": {
    "slideshow": {
     "slide_type": "-"
    }
   },
   "source": [
    "- Literate programming using a notebook interface with [*Jupyter*](https://jupyter.org/): &nbsp;&nbsp;&nbsp;&nbsp;\n",
    " <img style=\"display:inline-block; \" alt=\"sympy\" src=\"img/jupyter_logo.svg\" width=\"200px\"/> \n",
    "  "
   ]
  },
  {
   "cell_type": "markdown",
   "metadata": {
    "slideshow": {
     "slide_type": "fragment"
    }
   },
   "source": [
    "- Creation of interactive computational analysis documents (not just scripts):\n",
    "    - Facilitates reproducability\n",
    "    - Makes analyses more accessible (anyone can recreate your figure)"
   ]
  },
  {
   "cell_type": "markdown",
   "metadata": {
    "slideshow": {
     "slide_type": "fragment"
    }
   },
   "source": [
    "- Easy to contribute back to the \"open source\" scientific ecosystem"
   ]
  },
  {
   "cell_type": "markdown",
   "metadata": {
    "slideshow": {
     "slide_type": "slide"
    }
   },
   "source": [
    "## Can't I just use Matlab?"
   ]
  },
  {
   "cell_type": "markdown",
   "metadata": {},
   "source": [
    "<img src=\"img/py_matlab_comparison.svg\" style='margin:auto; text-align:center;' width=70%/>"
   ]
  },
  {
   "cell_type": "markdown",
   "metadata": {
    "slideshow": {
     "slide_type": "subslide"
    }
   },
   "source": [
    "## File Exchange is good, but..."
   ]
  },
  {
   "cell_type": "markdown",
   "metadata": {
    "slideshow": {
     "slide_type": ""
    }
   },
   "source": [
    "<img src=\"img/matlab_filexchange.png\" style='margin:auto; text-align:center;' width=70%/>"
   ]
  },
  {
   "cell_type": "markdown",
   "metadata": {
    "slideshow": {
     "slide_type": "subslide"
    }
   },
   "source": [
    "## Distributing code is simple in the Python community\n",
    "\n",
    "### (and integrated directly into Python tools)"
   ]
  },
  {
   "cell_type": "markdown",
   "metadata": {
    "slideshow": {
     "slide_type": "-"
    }
   },
   "source": [
    "- &nbsp;&nbsp;&nbsp;&nbsp;<img src='img/github_logo.svg' style=\"display:inline-block;\" width=\"200px\">&nbsp;: Community standard is to (at least) release code on GitHub (or similar service)\n"
   ]
  },
  {
   "cell_type": "markdown",
   "metadata": {
    "slideshow": {
     "slide_type": "-"
    }
   },
   "source": [
    "- &nbsp;&nbsp;&nbsp;&nbsp;<img src='img/pypi_logo.svg' style=\"margin:20px;display:inline-block;\" width=\"200px\">: Placing into the PyPI, the **Py**thon **P**ackage **I**ndex enables installing with simple: \n",
    "    - `pip install my-awesome-package`"
   ]
  },
  {
   "cell_type": "markdown",
   "metadata": {
    "slideshow": {
     "slide_type": "-"
    }
   },
   "source": [
    "- &nbsp;&nbsp;&nbsp;&nbsp;<img src='img/anaconda_logo.png' style=\"margin:20px;display:inline-block;\" width=\"200px\">: Anaconda enables multiple environments and complex dependency management\n",
    "    - `conda install my-awesome-package`"
   ]
  },
  {
   "cell_type": "markdown",
   "metadata": {
    "slideshow": {
     "slide_type": "slide"
    }
   },
   "source": [
    "## What does it mean to be \"open source\"?"
   ]
  },
  {
   "cell_type": "markdown",
   "metadata": {
    "slideshow": {
     "slide_type": "-"
    }
   },
   "source": [
    "  <blockquote style=\"font-size:xx-large; width:90%\">\n",
    "    …something people can modify and share because its design is publicly accessible\n",
    "    <br/><br/>\n",
    "    <footer><a href=\"https://opensource.com/resources/what-open-source\">opensource.com</a></footer>\n",
    "  </blockquote>"
   ]
  },
  {
   "cell_type": "markdown",
   "metadata": {
    "slideshow": {
     "slide_type": "fragment"
    }
   },
   "source": [
    "## What about \"open science\"?"
   ]
  },
  {
   "cell_type": "markdown",
   "metadata": {
    "slideshow": {
     "slide_type": "-"
    }
   },
   "source": [
    "  <blockquote style=\"font-size:xx-large; width:90%\">\n",
    "    …science must be done in an open, and reproducible fashion where all components of research are open\n",
    "    <br/><br/>\n",
    "    <footer><a href=\"https://opensource.com/resources/open-science\">Marcus Hanwell (also opensource.com)</a></footer>\n",
    "  </blockquote>"
   ]
  },
  {
   "cell_type": "markdown",
   "metadata": {
    "slideshow": {
     "slide_type": "subslide"
    }
   },
   "source": [
    "## Open-source in the microscopy ecosystem:"
   ]
  },
  {
   "cell_type": "markdown",
   "metadata": {},
   "source": [
    "\n",
    "<table id=\"ecosystem\" style=\"font-size:xx-large;\">\n",
    "  <tr style=\"font-weight:bold;\">\n",
    "    <td class=\"section-label\" colspan=\"2\">General Purpose</td>\n",
    "    <!-- <th></th> -->\n",
    "    <td class=\"section-label\" colspan=\"2\">Others</td>\n",
    "  </tr>\n",
    "  <tr>\n",
    "    <td class=\"label-col\">HyperSpy</td>\n",
    "    <td class=\"link-col\"><a href=\"http://hyperspy.org/\">http://hyperspy.org/</a></td>\n",
    "    <!-- <td></td> -->\n",
    "    <td class=\"label-col\">PyQSTEM</td>\n",
    "    <td class=\"link-col\"><a href=\"https://github.com/jacobjma/PyQSTEM\">https://github.com/jacobjma/PyQSTEM</a></td>\n",
    "  </tr>\n",
    "  <tr>\n",
    "    <td class=\"label-col\">Nion Swift</td>\n",
    "    <td class=\"link-col\"><a href=\"https://nionswift.readthedocs.io/en/stable/\">https://nionswift.readthedocs.io/en/stable/</a></td>\n",
    "    <!-- <td></td> -->\n",
    "    <td class=\"label-col\">HRTEMFringe<br/>Analyzer</td>\n",
    "    <td class=\"link-col\"><a href=\"https://github.com/ialxn/HRTEMFringeAnalyzer\">https://github.com/ialxn/HRTEMFringeAnalyzer</a></td>\n",
    "  </tr>\n",
    "  <tr>\n",
    "    <td class=\"label-col\">pycroscopy</td>\n",
    "    <td class=\"link-col\"><a href=\"https://github.com/pycroscopy/pycroscopy\">https://github.com/pycroscopy/pycroscopy</a></td>\n",
    "    <!-- <td></td> -->\n",
    "    <td class=\"label-col\">Atomap</td>\n",
    "    <td class=\"link-col\"><a href=\"https://atomap.org/\">https://atomap.org/</a></td>\n",
    "  </tr>\n",
    "\n",
    "  <tr style=\"line-height:0.5em;\">\n",
    "    <td>&nbsp;</td>\n",
    "    <td></td>\n",
    "    <td></td>\n",
    "    <td></td>\n",
    "    <td></td>\n",
    "  </tr>\n",
    "\n",
    "  <tr style=\"font-weight:bold;\">\n",
    "    <td class=\"section-label\" colspan=\"2\">Pixelated STEM</td>\n",
    "    <!-- <td></td> -->\n",
    "    <td class=\"section-label\" colspan=\"2\">Tomography</td>\n",
    "  </tr>\n",
    "  <tr>\n",
    "    <td class=\"label-col\">pyXem</td>\n",
    "    <td class=\"link-col\"><a href=\"https://pyxem.github.io/pyxem/\">https://pyxem.github.io/pyxem/</a></td>\n",
    "    <!-- <td></td> -->\n",
    "    <td class=\"label-col\">tomopy</td>\n",
    "    <td class=\"link-col\"><a href=\"https://tomopy.readthedocs.io/en/latest/\">https://tomopy.readthedocs.io/en/latest/</a></td>\n",
    "  </tr>\n",
    "  <tr>\n",
    "    <td class=\"label-col\">pixStem</td>\n",
    "    <td class=\"link-col\"><a href=\"https://pixstem.org/\">https://pixstem.org/</a></td>\n",
    "    <!-- <td></td> -->\n",
    "    <td class=\"label-col\">tomotools</td>\n",
    "    <td class=\"link-col\"><a href=\"https://github.com/AndrewHerzing/tomotools\">https://github.com/AndrewHerzing/tomotools</a></td>\n",
    "  </tr>\n",
    "  <tr>\n",
    "    <td class=\"label-col\">LiberTEM</td>\n",
    "    <td class=\"link-col\"><a href=\"https://github.com/LiberTEM/LiberTEM\">https://github.com/LiberTEM/LiberTEM</a></td>\n",
    "    <!-- <td></td> -->\n",
    "    <td class=\"label-col\">tomviz</td>\n",
    "    <td class=\"link-col\"><a href=\"https://tomviz.org/\">https://tomviz.org/</a></td>\n",
    "  </tr>\n",
    "  <tr>\n",
    "    <td class=\"label-col\">fpd</td>\n",
    "    <td class=\"link-col\"><a href=\"https://gitlab.com/fpdpy/fpd/\">https://gitlab.com/fpdpy/fpd/</a></td>\n",
    "    <!-- <td></td> -->\n",
    "    <td class=\"label-col\"></td>\n",
    "    <td class=\"link-col\"></td>\n",
    "  </tr>\n",
    "</table>"
   ]
  },
  {
   "cell_type": "markdown",
   "metadata": {
    "slideshow": {
     "slide_type": "slide"
    }
   },
   "source": [
    "# <img style='display:inline-block;' src='img/hyperspy.svg' width=125/> &nbsp; What is HyperSpy, anyway?"
   ]
  },
  {
   "cell_type": "markdown",
   "metadata": {
    "slideshow": {
     "slide_type": "slide"
    }
   },
   "source": [
    "## What is &nbsp; <img style='display:inline-block;' src='img/hyperspy_banner.png'/> &nbsp; ?"
   ]
  },
  {
   "cell_type": "markdown",
   "metadata": {
    "slideshow": {
     "slide_type": "fragment"
    }
   },
   "source": [
    "* Open-source Python library for interactive data analysis of multi-dimensional datasets"
   ]
  },
  {
   "cell_type": "markdown",
   "metadata": {
    "slideshow": {
     "slide_type": "fragment"
    }
   },
   "source": [
    "- Leverages the Scientific Python ecosystem for much of its functionality:\n",
    "    - <img style=\"display:inline-block\" alt=\"Python\" class=\"plain\" src=\"img/python_just_logo.svg\" height=100 width=100/> &nbsp;&nbsp;\n",
    "    <img style=\"display:inline-block; \" alt=\"NumPy\" class=\"plain\" src=\"img/numpy_logo.svg\" height=100 width=100/> &nbsp;&nbsp;\n",
    "  <img style=\"display:inline-block;\" alt=\"Jupyter\" class=\"plain\" src=\"img/jupyter_logo.svg\" height=100 width=100/> &nbsp;&nbsp;\n",
    "  <img style=\"display:inline-block;\" alt=\"SciPy\" class=\"plain\" src=\"img/scipy_logo.svg\"  height=100 width=100/> &nbsp;&nbsp;\n",
    "  <img style=\"display:inline-block;\" alt=\"SymPy\" class=\"plain\" src=\"img/sympy_logo.svg\"  height=100 width=100/> &nbsp;&nbsp;\n",
    "  <img style=\"display:inline-block;\" alt=\"scikit-learn\" class=\"plain\" src=\"img/scikit-learn_logo.svg\"  height=100 width=150/> &nbsp;&nbsp;\n",
    "  <img style=\"display:inline-block;\" alt=\"Matplotlib\" class=\"plain\" src=\"img/mpl.svg\" height=100 width=250/> &nbsp;&nbsp;"
   ]
  },
  {
   "cell_type": "markdown",
   "metadata": {
    "slideshow": {
     "slide_type": "fragment"
    }
   },
   "source": [
    "- Accessed like any other Python library:\n",
    "```python\n",
    "import numpy as np     ---->     import hyperspy.api as hs\n",
    "```"
   ]
  },
  {
   "cell_type": "markdown",
   "metadata": {
    "slideshow": {
     "slide_type": "subslide"
    }
   },
   "source": [
    "## Why would you use &nbsp; <img style='display:inline-block;' src='img/hyperspy_banner.png'/> &nbsp; ?"
   ]
  },
  {
   "cell_type": "markdown",
   "metadata": {
    "slideshow": {
     "slide_type": ""
    }
   },
   "source": [
    "* Makes it easy to operate on multi-dimensional arrays as you would a single spectrum (or image)"
   ]
  },
  {
   "cell_type": "markdown",
   "metadata": {
    "slideshow": {
     "slide_type": "fragment"
    }
   },
   "source": [
    "* Easy access to cutting-edge signal processing tools "
   ]
  },
  {
   "cell_type": "markdown",
   "metadata": {
    "slideshow": {
     "slide_type": "fragment"
    }
   },
   "source": [
    "* Modular structure makes it easy to add custom features"
   ]
  },
  {
   "cell_type": "markdown",
   "metadata": {
    "slideshow": {
     "slide_type": "fragment"
    }
   },
   "source": [
    "- Use of Jupyter notebooks encourages reproducible and sharable analyses (FAIR data)"
   ]
  },
  {
   "cell_type": "markdown",
   "metadata": {
    "slideshow": {
     "slide_type": "subslide"
    }
   },
   "source": [
    "## Why would you use &nbsp; <img style='display:inline-block;' src='img/hyperspy_banner.png'/> &nbsp; ?"
   ]
  },
  {
   "cell_type": "markdown",
   "metadata": {
    "slideshow": {
     "slide_type": ""
    }
   },
   "source": [
    "* Beyond generic signal processing, provides many tools specifically for electron microscopy:"
   ]
  },
  {
   "cell_type": "markdown",
   "metadata": {
    "slideshow": {
     "slide_type": "fragment"
    }
   },
   "source": [
    "<ul><ul><li>Provides facilities for easy access to proprietary software formats</li></ul></ul>\n"
   ]
  },
  {
   "cell_type": "markdown",
   "metadata": {
    "slideshow": {
     "slide_type": "fragment"
    }
   },
   "source": [
    "<ul>\n",
    "    <ul>\n",
    "        <li>EDS:</li>\n",
    "        <ul>\n",
    "            <li>Background removal</li>\n",
    "            <li>Net intensity line map extraction</li>\n",
    "            <li>Quantification (k-factor, ζ-factors, ionization cross sections)</li>\n",
    "        </ul>\n",
    "    </ul>\n",
    "</ul>"
   ]
  },
  {
   "cell_type": "markdown",
   "metadata": {
    "slideshow": {
     "slide_type": "subslide"
    }
   },
   "source": [
    "## Why would you use &nbsp; <img style='display:inline-block;' src='img/hyperspy_banner.png'/> &nbsp; ?"
   ]
  },
  {
   "cell_type": "markdown",
   "metadata": {
    "slideshow": {
     "slide_type": ""
    }
   },
   "source": [
    "* Beyond generic signal processing, provides many tools specifically for electron microscopy:"
   ]
  },
  {
   "cell_type": "markdown",
   "metadata": {
    "slideshow": {
     "slide_type": ""
    }
   },
   "source": [
    "<ul>\n",
    "    <ul>\n",
    "        <li>EELS:</li>\n",
    "        <ul>\n",
    "            <li>Background removal</li>\n",
    "            <li>Curve fitting for quantification (including ELNES)</li>\n",
    "            <li>All of Egerton's famous methods</li>\n",
    "        </ul>\n",
    "    </ul>\n",
    "</ul>"
   ]
  },
  {
   "cell_type": "markdown",
   "metadata": {
    "slideshow": {
     "slide_type": "fragment"
    }
   },
   "source": [
    "<ul>\n",
    "    <ul>\n",
    "        <li>\"Advanced\" methods:</li>\n",
    "        <ul>\n",
    "            <li>Multivariate statistical analysis</li>\n",
    "            <li>General curve fitting</li>\n",
    "            <li>Dimensionality reduction/signal separation</li>\n",
    "        </ul>\n",
    "    </ul>\n",
    "</ul>"
   ]
  },
  {
   "cell_type": "markdown",
   "metadata": {
    "slideshow": {
     "slide_type": "subslide"
    }
   },
   "source": [
    "## Why &nbsp; <img src=\"img/python_logo.svg\" width=300px style=\"display: inline-block;\">?"
   ]
  },
  {
   "cell_type": "markdown",
   "metadata": {
    "slideshow": {
     "slide_type": ""
    }
   },
   "source": [
    "* Quickly becoming the *de facto* standard of scientific computing"
   ]
  },
  {
   "cell_type": "markdown",
   "metadata": {
    "slideshow": {
     "slide_type": "fragment"
    }
   },
   "source": [
    "* Free (as in speech and as in beer)\n",
    "    * No pesky licenses to checkout"
   ]
  },
  {
   "cell_type": "markdown",
   "metadata": {
    "slideshow": {
     "slide_type": "fragment"
    }
   },
   "source": [
    "* Vast array of scientific libraries available:\n",
    "    * `pip install antigravity`"
   ]
  },
  {
   "cell_type": "markdown",
   "metadata": {
    "slideshow": {
     "slide_type": "fragment"
    }
   },
   "source": [
    "* Thanks to `numpy` and other libraries, similar (or often better) performance than MATLAB"
   ]
  },
  {
   "cell_type": "markdown",
   "metadata": {
    "slideshow": {
     "slide_type": "subslide"
    }
   },
   "source": [
    "## History of HyperSpy"
   ]
  },
  {
   "cell_type": "markdown",
   "metadata": {
    "slideshow": {
     "slide_type": ""
    }
   },
   "source": [
    "- Developed by [Francisco de la Peña](http://umet.univ-lille1.fr/detailscomplets.php?id=614&lang=en) in 2007 &mdash; 2012 as part of his Ph.D. Thesis at<br/> Université Paris-Sud in Orsay, France"
   ]
  },
  {
   "cell_type": "markdown",
   "metadata": {
    "slideshow": {
     "slide_type": "fragment"
    }
   },
   "source": [
    "- See [Chapter 5](https://www.stem.lps.u-psud.fr/sites/default/files/F%20de%20la%20Pena%20Thesis.pdf#chapter.5) of the dissertation for a historical introduction"
   ]
  },
  {
   "cell_type": "markdown",
   "metadata": {
    "slideshow": {
     "slide_type": "fragment"
    }
   },
   "source": [
    "- Originally called EELSLab:\n",
    "    \n",
    "<center><img src=\"img/eelslab.png\" width=40%></center>"
   ]
  },
  {
   "cell_type": "markdown",
   "metadata": {
    "slideshow": {
     "slide_type": "subslide"
    }
   },
   "source": [
    "## History of HyperSpy"
   ]
  },
  {
   "cell_type": "markdown",
   "metadata": {
    "slideshow": {
     "slide_type": ""
    }
   },
   "source": [
    "* Open-sourced (on [Github](https://github.com/hyperspy/hyperspy)) in 2010:\n",
    "\n",
    "<center><img src='img/hs_first_commit.png'/></center>"
   ]
  },
  {
   "cell_type": "markdown",
   "metadata": {
    "slideshow": {
     "slide_type": "fragment"
    }
   },
   "source": [
    "* Renamed to HyperSpy in 2011"
   ]
  },
  {
   "cell_type": "markdown",
   "metadata": {
    "slideshow": {
     "slide_type": "fragment"
    }
   },
   "source": [
    "- Now... over 350 citations, 37 releases, 38 contributors, 100K lines of Python code, and rapidly growing!"
   ]
  },
  {
   "cell_type": "markdown",
   "metadata": {
    "slideshow": {
     "slide_type": "slide"
    }
   },
   "source": [
    "## Design philosophy of HyperSpy"
   ]
  },
  {
   "cell_type": "markdown",
   "metadata": {
    "slideshow": {
     "slide_type": "fragment"
    }
   },
   "source": [
    "* HyperSpy is a Python library, rather than standalone program\n",
    "    * Part of the greater scientific Python ecosystem"
   ]
  },
  {
   "cell_type": "markdown",
   "metadata": {
    "slideshow": {
     "slide_type": "notes"
    }
   },
   "source": [
    "* Enables and requires Python scientific stack (i.e. `numpy` and `scipy`)"
   ]
  },
  {
   "cell_type": "markdown",
   "metadata": {
    "slideshow": {
     "slide_type": "fragment"
    }
   },
   "source": [
    "* Data storage is in an open hierarchical format (HDF5)\n",
    "    * Saves all metadata by default (including most processing steps)"
   ]
  },
  {
   "cell_type": "markdown",
   "metadata": {
    "slideshow": {
     "slide_type": "fragment"
    }
   },
   "source": [
    "* Analysis done via reproducible notebooks"
   ]
  },
  {
   "cell_type": "markdown",
   "metadata": {
    "slideshow": {
     "slide_type": "fragment"
    }
   },
   "source": [
    "* Feature development is completely open-source ([GPLv3](https://choosealicense.com/licenses/gpl-3.0/))"
   ]
  },
  {
   "cell_type": "markdown",
   "metadata": {
    "slideshow": {
     "slide_type": "slide"
    }
   },
   "source": [
    "# <img style='display:inline-block;' src='img/hyperspy.svg' width=125/> &nbsp; Welcome to the community!"
   ]
  },
  {
   "cell_type": "markdown",
   "metadata": {
    "slideshow": {
     "slide_type": "slide"
    }
   },
   "source": [
    "## The power of community"
   ]
  },
  {
   "cell_type": "markdown",
   "metadata": {
    "slideshow": {
     "slide_type": ""
    }
   },
   "source": [
    "- One of the *best* parts of HyperSpy is the community that surrounds it (personal opinion)"
   ]
  },
  {
   "cell_type": "markdown",
   "metadata": {
    "slideshow": {
     "slide_type": "fragment"
    }
   },
   "source": [
    "- This software is made by researchers, for researchers"
   ]
  },
  {
   "cell_type": "markdown",
   "metadata": {
    "slideshow": {
     "slide_type": "fragment"
    }
   },
   "source": [
    "- HyperSpy is built from collaboration:"
   ]
  },
  {
   "cell_type": "markdown",
   "metadata": {},
   "source": [
    "<ul>\n",
    "    <ul>\n",
    "        <li>By collaborating, we advance faster and avoid reinventing the wheel</li>\n",
    "    </ul>\n",
    "</ul>\n"
   ]
  },
  {
   "cell_type": "markdown",
   "metadata": {
    "slideshow": {
     "slide_type": "slide"
    }
   },
   "source": [
    "## How to get help?"
   ]
  },
  {
   "cell_type": "markdown",
   "metadata": {},
   "source": [
    "- HyperSpy website (www.hyperspy.org):\n",
    "\n",
    "<center><img src=\"img/hs_website.png\" width=60%></center>"
   ]
  },
  {
   "cell_type": "markdown",
   "metadata": {
    "slideshow": {
     "slide_type": "subslide"
    }
   },
   "source": [
    "## How to get help?"
   ]
  },
  {
   "cell_type": "markdown",
   "metadata": {},
   "source": [
    "- HyperSpy website (www.hyperspy.org):\n",
    "\n",
    "<center><img src=\"img/hs_website_links.svg\" width=60%></center>"
   ]
  },
  {
   "cell_type": "markdown",
   "metadata": {
    "slideshow": {
     "slide_type": "subslide"
    }
   },
   "source": [
    "## How to get help?"
   ]
  },
  {
   "cell_type": "markdown",
   "metadata": {},
   "source": [
    "- HyperSpy repository (https://github.com/hyperspy/hyperspy): <br/><br/>\n",
    "\n",
    "<center><img src=\"img/hs_github.png\" width=60%></center>"
   ]
  },
  {
   "cell_type": "markdown",
   "metadata": {
    "slideshow": {
     "slide_type": "subslide"
    }
   },
   "source": [
    "## How to get help?"
   ]
  },
  {
   "cell_type": "markdown",
   "metadata": {},
   "source": [
    "- HyperSpy repository (https://github.com/hyperspy/hyperspy): <br/><br/>\n",
    "\n",
    "<center><img src=\"img/hs_github_issues.svg\" width=60%></center>"
   ]
  },
  {
   "cell_type": "markdown",
   "metadata": {
    "slideshow": {
     "slide_type": "subslide"
    }
   },
   "source": [
    "## How to get (more) help?"
   ]
  },
  {
   "cell_type": "markdown",
   "metadata": {
    "slideshow": {
     "slide_type": "fragment"
    }
   },
   "source": [
    "* Sessions like this (good job!)"
   ]
  },
  {
   "cell_type": "markdown",
   "metadata": {
    "slideshow": {
     "slide_type": "fragment"
    }
   },
   "source": [
    "* Expansive user guide and documentation: <br/>http://hyperspy.org/hyperspy-doc/current/user_guide/index.html"
   ]
  },
  {
   "cell_type": "markdown",
   "metadata": {
    "slideshow": {
     "slide_type": "fragment"
    }
   },
   "source": [
    "* Tutorials and demos: https://github.com/hyperspy/hyperspy-demos"
   ]
  },
  {
   "cell_type": "markdown",
   "metadata": {
    "slideshow": {
     "slide_type": "fragment"
    }
   },
   "source": [
    "* User group list: [hyperspy-users@googlegroups.com](https://groups.google.com/forum/#!forum/hyperspy-users)"
   ]
  },
  {
   "cell_type": "markdown",
   "metadata": {
    "slideshow": {
     "slide_type": "fragment"
    }
   },
   "source": [
    "- Gitter chat: https://gitter.im/hyperspy/hyperspy"
   ]
  },
  {
   "cell_type": "markdown",
   "metadata": {
    "slideshow": {
     "slide_type": "fragment"
    }
   },
   "source": [
    "- Developer guide (if you're into that sort of thing):<br/> http://hyperspy.org/hyperspy-doc/current/dev_guide/index.html#dev-guide-label"
   ]
  },
  {
   "cell_type": "markdown",
   "metadata": {
    "slideshow": {
     "slide_type": "subslide"
    }
   },
   "source": [
    "## Anyone can make HyperSpy better!"
   ]
  },
  {
   "cell_type": "markdown",
   "metadata": {},
   "source": [
    "- HyperSpy repository (https://github.com/hyperspy/hyperspy): <br/><br/>\n",
    "\n",
    "<center><img src=\"img/hs_github_PRs.svg\" width=60%></center>"
   ]
  },
  {
   "cell_type": "markdown",
   "metadata": {
    "slideshow": {
     "slide_type": "slide"
    }
   },
   "source": [
    "## What about general Python questions?"
   ]
  },
  {
   "cell_type": "markdown",
   "metadata": {
    "slideshow": {
     "slide_type": "-"
    }
   },
   "source": [
    "- There are vast numbers of resources about Python online (and in print):"
   ]
  },
  {
   "cell_type": "markdown",
   "metadata": {
    "slideshow": {
     "slide_type": "fragment"
    }
   },
   "source": [
    "<ul>\n",
    "    <ul>\n",
    "        <li>Official documentation: <a href=\"https://docs.python.org\">https://docs.python.org</a></li>\n",
    "    </ul>\n",
    "</ul>"
   ]
  },
  {
   "cell_type": "markdown",
   "metadata": {
    "slideshow": {
     "slide_type": "fragment"
    }
   },
   "source": [
    "<ul>\n",
    "    <ul>\n",
    "        <li>Getting started with scientific Python: <a href=\"https://scipy-lectures.org\">https://scipy-lectures.org</a></li>\n",
    "    </ul>\n",
    "</ul>"
   ]
  },
  {
   "cell_type": "markdown",
   "metadata": {
    "slideshow": {
     "slide_type": "fragment"
    }
   },
   "source": [
    "<ul>\n",
    "    <ul>\n",
    "        <li>NumPy for Matlab users:<br/><a href=\"https://docs.scipy.org/doc/numpy/user/numpy-for-matlab-users.html\">https://docs.scipy.org/doc/numpy/user/numpy-for-matlab-users.html</a></li>\n",
    "    </ul>\n",
    "</ul>"
   ]
  },
  {
   "cell_type": "markdown",
   "metadata": {
    "slideshow": {
     "slide_type": "fragment"
    }
   },
   "source": [
    "- StackOverflow for general programming/Python questions: https://stackoverflow.com/"
   ]
  },
  {
   "cell_type": "markdown",
   "metadata": {
    "slideshow": {
     "slide_type": "slide"
    }
   },
   "source": [
    "<center><img style='display:inline-block;' src='img/hyperspy.svg' width=200/> </center>\n",
    "\n",
    "# <center>Thank you!</center>\n",
    "\n",
    "<div style='text-align:center;margin:auto;'>Any questions?</div>"
   ]
  }
 ],
 "metadata": {
  "celltoolbar": "Slideshow",
  "kernelspec": {
   "display_name": "Python 3",
   "language": "python",
   "name": "python3"
  },
  "language_info": {
   "codemirror_mode": {
    "name": "ipython",
    "version": 3
   },
   "file_extension": ".py",
   "mimetype": "text/x-python",
   "name": "python",
   "nbconvert_exporter": "python",
   "pygments_lexer": "ipython3",
   "version": "3.7.3"
  },
  "rise": {
   "autolaunch": false,
   "backimage": "img/nist_mml_background.png",
   "footer": "<img src=\"img/nist_mml_logo.svg\">",
   "header": "",
   "progress": true,
   "scroll": true,
   "transition": "fade",
   "transitionSpeed": "slow"
  }
 },
 "nbformat": 4,
 "nbformat_minor": 2
}
