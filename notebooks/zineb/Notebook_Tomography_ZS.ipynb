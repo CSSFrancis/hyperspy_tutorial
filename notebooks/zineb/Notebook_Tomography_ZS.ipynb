{
 "cells": [
  {
   "cell_type": "code",
   "execution_count": null,
   "metadata": {},
   "outputs": [],
   "source": [
    "%matplotlib notebook\n",
    "\n",
    "import astra\n",
    "import tomopy\n",
    "\n",
    "import numpy as np\n",
    "import scipy.fftpack as pfft\n",
    "import matplotlib.pyplot as plt\n",
    "import hyperspy.api as hs\n",
    "\n",
    "from skimage import data_dir\n",
    "from skimage.io import imread, imsave\n",
    "from skimage.transform import radon, rescale, rotate, iradon,iradon_sart"
   ]
  },
  {
   "cell_type": "markdown",
   "metadata": {},
   "source": [
    "# Phantom\n",
    "\n",
    "### Skimage\n",
    "\n",
    "Generating a phantom and the angles"
   ]
  },
  {
   "cell_type": "code",
   "execution_count": null,
   "metadata": {},
   "outputs": [],
   "source": [
    "image = imread(data_dir + \"/phantom.png\", as_gray=True)"
   ]
  },
  {
   "cell_type": "markdown",
   "metadata": {},
   "source": [
    "Setting the number of projections for the phantom simulations"
   ]
  },
  {
   "cell_type": "code",
   "execution_count": null,
   "metadata": {},
   "outputs": [],
   "source": [
    "nb_proj = 45  # 180 images -> angular increment: 1°"
   ]
  },
  {
   "cell_type": "markdown",
   "metadata": {},
   "source": [
    "Generating projections with radon and reproject them with iradon"
   ]
  },
  {
   "cell_type": "code",
   "execution_count": null,
   "metadata": {},
   "outputs": [],
   "source": [
    "angles = np.linspace(0., 180., nb_proj, endpoint=False)\n",
    "print(angles.shape)\n",
    "\n",
    "sinogram = radon(image, theta=angles, circle=True)\n",
    "\n",
    "print(sinogram.shape)\n",
    "reconstruction_fbp = iradon(sinogram, theta=angles, circle=True)\n",
    "reconstruction_sart = iradon_sart(sinogram, theta=angles, relaxation=0.15)"
   ]
  },
  {
   "cell_type": "code",
   "execution_count": null,
   "metadata": {},
   "outputs": [],
   "source": [
    "sinogram.shape"
   ]
  },
  {
   "cell_type": "code",
   "execution_count": null,
   "metadata": {},
   "outputs": [],
   "source": [
    "fig, (ax1, ax2, ax3, ax4) = plt.subplots(1, 4, figsize=(8, 2.25))\n",
    "ax1.set_title(\"Original\")\n",
    "ax1.imshow(image, cmap=plt.cm.Greys_r)\n",
    "ax2.set_title(\"Radon transform\\n(Sinogram)\")\n",
    "ax2.set_xlabel(\"Projection angle (deg)\")\n",
    "ax2.set_ylabel(\"Projection position (pixels)\")\n",
    "ax2.imshow(sinogram, cmap=plt.cm.Greys_r,\n",
    "           extent=(0, 180, 0, sinogram.shape[0]), aspect='auto')\n",
    "ax2.set_xlabel(\"Projection angle (deg)\")\n",
    "ax2.set_ylabel(\"Projection position (pixels)\")\n",
    "ax3.imshow(reconstruction_fbp, cmap=plt.cm.Greys_r)\n",
    "ax3.set_title(\"Reconstruction FBP\")\n",
    "ax4.imshow(reconstruction_sart, cmap=plt.cm.Greys_r)\n",
    "ax4.set_title(\"Reconstruction SART\")\n",
    "plt.show()\n",
    "fig.tight_layout()\n",
    "plt.show()"
   ]
  },
  {
   "cell_type": "markdown",
   "metadata": {},
   "source": [
    "### Astra-toolbox\n",
    "\n",
    "Just two remarks : the sinograms are tansposed in comparison with skimage and the angles are in radians.\n",
    "\n",
    "Astra is a wrapping around C code and CUDA code to run on GPU. It also needs some memory management (hence the initial geometry and volume declarations and final deletions to free the memory)."
   ]
  },
  {
   "cell_type": "code",
   "execution_count": null,
   "metadata": {},
   "outputs": [],
   "source": [
    "angles_rad = (np.pi/180)*angles\n",
    "vol_geom = astra.create_vol_geom(image.shape[0],image.shape[1])\n",
    "proj_geom = astra.create_proj_geom('parallel', 1.0, image.shape[0], angles_rad)\n",
    "\n",
    "# For CPU-based algorithms, a \"projector\" object specifies the projection\n",
    "# model used. In this case, we use the \"strip\" model.\n",
    "proj_id = astra.create_projector('strip', proj_geom, vol_geom)\n",
    "\n",
    "# Create a sinogram from a phantom\n",
    "sinogram_id, sinogram = astra.create_sino(image, proj_id)\n",
    "\n",
    "# Create a data object for the reconstruction\n",
    "#sinogram_id =astra.data2d.create('-sino',proj_geom,sinogram.T)\n",
    "rec_id = astra.data2d.create('-vol', vol_geom)\n",
    "\n",
    "# Set up the parameters for a reconstruction algorithm using the CPU\n",
    "# The main difference with the configuration of a GPU algorithm is the\n",
    "# extra ProjectorId setting.\n",
    "cfg = astra.astra_dict('SIRT')\n",
    "cfg['ReconstructionDataId'] = rec_id\n",
    "cfg['ProjectionDataId'] = sinogram_id\n",
    "cfg['ProjectorId'] = proj_id\n",
    "cfg['option']= {'MinConstraint' : 0,\n",
    "                'MaxConstraint' : 255}\n",
    "\n",
    "# Available algorithms:\n",
    "# ART, SART, SIRT, CGLS, FBP\n",
    "\n",
    "# Create the algorithm object from the configuration structure\n",
    "alg_id = astra.algorithm.create(cfg)\n",
    "\n",
    "# Run 20 iterations of the algorithm\n",
    "# This will have a runtime in the order of 10 seconds.\n",
    "astra.algorithm.run(alg_id,40)\n",
    "\n",
    "# Get the result\n",
    "rec_astra = astra.data2d.get(rec_id)\n",
    "\n",
    "# Clean up.\n",
    "astra.algorithm.delete(alg_id)\n",
    "astra.data2d.delete(rec_id)\n",
    "astra.data2d.delete(sinogram_id)\n",
    "astra.projector.delete(proj_id)"
   ]
  },
  {
   "cell_type": "code",
   "execution_count": null,
   "metadata": {},
   "outputs": [],
   "source": [
    "fig, (ax1, ax2, ax3) = plt.subplots(1, 3, figsize=(8, 2.25))\n",
    "ax1.set_title(\"Original\")\n",
    "ax1.imshow(image, cmap=plt.cm.Greys_r)\n",
    "ax2.set_title(\"Radon transform\\n(Sinogram)\")\n",
    "ax2.set_xlabel(\"Projection angle (deg)\")\n",
    "ax2.set_ylabel(\"Projection position (pixels)\")\n",
    "ax2.imshow(sinogram, cmap=plt.cm.Greys_r,\n",
    "           extent=(0, 180, 0, sinogram.shape[0]), aspect='auto')\n",
    "ax2.set_xlabel(\"Projection angle (deg)\")\n",
    "ax2.set_ylabel(\"Projection position (pixels)\")\n",
    "ax3.imshow(rec_astra, cmap=plt.cm.Greys_r)\n",
    "ax3.set_title(\"Reconstruction SIRT\")\n",
    "plt.show()\n",
    "fig.tight_layout()\n",
    "plt.show()"
   ]
  },
  {
   "cell_type": "markdown",
   "metadata": {},
   "source": [
    "### Tomopy\n",
    "Angles in radians too. \n",
    "Can be used to call the Astra methods.\n",
    "\n"
   ]
  },
  {
   "cell_type": "code",
   "execution_count": null,
   "metadata": {},
   "outputs": [],
   "source": [
    "phantom = [image]\n",
    "theta = tomopy.angles(nb_proj)\n",
    "sinogram = tomopy.project(phantom,theta)\n",
    "reconstruction_TV = tomopy.recon(sinogram,theta,algorithm = 'tv',num_iter=200,reg_par=0.25, num_gridx=image.shape[0], num_gridy=image.shape[1])"
   ]
  },
  {
   "cell_type": "code",
   "execution_count": null,
   "metadata": {},
   "outputs": [],
   "source": [
    "fig, (ax1, ax2, ax3) = plt.subplots(1, 3, figsize=(8, 2.25))\n",
    "ax1.set_title(\"Original\")\n",
    "ax1.imshow(phantom[0], cmap=plt.cm.Greys_r)\n",
    "ax2.set_title(\"Radon transform\\n(Sinogram)\")\n",
    "ax2.set_xlabel(\"Projection angle (deg)\")\n",
    "ax2.set_ylabel(\"Projection position (pixels)\")\n",
    "ax2.imshow(sinogram[:,0], cmap=plt.cm.Greys_r,\n",
    "           extent=(0, 180, 0, sinogram.shape[0]), aspect='auto')\n",
    "ax2.set_xlabel(\"Projection angle (deg)\")\n",
    "ax2.set_ylabel(\"Projection position (pixels)\")\n",
    "ax3.imshow(reconstruction_TV[0], cmap=plt.cm.Greys_r)\n",
    "ax3.set_title(\"Reconstruction TV\")\n",
    "plt.show()\n",
    "fig.tight_layout()\n",
    "plt.show()"
   ]
  },
  {
   "cell_type": "markdown",
   "metadata": {},
   "source": [
    "## Summary"
   ]
  },
  {
   "cell_type": "code",
   "execution_count": null,
   "metadata": {},
   "outputs": [],
   "source": [
    "fig, (ax1, ax2, ax3, ax4, ax5) = plt.subplots(1, 5, figsize=(8, 2.25))\n",
    "ax1.set_title(\"Original\")\n",
    "ax1.imshow(image, cmap=plt.cm.Greys_r)\n",
    "ax2.set_title(\"FBP\")\n",
    "ax2.imshow(reconstruction_fbp, cmap=plt.cm.Greys_r)\n",
    "ax3.set_title(\"SART\")\n",
    "ax3.imshow(reconstruction_sart, cmap=plt.cm.Greys_r)\n",
    "ax4.imshow(rec_astra, cmap=plt.cm.Greys_r)\n",
    "ax4.set_title(\"SIRT\")\n",
    "ax5.imshow(reconstruction_TV[0], cmap=plt.cm.Greys_r)\n",
    "ax5.set_title(\"TV\")\n",
    "plt.show()\n",
    "fig.tight_layout()\n",
    "plt.show()"
   ]
  },
  {
   "cell_type": "markdown",
   "metadata": {},
   "source": [
    "## Real data now "
   ]
  },
  {
   "cell_type": "code",
   "execution_count": null,
   "metadata": {},
   "outputs": [],
   "source": [
    "Stack = imread('ali_crop_tilt-2.tif')\n",
    "\n",
    "theta = np.linspace(0., 180., Stack.shape[0], endpoint=False)\n",
    "\n",
    "print(Stack.shape)\n",
    "print(theta.shape)\n",
    "\n",
    "hs_stack = hs.signals.Signal2D(Stack)\n",
    "hs_stack.plot(navigator='slider')"
   ]
  },
  {
   "cell_type": "code",
   "execution_count": null,
   "metadata": {},
   "outputs": [],
   "source": [
    "hs_stack.swap_axes(1,2).plot(navigator='slider')"
   ]
  },
  {
   "cell_type": "code",
   "execution_count": null,
   "metadata": {},
   "outputs": [],
   "source": [
    "Stack=np.swapaxes(Stack,1,2)\n",
    "\n",
    "hs_stack_swapped = hs.signals.Signal2D(Stack)\n",
    "hs_stack_swapped.plot(navigator='slider')"
   ]
  },
  {
   "cell_type": "markdown",
   "metadata": {},
   "source": [
    "Let's try to reconstruct one slice."
   ]
  },
  {
   "cell_type": "code",
   "execution_count": null,
   "metadata": {},
   "outputs": [],
   "source": [
    "Stack.shape[0]"
   ]
  },
  {
   "cell_type": "code",
   "execution_count": null,
   "metadata": {},
   "outputs": [],
   "source": [
    "step=2\n",
    "theta = np.linspace(0., 180., Stack.shape[0], endpoint=False)\n",
    "sinogram=Stack[::step,75,:]\n",
    "print(sinogram.shape)\n",
    "theta= theta[::step]\n",
    "print(theta)"
   ]
  },
  {
   "cell_type": "code",
   "execution_count": null,
   "metadata": {},
   "outputs": [],
   "source": [
    "print(sinogram.shape)\n",
    "\n",
    "reconstruction_fbp = iradon(np.swapaxes(sinogram,0,1), theta=theta, circle=True)\n",
    "\n",
    "\n",
    "theta_rad = (np.pi/180)*theta\n",
    "vol_geom = astra.create_vol_geom(sinogram.shape[1],sinogram.shape[1])\n",
    "proj_geom = astra.create_proj_geom('parallel', 1.0, sinogram.shape[1], theta_rad)\n",
    "\n",
    "# For CPU-based algorithms, a \"projector\" object specifies the projection\n",
    "# model used. In this case, we use the \"strip\" model.\n",
    "proj_id = astra.create_projector('strip', proj_geom, vol_geom)\n",
    "\n",
    "# Create a data object for the reconstruction\n",
    "sinogram_id =astra.data2d.create('-sino',proj_geom,sinogram)\n",
    "rec_id = astra.data2d.create('-vol', vol_geom)\n",
    "\n",
    "# Set up the parameters for a reconstruction algorithm using the CPU\n",
    "# The main difference with the configuration of a GPU algorithm is the\n",
    "# extra ProjectorId setting.\n",
    "cfg = astra.astra_dict('SIRT')\n",
    "cfg['ReconstructionDataId'] = rec_id\n",
    "cfg['ProjectionDataId'] = sinogram_id\n",
    "cfg['ProjectorId'] = proj_id\n",
    "#cfg['options']={'MinConstraint':0}\n",
    "\n",
    "# Available algorithms:\n",
    "# ART, SART, SIRT, CGLS, FBP\n",
    "\n",
    "\n",
    "# Create the algorithm object from the configuration structure\n",
    "alg_id = astra.algorithm.create(cfg)\n",
    "\n",
    "# Run 20 iterations of the algorithm\n",
    "# This will have a runtime in the order of 10 seconds.\n",
    "astra.algorithm.run(alg_id,20)\n",
    "\n",
    "# Get the result\n",
    "rec_astra = astra.data2d.get(rec_id)\n",
    "\n",
    "\n",
    "# Clean up.\n",
    "astra.algorithm.delete(alg_id)\n",
    "astra.data2d.delete(rec_id)\n",
    "astra.data2d.delete(sinogram_id)\n",
    "astra.projector.delete(proj_id)\n",
    "\n"
   ]
  },
  {
   "cell_type": "code",
   "execution_count": null,
   "metadata": {},
   "outputs": [],
   "source": [
    "theta_rad = (np.pi/180)*theta\n",
    "sinogram_1=Stack[::step,75:76,:]\n",
    "print(sinogram_1.shape)\n",
    "print(theta_rad.shape)\n",
    "\n",
    "recon_tv = tomopy.recon(sinogram_1,theta_rad,algorithm='tv',num_iter=500,reg_par=500)"
   ]
  },
  {
   "cell_type": "code",
   "execution_count": null,
   "metadata": {},
   "outputs": [],
   "source": [
    "fig, (ax1, ax2, ax3) = plt.subplots(1, 3, figsize=(8, 2.25))\n",
    "ax1.set_title(\"FBP\")\n",
    "ax1.imshow(reconstruction_fbp, cmap=plt.cm.Greys_r)\n",
    "ax2.imshow(rec_astra, cmap=plt.cm.Greys_r)\n",
    "ax2.set_title(\"SIRT\")\n",
    "ax3.imshow(recon_tv[0], cmap=plt.cm.Greys_r)\n",
    "ax3.set_title(\"TV\")\n",
    "plt.show()\n",
    "fig.tight_layout()\n",
    "plt.show()"
   ]
  },
  {
   "cell_type": "code",
   "execution_count": null,
   "metadata": {},
   "outputs": [],
   "source": [
    "Stack = imread('EELS_1_5_ali.tif')\n",
    "Stack=np.swapaxes(Stack,1,2)\n",
    "theta = np.linspace(0,180.,Stack.shape[0])\n",
    "print(Stack.shape)\n",
    "print(theta)\n",
    "plt.figure()\n",
    "plt.imshow(Stack[0,:,:])"
   ]
  },
  {
   "cell_type": "code",
   "execution_count": null,
   "metadata": {},
   "outputs": [],
   "source": [
    "step=1\n",
    "theta = np.linspace(0., 180., Stack.shape[0], endpoint=False)\n",
    "sinogram=Stack[::step,44,:]\n",
    "print(sinogram.shape)\n",
    "theta= theta[::step]\n",
    "print(theta)"
   ]
  },
  {
   "cell_type": "code",
   "execution_count": null,
   "metadata": {},
   "outputs": [],
   "source": [
    "reconstruction_fbp = iradon(np.swapaxes(sinogram,0,1), theta=theta, circle=True)\n",
    "\n",
    "theta_rad = (np.pi/180)*theta\n",
    "vol_geom = astra.create_vol_geom(sinogram.shape[1],sinogram.shape[1])\n",
    "proj_geom = astra.create_proj_geom('parallel', 1.0, sinogram.shape[1], theta_rad)\n",
    "\n",
    "# For CPU-based algorithms, a \"projector\" object specifies the projection\n",
    "# model used. In this case, we use the \"strip\" model.\n",
    "proj_id = astra.create_projector('strip', proj_geom, vol_geom)\n",
    "\n",
    "# Create a data object for the reconstruction\n",
    "sinogram_id =astra.data2d.create('-sino',proj_geom,sinogram)\n",
    "rec_id = astra.data2d.create('-vol', vol_geom)\n",
    "\n",
    "# Set up the parameters for a reconstruction algorithm using the CPU\n",
    "# The main difference with the configuration of a GPU algorithm is the\n",
    "# extra ProjectorId setting.\n",
    "cfg = astra.astra_dict('SIRT')\n",
    "cfg['ReconstructionDataId'] = rec_id\n",
    "cfg['ProjectionDataId'] = sinogram_id\n",
    "cfg['ProjectorId'] = proj_id\n",
    "#cfg['options']={'MinConstraint':0}\n",
    "\n",
    "# Available algorithms:\n",
    "# ART, SART, SIRT, CGLS, FBP\n",
    "\n",
    "\n",
    "# Create the algorithm object from the configuration structure\n",
    "alg_id = astra.algorithm.create(cfg)\n",
    "\n",
    "# Run 20 iterations of the algorithm\n",
    "# This will have a runtime in the order of 10 seconds.\n",
    "astra.algorithm.run(alg_id,20)\n",
    "\n",
    "# Get the result\n",
    "rec_astra = astra.data2d.get(rec_id)\n",
    "\n",
    "\n",
    "# Clean up.\n",
    "astra.algorithm.delete(alg_id)\n",
    "astra.data2d.delete(rec_id)\n",
    "astra.data2d.delete(sinogram_id)\n",
    "astra.projector.delete(proj_id)\n",
    "\n"
   ]
  },
  {
   "cell_type": "code",
   "execution_count": null,
   "metadata": {},
   "outputs": [],
   "source": [
    "theta_rad = (np.pi/180)*theta\n",
    "sinogram_1=Stack[::step,44:45,:]\n",
    "print(sinogram_1.shape)\n",
    "print(theta_rad.shape)\n",
    "\n",
    "recon_tv = tomopy.recon(sinogram_1,theta_rad,algorithm='tv',num_iter=200,reg_par=0.0005) #compromise: 200 iter, reg_par 0.0005"
   ]
  },
  {
   "cell_type": "code",
   "execution_count": null,
   "metadata": {},
   "outputs": [],
   "source": [
    "fig, (ax1, ax2, ax3) = plt.subplots(1, 3, figsize=(8, 2.25))\n",
    "ax1.set_title(\"FBP\")\n",
    "ax1.imshow(reconstruction_fbp, cmap=plt.cm.Greys_r)\n",
    "ax2.imshow(rec_astra, cmap=plt.cm.Greys_r)\n",
    "ax2.set_title(\"SIRT\")\n",
    "ax3.imshow(recon_tv[0], cmap=plt.cm.Greys_r)\n",
    "ax3.set_title(\"TV\")\n",
    "plt.show()\n",
    "# fig.tight_layout()\n",
    "# plt.show()"
   ]
  },
  {
   "cell_type": "code",
   "execution_count": null,
   "metadata": {},
   "outputs": [],
   "source": [
    "waveL = imread('EELS_1_5_ali_WT.tif')"
   ]
  },
  {
   "cell_type": "code",
   "execution_count": null,
   "metadata": {
    "scrolled": true
   },
   "outputs": [],
   "source": [
    "fig, (ax1, ax2, ax3, ax4) = plt.subplots(1, 4, figsize=(8, 2.25))\n",
    "ax1.set_title(\"FBP\")\n",
    "ax1.imshow(reconstruction_fbp, cmap=plt.cm.Greys_r)\n",
    "ax2.imshow(rec_astra, cmap=plt.cm.Greys_r)\n",
    "ax2.set_title(\"SIRT\")\n",
    "ax3.imshow(recon_tv[0], cmap=plt.cm.Greys_r)\n",
    "ax3.set_title(\"TV\")\n",
    "ax4.imshow(waveL[44], cmap=plt.cm.Greys_r)\n",
    "ax4.set_title(\"Wavelets\")\n",
    "plt.show()\n",
    "fig.tight_layout()\n",
    "plt.show()"
   ]
  }
 ],
 "metadata": {
  "kernelspec": {
   "display_name": "Python 3",
   "language": "python",
   "name": "python3"
  },
  "language_info": {
   "codemirror_mode": {
    "name": "ipython",
    "version": 3
   },
   "file_extension": ".py",
   "mimetype": "text/x-python",
   "name": "python",
   "nbconvert_exporter": "python",
   "pygments_lexer": "ipython3",
   "version": "3.6.8"
  }
 },
 "nbformat": 4,
 "nbformat_minor": 2
}
